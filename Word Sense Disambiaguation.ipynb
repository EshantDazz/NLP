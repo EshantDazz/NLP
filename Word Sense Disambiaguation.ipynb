{
 "cells": [
  {
   "cell_type": "markdown",
   "id": "796f2662",
   "metadata": {},
   "source": [
    "# <div class='alert alert-danger'>Word Sense Disambiaguation</div>"
   ]
  },
  {
   "cell_type": "markdown",
   "id": "6ef18827",
   "metadata": {},
   "source": [
    "### Ambiguity in NLP"
   ]
  },
  {
   "cell_type": "markdown",
   "id": "6222069f",
   "metadata": {},
   "source": [
    "**Ambiguity, generally used in natural language processing, can be referred as the ability of being understood in more than one way. In simple terms, we can say that ambiguity is the capability of being understood in more than one way.**"
   ]
  },
  {
   "cell_type": "code",
   "execution_count": null,
   "id": "79f81e02",
   "metadata": {},
   "outputs": [],
   "source": []
  },
  {
   "cell_type": "code",
   "execution_count": null,
   "id": "be9d2ccd",
   "metadata": {},
   "outputs": [],
   "source": []
  },
  {
   "cell_type": "markdown",
   "id": "83ea8e69",
   "metadata": {},
   "source": [
    "Our Word Sense Disambiaguation helps us to understand which meaning is being referred here <br>\n",
    "**In natural language processing, word sense disambiguation (WSD) is the problem of determining which \"sense\" (meaning) of a word is activated by the use of the word in a particular context, a process which appears to be largely unconscious in people.**"
   ]
  },
  {
   "cell_type": "code",
   "execution_count": null,
   "id": "cf6d1801",
   "metadata": {},
   "outputs": [],
   "source": []
  },
  {
   "cell_type": "markdown",
   "id": "984b0c2b",
   "metadata": {},
   "source": [
    "#### <font color='red'> Lets see some examples now</font>"
   ]
  },
  {
   "cell_type": "code",
   "execution_count": 1,
   "id": "7e79e066",
   "metadata": {},
   "outputs": [],
   "source": [
    "from nltk.wsd import lesk"
   ]
  },
  {
   "cell_type": "code",
   "execution_count": 2,
   "id": "175d309a",
   "metadata": {},
   "outputs": [],
   "source": [
    "from nltk.tokenize import word_tokenize"
   ]
  },
  {
   "cell_type": "code",
   "execution_count": 9,
   "id": "2f38ba98",
   "metadata": {},
   "outputs": [],
   "source": [
    "w=lesk(word_tokenize('The bat is eating'),'bat')"
   ]
  },
  {
   "cell_type": "code",
   "execution_count": 10,
   "id": "5989beac",
   "metadata": {},
   "outputs": [
    {
     "name": "stdout",
     "output_type": "stream",
     "text": [
      "Synset('bat.v.04')   use a bat\n"
     ]
    }
   ],
   "source": [
    "print(w,\" \",w.definition())"
   ]
  },
  {
   "cell_type": "code",
   "execution_count": 7,
   "id": "81a90e61",
   "metadata": {},
   "outputs": [],
   "source": [
    "w=lesk(word_tokenize('He hit me with the bat'),'bat')"
   ]
  },
  {
   "cell_type": "code",
   "execution_count": 8,
   "id": "7e3ffc45",
   "metadata": {},
   "outputs": [
    {
     "name": "stdout",
     "output_type": "stream",
     "text": [
      "Synset('bat.v.01')   strike with, or as if with a baseball bat\n"
     ]
    }
   ],
   "source": [
    "print(w,\" \",w.definition())"
   ]
  },
  {
   "cell_type": "markdown",
   "id": "bf1f44d7",
   "metadata": {},
   "source": [
    "**We can see it is giving 2 different information**"
   ]
  },
  {
   "cell_type": "markdown",
   "id": "dea03c7e",
   "metadata": {},
   "source": [
    "One is a baseball bat which they are trying to indicate and other is the mammal bat"
   ]
  },
  {
   "cell_type": "code",
   "execution_count": null,
   "id": "bad76105",
   "metadata": {},
   "outputs": [],
   "source": []
  },
  {
   "cell_type": "markdown",
   "id": "dc56daea",
   "metadata": {},
   "source": [
    "#### <font color='red'>Lets see another example</font>"
   ]
  },
  {
   "cell_type": "code",
   "execution_count": 23,
   "id": "edbdfbff",
   "metadata": {},
   "outputs": [],
   "source": [
    "w=lesk(word_tokenize('face of earth'),'face')"
   ]
  },
  {
   "cell_type": "code",
   "execution_count": 24,
   "id": "5c06fe49",
   "metadata": {},
   "outputs": [
    {
     "name": "stdout",
     "output_type": "stream",
     "text": [
      "Synset('face.n.07')   the part of an animal corresponding to the human face\n"
     ]
    }
   ],
   "source": [
    "print(w,\" \",w.definition())"
   ]
  },
  {
   "cell_type": "code",
   "execution_count": 25,
   "id": "cfaec399",
   "metadata": {},
   "outputs": [],
   "source": [
    "w=lesk(word_tokenize(''),'sheep')"
   ]
  },
  {
   "cell_type": "code",
   "execution_count": 20,
   "id": "da5e2eb6",
   "metadata": {},
   "outputs": [
    {
     "name": "stdout",
     "output_type": "stream",
     "text": [
      "Synset('sheep.n.02')   a timid defenseless simpleton who is readily preyed upon\n"
     ]
    }
   ],
   "source": [
    "print(w,\" \",w.definition())"
   ]
  },
  {
   "cell_type": "code",
   "execution_count": null,
   "id": "89046a70",
   "metadata": {},
   "outputs": [],
   "source": []
  },
  {
   "cell_type": "code",
   "execution_count": null,
   "id": "821255ed",
   "metadata": {},
   "outputs": [],
   "source": []
  },
  {
   "cell_type": "code",
   "execution_count": 34,
   "id": "611faa6f",
   "metadata": {},
   "outputs": [],
   "source": [
    "w=lesk(word_tokenize('The mean of the exam scores were bad'),'mean')"
   ]
  },
  {
   "cell_type": "code",
   "execution_count": 35,
   "id": "d5d6360b",
   "metadata": {},
   "outputs": [
    {
     "name": "stdout",
     "output_type": "stream",
     "text": [
      "Synset('mean.n.01')   an average of n numbers computed by adding some function of the numbers and dividing by some function of n\n"
     ]
    }
   ],
   "source": [
    "print(w,\" \",w.definition())"
   ]
  },
  {
   "cell_type": "code",
   "execution_count": null,
   "id": "014f0ef2",
   "metadata": {},
   "outputs": [],
   "source": []
  },
  {
   "cell_type": "code",
   "execution_count": 36,
   "id": "3c13290c",
   "metadata": {},
   "outputs": [],
   "source": [
    "w=lesk(word_tokenize('He was mean to me'),'mean')"
   ]
  },
  {
   "cell_type": "code",
   "execution_count": 37,
   "id": "ab6a020f",
   "metadata": {},
   "outputs": [
    {
     "name": "stdout",
     "output_type": "stream",
     "text": [
      "Synset('mean.v.01')   mean or intend to express or convey\n"
     ]
    }
   ],
   "source": [
    "print(w,\" \",w.definition())"
   ]
  },
  {
   "cell_type": "markdown",
   "id": "a960795a",
   "metadata": {},
   "source": [
    "**Here we have seen again how mean is being expressed in 2 different ways**"
   ]
  },
  {
   "cell_type": "code",
   "execution_count": null,
   "id": "193bfe51",
   "metadata": {},
   "outputs": [],
   "source": []
  },
  {
   "cell_type": "markdown",
   "id": "d4a46273",
   "metadata": {},
   "source": [
    "These words with more than one meaning are basically called **<font color='green'>Homonyms</font>**"
   ]
  },
  {
   "cell_type": "code",
   "execution_count": null,
   "id": "b0a882dd",
   "metadata": {},
   "outputs": [],
   "source": []
  },
  {
   "cell_type": "code",
   "execution_count": null,
   "id": "df024377",
   "metadata": {},
   "outputs": [],
   "source": []
  },
  {
   "cell_type": "markdown",
   "id": "29c98c3f",
   "metadata": {},
   "source": [
    "                                              #Happy Learning"
   ]
  }
 ],
 "metadata": {
  "kernelspec": {
   "display_name": "Python 3",
   "language": "python",
   "name": "python3"
  },
  "language_info": {
   "codemirror_mode": {
    "name": "ipython",
    "version": 3
   },
   "file_extension": ".py",
   "mimetype": "text/x-python",
   "name": "python",
   "nbconvert_exporter": "python",
   "pygments_lexer": "ipython3",
   "version": "3.8.8"
  }
 },
 "nbformat": 4,
 "nbformat_minor": 5
}
