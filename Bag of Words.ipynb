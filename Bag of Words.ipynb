{
 "cells": [
  {
   "cell_type": "markdown",
   "id": "2f5f2122",
   "metadata": {},
   "source": [
    "# <div class='alert alert-warning'> Bag of Words</div>"
   ]
  },
  {
   "cell_type": "markdown",
   "id": "6ff8dbc9",
   "metadata": {},
   "source": [
    "**In this article, we are going to discuss a Natural Language Processing technique of text modeling known as Bag of Words model. Whenever we apply any algorithm in NLP, it works on numbers. We cannot directly feed our text into that algorithm. Hence, Bag of Words model is used to preprocess the text by converting it into a bag of words, which keeps a count of the total occurrences of most frequently used words.**"
   ]
  },
  {
   "cell_type": "code",
   "execution_count": null,
   "id": "e865878f",
   "metadata": {},
   "outputs": [],
   "source": []
  },
  {
   "cell_type": "code",
   "execution_count": 1,
   "id": "61d21577",
   "metadata": {},
   "outputs": [],
   "source": [
    "import pandas as pd"
   ]
  },
  {
   "cell_type": "code",
   "execution_count": 2,
   "id": "e2336d90",
   "metadata": {},
   "outputs": [],
   "source": [
    "df=pd.read_csv('spotify_reviews.csv')"
   ]
  },
  {
   "cell_type": "code",
   "execution_count": 3,
   "id": "44efecd9",
   "metadata": {},
   "outputs": [
    {
     "data": {
      "text/html": [
       "<div>\n",
       "<style scoped>\n",
       "    .dataframe tbody tr th:only-of-type {\n",
       "        vertical-align: middle;\n",
       "    }\n",
       "\n",
       "    .dataframe tbody tr th {\n",
       "        vertical-align: top;\n",
       "    }\n",
       "\n",
       "    .dataframe thead th {\n",
       "        text-align: right;\n",
       "    }\n",
       "</style>\n",
       "<table border=\"1\" class=\"dataframe\">\n",
       "  <thead>\n",
       "    <tr style=\"text-align: right;\">\n",
       "      <th></th>\n",
       "      <th>Time_submitted</th>\n",
       "      <th>Review</th>\n",
       "      <th>Rating</th>\n",
       "      <th>Total_thumbsup</th>\n",
       "      <th>Reply</th>\n",
       "    </tr>\n",
       "  </thead>\n",
       "  <tbody>\n",
       "    <tr>\n",
       "      <th>0</th>\n",
       "      <td>2022-07-09 15:00:00</td>\n",
       "      <td>Great music service, the audio is high quality...</td>\n",
       "      <td>5</td>\n",
       "      <td>2</td>\n",
       "      <td>NaN</td>\n",
       "    </tr>\n",
       "    <tr>\n",
       "      <th>1</th>\n",
       "      <td>2022-07-09 14:21:22</td>\n",
       "      <td>Please ignore previous negative rating. This a...</td>\n",
       "      <td>5</td>\n",
       "      <td>1</td>\n",
       "      <td>NaN</td>\n",
       "    </tr>\n",
       "  </tbody>\n",
       "</table>\n",
       "</div>"
      ],
      "text/plain": [
       "        Time_submitted                                             Review  \\\n",
       "0  2022-07-09 15:00:00  Great music service, the audio is high quality...   \n",
       "1  2022-07-09 14:21:22  Please ignore previous negative rating. This a...   \n",
       "\n",
       "   Rating  Total_thumbsup Reply  \n",
       "0       5               2   NaN  \n",
       "1       5               1   NaN  "
      ]
     },
     "execution_count": 3,
     "metadata": {},
     "output_type": "execute_result"
    }
   ],
   "source": [
    "df.head(2)"
   ]
  },
  {
   "cell_type": "code",
   "execution_count": null,
   "id": "04a857e9",
   "metadata": {},
   "outputs": [],
   "source": []
  },
  {
   "cell_type": "code",
   "execution_count": 4,
   "id": "fc7d95d0",
   "metadata": {},
   "outputs": [],
   "source": [
    "dg=df[['Review']]"
   ]
  },
  {
   "cell_type": "code",
   "execution_count": 5,
   "id": "5e34148e",
   "metadata": {},
   "outputs": [
    {
     "data": {
      "text/plain": [
       "(61594, 1)"
      ]
     },
     "execution_count": 5,
     "metadata": {},
     "output_type": "execute_result"
    }
   ],
   "source": [
    "dg.shape"
   ]
  },
  {
   "cell_type": "markdown",
   "id": "f23913e1",
   "metadata": {},
   "source": [
    "**We are making the data set small for faster precessing**"
   ]
  },
  {
   "cell_type": "code",
   "execution_count": 6,
   "id": "97b03dbe",
   "metadata": {},
   "outputs": [],
   "source": [
    "dg=dg.head(100)"
   ]
  },
  {
   "cell_type": "code",
   "execution_count": 7,
   "id": "905d9ed6",
   "metadata": {},
   "outputs": [
    {
     "data": {
      "text/plain": [
       "(100, 1)"
      ]
     },
     "execution_count": 7,
     "metadata": {},
     "output_type": "execute_result"
    }
   ],
   "source": [
    "dg.shape"
   ]
  },
  {
   "cell_type": "code",
   "execution_count": 8,
   "id": "c19daa84",
   "metadata": {},
   "outputs": [
    {
     "data": {
      "text/html": [
       "<div>\n",
       "<style scoped>\n",
       "    .dataframe tbody tr th:only-of-type {\n",
       "        vertical-align: middle;\n",
       "    }\n",
       "\n",
       "    .dataframe tbody tr th {\n",
       "        vertical-align: top;\n",
       "    }\n",
       "\n",
       "    .dataframe thead th {\n",
       "        text-align: right;\n",
       "    }\n",
       "</style>\n",
       "<table border=\"1\" class=\"dataframe\">\n",
       "  <thead>\n",
       "    <tr style=\"text-align: right;\">\n",
       "      <th></th>\n",
       "      <th>Review</th>\n",
       "    </tr>\n",
       "  </thead>\n",
       "  <tbody>\n",
       "    <tr>\n",
       "      <th>0</th>\n",
       "      <td>Great music service, the audio is high quality...</td>\n",
       "    </tr>\n",
       "    <tr>\n",
       "      <th>1</th>\n",
       "      <td>Please ignore previous negative rating. This a...</td>\n",
       "    </tr>\n",
       "    <tr>\n",
       "      <th>2</th>\n",
       "      <td>This pop-up \"Get the best Spotify experience o...</td>\n",
       "    </tr>\n",
       "    <tr>\n",
       "      <th>3</th>\n",
       "      <td>Really buggy and terrible to use as of recently</td>\n",
       "    </tr>\n",
       "    <tr>\n",
       "      <th>4</th>\n",
       "      <td>Dear Spotify why do I get songs that I didn't ...</td>\n",
       "    </tr>\n",
       "  </tbody>\n",
       "</table>\n",
       "</div>"
      ],
      "text/plain": [
       "                                              Review\n",
       "0  Great music service, the audio is high quality...\n",
       "1  Please ignore previous negative rating. This a...\n",
       "2  This pop-up \"Get the best Spotify experience o...\n",
       "3    Really buggy and terrible to use as of recently\n",
       "4  Dear Spotify why do I get songs that I didn't ..."
      ]
     },
     "execution_count": 8,
     "metadata": {},
     "output_type": "execute_result"
    }
   ],
   "source": [
    "dg.head()"
   ]
  },
  {
   "cell_type": "code",
   "execution_count": null,
   "id": "62ff2c4f",
   "metadata": {},
   "outputs": [],
   "source": []
  },
  {
   "cell_type": "code",
   "execution_count": 9,
   "id": "f0d83339",
   "metadata": {},
   "outputs": [
    {
     "data": {
      "text/plain": [
       "Review    0\n",
       "dtype: int64"
      ]
     },
     "execution_count": 9,
     "metadata": {},
     "output_type": "execute_result"
    }
   ],
   "source": [
    "dg.isnull().sum()"
   ]
  },
  {
   "cell_type": "code",
   "execution_count": null,
   "id": "d32ca677",
   "metadata": {},
   "outputs": [],
   "source": []
  },
  {
   "cell_type": "code",
   "execution_count": 10,
   "id": "e42071c3",
   "metadata": {},
   "outputs": [
    {
     "data": {
      "text/plain": [
       "(100, 1)"
      ]
     },
     "execution_count": 10,
     "metadata": {},
     "output_type": "execute_result"
    }
   ],
   "source": [
    "dg.shape"
   ]
  },
  {
   "cell_type": "code",
   "execution_count": null,
   "id": "46c4228e",
   "metadata": {},
   "outputs": [],
   "source": []
  },
  {
   "cell_type": "code",
   "execution_count": 11,
   "id": "3d678217",
   "metadata": {},
   "outputs": [
    {
     "data": {
      "text/plain": [
       "100"
      ]
     },
     "execution_count": 11,
     "metadata": {},
     "output_type": "execute_result"
    }
   ],
   "source": [
    "len(dg)"
   ]
  },
  {
   "cell_type": "code",
   "execution_count": 12,
   "id": "11ac546c",
   "metadata": {},
   "outputs": [],
   "source": [
    "import nltk\n",
    "import re\n",
    "from nltk.corpus import stopwords\n",
    "from nltk.stem.porter import PorterStemmer"
   ]
  },
  {
   "cell_type": "code",
   "execution_count": 13,
   "id": "8b3bb03f",
   "metadata": {},
   "outputs": [],
   "source": [
    "ps=PorterStemmer()"
   ]
  },
  {
   "cell_type": "code",
   "execution_count": 14,
   "id": "111ba26f",
   "metadata": {},
   "outputs": [],
   "source": [
    "c=[]"
   ]
  },
  {
   "cell_type": "code",
   "execution_count": 15,
   "id": "e054e336",
   "metadata": {},
   "outputs": [],
   "source": [
    "# nltk.download('stopwords')"
   ]
  },
  {
   "cell_type": "code",
   "execution_count": 16,
   "id": "83f1ce46",
   "metadata": {},
   "outputs": [],
   "source": [
    "for i in range(0,len(dg)):\n",
    "    t=re.sub('[^a-zA-Z]',' ',dg['Review'][i])\n",
    "    t=t.lower()\n",
    "    t=t.split()\n",
    "    t=[ps.stem(word) for word in t if not word in stopwords.words('english')]\n",
    "    t=' '.join(t)\n",
    "    c.append(t)"
   ]
  },
  {
   "cell_type": "code",
   "execution_count": 17,
   "id": "22004779",
   "metadata": {},
   "outputs": [
    {
     "data": {
      "text/plain": [
       "['great music servic audio high qualiti app easi use also quick friendli support',\n",
       " 'pleas ignor previou neg rate app super great give five star',\n",
       " 'pop get best spotifi experi android annoy pleas let get rid',\n",
       " 'realli buggi terribl use recent',\n",
       " 'dear spotifi get song put playlist shuffl play',\n",
       " 'player control sometim disappear reason app restart forget play fix issu',\n",
       " 'love select lyric provid song listen',\n",
       " 'still extrem slow chang storag extern sd card convinc done purpos spotifi know issu done noth solv time chang sd card faster read write speed samsung brand pleas add like song never appear search playlist',\n",
       " 'great app best mp music app ever use one problem play song find song despit app wonder recommend best',\n",
       " 'delet app follow reason app fail busi model whether stream servic like consum want pay music fulli ad success upon log singl song much close app ad number patient way profit alreadi peak left declin',\n",
       " 'love spotifi usual app best other state control button disappear podcast stop reason fix delet reinstal app first world problem sure highli annoy nonetheless especi pay prime',\n",
       " 'play spotifi wifi',\n",
       " 'amazon premium music famili packag good everyon could listen whatev like respect alexa room ask play problem spotifi premium famili alexa integr poor like spotifi stop play time play differ alexa devic time ask integr better',\n",
       " 'worst app alway say offlin never show song podcast',\n",
       " 'hav music like super',\n",
       " 'improv ia recommend song find similar song best music app youtub better everyth els spotifi king',\n",
       " 'android user load glitch app player bar disappear shuffl button miss sort pleas',\n",
       " 'listen download playlist offlin point featur disappoint',\n",
       " 'alway crash unabl play stop work everytim use',\n",
       " 'know ad cost free use ye that right ad straight back back like hlaf minut sometim think littl much even volum increas ad',\n",
       " 'alway favorit platform listen music like subscrib alot thing one must',\n",
       " 'voic sweet hearabl',\n",
       " 'log acc tri open log open see logo',\n",
       " 'usual love app problem everyon els report random paus stop play restart current view song podcast current play paus skip back forth fairli unus stage accept paid servic',\n",
       " 'amaz music experi',\n",
       " 'like everyth like listen commerci even better even like song want know name brought thank spotifi',\n",
       " 'jammin hyuh old school hardcor thrash heard year return youth ye pleas',\n",
       " 'cant listen download stuff offlin',\n",
       " 'app show internet avail phone wifi data work alreadi fred add happen time want search song',\n",
       " 'everyth perfect add light theme',\n",
       " 'option delet song album option download one track album option shuffl music librari without creat playlist like music',\n",
       " 'best music app ever seen',\n",
       " 'wow sudden login work even though posit correct morn app ask login happen obvious problem found email account tell chang password suspici behaviour yeah log spotifi xbox suspici thank stress morn need renew way teach lesson',\n",
       " 'unabl use ph get download unabl log',\n",
       " 'plz remov add ther continu add list remov add give add',\n",
       " 'like song play offlin help signal problem',\n",
       " 'sometim tri listen playlist play first song tri go differ one goe back first one littl weird',\n",
       " 'good app listen music',\n",
       " 'commerci add need wifi use satellit radio station pick least look',\n",
       " 'wide rang song collect',\n",
       " 'deal compar desktop version inferior abil play song bare bare free need said think made point clear enough',\n",
       " 'spotifi awesom love obscur artist think fingertip well easi access newer thing updat lost star constantli ask review alreadi done',\n",
       " 'best app stream music',\n",
       " 'account glitch log tri fix let log back show logo never sign screen',\n",
       " 'everyth go open app last week play bar go open shut right back',\n",
       " 'lost download button download playlist',\n",
       " 'love app style music select specif',\n",
       " 'pretti good app better qualiti music',\n",
       " 'videok featur show devic',\n",
       " 'love featur app one thing bit expens month subcript',\n",
       " 'podcast becom nightmar tri get rid podcast app ridicul stupid thing home page click interest till blue face keep throw spam cast',\n",
       " 'best birthday present ever receiv babi brother listen someth least everyday happi select christian artist music love find new artist let listen great podcast thank much wonder app',\n",
       " 'downsid rotat song one month listen great song next month mayb',\n",
       " 'sound qualiti realli good listen favourit song anytim anywher without disturb realli good experi love app alot keep provid us best servic',\n",
       " 'keep cut show song play',\n",
       " 'unus friendli compar ipad pc',\n",
       " 'pay custom noth say spotifi perfecto',\n",
       " 'much add like get add start song need premium play song',\n",
       " 'except applic onlin song love option merg app inter music player samsung overal applic work flow less',\n",
       " 'spotifi better joox fosho',\n",
       " 'sinc disney start pay ad disney non premium version spotifi becam useless song get least ad one two disney sometim one chang review get mani ad',\n",
       " 'dose go play like song song even look get three star',\n",
       " 'great listen favorit artist',\n",
       " 'trash app even log via fb account',\n",
       " 'app incred good use enjoy music everyday everi minut everi second love',\n",
       " 'app good cool interest app love much iam listen everi day night spotifi full support app suggest tri app fun spotifi say tri spotifi tri armi blink app good armi blink today special day armi armi day love armi love blink happi app spotifi tri spotif love spotifi',\n",
       " 'good first wouldnt let pick song forc listen entir playlist get fav song limit skip per hour limit skipe song',\n",
       " 'love soo much rate star problem constant ad sing option near lyric seem appear anymor',\n",
       " 'would rate whenev play someth playlist chang differ song playlist hope get fix soon',\n",
       " 'love app small issu though find song add like look song take whole differ playlist pleas fix',\n",
       " 'much long ad',\n",
       " 'realli like app whenev play song play differ one',\n",
       " 'issu app year premium user realli struggl someon els said player skip paus etc sure samsung galaxi come back briefli restart phone',\n",
       " 'great song select amaz audio qualiti howev problem everyday cast googl home connect issu lose control volum need open app abl chang volum inconveni also think option shuffl song rather put playlist like everi singl song time consum make playlist could easier select multipl album exampl',\n",
       " 'bring back shuffl album option',\n",
       " 'qualiti sound select add louder music sometim',\n",
       " 'alway stuck black screen',\n",
       " 'great music qualiti',\n",
       " 'love hear ad satisfi sometim music play interrupt ad request fix problem enjoy ad peac great app',\n",
       " 'first time user far easi enough navig',\n",
       " 'give less one star app play mani add everi song purchas premium give mani add irrit lot mood',\n",
       " 'awesom song find',\n",
       " 'realli like spotifi proplem ad shuffl skip per hour sooooo annoy neither want pay spotifi premium switch anoth app make spotifi realli hard use',\n",
       " 'work realli well android auto long drive home',\n",
       " 'pleas turn shuffl play',\n",
       " 'good u want play song give song yo listen insta song sometim u tri get song skip limit effect playlist u cant enjoy ur song without song interf eepeci ad song u dont like ur playlist',\n",
       " 'middl song paus restart whole song go app play song',\n",
       " 'glitchi audio randomli drop stop play control bar disappear bottom screen unabl paus stop skip audio without close app',\n",
       " 'hate spotifi free listen half song mobil hate f u',\n",
       " 'uninstal app use anymor soon ad appear youtub video freak desper promot much pleas buzz',\n",
       " 'love spotifi listen music podcast premium account worth everi penni',\n",
       " 'hell issu patoto man minu random song ad even choos song want play view properli play directli start second snippet song even listen music want even playlist play music want big one seem samsung googl play store issu play fine appl mobil devic like ipad',\n",
       " 'app good fix sign',\n",
       " 'dude app good today use later day check let play playlist random song ad toy playlist even select song want play listen short period time say ad playlist bottom part say ad know want listen full song without random bot ad random song even like interest',\n",
       " 'love spotifi wish download music',\n",
       " 'awesom great music app',\n",
       " 'work super well work app doesnt seem want load th time ultra laggi lock phone occat make sens otherwis featur plenti find anyth',\n",
       " 'even listen favorit song bc shuffl tri differ account even chang even littl',\n",
       " 'nt let choos song',\n",
       " 'load time wonder short wait long hear next best thing']"
      ]
     },
     "execution_count": 17,
     "metadata": {},
     "output_type": "execute_result"
    }
   ],
   "source": [
    "c"
   ]
  },
  {
   "cell_type": "code",
   "execution_count": null,
   "id": "7ace99ea",
   "metadata": {},
   "outputs": [],
   "source": []
  },
  {
   "cell_type": "markdown",
   "id": "7b272933",
   "metadata": {},
   "source": [
    "### <font color='green'> Lets Create the bag of words now</font>"
   ]
  },
  {
   "cell_type": "code",
   "execution_count": 18,
   "id": "d860e743",
   "metadata": {},
   "outputs": [],
   "source": [
    "from sklearn.feature_extraction.text import CountVectorizer"
   ]
  },
  {
   "cell_type": "code",
   "execution_count": 19,
   "id": "2d711071",
   "metadata": {},
   "outputs": [],
   "source": [
    "cv=CountVectorizer()"
   ]
  },
  {
   "cell_type": "code",
   "execution_count": 20,
   "id": "278d8a48",
   "metadata": {},
   "outputs": [],
   "source": [
    "bw=cv.fit(c)"
   ]
  },
  {
   "cell_type": "code",
   "execution_count": 21,
   "id": "131d1bad",
   "metadata": {},
   "outputs": [],
   "source": [
    "tokens=bw.get_feature_names()"
   ]
  },
  {
   "cell_type": "code",
   "execution_count": 22,
   "id": "2c3ccf6b",
   "metadata": {},
   "outputs": [],
   "source": [
    "vect=bw.transform(c)"
   ]
  },
  {
   "cell_type": "code",
   "execution_count": 23,
   "id": "0fa9e9ed",
   "metadata": {},
   "outputs": [
    {
     "name": "stdout",
     "output_type": "stream",
     "text": [
      "['abil', 'abl', 'acc', 'accept', 'access', 'account', 'ad', 'add', 'album', 'alexa', 'alot', 'alreadi', 'also', 'alway', 'amaz', 'amazon', 'android', 'annoy', 'anoth', 'anymor', 'anyth', 'anytim', 'anywher', 'app', 'appear', 'appl', 'applic', 'armi', 'artist', 'ask', 'audio', 'auto', 'avail', 'awesom', 'babi', 'back', 'bar', 'bare', 'bc', 'becam', 'becom', 'behaviour', 'best', 'better', 'big', 'birthday', 'bit', 'black', 'blink', 'blue', 'bot', 'bottom', 'brand', 'briefli', 'bring', 'brother', 'brought', 'buggi', 'busi', 'button', 'buzz', 'cant', 'card', 'cast', 'chang', 'check', 'choos', 'christian', 'clear', 'click', 'close', 'collect', 'come', 'commerci', 'compar', 'connect', 'constant', 'constantli', 'consum', 'continu', 'control', 'convinc', 'cool', 'correct', 'cost', 'could', 'crash', 'creat', 'current', 'custom', 'cut', 'data', 'day', 'deal', 'dear', 'declin', 'delet', 'desktop', 'desper', 'despit', 'devic', 'differ', 'directli', 'disappear', 'disappoint', 'disney', 'disturb', 'doesnt', 'done', 'dont', 'dose', 'download', 'downsid', 'drive', 'drop', 'dude', 'easi', 'easier', 'eepeci', 'effect', 'els', 'email', 'enjoy', 'enough', 'entir', 'especi', 'etc', 'even', 'ever', 'everi', 'everyday', 'everyon', 'everyth', 'everytim', 'exampl', 'except', 'expens', 'experi', 'extern', 'extrem', 'face', 'fail', 'fairli', 'famili', 'far', 'faster', 'fav', 'favorit', 'favourit', 'fb', 'featur', 'find', 'fine', 'fingertip', 'first', 'five', 'fix', 'flow', 'follow', 'forc', 'forget', 'forth', 'fosho', 'found', 'freak', 'fred', 'free', 'friendli', 'full', 'fulli', 'fun', 'galaxi', 'get', 'give', 'glitch', 'glitchi', 'go', 'goe', 'good', 'googl', 'great', 'half', 'happen', 'happi', 'hard', 'hardcor', 'hate', 'hav', 'hear', 'hearabl', 'heard', 'hell', 'help', 'high', 'highli', 'hlaf', 'home', 'hope', 'hour', 'howev', 'hyuh', 'ia', 'iam', 'ignor', 'improv', 'inconveni', 'increas', 'incred', 'inferior', 'insta', 'integr', 'inter', 'interest', 'interf', 'internet', 'interrupt', 'ipad', 'irrit', 'issu', 'jammin', 'joox', 'keep', 'king', 'know', 'laggi', 'last', 'later', 'least', 'left', 'less', 'lesson', 'let', 'librari', 'light', 'like', 'limit', 'list', 'listen', 'littl', 'load', 'lock', 'log', 'login', 'logo', 'long', 'look', 'lose', 'lost', 'lot', 'louder', 'love', 'lyric', 'made', 'make', 'man', 'mani', 'mayb', 'merg', 'middl', 'minu', 'minut', 'miss', 'mobil', 'model', 'month', 'mood', 'morn', 'mp', 'much', 'multipl', 'music', 'must', 'name', 'navig', 'near', 'need', 'neg', 'neither', 'never', 'new', 'newer', 'next', 'night', 'nightmar', 'non', 'nonetheless', 'noth', 'nt', 'number', 'obscur', 'obvious', 'occat', 'offlin', 'old', 'one', 'onlin', 'open', 'option', 'other', 'otherwis', 'overal', 'packag', 'page', 'paid', 'part', 'password', 'patient', 'patoto', 'paus', 'pay', 'pc', 'peac', 'peak', 'penni', 'per', 'perfect', 'perfecto', 'period', 'ph', 'phone', 'pick', 'platform', 'play', 'player', 'playlist', 'pleas', 'plenti', 'plz', 'podcast', 'point', 'poor', 'pop', 'posit', 'premium', 'present', 'pretti', 'previou', 'prime', 'problem', 'profit', 'promot', 'properli', 'proplem', 'provid', 'purchas', 'purpos', 'put', 'qualiti', 'quick', 'radio', 'random', 'randomli', 'rang', 'rate', 'rather', 'read', 'realli', 'reason', 'receiv', 'recent', 'recommend', 'reinstal', 'remov', 'renew', 'report', 'request', 'respect', 'restart', 'return', 'review', 'rid', 'ridicul', 'right', 'room', 'rotat', 'said', 'samsung', 'satellit', 'satisfi', 'say', 'school', 'screen', 'sd', 'search', 'second', 'see', 'seem', 'seen', 'select', 'sens', 'servic', 'short', 'show', 'shuffl', 'shut', 'sign', 'signal', 'similar', 'sinc', 'sing', 'singl', 'skip', 'skipe', 'slow', 'small', 'snippet', 'solv', 'someon', 'someth', 'sometim', 'song', 'soo', 'soon', 'sooooo', 'sort', 'sound', 'spam', 'special', 'specif', 'speed', 'spotif', 'spotifi', 'stage', 'star', 'start', 'state', 'station', 'still', 'stop', 'storag', 'store', 'straight', 'stream', 'stress', 'struggl', 'stuck', 'stuff', 'stupid', 'style', 'subcript', 'subscrib', 'success', 'sudden', 'suggest', 'super', 'support', 'sure', 'suspici', 'sweet', 'switch', 'take', 'teach', 'tell', 'terribl', 'th', 'thank', 'that', 'theme', 'ther', 'thing', 'think', 'though', 'thrash', 'three', 'throw', 'till', 'time', 'today', 'toy', 'track', 'trash', 'tri', 'turn', 'two', 'ultra', 'unabl', 'uninstal', 'unus', 'updat', 'upon', 'ur', 'us', 'use', 'useless', 'user', 'usual', 'version', 'via', 'video', 'videok', 'view', 'voic', 'volum', 'wait', 'want', 'way', 'week', 'weird', 'well', 'whatev', 'whenev', 'whether', 'whole', 'wide', 'wifi', 'wish', 'without', 'wonder', 'work', 'world', 'worst', 'worth', 'would', 'wouldnt', 'wow', 'write', 'xbox', 'ye', 'yeah', 'year', 'yo', 'youth', 'youtub']\n"
     ]
    }
   ],
   "source": [
    "print(tokens)"
   ]
  },
  {
   "cell_type": "code",
   "execution_count": null,
   "id": "0e95409c",
   "metadata": {},
   "outputs": [],
   "source": []
  },
  {
   "cell_type": "code",
   "execution_count": 25,
   "id": "01766773",
   "metadata": {},
   "outputs": [],
   "source": [
    "df_vect=pd.DataFrame(data=vect.toarray(),columns=tokens)"
   ]
  },
  {
   "cell_type": "code",
   "execution_count": 27,
   "id": "ccaacf70",
   "metadata": {},
   "outputs": [
    {
     "data": {
      "text/html": [
       "<div>\n",
       "<style scoped>\n",
       "    .dataframe tbody tr th:only-of-type {\n",
       "        vertical-align: middle;\n",
       "    }\n",
       "\n",
       "    .dataframe tbody tr th {\n",
       "        vertical-align: top;\n",
       "    }\n",
       "\n",
       "    .dataframe thead th {\n",
       "        text-align: right;\n",
       "    }\n",
       "</style>\n",
       "<table border=\"1\" class=\"dataframe\">\n",
       "  <thead>\n",
       "    <tr style=\"text-align: right;\">\n",
       "      <th></th>\n",
       "      <th>abil</th>\n",
       "      <th>abl</th>\n",
       "      <th>acc</th>\n",
       "      <th>accept</th>\n",
       "      <th>access</th>\n",
       "      <th>account</th>\n",
       "      <th>ad</th>\n",
       "      <th>add</th>\n",
       "      <th>album</th>\n",
       "      <th>alexa</th>\n",
       "      <th>...</th>\n",
       "      <th>wouldnt</th>\n",
       "      <th>wow</th>\n",
       "      <th>write</th>\n",
       "      <th>xbox</th>\n",
       "      <th>ye</th>\n",
       "      <th>yeah</th>\n",
       "      <th>year</th>\n",
       "      <th>yo</th>\n",
       "      <th>youth</th>\n",
       "      <th>youtub</th>\n",
       "    </tr>\n",
       "  </thead>\n",
       "  <tbody>\n",
       "    <tr>\n",
       "      <th>0</th>\n",
       "      <td>0</td>\n",
       "      <td>0</td>\n",
       "      <td>0</td>\n",
       "      <td>0</td>\n",
       "      <td>0</td>\n",
       "      <td>0</td>\n",
       "      <td>0</td>\n",
       "      <td>0</td>\n",
       "      <td>0</td>\n",
       "      <td>0</td>\n",
       "      <td>...</td>\n",
       "      <td>0</td>\n",
       "      <td>0</td>\n",
       "      <td>0</td>\n",
       "      <td>0</td>\n",
       "      <td>0</td>\n",
       "      <td>0</td>\n",
       "      <td>0</td>\n",
       "      <td>0</td>\n",
       "      <td>0</td>\n",
       "      <td>0</td>\n",
       "    </tr>\n",
       "    <tr>\n",
       "      <th>1</th>\n",
       "      <td>0</td>\n",
       "      <td>0</td>\n",
       "      <td>0</td>\n",
       "      <td>0</td>\n",
       "      <td>0</td>\n",
       "      <td>0</td>\n",
       "      <td>0</td>\n",
       "      <td>0</td>\n",
       "      <td>0</td>\n",
       "      <td>0</td>\n",
       "      <td>...</td>\n",
       "      <td>0</td>\n",
       "      <td>0</td>\n",
       "      <td>0</td>\n",
       "      <td>0</td>\n",
       "      <td>0</td>\n",
       "      <td>0</td>\n",
       "      <td>0</td>\n",
       "      <td>0</td>\n",
       "      <td>0</td>\n",
       "      <td>0</td>\n",
       "    </tr>\n",
       "    <tr>\n",
       "      <th>2</th>\n",
       "      <td>0</td>\n",
       "      <td>0</td>\n",
       "      <td>0</td>\n",
       "      <td>0</td>\n",
       "      <td>0</td>\n",
       "      <td>0</td>\n",
       "      <td>0</td>\n",
       "      <td>0</td>\n",
       "      <td>0</td>\n",
       "      <td>0</td>\n",
       "      <td>...</td>\n",
       "      <td>0</td>\n",
       "      <td>0</td>\n",
       "      <td>0</td>\n",
       "      <td>0</td>\n",
       "      <td>0</td>\n",
       "      <td>0</td>\n",
       "      <td>0</td>\n",
       "      <td>0</td>\n",
       "      <td>0</td>\n",
       "      <td>0</td>\n",
       "    </tr>\n",
       "    <tr>\n",
       "      <th>3</th>\n",
       "      <td>0</td>\n",
       "      <td>0</td>\n",
       "      <td>0</td>\n",
       "      <td>0</td>\n",
       "      <td>0</td>\n",
       "      <td>0</td>\n",
       "      <td>0</td>\n",
       "      <td>0</td>\n",
       "      <td>0</td>\n",
       "      <td>0</td>\n",
       "      <td>...</td>\n",
       "      <td>0</td>\n",
       "      <td>0</td>\n",
       "      <td>0</td>\n",
       "      <td>0</td>\n",
       "      <td>0</td>\n",
       "      <td>0</td>\n",
       "      <td>0</td>\n",
       "      <td>0</td>\n",
       "      <td>0</td>\n",
       "      <td>0</td>\n",
       "    </tr>\n",
       "    <tr>\n",
       "      <th>4</th>\n",
       "      <td>0</td>\n",
       "      <td>0</td>\n",
       "      <td>0</td>\n",
       "      <td>0</td>\n",
       "      <td>0</td>\n",
       "      <td>0</td>\n",
       "      <td>0</td>\n",
       "      <td>0</td>\n",
       "      <td>0</td>\n",
       "      <td>0</td>\n",
       "      <td>...</td>\n",
       "      <td>0</td>\n",
       "      <td>0</td>\n",
       "      <td>0</td>\n",
       "      <td>0</td>\n",
       "      <td>0</td>\n",
       "      <td>0</td>\n",
       "      <td>0</td>\n",
       "      <td>0</td>\n",
       "      <td>0</td>\n",
       "      <td>0</td>\n",
       "    </tr>\n",
       "    <tr>\n",
       "      <th>...</th>\n",
       "      <td>...</td>\n",
       "      <td>...</td>\n",
       "      <td>...</td>\n",
       "      <td>...</td>\n",
       "      <td>...</td>\n",
       "      <td>...</td>\n",
       "      <td>...</td>\n",
       "      <td>...</td>\n",
       "      <td>...</td>\n",
       "      <td>...</td>\n",
       "      <td>...</td>\n",
       "      <td>...</td>\n",
       "      <td>...</td>\n",
       "      <td>...</td>\n",
       "      <td>...</td>\n",
       "      <td>...</td>\n",
       "      <td>...</td>\n",
       "      <td>...</td>\n",
       "      <td>...</td>\n",
       "      <td>...</td>\n",
       "      <td>...</td>\n",
       "    </tr>\n",
       "    <tr>\n",
       "      <th>95</th>\n",
       "      <td>0</td>\n",
       "      <td>0</td>\n",
       "      <td>0</td>\n",
       "      <td>0</td>\n",
       "      <td>0</td>\n",
       "      <td>0</td>\n",
       "      <td>0</td>\n",
       "      <td>0</td>\n",
       "      <td>0</td>\n",
       "      <td>0</td>\n",
       "      <td>...</td>\n",
       "      <td>0</td>\n",
       "      <td>0</td>\n",
       "      <td>0</td>\n",
       "      <td>0</td>\n",
       "      <td>0</td>\n",
       "      <td>0</td>\n",
       "      <td>0</td>\n",
       "      <td>0</td>\n",
       "      <td>0</td>\n",
       "      <td>0</td>\n",
       "    </tr>\n",
       "    <tr>\n",
       "      <th>96</th>\n",
       "      <td>0</td>\n",
       "      <td>0</td>\n",
       "      <td>0</td>\n",
       "      <td>0</td>\n",
       "      <td>0</td>\n",
       "      <td>0</td>\n",
       "      <td>0</td>\n",
       "      <td>0</td>\n",
       "      <td>0</td>\n",
       "      <td>0</td>\n",
       "      <td>...</td>\n",
       "      <td>0</td>\n",
       "      <td>0</td>\n",
       "      <td>0</td>\n",
       "      <td>0</td>\n",
       "      <td>0</td>\n",
       "      <td>0</td>\n",
       "      <td>0</td>\n",
       "      <td>0</td>\n",
       "      <td>0</td>\n",
       "      <td>0</td>\n",
       "    </tr>\n",
       "    <tr>\n",
       "      <th>97</th>\n",
       "      <td>0</td>\n",
       "      <td>0</td>\n",
       "      <td>0</td>\n",
       "      <td>0</td>\n",
       "      <td>0</td>\n",
       "      <td>1</td>\n",
       "      <td>0</td>\n",
       "      <td>0</td>\n",
       "      <td>0</td>\n",
       "      <td>0</td>\n",
       "      <td>...</td>\n",
       "      <td>0</td>\n",
       "      <td>0</td>\n",
       "      <td>0</td>\n",
       "      <td>0</td>\n",
       "      <td>0</td>\n",
       "      <td>0</td>\n",
       "      <td>0</td>\n",
       "      <td>0</td>\n",
       "      <td>0</td>\n",
       "      <td>0</td>\n",
       "    </tr>\n",
       "    <tr>\n",
       "      <th>98</th>\n",
       "      <td>0</td>\n",
       "      <td>0</td>\n",
       "      <td>0</td>\n",
       "      <td>0</td>\n",
       "      <td>0</td>\n",
       "      <td>0</td>\n",
       "      <td>0</td>\n",
       "      <td>0</td>\n",
       "      <td>0</td>\n",
       "      <td>0</td>\n",
       "      <td>...</td>\n",
       "      <td>0</td>\n",
       "      <td>0</td>\n",
       "      <td>0</td>\n",
       "      <td>0</td>\n",
       "      <td>0</td>\n",
       "      <td>0</td>\n",
       "      <td>0</td>\n",
       "      <td>0</td>\n",
       "      <td>0</td>\n",
       "      <td>0</td>\n",
       "    </tr>\n",
       "    <tr>\n",
       "      <th>99</th>\n",
       "      <td>0</td>\n",
       "      <td>0</td>\n",
       "      <td>0</td>\n",
       "      <td>0</td>\n",
       "      <td>0</td>\n",
       "      <td>0</td>\n",
       "      <td>0</td>\n",
       "      <td>0</td>\n",
       "      <td>0</td>\n",
       "      <td>0</td>\n",
       "      <td>...</td>\n",
       "      <td>0</td>\n",
       "      <td>0</td>\n",
       "      <td>0</td>\n",
       "      <td>0</td>\n",
       "      <td>0</td>\n",
       "      <td>0</td>\n",
       "      <td>0</td>\n",
       "      <td>0</td>\n",
       "      <td>0</td>\n",
       "      <td>0</td>\n",
       "    </tr>\n",
       "  </tbody>\n",
       "</table>\n",
       "<p>100 rows × 523 columns</p>\n",
       "</div>"
      ],
      "text/plain": [
       "    abil  abl  acc  accept  access  account  ad  add  album  alexa  ...  \\\n",
       "0      0    0    0       0       0        0   0    0      0      0  ...   \n",
       "1      0    0    0       0       0        0   0    0      0      0  ...   \n",
       "2      0    0    0       0       0        0   0    0      0      0  ...   \n",
       "3      0    0    0       0       0        0   0    0      0      0  ...   \n",
       "4      0    0    0       0       0        0   0    0      0      0  ...   \n",
       "..   ...  ...  ...     ...     ...      ...  ..  ...    ...    ...  ...   \n",
       "95     0    0    0       0       0        0   0    0      0      0  ...   \n",
       "96     0    0    0       0       0        0   0    0      0      0  ...   \n",
       "97     0    0    0       0       0        1   0    0      0      0  ...   \n",
       "98     0    0    0       0       0        0   0    0      0      0  ...   \n",
       "99     0    0    0       0       0        0   0    0      0      0  ...   \n",
       "\n",
       "    wouldnt  wow  write  xbox  ye  yeah  year  yo  youth  youtub  \n",
       "0         0    0      0     0   0     0     0   0      0       0  \n",
       "1         0    0      0     0   0     0     0   0      0       0  \n",
       "2         0    0      0     0   0     0     0   0      0       0  \n",
       "3         0    0      0     0   0     0     0   0      0       0  \n",
       "4         0    0      0     0   0     0     0   0      0       0  \n",
       "..      ...  ...    ...   ...  ..   ...   ...  ..    ...     ...  \n",
       "95        0    0      0     0   0     0     0   0      0       0  \n",
       "96        0    0      0     0   0     0     0   0      0       0  \n",
       "97        0    0      0     0   0     0     0   0      0       0  \n",
       "98        0    0      0     0   0     0     0   0      0       0  \n",
       "99        0    0      0     0   0     0     0   0      0       0  \n",
       "\n",
       "[100 rows x 523 columns]"
      ]
     },
     "execution_count": 27,
     "metadata": {},
     "output_type": "execute_result"
    }
   ],
   "source": [
    "df_vect"
   ]
  },
  {
   "cell_type": "code",
   "execution_count": null,
   "id": "43f79ad3",
   "metadata": {},
   "outputs": [],
   "source": []
  },
  {
   "cell_type": "markdown",
   "id": "aee48b61",
   "metadata": {},
   "source": [
    "### Hence we gotr our bag of words"
   ]
  },
  {
   "cell_type": "markdown",
   "id": "15ce1932",
   "metadata": {},
   "source": [
    "                                          #Happy Learning"
   ]
  }
 ],
 "metadata": {
  "kernelspec": {
   "display_name": "Python 3",
   "language": "python",
   "name": "python3"
  },
  "language_info": {
   "codemirror_mode": {
    "name": "ipython",
    "version": 3
   },
   "file_extension": ".py",
   "mimetype": "text/x-python",
   "name": "python",
   "nbconvert_exporter": "python",
   "pygments_lexer": "ipython3",
   "version": "3.8.8"
  }
 },
 "nbformat": 4,
 "nbformat_minor": 5
}
