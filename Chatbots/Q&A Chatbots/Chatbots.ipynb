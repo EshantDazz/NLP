{
 "cells": [
  {
   "cell_type": "code",
   "execution_count": 1,
   "id": "8c3d360f",
   "metadata": {},
   "outputs": [],
   "source": [
    "import numpy as np\n",
    "import nltk\n",
    "import random\n",
    "import string\n",
    "import warnings"
   ]
  },
  {
   "cell_type": "markdown",
   "id": "eb02e1e1",
   "metadata": {},
   "source": [
    "## <font color='green'> Importing Corpus</font>"
   ]
  },
  {
   "cell_type": "markdown",
   "id": "a2e3641e",
   "metadata": {},
   "source": [
    "**Corpus** - Corpus is the input training data for our chatbot to learn. It can be defined as a collection of text documents. It can be thought as just a bunch of text files in a directory, often alongside many other directories of text files."
   ]
  },
  {
   "cell_type": "code",
   "execution_count": 2,
   "id": "3491f745",
   "metadata": {},
   "outputs": [],
   "source": [
    "warnings.filterwarnings('ignore')"
   ]
  },
  {
   "cell_type": "code",
   "execution_count": 3,
   "id": "31216f24",
   "metadata": {},
   "outputs": [],
   "source": [
    "with open('data_R.txt',errors='ignore') as f:\n",
    "    data=f.read()"
   ]
  },
  {
   "cell_type": "code",
   "execution_count": 4,
   "id": "e139f848",
   "metadata": {},
   "outputs": [
    {
     "name": "stdout",
     "output_type": "stream",
     "text": [
      "Delhi (/ËˆdÉ›li/; Hindi pronunciation: [ËˆdÉªlËiË] DillÄ«; Punjabi pronunciation: [ËˆdÉªlËiË] DillÄ«; Urdu pronunciation: [ËˆdÉ›É¦liË] DÃªhlÄ«),[17] officially the National Capital Territory (NCT) of Delhi, is a city and a union territory of India containing New Delhi, the capital of India.[18][19] Straddling the Yamuna river, primarily its western or right bank, Delhi shares borders with the state of Uttar Pradesh in the east and with the state of Haryana in the remaining directions. The NCT covers an area of 1,483.0 square kilometres (572.6 sq mi).[5] According to the 2011 census, Delhi's city proper population was over 11 million,[6][20] while the NCT's population was about 16.8 million.[7] Delhi's urban agglomeration, which includes the satellite cities of Ghaziabad, Faridabad, Gurgaon and Noida in an area known as the National Capital Region (NCR), has an estimated population of over 28 million, making it the largest metropolitan area in India and the second-largest in the world (after Tokyo).[8]\n",
      "\n",
      "The topography of the medieval fort Purana Qila on the banks of the river Yamuna matches the literary description of the citadel Indraprastha in the Sanskrit epic Mahabharata; however, excavations in the area have revealed no signs of an ancient built environment. From the early 13th century until the mid-19th century, Delhi was the capital of two major empires, the Delhi sultanate and the Mughal Empire, which covered large parts of South Asia. All three UNESCO World Heritage Sites in the city, the Qutub Minar, Humayun's Tomb, and the Red Fort, belong to this period. Delhi was the early centre of Sufism and Qawwali music. The names of Nizamuddin Auliya and Amir Khusrau are prominently associated with it. The Khariboli dialect of Delhi was part of a linguistic development that gave rise to the literature of the Urdu language and then of Modern Standard Hindi. Major Urdu poets from Delhi include Mir Taqi Mir and Mirza Ghalib. Delhi was a major centre of the Indian Rebellion of 1857. In 1911, New Delhi, a southern region within Delhi, became the capital of the British Indian Empire. During the Partition of India in 1947, Delhi was transformed from a Mughal city to a Punjabi one, losing two-thirds of its Muslim residents, in part due to the pressure brought to bear by arriving Hindu refugees from western Punjab.[21] After independence in 1947, New Delhi continued as the capital of the Dominion of India, and after 1950 of the Republic of India.\n",
      "\n",
      "Delhi is home to the second highest number of billionaires and millionaires of any city in India.[22] Delhi ranks fifth among the Indian states and union territories in human development index.[15] Delhi has the second-highest GDP per capita in India (after Goa).[10] Although a union territory, the political administration of the NCT of Delhi today more closely resembles that of a state of India, with its own legislature, high court and an executive council of ministers headed by a Chief Minister. New Delhi is jointly administered by the federal government of India and the local government of Delhi, and serves as the capital of the nation as well as the NCT of Delhi. Delhi is also the centre of the National Capital Region, which is an \"interstate regional planning\" area created in 1985.[23][24] Delhi hosted the inaugural 1951 Asian Games, the 1982 Asian Games, the 1983 Non-Aligned Movement summit, the 2010 Men's Hockey World Cup, the 2010 Commonwealth Games, and the 2012 BRICS summit and was one of the major host cities of the 2011 Cricket World Cup.\n"
     ]
    }
   ],
   "source": [
    "print(data)"
   ]
  },
  {
   "cell_type": "code",
   "execution_count": 5,
   "id": "e634f91a",
   "metadata": {},
   "outputs": [
    {
     "data": {
      "text/plain": [
       "3549"
      ]
     },
     "execution_count": 5,
     "metadata": {},
     "output_type": "execute_result"
    }
   ],
   "source": [
    "len(data)"
   ]
  },
  {
   "cell_type": "code",
   "execution_count": 6,
   "id": "f6e78127",
   "metadata": {},
   "outputs": [
    {
     "data": {
      "text/plain": [
       "5"
      ]
     },
     "execution_count": 6,
     "metadata": {},
     "output_type": "execute_result"
    }
   ],
   "source": [
    "len(data.split('\\n'))"
   ]
  },
  {
   "cell_type": "markdown",
   "id": "bb985dfb",
   "metadata": {},
   "source": [
    "180 lines"
   ]
  },
  {
   "cell_type": "code",
   "execution_count": 7,
   "id": "d0b4820b",
   "metadata": {},
   "outputs": [
    {
     "data": {
      "text/plain": [
       "3"
      ]
     },
     "execution_count": 7,
     "metadata": {},
     "output_type": "execute_result"
    }
   ],
   "source": [
    "len(data.split('\\n\\n'))"
   ]
  },
  {
   "cell_type": "markdown",
   "id": "3d32d5f4",
   "metadata": {},
   "source": [
    "47 paragraphs"
   ]
  },
  {
   "cell_type": "code",
   "execution_count": null,
   "id": "65aaa94e",
   "metadata": {},
   "outputs": [],
   "source": []
  },
  {
   "cell_type": "code",
   "execution_count": 8,
   "id": "7dc821f7",
   "metadata": {},
   "outputs": [
    {
     "data": {
      "text/plain": [
       "575"
      ]
     },
     "execution_count": 8,
     "metadata": {},
     "output_type": "execute_result"
    }
   ],
   "source": [
    "len(data.split(' '))"
   ]
  },
  {
   "cell_type": "code",
   "execution_count": null,
   "id": "a6e17fb9",
   "metadata": {},
   "outputs": [],
   "source": []
  },
  {
   "cell_type": "markdown",
   "id": "424d90b5",
   "metadata": {},
   "source": [
    "## Converting our data to lower case"
   ]
  },
  {
   "cell_type": "code",
   "execution_count": 9,
   "id": "cf06312d",
   "metadata": {},
   "outputs": [],
   "source": [
    "data=data.lower()"
   ]
  },
  {
   "cell_type": "code",
   "execution_count": null,
   "id": "24f18171",
   "metadata": {},
   "outputs": [],
   "source": []
  },
  {
   "cell_type": "markdown",
   "id": "2c37955a",
   "metadata": {},
   "source": [
    "**Lets use the wordnet and Punkt for our upcoming work**"
   ]
  },
  {
   "cell_type": "code",
   "execution_count": 10,
   "id": "00258967",
   "metadata": {},
   "outputs": [],
   "source": [
    "#nltk.download('wordnet')"
   ]
  },
  {
   "cell_type": "code",
   "execution_count": 11,
   "id": "fc361c11",
   "metadata": {},
   "outputs": [],
   "source": [
    "#nltk.download('punkt')"
   ]
  },
  {
   "cell_type": "code",
   "execution_count": null,
   "id": "e692592d",
   "metadata": {},
   "outputs": [],
   "source": []
  },
  {
   "cell_type": "markdown",
   "id": "f63840e1",
   "metadata": {},
   "source": [
    "**Lets convert our raw data to list of sentences and words**"
   ]
  },
  {
   "cell_type": "code",
   "execution_count": 12,
   "id": "0e44bdba",
   "metadata": {},
   "outputs": [],
   "source": [
    "sent=nltk.sent_tokenize(data)  #sentence tokens"
   ]
  },
  {
   "cell_type": "code",
   "execution_count": 13,
   "id": "268fb1e9",
   "metadata": {},
   "outputs": [],
   "source": [
    "word=nltk.wordpunct_tokenize(data) #word tokens"
   ]
  },
  {
   "cell_type": "code",
   "execution_count": null,
   "id": "5cba7d64",
   "metadata": {},
   "outputs": [],
   "source": []
  },
  {
   "cell_type": "markdown",
   "id": "ff5d1ab7",
   "metadata": {},
   "source": [
    " **Lets check the sentences and words**"
   ]
  },
  {
   "cell_type": "code",
   "execution_count": 14,
   "id": "4c2cf5eb",
   "metadata": {},
   "outputs": [
    {
     "data": {
      "text/plain": [
       "'delhi (/ëˆdé›li/; hindi pronunciation: [ëˆdéªlëië] dillä«; punjabi pronunciation: [ëˆdéªlëië] dillä«; urdu pronunciation: [ëˆdé›é¦lië] dãªhlä«),[17] officially the national capital territory (nct) of delhi, is a city and a union territory of india containing new delhi, the capital of india.'"
      ]
     },
     "execution_count": 14,
     "metadata": {},
     "output_type": "execute_result"
    }
   ],
   "source": [
    "sent[0]"
   ]
  },
  {
   "cell_type": "code",
   "execution_count": 15,
   "id": "74d68d07",
   "metadata": {},
   "outputs": [
    {
     "name": "stdout",
     "output_type": "stream",
     "text": [
      "['[18][19] straddling the yamuna river, primarily its western or right bank, delhi shares borders with the state of uttar pradesh in the east and with the state of haryana in the remaining directions.', 'the nct covers an area of 1,483.0 square kilometres (572.6 sq mi).']\n"
     ]
    }
   ],
   "source": [
    "print(sent[1:3])"
   ]
  },
  {
   "cell_type": "code",
   "execution_count": null,
   "id": "972d61d5",
   "metadata": {},
   "outputs": [],
   "source": []
  },
  {
   "cell_type": "code",
   "execution_count": 16,
   "id": "86448e58",
   "metadata": {},
   "outputs": [
    {
     "data": {
      "text/plain": [
       "'ëˆdé'"
      ]
     },
     "execution_count": 16,
     "metadata": {},
     "output_type": "execute_result"
    }
   ],
   "source": [
    "word[2]"
   ]
  },
  {
   "cell_type": "code",
   "execution_count": 17,
   "id": "178f2bf5",
   "metadata": {},
   "outputs": [
    {
     "name": "stdout",
     "output_type": "stream",
     "text": [
      "['(/', 'ëˆdé', '›', 'li', '/;', 'hindi', 'pronunciation', ':', '[', 'ëˆdéªlëië', ']', 'dillä', '«;', 'punjabi']\n"
     ]
    }
   ],
   "source": [
    "print(word[1:15])"
   ]
  },
  {
   "cell_type": "code",
   "execution_count": null,
   "id": "60eb30da",
   "metadata": {},
   "outputs": [],
   "source": []
  },
  {
   "cell_type": "markdown",
   "id": "76d70ee9",
   "metadata": {},
   "source": [
    "## <font color='green'>Text Preprocessing</font>"
   ]
  },
  {
   "cell_type": "code",
   "execution_count": 18,
   "id": "e9971961",
   "metadata": {},
   "outputs": [],
   "source": [
    "lem=nltk.stem.WordNetLemmatizer()"
   ]
  },
  {
   "cell_type": "code",
   "execution_count": null,
   "id": "7dee59c7",
   "metadata": {},
   "outputs": [],
   "source": []
  },
  {
   "cell_type": "markdown",
   "id": "ec4c8310",
   "metadata": {},
   "source": [
    "**We are going to do lemmanization and handle all the punctuation marks in our data**"
   ]
  },
  {
   "cell_type": "code",
   "execution_count": 19,
   "id": "6578227f",
   "metadata": {},
   "outputs": [],
   "source": [
    "def Lemmanization(t):\n",
    "    return [lem.lemmatize(tok) for tok in t]\n",
    "punc_remove=dict((ord(pun),None) for pun in string.punctuation)\n",
    "def Normalise(text):\n",
    "    return Lemmanization(nltk.word_tokenize(text.lower().translate(punc_remove)))"
   ]
  },
  {
   "cell_type": "code",
   "execution_count": null,
   "id": "1b434650",
   "metadata": {},
   "outputs": [],
   "source": []
  },
  {
   "cell_type": "markdown",
   "id": "37479b40",
   "metadata": {},
   "source": [
    "## <font color='green'>Lets define some Greeting Functions</font>"
   ]
  },
  {
   "cell_type": "code",
   "execution_count": 20,
   "id": "347bb287",
   "metadata": {},
   "outputs": [],
   "source": [
    "g_input=['hello','hi',\"what's up\",'how are you','hey','hey there','namaste']"
   ]
  },
  {
   "cell_type": "code",
   "execution_count": 21,
   "id": "4e02da4f",
   "metadata": {},
   "outputs": [],
   "source": [
    "g_response=['namaste','hello','hey',\"It's nice talking to you\",'hi']"
   ]
  },
  {
   "cell_type": "code",
   "execution_count": 22,
   "id": "045aedcd",
   "metadata": {},
   "outputs": [],
   "source": [
    "def greet(s):\n",
    "    for word in s.split():\n",
    "        if word in g_input:\n",
    "            return random.choice(g_response)"
   ]
  },
  {
   "cell_type": "code",
   "execution_count": null,
   "id": "c19db174",
   "metadata": {},
   "outputs": [],
   "source": []
  },
  {
   "cell_type": "markdown",
   "id": "6832bd3d",
   "metadata": {},
   "source": [
    "## <font color='green'> Text Generation </font>"
   ]
  },
  {
   "cell_type": "code",
   "execution_count": 23,
   "id": "598f14cb",
   "metadata": {},
   "outputs": [],
   "source": [
    "from sklearn.feature_extraction.text import TfidfVectorizer"
   ]
  },
  {
   "cell_type": "code",
   "execution_count": 24,
   "id": "962e75e1",
   "metadata": {},
   "outputs": [],
   "source": [
    "from sklearn.metrics.pairwise import cosine_similarity"
   ]
  },
  {
   "cell_type": "code",
   "execution_count": 25,
   "id": "1d9ca67e",
   "metadata": {},
   "outputs": [],
   "source": [
    "def answer(response):\n",
    "    bot_response=''\n",
    "    tfid=TfidfVectorizer(tokenizer=Lemmanization,stop_words='english')\n",
    "    t=tfid.fit_transform(sent)\n",
    "    vals=cosine_similarity(t[-1],t)\n",
    "    idx=vals.argsort()[0][-2]\n",
    "    flat=vals.flatten()\n",
    "    flat.sort()\n",
    "    rt=flat[-2]\n",
    "    if(rt==0):\n",
    "        bot_responset+=\"Sorry! I am not able to understand you\"\n",
    "    else:\n",
    "        bot_response=bot_response+sent[idx]\n",
    "        return bot_response\n",
    "    "
   ]
  },
  {
   "cell_type": "code",
   "execution_count": 26,
   "id": "7c0b1d4e",
   "metadata": {},
   "outputs": [
    {
     "name": "stdout",
     "output_type": "stream",
     "text": [
      "Hello My name is Jazzx, Lets keep having conversation and if you want to quit please type 'Bye'\n",
      "hello\n",
      "Jazzx :  hi\n",
      "hi\n",
      "Jazzx :  hey\n",
      "Delgi GDP\n",
      "Jazzx: [15] delhi has the second-highest gdp per capita in india (after goa).\n",
      "delhi gdp\n",
      "Jazzx: [15] delhi has the second-highest gdp per capita in india (after goa).\n",
      "delhi language'\n",
      "Jazzx: the khariboli dialect of delhi was part of a linguistic development that gave rise to the literature of the urdu language and then of modern standard hindi.\n",
      "delhi human development index\n",
      "Jazzx: [22] delhi ranks fifth among the indian states and union territories in human development index.\n",
      "thank you\n",
      "Jazzx: You are welcome\n"
     ]
    }
   ],
   "source": [
    "f=True\n",
    "print(\"Hello My name is Jazzx, Lets keep having conversation and if you want to quit please type 'Bye'\")\n",
    "while(f==True):\n",
    "    inp=input()\n",
    "    inp=inp.lower()\n",
    "    if(inp!='bye'):\n",
    "        if(inp=='thanks' or inp=='thank you'):\n",
    "            f=False\n",
    "            print(\"Jazzx: You are welcome\")\n",
    "        else:\n",
    "            if(greet(inp)!=None):\n",
    "                print(\"Jazzx : \",greet(inp))\n",
    "            else:\n",
    "                sent.append(inp)\n",
    "                word=word+nltk.word_tokenize(inp)\n",
    "                ff=list(set(word))\n",
    "                print(\"Jazzx: \",end='')\n",
    "                print(answer(inp))\n",
    "                sent.remove(inp)\n",
    "    else:\n",
    "        f=False\n",
    "        print(\"Have a nice day ahead, Take care :)\")\n",
    "        "
   ]
  },
  {
   "cell_type": "code",
   "execution_count": null,
   "id": "a23eb725",
   "metadata": {},
   "outputs": [],
   "source": []
  },
  {
   "cell_type": "code",
   "execution_count": null,
   "id": "a49d109f",
   "metadata": {},
   "outputs": [],
   "source": []
  },
  {
   "cell_type": "code",
   "execution_count": 27,
   "id": "72da576f",
   "metadata": {},
   "outputs": [
    {
     "name": "stdout",
     "output_type": "stream",
     "text": [
      "Hello My name is Jazzx, Lets keep having conversation and if you want to quit please type 'Bye'\n",
      "hello\n",
      "Jazzx :  hey\n",
      "namaste\n",
      "Jazzx :  namaste\n",
      "bye\n",
      "Have a nice day ahead, Take care :)\n"
     ]
    }
   ],
   "source": [
    "f=True\n",
    "print(\"Hello My name is Jazzx, Lets keep having conversation and if you want to quit please type 'Bye'\")\n",
    "while(f==True):\n",
    "    inp=input()\n",
    "    inp=inp.lower()\n",
    "    if(inp!='bye'):\n",
    "        if(inp=='thanks' or inp=='thank you'):\n",
    "            f=False\n",
    "            print(\"Jazzx: You are welcome\")\n",
    "        else:\n",
    "            if(greet(inp)!=None):\n",
    "                print(\"Jazzx : \",greet(inp))\n",
    "            else:\n",
    "                sent.append(inp)\n",
    "                word=word+nltk.word_tokenize(inp)\n",
    "                ff=list(set(word))\n",
    "                print(\"Jazzx: \",end='')\n",
    "                print(answer(inp))\n",
    "                sent.remove(inp)\n",
    "    else:\n",
    "        f=False\n",
    "        print(\"Have a nice day ahead, Take care :)\")\n",
    "        "
   ]
  },
  {
   "cell_type": "code",
   "execution_count": null,
   "id": "a71d5b0c",
   "metadata": {},
   "outputs": [],
   "source": []
  }
 ],
 "metadata": {
  "kernelspec": {
   "display_name": "Python 3",
   "language": "python",
   "name": "python3"
  },
  "language_info": {
   "codemirror_mode": {
    "name": "ipython",
    "version": 3
   },
   "file_extension": ".py",
   "mimetype": "text/x-python",
   "name": "python",
   "nbconvert_exporter": "python",
   "pygments_lexer": "ipython3",
   "version": "3.8.8"
  }
 },
 "nbformat": 4,
 "nbformat_minor": 5
}
