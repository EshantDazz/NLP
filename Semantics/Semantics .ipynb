{
 "cells": [
  {
   "cell_type": "code",
   "execution_count": 1,
   "id": "661bc3aa",
   "metadata": {},
   "outputs": [],
   "source": [
    "#!python -m spacy download en_core_web_lg"
   ]
  },
  {
   "cell_type": "code",
   "execution_count": 2,
   "id": "2a0e1f6d",
   "metadata": {},
   "outputs": [],
   "source": [
    "import spacy"
   ]
  },
  {
   "cell_type": "code",
   "execution_count": 3,
   "id": "c8ffa878",
   "metadata": {},
   "outputs": [],
   "source": [
    "nlp=spacy.load('en_core_web_lg')"
   ]
  },
  {
   "cell_type": "code",
   "execution_count": null,
   "id": "42408712",
   "metadata": {},
   "outputs": [],
   "source": []
  },
  {
   "cell_type": "markdown",
   "id": "3ec6c800",
   "metadata": {},
   "source": [
    "### <div class='alert alert-info'>  <font color='black'> Lets see how to get the vector of any given string word</font></div>"
   ]
  },
  {
   "cell_type": "code",
   "execution_count": 4,
   "id": "b30fa223",
   "metadata": {},
   "outputs": [
    {
     "data": {
      "text/plain": [
       "array([ 2.9839e-01, -2.3624e-01, -3.1170e-01, -2.3897e-01,  4.2468e-01,\n",
       "        3.3975e-01,  2.7900e-01, -3.7586e-01, -1.5578e-01,  2.8365e-01,\n",
       "       -1.9072e-01,  1.8289e-01,  3.1293e-02,  2.1645e-01, -1.6437e-01,\n",
       "        1.8628e-01,  1.1562e-02,  2.2314e-01,  3.0926e-01,  3.5742e-02,\n",
       "       -3.3214e-01, -3.1312e-01, -3.0667e-01,  3.9850e-01, -4.2175e-03,\n",
       "        4.9817e-02, -5.1093e-01, -2.3747e-01,  3.7032e-01,  6.0510e-02,\n",
       "        3.5540e-01,  3.4165e-01, -4.7938e-02,  1.0998e-01, -2.9241e-01,\n",
       "        1.1028e-01,  6.6128e-02,  2.2254e-02,  6.1276e-04, -1.7989e-01,\n",
       "        6.7428e-01, -1.4862e-03, -2.7505e-01,  5.7658e-01, -2.3969e-01,\n",
       "        2.6767e-01,  1.2124e-01, -3.4333e-01, -2.3925e-01,  1.2942e-01,\n",
       "        2.2291e-01, -5.9862e-01,  4.1281e-01,  7.1616e-02, -2.3840e-01,\n",
       "       -4.2704e-01, -9.5613e-02, -2.2866e-01, -6.5105e-01, -5.8428e-02,\n",
       "        3.4586e-01, -3.8925e-01,  1.9505e-02,  4.5922e-01, -1.4883e-01,\n",
       "        3.3722e-01, -9.1880e-02,  1.8988e-02, -1.6245e-02, -6.8447e-02,\n",
       "        1.3248e-01,  1.7061e-01,  1.1335e-01,  4.9338e-01, -8.6092e-02,\n",
       "        1.1936e-01,  4.2710e-01, -5.6125e-02, -2.4718e-01,  2.9467e-01,\n",
       "       -2.3485e-01,  4.1131e-01, -1.8112e-01,  7.4109e-02,  1.8509e-01,\n",
       "        1.0425e-01,  3.6250e-01, -4.5741e-01, -2.6755e-01,  5.2518e-02,\n",
       "        1.6846e-02,  3.2938e-01, -3.2702e-01,  7.4241e-02,  2.1467e-01,\n",
       "        2.9655e-01, -8.1013e-02, -1.1259e-01, -5.2412e-02, -3.6990e-01,\n",
       "        2.2728e-01, -1.5256e-01, -2.4642e-01,  6.3175e-01,  2.6423e-01,\n",
       "        3.3312e-01,  1.2993e-02,  4.4087e-01, -2.5810e-01, -3.8732e-01,\n",
       "        1.7533e-01,  3.7304e-01, -3.4577e-01, -2.4627e-01, -2.5145e-01,\n",
       "       -1.3864e-01, -1.3556e-01, -1.4551e-01,  5.1280e-02,  6.7366e-02,\n",
       "       -9.6287e-02, -4.5195e-01,  4.8362e-01,  1.8205e-02, -2.6181e-01,\n",
       "        2.3558e-01, -2.4166e-01, -3.3706e-01,  3.6472e-01, -8.4427e-02,\n",
       "       -1.2026e-01, -1.7225e-01,  8.2204e-02,  1.7866e-01, -4.6559e-01,\n",
       "        2.3668e-02,  9.9476e-02,  4.0948e-01, -3.0457e-01,  2.3231e-01,\n",
       "       -1.8798e-01,  2.8815e-01,  8.7599e-02,  3.6401e-01,  1.8967e-01,\n",
       "       -4.4346e-01,  2.4129e-01, -2.4369e-01, -2.6110e-01, -8.6738e-02,\n",
       "       -1.6739e-01,  6.1294e-02, -1.9386e-01,  5.2050e-01, -1.2800e-01,\n",
       "       -2.3056e-01, -5.4731e-01,  2.3892e-01,  2.5288e-01,  7.7939e-01,\n",
       "        2.0921e-01,  5.3747e-02,  1.6397e-01,  1.5780e-01, -1.8840e-02,\n",
       "       -4.0156e-02,  2.7591e-01, -3.7284e-01, -2.3769e-01, -3.1603e-01,\n",
       "       -3.2345e-01, -3.4729e-02, -4.5005e-02,  1.7957e-01, -4.1434e-01,\n",
       "        4.1186e-01, -1.7080e-01,  1.3277e-01, -5.9157e-02,  3.9520e-01,\n",
       "       -4.6911e-01,  3.5278e-01,  7.0442e-02, -3.3322e-01, -3.7330e-01,\n",
       "       -9.6651e-02, -2.1611e-01, -1.6450e-01,  3.0077e-01,  5.3813e-01,\n",
       "        1.7126e-01,  7.9974e-02, -1.4367e-01, -4.3791e-02,  8.0875e-01,\n",
       "        2.8404e-01, -3.1604e-01,  1.2746e-01, -1.8811e-01, -9.9905e-02,\n",
       "        1.1834e-02, -1.8002e-01,  1.8722e-01,  3.9284e-03,  1.5478e-01,\n",
       "       -2.1378e-01,  6.4282e-02,  3.0017e-01,  2.3211e-01, -1.3734e-01,\n",
       "        3.2300e-01,  1.3942e-02, -9.6345e-02,  2.2765e-02, -2.8725e-02,\n",
       "        1.7845e-01,  4.7865e-02,  2.1462e-01, -1.1830e-04,  1.5205e-01,\n",
       "       -2.0436e-01,  3.1813e-01, -3.0771e-01, -3.5987e-01, -2.9955e-01,\n",
       "       -7.2075e-02, -4.0599e-01, -1.0907e-02,  1.9464e-01,  4.1206e-02,\n",
       "        8.1450e-02, -2.6354e-01, -2.5013e-01,  2.0114e-01,  5.0238e-02,\n",
       "       -5.9337e-01,  7.3516e-02, -1.7869e-01,  2.3503e-01,  3.4857e-01,\n",
       "        6.2896e-01, -2.9923e-01, -1.9036e-01, -2.7599e-01, -2.7027e-01,\n",
       "        1.2386e-01,  3.6843e-01, -4.7653e-02,  3.3119e-01, -1.4349e-01,\n",
       "        3.1958e-01, -3.5247e-02,  1.8376e-01,  1.5334e-01, -3.3908e-01,\n",
       "       -1.3243e-01, -1.8886e-01,  2.9329e-01, -1.1257e-01,  1.7209e-01,\n",
       "       -5.0260e-01,  7.0847e-02, -1.1729e-01, -3.6143e-01,  2.9433e-01,\n",
       "        2.6710e-01,  1.3783e-01, -5.3694e-01,  1.7217e-01, -3.6120e-01,\n",
       "       -5.5672e-01,  2.5461e-01, -9.6878e-02, -3.9714e-02,  3.3182e-02,\n",
       "        1.1615e-01, -1.5685e-02,  1.9330e-02,  8.0334e-02, -2.1635e-01,\n",
       "        2.5672e-02,  1.6165e-01,  8.5321e-02,  4.8423e-02,  7.0597e-01,\n",
       "       -1.7336e-01,  6.0049e-02, -3.1860e-01, -7.5170e-02, -1.9584e-01,\n",
       "        9.4209e-02, -6.7163e-02,  6.9672e-02,  9.1935e-02, -1.2636e-01,\n",
       "        7.2096e-02, -1.3062e-01, -4.6144e-01, -1.7092e-02,  2.7115e-02],\n",
       "      dtype=float32)"
      ]
     },
     "execution_count": 4,
     "metadata": {},
     "output_type": "execute_result"
    }
   ],
   "source": [
    "nlp(u\"GFG\").vector"
   ]
  },
  {
   "cell_type": "code",
   "execution_count": 5,
   "id": "6cc0a051",
   "metadata": {},
   "outputs": [
    {
     "data": {
      "text/plain": [
       "(300,)"
      ]
     },
     "execution_count": 5,
     "metadata": {},
     "output_type": "execute_result"
    }
   ],
   "source": [
    "nlp(u\"GFG\").vector.shape"
   ]
  },
  {
   "cell_type": "code",
   "execution_count": null,
   "id": "4606418d",
   "metadata": {},
   "outputs": [],
   "source": []
  },
  {
   "cell_type": "code",
   "execution_count": 6,
   "id": "b21f1a8e",
   "metadata": {},
   "outputs": [
    {
     "data": {
      "text/plain": [
       "array([-5.9389400e-01, -2.5607359e+00,  3.2882957e+00,  2.6917586e+00,\n",
       "        2.4522960e+00,  1.6774197e-01,  2.2639642e+00,  1.8032280e+00,\n",
       "       -2.6091719e+00, -2.0064862e+00,  5.6897197e+00,  1.4937241e+00,\n",
       "       -3.3928940e+00,  1.3646960e+00,  8.6361200e-01, -5.7228208e-01,\n",
       "        4.3414960e+00,  5.8377540e-01, -4.5163040e+00, -1.1867999e+00,\n",
       "        2.9196802e-01,  1.4770800e+00, -2.4984241e+00,  7.0963991e-01,\n",
       "        7.4500009e-02, -2.8660102e+00, -1.8854179e+00, -2.3937201e+00,\n",
       "       -8.5785997e-01,  2.3404319e+00,  1.1018800e+00,  1.9414401e-02,\n",
       "        9.2775919e-02,  1.1691400e+00, -6.6618010e-02, -1.1695080e+00,\n",
       "        2.6173069e+00, -5.3232408e-01, -4.7248077e-02, -2.2824201e-01,\n",
       "        3.5421238e+00, -8.9481786e-02, -2.2432940e+00,  3.1993542e+00,\n",
       "       -3.3033397e+00,  8.8552964e-01, -4.1780234e-03, -1.2479601e+00,\n",
       "        1.8792641e+00, -4.2662258e+00,  2.7221206e-01,  1.8199501e+00,\n",
       "       -2.0426600e+00, -1.4081640e+00,  4.5581999e-01,  2.3487718e+00,\n",
       "       -4.2521396e+00, -2.2132997e-01,  1.3498800e+00, -2.7225099e+00,\n",
       "        1.8867260e+00,  1.2108840e+00, -2.0452199e+00,  1.8608023e+00,\n",
       "        3.2827599e+00,  1.5004060e+00, -6.5209603e-01, -2.7810540e+00,\n",
       "        1.5174005e+00,  3.4998000e-01, -1.3336697e+00,  1.1192199e-01,\n",
       "       -1.2824869e+00,  1.0148859e+00, -2.2596519e+00, -8.8435209e-01,\n",
       "       -4.4180999e+00,  3.4779201e+00, -1.0516400e+00, -9.0405798e-01,\n",
       "       -3.4847882e+00, -2.5430003e-01, -2.1098320e+00,  1.5553739e+00,\n",
       "        1.6445801e-01,  6.8297994e-01, -9.7756207e-01, -2.3749299e+00,\n",
       "        9.2140198e-01, -2.2618363e+00, -1.3812998e-01,  1.8665781e+00,\n",
       "        8.1636399e-01, -2.6489820e+00, -9.6432000e-01,  6.2180020e-02,\n",
       "       -1.4909021e+00, -2.9746031e-02,  3.1114800e+00,  2.2231002e+00,\n",
       "        7.6914984e-01,  2.5760004e-01,  1.7585760e+00,  1.8313202e+00,\n",
       "       -1.1133201e+00,  2.6713459e+00,  1.8651581e+00, -1.8431200e+00,\n",
       "        1.9987599e+00, -4.0642276e-01,  4.2738199e+00,  4.7835201e-01,\n",
       "       -3.2026801e+00, -4.0151995e-01,  2.3017547e+00, -1.9283962e-02,\n",
       "       -3.3599198e+00,  6.7594993e-01, -3.4272709e+00, -3.2730401e+00,\n",
       "       -3.8479977e+00, -1.4803380e+00,  4.3454394e+00, -2.4581540e+00,\n",
       "        4.8718596e-01, -2.7110641e+00,  3.9068604e-01, -4.6027598e+00,\n",
       "        3.8465557e+00, -4.2774401e+00, -2.2144921e+00,  1.5600660e+00,\n",
       "        4.0580397e+00,  2.6052721e+00, -5.6250000e-01,  8.7523901e-01,\n",
       "       -1.8624699e+00, -6.5773803e-01,  1.0275160e+00,  1.5250719e+00,\n",
       "        1.8128799e+00, -5.1251596e-01, -2.0368371e+00,  8.8108003e-01,\n",
       "        9.0219992e-01,  5.8878005e-01, -1.8427960e+00,  1.9104681e+00,\n",
       "        1.5279698e+00,  2.0459199e+00,  1.0514741e+00,  8.3228397e-01,\n",
       "       -6.8366396e-01, -8.4719211e-01, -1.8615940e+00, -4.7378191e-01,\n",
       "        2.0251760e+00,  2.4372401e+00,  1.0519998e-01, -2.9589601e+00,\n",
       "        1.3868001e-01,  7.7646196e-01, -3.4345800e-01,  1.8777201e+00,\n",
       "       -2.5685601e+00, -3.2383602e+00, -2.9275620e+00, -1.5180799e+00,\n",
       "        4.7987598e-01, -1.8446119e+00, -3.4712780e+00, -3.5734398e+00,\n",
       "        7.2326195e-01,  1.2733806e+00,  5.2599802e+00,  3.4071801e+00,\n",
       "        1.4124038e+00, -9.2001402e-01, -3.2939258e+00, -1.8415600e+00,\n",
       "       -1.4948599e+00,  1.2843920e+00,  1.2693601e+00, -1.2388420e+00,\n",
       "       -1.1798201e+00,  2.0697141e+00, -1.0678279e+00, -1.2145201e+00,\n",
       "       -3.6619601e-01,  2.0495701e-01,  1.0561600e+00, -1.5723002e+00,\n",
       "        7.1234602e-01, -1.0168979e+00,  3.6030602e+00,  2.2567801e+00,\n",
       "       -5.1869597e+00,  3.7729594e-01,  2.2556081e+00, -1.7141380e+00,\n",
       "        5.7882202e-01, -5.2111924e-01,  4.2315993e-01,  1.3517520e+00,\n",
       "        6.1504002e+00, -2.0752273e+00, -4.8163362e+00,  1.1903799e+00,\n",
       "        1.6975040e+00, -3.4225399e+00,  6.5013599e-01,  9.7119075e-01,\n",
       "       -6.7171347e-01,  1.6921060e+00, -2.4517994e-01,  1.0430861e+00,\n",
       "        3.4274399e+00, -2.3351924e+00,  1.2583641e+00, -4.5499611e-01,\n",
       "        5.1215011e-01,  3.3735428e+00, -3.8818402e+00,  1.7576420e+00,\n",
       "       -1.5833998e-02, -7.0636594e-01,  3.7824597e+00,  1.1542200e+00,\n",
       "        1.9623995e-01,  1.2019700e+00,  2.2161555e+00, -1.3944420e+00,\n",
       "       -1.5687920e+00,  1.4310704e+00,  2.8092601e+00, -1.0689770e+00,\n",
       "        1.6463400e+00, -2.5908017e+00,  7.3590003e-02,  1.6744881e+00,\n",
       "       -2.8228843e+00, -4.2384726e-01,  2.1703200e+00,  1.8354599e+00,\n",
       "        4.2314401e-01,  1.9641240e+00, -2.5632999e+00,  1.4429561e+00,\n",
       "       -2.2876258e+00, -1.0783602e-01, -1.8944903e-01, -7.5028801e-01,\n",
       "       -2.4341741e+00, -2.4699321e+00,  2.6871806e-01, -1.6205219e+00,\n",
       "        2.1669519e+00, -3.5871201e+00, -8.1989431e-01,  6.9382399e-01,\n",
       "       -1.0506160e+00,  3.2364762e+00,  4.7635202e+00, -1.3304605e-01,\n",
       "        6.4887410e-01, -1.6325461e+00, -9.8528802e-01,  3.0347400e+00,\n",
       "       -1.2575960e+00, -1.2537160e+00,  3.2820201e-01, -2.2797799e+00,\n",
       "        4.5842757e+00, -8.4220029e-02,  1.1623720e+00, -1.8343939e+00,\n",
       "        1.0066659e+00, -3.0817721e+00, -5.4872400e-01,  1.0443439e+00,\n",
       "        4.7882600e+00,  8.7327980e-02,  2.2171600e+00, -1.9757960e+00,\n",
       "       -7.9653001e-01, -3.9948239e+00,  8.3464205e-01,  5.1573801e-01,\n",
       "       -1.8000600e+00, -1.7348629e+00, -7.8255385e-01, -2.1519723e+00,\n",
       "       -3.1538802e-01, -8.9813995e-01,  3.9845994e-01, -8.4251797e-01,\n",
       "        1.7402061e+00, -5.0113802e+00,  2.0646000e-01,  3.1228800e+00],\n",
       "      dtype=float32)"
      ]
     },
     "execution_count": 6,
     "metadata": {},
     "output_type": "execute_result"
    }
   ],
   "source": [
    "nlp(u\"Data Science and Machine learning\").vector"
   ]
  },
  {
   "cell_type": "code",
   "execution_count": 7,
   "id": "c003b699",
   "metadata": {},
   "outputs": [
    {
     "data": {
      "text/plain": [
       "(300,)"
      ]
     },
     "execution_count": 7,
     "metadata": {},
     "output_type": "execute_result"
    }
   ],
   "source": [
    "nlp(u\"Data Science and Machine learning\").vector.shape"
   ]
  },
  {
   "cell_type": "code",
   "execution_count": null,
   "id": "c1e7a459",
   "metadata": {},
   "outputs": [],
   "source": []
  },
  {
   "cell_type": "markdown",
   "id": "0c580c2e",
   "metadata": {},
   "source": [
    "### <div class='alert alert-info'> Lets try identifying similar vectors </div>"
   ]
  },
  {
   "cell_type": "code",
   "execution_count": 8,
   "id": "62cf0c2d",
   "metadata": {},
   "outputs": [],
   "source": [
    "tokens=nlp(u\"wolf dog pet\")"
   ]
  },
  {
   "cell_type": "code",
   "execution_count": 9,
   "id": "1586e8d4",
   "metadata": {},
   "outputs": [
    {
     "name": "stdout",
     "output_type": "stream",
     "text": [
      "wolf wolf 1.0\n",
      "wolf dog 0.4906100034713745\n",
      "wolf pet 0.30587345361709595\n",
      "\n",
      "------------------\n",
      "\n",
      "dog wolf 0.4906100034713745\n",
      "dog dog 1.0\n",
      "dog pet 0.7856059074401855\n",
      "\n",
      "------------------\n",
      "\n",
      "pet wolf 0.30587345361709595\n",
      "pet dog 0.7856059074401855\n",
      "pet pet 1.0\n",
      "\n",
      "------------------\n",
      "\n"
     ]
    }
   ],
   "source": [
    "for t1 in tokens:\n",
    "    for t2 in tokens:\n",
    "        print(t1.text,t2.text,t1.similarity(t2))\n",
    "    print()\n",
    "    print('------------------')\n",
    "    print()"
   ]
  },
  {
   "cell_type": "markdown",
   "id": "066322b6",
   "metadata": {},
   "source": [
    "**INFERENCES**<br>\n",
    "- wolf and wolf has 100% simmilarity same goes for dog and pet\n",
    "- we can see pet and dog has 78% which means they are kind of related as dogs can be pets\n",
    "- wolf on the other hand has less simmilarity percentage with the other 2"
   ]
  },
  {
   "cell_type": "code",
   "execution_count": null,
   "id": "b87302af",
   "metadata": {},
   "outputs": [],
   "source": []
  },
  {
   "cell_type": "markdown",
   "id": "6f46c298",
   "metadata": {},
   "source": [
    "Lets see another example"
   ]
  },
  {
   "cell_type": "code",
   "execution_count": 10,
   "id": "87583c7e",
   "metadata": {},
   "outputs": [],
   "source": [
    "tokens=nlp(u\"car horse vehicle\")"
   ]
  },
  {
   "cell_type": "code",
   "execution_count": 11,
   "id": "2dac8f0b",
   "metadata": {},
   "outputs": [
    {
     "name": "stdout",
     "output_type": "stream",
     "text": [
      "car car 1.0\n",
      "car horse 0.4100436568260193\n",
      "car vehicle 0.7779995203018188\n",
      "\n",
      "------------------\n",
      "\n",
      "horse car 0.4100436568260193\n",
      "horse horse 1.0\n",
      "horse vehicle 0.32432547211647034\n",
      "\n",
      "------------------\n",
      "\n",
      "vehicle car 0.7779995203018188\n",
      "vehicle horse 0.32432547211647034\n",
      "vehicle vehicle 1.0\n",
      "\n",
      "------------------\n",
      "\n"
     ]
    }
   ],
   "source": [
    "for t1 in tokens:\n",
    "    for t2 in tokens:\n",
    "        print(t1.text,t2.text,t1.similarity(t2))\n",
    "    print()\n",
    "    print('------------------')\n",
    "    print()"
   ]
  },
  {
   "cell_type": "markdown",
   "id": "6a0d473b",
   "metadata": {},
   "source": [
    "**You can depict the inferences by yourself here**"
   ]
  },
  {
   "cell_type": "code",
   "execution_count": null,
   "id": "6a582674",
   "metadata": {},
   "outputs": [],
   "source": []
  },
  {
   "cell_type": "markdown",
   "id": "13e92013",
   "metadata": {},
   "source": [
    "###  <div class='alert alert-info'>Lets check if we have a new word Outside the dictionary</div>"
   ]
  },
  {
   "cell_type": "code",
   "execution_count": 12,
   "id": "46f95d47",
   "metadata": {},
   "outputs": [
    {
     "data": {
      "text/plain": [
       "(514157, 300)"
      ]
     },
     "execution_count": 12,
     "metadata": {},
     "output_type": "execute_result"
    }
   ],
   "source": [
    "nlp.vocab.vectors.shape"
   ]
  },
  {
   "cell_type": "markdown",
   "id": "f06c8495",
   "metadata": {},
   "source": [
    "Total 514157 words with 300 dimensions"
   ]
  },
  {
   "cell_type": "code",
   "execution_count": 13,
   "id": "7f332f27",
   "metadata": {},
   "outputs": [],
   "source": [
    "tokens=nlp(u\"Eshant Data Analyst\")"
   ]
  },
  {
   "cell_type": "code",
   "execution_count": 14,
   "id": "1c9ae931",
   "metadata": {},
   "outputs": [
    {
     "name": "stdout",
     "output_type": "stream",
     "text": [
      "Eshant False 0.0 True\n",
      "Data True 71.87368 False\n",
      "Analyst True 43.088837 False\n"
     ]
    }
   ],
   "source": [
    "for t in tokens:\n",
    "    print(t.text,t.has_vector,t.vector_norm,t.is_oov)\n",
    "    #has_vector shows if it falls under the dictionary\n",
    "    #vector_norm shows normalised representation basically the sum of the squares of all 300 dimensions\n",
    "    #is_oov will show if it is out of vocabulary or now"
   ]
  },
  {
   "cell_type": "markdown",
   "id": "b9d1649a",
   "metadata": {},
   "source": [
    "**INFERENCES :**<br>\n",
    "The word 'Eshant' is out of vacabulary so it is showing True for oov and false for has_vector"
   ]
  },
  {
   "cell_type": "code",
   "execution_count": null,
   "id": "992115e8",
   "metadata": {},
   "outputs": [],
   "source": []
  },
  {
   "cell_type": "markdown",
   "id": "e2743af9",
   "metadata": {},
   "source": [
    "## <div class='alert alert-info'>  <font color='black'> Vector Arithmetic</font></div>"
   ]
  },
  {
   "cell_type": "code",
   "execution_count": 15,
   "id": "f82cf72a",
   "metadata": {},
   "outputs": [],
   "source": [
    "from scipy import spatial"
   ]
  },
  {
   "cell_type": "code",
   "execution_count": 16,
   "id": "15fee1ca",
   "metadata": {},
   "outputs": [],
   "source": [
    "cosine_sim=lambda v1,v2: 1 - spatial.distance.cosine(v1,v2)"
   ]
  },
  {
   "cell_type": "code",
   "execution_count": null,
   "id": "257a2289",
   "metadata": {},
   "outputs": [],
   "source": []
  },
  {
   "cell_type": "markdown",
   "id": "4e5c47c3",
   "metadata": {},
   "source": [
    "<font color='red'>We are gonna do something like this:</font><br>\n",
    "tigress-female+tiger=?<br>\n",
    "So it should predict something close to actress because we remove the gender female from tigress and then add tiger it should<br>\n",
    "get evaluated to tiger or something similar"
   ]
  },
  {
   "cell_type": "code",
   "execution_count": 54,
   "id": "29c1a7bf",
   "metadata": {},
   "outputs": [],
   "source": [
    "tigress=nlp.vocab['tigress'].vector\n",
    "tiger=nlp.vocab['tiger'].vector\n",
    "female=nlp.vocab['female'].vector"
   ]
  },
  {
   "cell_type": "code",
   "execution_count": 55,
   "id": "14aaa116",
   "metadata": {},
   "outputs": [],
   "source": [
    "new_vector=tigress-female+tiger"
   ]
  },
  {
   "cell_type": "code",
   "execution_count": 56,
   "id": "6013cdb2",
   "metadata": {},
   "outputs": [],
   "source": [
    "cosine_similarity = lambda x, y: 1 - spatial.distance.cosine(x, y)"
   ]
  },
  {
   "cell_type": "code",
   "execution_count": 57,
   "id": "8e39598f",
   "metadata": {},
   "outputs": [],
   "source": [
    "l = []\n",
    "#Processing with all 514157 words so it may take a little time\n",
    "for word in nlp.vocab:\n",
    "    if word.has_vector:\n",
    "        if word.is_lower:\n",
    "            if word.is_alpha:\n",
    "                similarity = cosine_similarity(new_vector, word.vector)\n",
    "                l.append((word, similarity))"
   ]
  },
  {
   "cell_type": "code",
   "execution_count": 58,
   "id": "b29cd826",
   "metadata": {},
   "outputs": [],
   "source": [
    "#This is for printing the list in descending order so that we get the words closest to actor\n",
    "l= sorted(l, key=lambda item: -item[1])"
   ]
  },
  {
   "cell_type": "code",
   "execution_count": 59,
   "id": "721c1efb",
   "metadata": {},
   "outputs": [
    {
     "data": {
      "text/plain": [
       "118"
      ]
     },
     "execution_count": 59,
     "metadata": {},
     "output_type": "execute_result"
    }
   ],
   "source": [
    "len(l)"
   ]
  },
  {
   "cell_type": "code",
   "execution_count": 60,
   "id": "d4deb123",
   "metadata": {},
   "outputs": [
    {
     "name": "stdout",
     "output_type": "stream",
     "text": [
      "['tiger', 'wolf', 'tigress', 'dog', 'pet', 'horse', 'it', 'dare', 'goin', 'nt']\n"
     ]
    }
   ],
   "source": [
    "print([w[0].text for w in l[:10]])"
   ]
  },
  {
   "cell_type": "code",
   "execution_count": null,
   "id": "8ed273e9",
   "metadata": {},
   "outputs": [],
   "source": []
  },
  {
   "cell_type": "markdown",
   "id": "67b842bc",
   "metadata": {},
   "source": [
    "**<font color='green'> So we have got 'tiger' as the most suitable answer which we desired</font>**"
   ]
  },
  {
   "cell_type": "code",
   "execution_count": null,
   "id": "4affbe1c",
   "metadata": {},
   "outputs": [],
   "source": []
  },
  {
   "cell_type": "raw",
   "id": "ba9a91a7",
   "metadata": {},
   "source": [
    "                                              #Happy Learning"
   ]
  },
  {
   "cell_type": "code",
   "execution_count": null,
   "id": "01c56dbf",
   "metadata": {},
   "outputs": [],
   "source": []
  }
 ],
 "metadata": {
  "kernelspec": {
   "display_name": "Python 3",
   "language": "python",
   "name": "python3"
  },
  "language_info": {
   "codemirror_mode": {
    "name": "ipython",
    "version": 3
   },
   "file_extension": ".py",
   "mimetype": "text/x-python",
   "name": "python",
   "nbconvert_exporter": "python",
   "pygments_lexer": "ipython3",
   "version": "3.8.8"
  }
 },
 "nbformat": 4,
 "nbformat_minor": 5
}
