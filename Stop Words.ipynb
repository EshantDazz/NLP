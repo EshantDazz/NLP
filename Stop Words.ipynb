{
 "cells": [
  {
   "cell_type": "markdown",
   "id": "7f9782f5",
   "metadata": {},
   "source": [
    "# <font color='blue'> Stop Words </font>"
   ]
  },
  {
   "cell_type": "markdown",
   "id": "f2d1cb25",
   "metadata": {},
   "source": [
    "**A stop word is a commonly used word (such as “the”, “a”, “an”, “in”) that a search engine has been programmed to ignore, both when indexing entries for searching and when retrieving them as the result of a search query.** "
   ]
  },
  {
   "cell_type": "code",
   "execution_count": null,
   "id": "26cb5c95",
   "metadata": {},
   "outputs": [],
   "source": []
  },
  {
   "cell_type": "markdown",
   "id": "7a369883",
   "metadata": {},
   "source": [
    "**Spacy has built in 305 words**"
   ]
  },
  {
   "cell_type": "code",
   "execution_count": 1,
   "id": "3f9fb3bc",
   "metadata": {},
   "outputs": [],
   "source": [
    "import spacy"
   ]
  },
  {
   "cell_type": "code",
   "execution_count": 2,
   "id": "566d7e53",
   "metadata": {},
   "outputs": [],
   "source": [
    "nlp=spacy.load('en_core_web_sm')"
   ]
  },
  {
   "cell_type": "code",
   "execution_count": 4,
   "id": "afa11ddf",
   "metadata": {},
   "outputs": [
    {
     "name": "stdout",
     "output_type": "stream",
     "text": [
      "{'or', 'always', 'wherein', 'both', 'often', 'last', 'i', 'those', 'while', 'latter', 'your', '‘ve', 'next', 'since', 'became', 'thereafter', 'seemed', 'former', 'would', 'whom', 'along', 'thus', 'we', 'above', 'against', '’s', 'sixty', 'however', 'yours', 'nevertheless', 'hence', 'done', 'other', 'their', 'much', 'hundred', '’d', 'ever', 'one', 'him', '‘ll', '’m', 'anyway', 'am', 'will', 'several', 'amount', 'mine', 're', 'mostly', 'were', 'moreover', 'ours', \"'d\", 'please', 'whole', 'whence', 'first', 'show', 'some', 'third', 'could', 'indeed', 'from', 'with', 'beforehand', 'no', 'therein', \"'s\", 'alone', 'various', 'must', 'still', 'get', 'afterwards', 'fifteen', '’ve', 'are', 'to', 'regarding', 'seems', 'full', 'yourself', \"'ve\", 'whether', '‘m', 'among', 'empty', 'already', 'sometime', 'nobody', '‘d', 'each', 'at', 'top', 'through', 'can', 'take', 'but', 'under', 'noone', 'become', 'had', 'make', 'been', 'go', 'together', 'down', 'serious', 'upon', 'us', 'very', 'whoever', \"n't\", 'really', 'side', 'everyone', 'meanwhile', 'may', 'after', 'do', 'all', 'of', 'her', 'towards', 'the', 'until', 'thereby', 'such', 'two', 'hereafter', 'enough', 'when', 'bottom', 'though', 'forty', 'whereby', 'latterly', 'call', 'whose', '’ll', 'should', 'where', 'doing', 'elsewhere', 'nothing', 'see', 'three', 'seem', 'otherwise', 'cannot', 'below', 'used', 'he', 'ca', 'himself', 'fifty', 'none', 'over', 'toward', 'almost', 'as', 'between', 'myself', 'whither', 'just', 'front', 'whereupon', 'once', 'every', 'hereupon', 'made', 'not', 'off', 'whereas', 'she', \"'ll\", 'within', 'than', 'which', 'nowhere', 'nor', 'less', 'because', 'before', 'somewhere', 'that', 'here', 'does', 'keep', 'again', 'and', 'then', 'about', 'ten', 'there', \"'re\", 'everywhere', 'whatever', 'namely', 'without', 'say', 'per', 'least', 'might', 'they', 'anything', 'same', 'someone', 'hereby', 'never', 'who', 'twelve', 'put', 'thence', 'this', 'into', '’re', 'n‘t', 'on', 'ourselves', 'except', 'a', 'how', 'formerly', 'also', 'thereupon', 'n’t', 'anywhere', 'now', 'herein', 'somehow', 'twenty', 'back', 'sometimes', 'although', 'most', 'others', 'well', 'amongst', 'for', 'herself', 'yourselves', 'name', 'using', 'whereafter', 'only', 'anyone', 'seeming', 'further', 'any', 'give', 'what', 'so', 'due', 'few', 'his', 'unless', 'five', 'wherever', 'quite', 'be', 'during', 'its', 'perhaps', 'have', 'these', 'did', 'four', 'behind', 'throughout', 'part', 'rather', 'it', 'an', 'being', 'therefore', 'besides', 'out', 'you', 'nine', 'anyhow', 'yet', 'by', 'else', 'if', 'eleven', 'many', 'whenever', 'onto', 'our', 'another', 'across', 'beside', 'everything', 'becomes', 'via', 'in', 'itself', 'either', 'hers', 'too', 'was', '‘re', 'neither', 'them', 'around', 'themselves', 'move', 'six', 'thru', 'my', '‘s', 'beyond', 'me', 'more', 'becoming', \"'m\", 'eight', 'even', 'something', 'own', 'up', 'is', 'why', 'has'}\n"
     ]
    }
   ],
   "source": [
    "print(nlp.Defaults.stop_words)"
   ]
  },
  {
   "cell_type": "code",
   "execution_count": null,
   "id": "dd01d8dc",
   "metadata": {},
   "outputs": [],
   "source": []
  },
  {
   "cell_type": "markdown",
   "id": "a871f797",
   "metadata": {},
   "source": [
    "**These are the list of all default stop words presnet**"
   ]
  },
  {
   "cell_type": "code",
   "execution_count": null,
   "id": "17bd9dbb",
   "metadata": {},
   "outputs": [],
   "source": []
  },
  {
   "cell_type": "code",
   "execution_count": 5,
   "id": "9c607897",
   "metadata": {},
   "outputs": [
    {
     "data": {
      "text/plain": [
       "326"
      ]
     },
     "execution_count": 5,
     "metadata": {},
     "output_type": "execute_result"
    }
   ],
   "source": [
    "len(nlp.Defaults.stop_words)"
   ]
  },
  {
   "cell_type": "markdown",
   "id": "edd2b713",
   "metadata": {},
   "source": [
    "###  <font color='purple'>Method to check if a word is stop word or not</font>"
   ]
  },
  {
   "cell_type": "code",
   "execution_count": 6,
   "id": "8699939d",
   "metadata": {},
   "outputs": [
    {
     "data": {
      "text/plain": [
       "True"
      ]
     },
     "execution_count": 6,
     "metadata": {},
     "output_type": "execute_result"
    }
   ],
   "source": [
    "nlp.vocab['is'].is_stop"
   ]
  },
  {
   "cell_type": "code",
   "execution_count": 7,
   "id": "f7c99f41",
   "metadata": {},
   "outputs": [
    {
     "data": {
      "text/plain": [
       "False"
      ]
     },
     "execution_count": 7,
     "metadata": {},
     "output_type": "execute_result"
    }
   ],
   "source": [
    "nlp.vocab['GFG'].is_stop"
   ]
  },
  {
   "cell_type": "code",
   "execution_count": 8,
   "id": "a5a60416",
   "metadata": {},
   "outputs": [
    {
     "data": {
      "text/plain": [
       "False"
      ]
     },
     "execution_count": 8,
     "metadata": {},
     "output_type": "execute_result"
    }
   ],
   "source": [
    "nlp.vocab['hello'].is_stop"
   ]
  },
  {
   "cell_type": "code",
   "execution_count": 11,
   "id": "f0e42b21",
   "metadata": {},
   "outputs": [
    {
     "data": {
      "text/plain": [
       "False"
      ]
     },
     "execution_count": 11,
     "metadata": {},
     "output_type": "execute_result"
    }
   ],
   "source": [
    "nlp.vocab['i.e'].is_stop"
   ]
  },
  {
   "cell_type": "markdown",
   "id": "7efd735b",
   "metadata": {},
   "source": [
    "**To add stop words of your own**"
   ]
  },
  {
   "cell_type": "markdown",
   "id": "4ab6e6a0",
   "metadata": {},
   "source": [
    "suppose we want to add i.e to indicate ' that is '"
   ]
  },
  {
   "cell_type": "code",
   "execution_count": 13,
   "id": "41ffc036",
   "metadata": {},
   "outputs": [],
   "source": [
    "nlp.Defaults.stop_words.add('i.e')"
   ]
  },
  {
   "cell_type": "code",
   "execution_count": 15,
   "id": "8117ee2b",
   "metadata": {},
   "outputs": [],
   "source": [
    "nlp.vocab['i.e'].is_stop = True"
   ]
  },
  {
   "cell_type": "code",
   "execution_count": 16,
   "id": "e375837d",
   "metadata": {},
   "outputs": [
    {
     "data": {
      "text/plain": [
       "327"
      ]
     },
     "execution_count": 16,
     "metadata": {},
     "output_type": "execute_result"
    }
   ],
   "source": [
    "len(nlp.Defaults.stop_words)"
   ]
  },
  {
   "cell_type": "markdown",
   "id": "fa47c516",
   "metadata": {},
   "source": [
    "Previously it was 326 but now it has become 327"
   ]
  },
  {
   "cell_type": "code",
   "execution_count": null,
   "id": "b216d603",
   "metadata": {},
   "outputs": [],
   "source": []
  },
  {
   "cell_type": "code",
   "execution_count": 17,
   "id": "3b04a73d",
   "metadata": {},
   "outputs": [
    {
     "data": {
      "text/plain": [
       "True"
      ]
     },
     "execution_count": 17,
     "metadata": {},
     "output_type": "execute_result"
    }
   ],
   "source": [
    "nlp.vocab['i.e'].is_stop"
   ]
  },
  {
   "cell_type": "markdown",
   "id": "8e3aec46",
   "metadata": {},
   "source": [
    "Therefore i.e has been added to out stop words dictionary"
   ]
  },
  {
   "cell_type": "code",
   "execution_count": null,
   "id": "66b17da9",
   "metadata": {},
   "outputs": [],
   "source": []
  },
  {
   "cell_type": "markdown",
   "id": "07cace8d",
   "metadata": {},
   "source": [
    "**Lets see how you would remove a stop word**"
   ]
  },
  {
   "cell_type": "code",
   "execution_count": 18,
   "id": "22de1091",
   "metadata": {},
   "outputs": [
    {
     "data": {
      "text/plain": [
       "True"
      ]
     },
     "execution_count": 18,
     "metadata": {},
     "output_type": "execute_result"
    }
   ],
   "source": [
    "nlp.vocab['done'].is_stop"
   ]
  },
  {
   "cell_type": "code",
   "execution_count": 19,
   "id": "cdda3a56",
   "metadata": {},
   "outputs": [],
   "source": [
    "nlp.Defaults.stop_words.remove('done')"
   ]
  },
  {
   "cell_type": "code",
   "execution_count": 20,
   "id": "d18f0e04",
   "metadata": {},
   "outputs": [],
   "source": [
    "nlp.vocab['done'].is_stop = False"
   ]
  },
  {
   "cell_type": "code",
   "execution_count": 21,
   "id": "695a0d9d",
   "metadata": {},
   "outputs": [
    {
     "data": {
      "text/plain": [
       "False"
      ]
     },
     "execution_count": 21,
     "metadata": {},
     "output_type": "execute_result"
    }
   ],
   "source": [
    "nlp.vocab['done'].is_stop"
   ]
  },
  {
   "cell_type": "markdown",
   "id": "ac0f4763",
   "metadata": {},
   "source": [
    "Therefore done has been removed from the stop words category"
   ]
  },
  {
   "cell_type": "code",
   "execution_count": null,
   "id": "a6096e47",
   "metadata": {},
   "outputs": [],
   "source": []
  },
  {
   "cell_type": "code",
   "execution_count": null,
   "id": "be4d8f48",
   "metadata": {},
   "outputs": [],
   "source": []
  }
 ],
 "metadata": {
  "kernelspec": {
   "display_name": "Python 3",
   "language": "python",
   "name": "python3"
  },
  "language_info": {
   "codemirror_mode": {
    "name": "ipython",
    "version": 3
   },
   "file_extension": ".py",
   "mimetype": "text/x-python",
   "name": "python",
   "nbconvert_exporter": "python",
   "pygments_lexer": "ipython3",
   "version": "3.8.8"
  }
 },
 "nbformat": 4,
 "nbformat_minor": 5
}
