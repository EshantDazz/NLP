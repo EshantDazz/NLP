{
 "cells": [
  {
   "cell_type": "markdown",
   "id": "7f9782f5",
   "metadata": {},
   "source": [
    "# <font color='blue'> Stop Words </font>"
   ]
  },
  {
   "cell_type": "markdown",
   "id": "f2d1cb25",
   "metadata": {},
   "source": [
    "**A stop word is a commonly used word (such as “the”, “a”, “an”, “in”) that a search engine has been programmed to ignore, both when indexing entries for searching and when retrieving them as the result of a search query.** "
   ]
  },
  {
   "cell_type": "code",
   "execution_count": null,
   "id": "26cb5c95",
   "metadata": {},
   "outputs": [],
   "source": []
  },
  {
   "cell_type": "markdown",
   "id": "7a369883",
   "metadata": {},
   "source": [
    "**Spacy has built in 305 words**"
   ]
  },
  {
   "cell_type": "code",
   "execution_count": 1,
   "id": "3f9fb3bc",
   "metadata": {},
   "outputs": [],
   "source": [
    "import spacy"
   ]
  },
  {
   "cell_type": "code",
   "execution_count": 2,
   "id": "566d7e53",
   "metadata": {},
   "outputs": [],
   "source": [
    "nlp=spacy.load('en_core_web_sm')"
   ]
  },
  {
   "cell_type": "code",
   "execution_count": 3,
   "id": "afa11ddf",
   "metadata": {},
   "outputs": [
    {
     "name": "stdout",
     "output_type": "stream",
     "text": [
      "{'has', 'keep', 'first', 'you', 'can', 'about', 'further', 'rather', 'herself', 'sixty', 'only', 'nevertheless', 'still', 'might', 'anything', 'and', 'not', 'something', 'same', 'hers', 'out', 'herein', '‘d', 'eleven', 'put', 'them', 'in', 'part', 'her', 'sometimes', 're', 'these', \"'s\", 'then', 'how', 'each', 'even', 'serious', 'but', 'doing', '‘ve', 'because', 'yet', 'could', 'his', 'formerly', 'other', 'beyond', 'always', 'top', 'thereby', 'anywhere', 'yours', 'what', 'cannot', 'sometime', \"'re\", 'yourselves', '’d', 'six', 'below', 'well', 'whither', 'this', 'regarding', 'whenever', 'empty', 'among', 'get', 'may', 'least', 'via', 'thru', 'own', 'meanwhile', 'seemed', 'beforehand', 'take', 'former', 'she', \"n't\", 'moreover', 'him', 'whereby', 'nobody', 'everywhere', 'wherein', 'used', 'or', 'go', 'thus', 'one', 'i', 'unless', 'besides', 'front', 'forty', 'see', 'again', 'around', 'once', 'perhaps', 'before', 'being', 'thereupon', 'becoming', 'per', 'themselves', 'would', 'n’t', 'towards', 'any', 'two', 'else', 'often', 'say', 'already', 'seems', 'none', 'name', 'toward', '‘re', 'no', 'down', 'so', 'us', 'they', 'anyway', 'with', 'for', 'must', 'when', 'nor', 'ours', 'show', '‘m', 'through', 'himself', 'various', 'were', 'now', '’m', 'though', 'during', 'was', 'it', 'behind', 'some', 'mine', 'who', 'he', 'we', 'seeming', 'latterly', \"'m\", 'why', 'afterwards', 'made', 'such', 'both', 'from', 'elsewhere', 'somehow', 'either', 'make', 'however', 'became', 'last', 'by', 'hereupon', 'as', 'except', 'whom', 'full', 'many', 'ourselves', 'back', 'me', 'a', 'mostly', 'its', 'my', 'over', 'side', \"'ll\", 'the', 'hereby', 'latter', 'that', '‘s', 'those', 'becomes', 'across', 'seem', 'which', 'hereafter', 'whether', 'four', 'using', 'ca', '’re', 'another', 'thence', 'quite', 'whatever', 'itself', 'third', 'few', 'do', 'since', 'their', 'otherwise', 'hence', 'within', 'all', 'whoever', 'of', 'did', 'eight', 'between', 'am', 'too', 'than', 'yourself', 'indeed', 'where', 'while', 'move', 'on', 'is', 'namely', 'there', 'had', 'are', 'next', 'ever', 'somewhere', 'together', 'nowhere', 'wherever', 'should', 'due', 'fifty', 'throughout', \"'d\", 'noone', 'does', 'hundred', 'three', 'less', 'please', 'whereas', 'beside', 'if', '’ve', 'an', 'really', 'everything', 'here', 'anyone', 'against', 'just', 'never', 'much', 'almost', 'very', 'although', 'above', 'someone', 'call', 'twelve', 'become', 'have', 'whole', 'bottom', 'whereupon', 'most', 'nine', 'also', 'without', 'five', 'our', 'twenty', 'nothing', 'whose', \"'ve\", 'along', 'give', 'upon', 'therein', 'ten', 'others', 'been', 'your', '’s', 'into', 'be', 'more', '’ll', 'at', 'to', 'onto', 'everyone', 'n‘t', 'amount', 'up', 'whence', 'every', 'off', 'thereafter', '‘ll', 'myself', 'neither', 'done', 'enough', 'until', 'under', 'amongst', 'therefore', 'will', 'several', 'alone', 'fifteen', 'after', 'anyhow', 'whereafter'}\n"
     ]
    }
   ],
   "source": [
    "print(nlp.Defaults.stop_words)"
   ]
  },
  {
   "cell_type": "code",
   "execution_count": null,
   "id": "dd01d8dc",
   "metadata": {},
   "outputs": [],
   "source": []
  },
  {
   "cell_type": "markdown",
   "id": "a871f797",
   "metadata": {},
   "source": [
    "**These are the list of all default stop words presnet**"
   ]
  },
  {
   "cell_type": "code",
   "execution_count": null,
   "id": "17bd9dbb",
   "metadata": {},
   "outputs": [],
   "source": []
  },
  {
   "cell_type": "code",
   "execution_count": 4,
   "id": "9c607897",
   "metadata": {},
   "outputs": [
    {
     "data": {
      "text/plain": [
       "326"
      ]
     },
     "execution_count": 4,
     "metadata": {},
     "output_type": "execute_result"
    }
   ],
   "source": [
    "len(nlp.Defaults.stop_words)"
   ]
  },
  {
   "cell_type": "markdown",
   "id": "edd2b713",
   "metadata": {},
   "source": [
    "###  <font color='purple'>Method to check if a word is stop word or not</font>"
   ]
  },
  {
   "cell_type": "code",
   "execution_count": 5,
   "id": "8699939d",
   "metadata": {},
   "outputs": [
    {
     "data": {
      "text/plain": [
       "True"
      ]
     },
     "execution_count": 5,
     "metadata": {},
     "output_type": "execute_result"
    }
   ],
   "source": [
    "nlp.vocab['is'].is_stop"
   ]
  },
  {
   "cell_type": "code",
   "execution_count": 6,
   "id": "f7c99f41",
   "metadata": {},
   "outputs": [
    {
     "data": {
      "text/plain": [
       "False"
      ]
     },
     "execution_count": 6,
     "metadata": {},
     "output_type": "execute_result"
    }
   ],
   "source": [
    "nlp.vocab['GFG'].is_stop"
   ]
  },
  {
   "cell_type": "code",
   "execution_count": 7,
   "id": "a5a60416",
   "metadata": {},
   "outputs": [
    {
     "data": {
      "text/plain": [
       "False"
      ]
     },
     "execution_count": 7,
     "metadata": {},
     "output_type": "execute_result"
    }
   ],
   "source": [
    "nlp.vocab['hello'].is_stop"
   ]
  },
  {
   "cell_type": "code",
   "execution_count": 8,
   "id": "f0e42b21",
   "metadata": {},
   "outputs": [
    {
     "data": {
      "text/plain": [
       "False"
      ]
     },
     "execution_count": 8,
     "metadata": {},
     "output_type": "execute_result"
    }
   ],
   "source": [
    "nlp.vocab['i.e'].is_stop"
   ]
  },
  {
   "cell_type": "markdown",
   "id": "7efd735b",
   "metadata": {},
   "source": [
    "**To add stop words of your own**"
   ]
  },
  {
   "cell_type": "markdown",
   "id": "4ab6e6a0",
   "metadata": {},
   "source": [
    "suppose we want to add i.e to indicate ' that is '"
   ]
  },
  {
   "cell_type": "code",
   "execution_count": 9,
   "id": "41ffc036",
   "metadata": {},
   "outputs": [],
   "source": [
    "nlp.Defaults.stop_words.add('i.e')"
   ]
  },
  {
   "cell_type": "code",
   "execution_count": 10,
   "id": "8117ee2b",
   "metadata": {},
   "outputs": [],
   "source": [
    "nlp.vocab['i.e'].is_stop = True"
   ]
  },
  {
   "cell_type": "code",
   "execution_count": 11,
   "id": "e375837d",
   "metadata": {},
   "outputs": [
    {
     "data": {
      "text/plain": [
       "327"
      ]
     },
     "execution_count": 11,
     "metadata": {},
     "output_type": "execute_result"
    }
   ],
   "source": [
    "len(nlp.Defaults.stop_words)"
   ]
  },
  {
   "cell_type": "markdown",
   "id": "fa47c516",
   "metadata": {},
   "source": [
    "Previously it was 326 but now it has become 327"
   ]
  },
  {
   "cell_type": "code",
   "execution_count": null,
   "id": "b216d603",
   "metadata": {},
   "outputs": [],
   "source": []
  },
  {
   "cell_type": "code",
   "execution_count": 12,
   "id": "3b04a73d",
   "metadata": {},
   "outputs": [
    {
     "data": {
      "text/plain": [
       "True"
      ]
     },
     "execution_count": 12,
     "metadata": {},
     "output_type": "execute_result"
    }
   ],
   "source": [
    "nlp.vocab['i.e'].is_stop"
   ]
  },
  {
   "cell_type": "markdown",
   "id": "8e3aec46",
   "metadata": {},
   "source": [
    "Therefore i.e has been added to out stop words dictionary"
   ]
  },
  {
   "cell_type": "code",
   "execution_count": null,
   "id": "66b17da9",
   "metadata": {},
   "outputs": [],
   "source": []
  },
  {
   "cell_type": "markdown",
   "id": "07cace8d",
   "metadata": {},
   "source": [
    "**Lets see how you would remove a stop word**"
   ]
  },
  {
   "cell_type": "code",
   "execution_count": 13,
   "id": "22de1091",
   "metadata": {},
   "outputs": [
    {
     "data": {
      "text/plain": [
       "True"
      ]
     },
     "execution_count": 13,
     "metadata": {},
     "output_type": "execute_result"
    }
   ],
   "source": [
    "nlp.vocab['done'].is_stop"
   ]
  },
  {
   "cell_type": "code",
   "execution_count": 14,
   "id": "cdda3a56",
   "metadata": {},
   "outputs": [],
   "source": [
    "nlp.Defaults.stop_words.remove('done')"
   ]
  },
  {
   "cell_type": "code",
   "execution_count": 15,
   "id": "d18f0e04",
   "metadata": {},
   "outputs": [],
   "source": [
    "nlp.vocab['done'].is_stop = False"
   ]
  },
  {
   "cell_type": "code",
   "execution_count": 16,
   "id": "695a0d9d",
   "metadata": {},
   "outputs": [
    {
     "data": {
      "text/plain": [
       "False"
      ]
     },
     "execution_count": 16,
     "metadata": {},
     "output_type": "execute_result"
    }
   ],
   "source": [
    "nlp.vocab['done'].is_stop"
   ]
  },
  {
   "cell_type": "markdown",
   "id": "ac0f4763",
   "metadata": {},
   "source": [
    "Therefore done has been removed from the stop words category"
   ]
  },
  {
   "cell_type": "code",
   "execution_count": null,
   "id": "a6096e47",
   "metadata": {},
   "outputs": [],
   "source": []
  },
  {
   "cell_type": "markdown",
   "id": "022c87ac",
   "metadata": {},
   "source": [
    "## <font color='blue'> Removing stop words </font>"
   ]
  },
  {
   "cell_type": "code",
   "execution_count": 22,
   "id": "0374de12",
   "metadata": {},
   "outputs": [
    {
     "data": {
      "text/plain": [
       "'Data science is the study of data. Like biological sciences is a study of biology, physical sciences, it’s the study of physical reactions. Data is real, data has real properties, and we need to study them if we’re going to work on them. Data Science involves data and some signs.   It is a process, not an event. It is the process of using data to understand too many different things, to understand the world. Let Suppose when you have a model or proposed explanation of a problem, and you try to validate that proposed explanation or model with your data.   It is the skill of unfolding the insights and trends that are hiding (or abstract) behind data. It’s when you translate data into a story. So use storytelling to generate insight. And with these insights, you can make strategic choices for a company or an institution.   We can also define data science as a field that is about processes and systems to extract data of various forms and from various resources whether the data is unstructured or structured.  The definition and the name came up in the 1980s and 1990s when some professors, IT Professionals, scientists were looking into the statistics curriculum, and they thought it would be better to call it data science and then later on data analytics derived.'"
      ]
     },
     "execution_count": 22,
     "metadata": {},
     "output_type": "execute_result"
    }
   ],
   "source": [
    "s='''\n",
    "Data science is the study of data. Like biological sciences is a study of biology, physical sciences, it’s the study of physical reactions. Data is real, data has real properties, and we need to study them if we’re going to work on them. Data Science involves data and some signs. \n",
    "\n",
    "It is a process, not an event. It is the process of using data to understand too many different things, to understand the world. Let Suppose when you have a model or proposed explanation of a problem, and you try to validate that proposed explanation or model with your data. \n",
    "\n",
    "It is the skill of unfolding the insights and trends that are hiding (or abstract) behind data. It’s when you translate data into a story. So use storytelling to generate insight. And with these insights, you can make strategic choices for a company or an institution. \n",
    "\n",
    "We can also define data science as a field that is about processes and systems to extract data of various forms and from various resources whether the data is unstructured or structured. \n",
    "The definition and the name came up in the 1980s and 1990s when some professors, IT Professionals, scientists were looking into the statistics curriculum, and they thought it would be better to call it data science and then later on data analytics derived. \n",
    "'''\n",
    "\n",
    "s=s.replace('\\n',' ')\n",
    "s=s.strip()\n",
    "s"
   ]
  },
  {
   "cell_type": "code",
   "execution_count": 23,
   "id": "0acdcc8b",
   "metadata": {},
   "outputs": [],
   "source": [
    "s=nlp(s)"
   ]
  },
  {
   "cell_type": "code",
   "execution_count": 25,
   "id": "a8144f02",
   "metadata": {},
   "outputs": [
    {
     "name": "stdout",
     "output_type": "stream",
     "text": [
      "[is, the, of, is, a, of, it, ’s, the, of, is, has, and, we, to, them, if, we, ’re, to, on, them, and, some, It, is, a, not, an, It, is, the, of, using, to, too, many, to, the, when, you, have, a, or, of, a, and, you, to, that, or, with, your, It, is, the, of, the, and, that, are, or, behind, It, ’s, when, you, into, a, So, to, And, with, these, you, can, make, for, a, or, an, We, can, also, as, a, that, is, about, and, to, of, various, and, from, various, whether, the, is, or, The, and, the, name, up, in, the, and, when, some, IT, were, into, the, and, they, it, would, be, to, call, it, and, then, on]\n"
     ]
    }
   ],
   "source": [
    "l=[]\n",
    "for token in s:\n",
    "    if token.is_stop:\n",
    "        l.append(token)\n",
    "print(l)"
   ]
  },
  {
   "cell_type": "code",
   "execution_count": null,
   "id": "5d9f665d",
   "metadata": {},
   "outputs": [],
   "source": []
  },
  {
   "cell_type": "markdown",
   "id": "629dee1a",
   "metadata": {},
   "source": [
    "**These are the list of all the stop words present in the text**"
   ]
  },
  {
   "cell_type": "code",
   "execution_count": 26,
   "id": "ee717a05",
   "metadata": {},
   "outputs": [
    {
     "data": {
      "text/plain": [
       "125"
      ]
     },
     "execution_count": 26,
     "metadata": {},
     "output_type": "execute_result"
    }
   ],
   "source": [
    "len(l)"
   ]
  },
  {
   "cell_type": "markdown",
   "id": "b78cfc2c",
   "metadata": {},
   "source": [
    "**125 stop words are present**"
   ]
  },
  {
   "cell_type": "code",
   "execution_count": null,
   "id": "75351dc5",
   "metadata": {},
   "outputs": [],
   "source": []
  },
  {
   "cell_type": "markdown",
   "id": "87c07a18",
   "metadata": {},
   "source": [
    "## <font color='blue'>To get all the words which do not belong in the stop words category</font>"
   ]
  },
  {
   "cell_type": "code",
   "execution_count": 27,
   "id": "8e6a453e",
   "metadata": {},
   "outputs": [],
   "source": [
    "tokens=[token for token in s if not token.is_stop]"
   ]
  },
  {
   "cell_type": "code",
   "execution_count": 28,
   "id": "a1c24cce",
   "metadata": {},
   "outputs": [
    {
     "name": "stdout",
     "output_type": "stream",
     "text": [
      "[Data, science, study, data, ., Like, biological, sciences, study, biology, ,, physical, sciences, ,, study, physical, reactions, ., Data, real, ,, data, real, properties, ,, need, study, going, work, ., Data, Science, involves, data, signs, .,   , process, ,, event, ., process, data, understand, different, things, ,, understand, world, ., Let, Suppose, model, proposed, explanation, problem, ,, try, validate, proposed, explanation, model, data, .,   , skill, unfolding, insights, trends, hiding, (, abstract, ), data, ., translate, data, story, ., use, storytelling, generate, insight, ., insights, ,, strategic, choices, company, institution, .,   , define, data, science, field, processes, systems, extract, data, forms, resources, data, unstructured, structured, .,  , definition, came, 1980s, 1990s, professors, ,, Professionals, ,, scientists, looking, statistics, curriculum, ,, thought, better, data, science, later, data, analytics, derived, .]\n"
     ]
    }
   ],
   "source": [
    "print(tokens)"
   ]
  },
  {
   "cell_type": "code",
   "execution_count": 29,
   "id": "499860dc",
   "metadata": {},
   "outputs": [
    {
     "data": {
      "text/plain": [
       "129"
      ]
     },
     "execution_count": 29,
     "metadata": {},
     "output_type": "execute_result"
    }
   ],
   "source": [
    "len(tokens)"
   ]
  }
 ],
 "metadata": {
  "kernelspec": {
   "display_name": "Python 3",
   "language": "python",
   "name": "python3"
  },
  "language_info": {
   "codemirror_mode": {
    "name": "ipython",
    "version": 3
   },
   "file_extension": ".py",
   "mimetype": "text/x-python",
   "name": "python",
   "nbconvert_exporter": "python",
   "pygments_lexer": "ipython3",
   "version": "3.8.8"
  }
 },
 "nbformat": 4,
 "nbformat_minor": 5
}
