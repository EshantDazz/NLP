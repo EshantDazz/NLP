{
 "cells": [
  {
   "cell_type": "markdown",
   "id": "095ac62a",
   "metadata": {},
   "source": [
    "# <font color='blue'> Tokenisation </font> "
   ]
  },
  {
   "cell_type": "markdown",
   "id": "dab1ec75",
   "metadata": {},
   "source": [
    "**Tokenisation is the breaking up of original text into individual components(tokens).**"
   ]
  },
  {
   "cell_type": "raw",
   "id": "e875ba73",
   "metadata": {},
   "source": []
  },
  {
   "cell_type": "code",
   "execution_count": 1,
   "id": "101a154f",
   "metadata": {},
   "outputs": [],
   "source": [
    "import spacy\n",
    "nlp=spacy.load('en_core_web_sm')"
   ]
  },
  {
   "cell_type": "code",
   "execution_count": 2,
   "id": "fc01983b",
   "metadata": {},
   "outputs": [],
   "source": [
    "s='''\"We're going to study from G.F.G!\"'''"
   ]
  },
  {
   "cell_type": "code",
   "execution_count": 3,
   "id": "5ce629dc",
   "metadata": {},
   "outputs": [],
   "source": [
    "d=nlp(s)"
   ]
  },
  {
   "cell_type": "code",
   "execution_count": 4,
   "id": "b8a45eac",
   "metadata": {},
   "outputs": [
    {
     "name": "stdout",
     "output_type": "stream",
     "text": [
      "\"We're going to study from G.F.G!\"\n"
     ]
    }
   ],
   "source": [
    "print(s)"
   ]
  },
  {
   "cell_type": "code",
   "execution_count": 5,
   "id": "2682e40e",
   "metadata": {},
   "outputs": [
    {
     "name": "stdout",
     "output_type": "stream",
     "text": [
      "\"\n",
      "We\n",
      "'re\n",
      "going\n",
      "to\n",
      "study\n",
      "from\n",
      "G.F.G\n",
      "!\n",
      "\"\n"
     ]
    }
   ],
   "source": [
    "for token in d:\n",
    "    print(token.text)"
   ]
  },
  {
   "cell_type": "raw",
   "id": "b73e22fc",
   "metadata": {},
   "source": []
  },
  {
   "cell_type": "markdown",
   "id": "23a99ef6",
   "metadata": {},
   "source": [
    "**We have got**\n",
    "- We and 're seperately\n",
    "- G.F.F is a single token \n",
    "- ! as a single token\n",
    "- \" \" as two different individual tokens\n",
    "- And obviously all the rest of the words as individual tokens which we wanted"
   ]
  },
  {
   "cell_type": "raw",
   "id": "395bec40",
   "metadata": {},
   "source": []
  },
  {
   "cell_type": "code",
   "execution_count": 6,
   "id": "14b04d27",
   "metadata": {},
   "outputs": [],
   "source": [
    "d=nlp(u\"Hey There! if you want to study Data Science from GeeksforGeeks please contact through the email geeksforgeeks@gfg.org or check the website https://www.geeksforgeeks.org/ \")"
   ]
  },
  {
   "cell_type": "markdown",
   "id": "e3783149",
   "metadata": {},
   "source": [
    "Pretty long text :)"
   ]
  },
  {
   "cell_type": "raw",
   "id": "ffe56517",
   "metadata": {},
   "source": []
  },
  {
   "cell_type": "code",
   "execution_count": 7,
   "id": "05a6d30b",
   "metadata": {},
   "outputs": [
    {
     "name": "stdout",
     "output_type": "stream",
     "text": [
      "Hey\n",
      "There\n",
      "!\n",
      "if\n",
      "you\n",
      "want\n",
      "to\n",
      "study\n",
      "Data\n",
      "Science\n",
      "from\n",
      "GeeksforGeeks\n",
      "please\n",
      "contact\n",
      "through\n",
      "the\n",
      "email\n",
      "geeksforgeeks@gfg.org\n",
      "or\n",
      "check\n",
      "the\n",
      "website\n",
      "https://www.geeksforgeeks.org/\n"
     ]
    }
   ],
   "source": [
    "for token in d:\n",
    "    print(token.text)"
   ]
  },
  {
   "cell_type": "raw",
   "id": "d204855b",
   "metadata": {},
   "source": []
  },
  {
   "cell_type": "markdown",
   "id": "29ab842b",
   "metadata": {},
   "source": [
    "**Here we can see that**\n",
    "- The website link has been categorised as a single token\n",
    "- The email mentioned in the text has been categorised as a single token."
   ]
  },
  {
   "cell_type": "raw",
   "id": "2cebef8c",
   "metadata": {},
   "source": []
  },
  {
   "cell_type": "code",
   "execution_count": 8,
   "id": "c28db21b",
   "metadata": {},
   "outputs": [],
   "source": [
    "d=nlp(u\"To reach GFG office it will take $7 by cab as it is 15km away\")"
   ]
  },
  {
   "cell_type": "code",
   "execution_count": 9,
   "id": "9ca87649",
   "metadata": {},
   "outputs": [
    {
     "name": "stdout",
     "output_type": "stream",
     "text": [
      "To\n",
      "reach\n",
      "GFG\n",
      "office\n",
      "it\n",
      "will\n",
      "take\n",
      "$\n",
      "7\n",
      "by\n",
      "cab\n",
      "as\n",
      "it\n",
      "is\n",
      "15\n",
      "km\n",
      "away\n"
     ]
    }
   ],
   "source": [
    "l=[]\n",
    "for token in d:\n",
    "    print(token.text)\n",
    "    l.append(token.text)"
   ]
  },
  {
   "cell_type": "raw",
   "id": "b16117cc",
   "metadata": {},
   "source": []
  },
  {
   "cell_type": "markdown",
   "id": "135d8f22",
   "metadata": {},
   "source": [
    "**Inference**\n",
    "- 7 and $ has been categorised as two different categories\n",
    "- 15 and km are also being categorised as different categories"
   ]
  },
  {
   "cell_type": "raw",
   "id": "618f8c21",
   "metadata": {},
   "source": []
  },
  {
   "cell_type": "markdown",
   "id": "b7eb8990",
   "metadata": {},
   "source": [
    "**<font color='red'>Here we can see its so simple to work with spacy</font>**"
   ]
  },
  {
   "cell_type": "raw",
   "id": "af1323a1",
   "metadata": {},
   "source": []
  },
  {
   "cell_type": "markdown",
   "id": "ab1f0cc5",
   "metadata": {},
   "source": [
    "**To check the number of tokens**"
   ]
  },
  {
   "cell_type": "code",
   "execution_count": 10,
   "id": "a4beba39",
   "metadata": {},
   "outputs": [
    {
     "data": {
      "text/plain": [
       "To reach GFG office it will take $7 by cab as it is 15km away"
      ]
     },
     "execution_count": 10,
     "metadata": {},
     "output_type": "execute_result"
    }
   ],
   "source": [
    "d"
   ]
  },
  {
   "cell_type": "code",
   "execution_count": 11,
   "id": "61647e25",
   "metadata": {},
   "outputs": [
    {
     "data": {
      "text/plain": [
       "17"
      ]
     },
     "execution_count": 11,
     "metadata": {},
     "output_type": "execute_result"
    }
   ],
   "source": [
    "len(d)"
   ]
  },
  {
   "cell_type": "code",
   "execution_count": 12,
   "id": "ed166661",
   "metadata": {},
   "outputs": [
    {
     "data": {
      "text/plain": [
       "17"
      ]
     },
     "execution_count": 12,
     "metadata": {},
     "output_type": "execute_result"
    }
   ],
   "source": [
    "len(l)"
   ]
  },
  {
   "cell_type": "markdown",
   "id": "5dea718f",
   "metadata": {},
   "source": [
    "17 tokens are present here"
   ]
  },
  {
   "cell_type": "raw",
   "id": "d357df24",
   "metadata": {},
   "source": []
  },
  {
   "cell_type": "markdown",
   "id": "bf63b069",
   "metadata": {},
   "source": [
    "**Getting the first token**"
   ]
  },
  {
   "cell_type": "code",
   "execution_count": 13,
   "id": "a0942692",
   "metadata": {},
   "outputs": [
    {
     "data": {
      "text/plain": [
       "To"
      ]
     },
     "execution_count": 13,
     "metadata": {},
     "output_type": "execute_result"
    }
   ],
   "source": [
    "d[0]"
   ]
  },
  {
   "cell_type": "markdown",
   "id": "d07802ad",
   "metadata": {},
   "source": [
    "**Tokens from index 4 to 8**"
   ]
  },
  {
   "cell_type": "code",
   "execution_count": 14,
   "id": "f6bdcc93",
   "metadata": {},
   "outputs": [
    {
     "data": {
      "text/plain": [
       "it will take $7"
      ]
     },
     "execution_count": 14,
     "metadata": {},
     "output_type": "execute_result"
    }
   ],
   "source": [
    "d[4:9]"
   ]
  },
  {
   "cell_type": "markdown",
   "id": "a677443c",
   "metadata": {},
   "source": [
    "Here $ and 7 we not being seperated by a space so if we want to see more clearly we can  ----------------"
   ]
  },
  {
   "cell_type": "code",
   "execution_count": 15,
   "id": "58d73b49",
   "metadata": {},
   "outputs": [
    {
     "data": {
      "text/plain": [
       "['it', 'will', 'take', '$', '7']"
      ]
     },
     "execution_count": 15,
     "metadata": {},
     "output_type": "execute_result"
    }
   ],
   "source": [
    "l[4:9]"
   ]
  },
  {
   "cell_type": "raw",
   "id": "eb1be354",
   "metadata": {},
   "source": []
  },
  {
   "cell_type": "markdown",
   "id": "d4206d73",
   "metadata": {},
   "source": [
    "## <font color='dark pink'> More special functions with spacy </font>"
   ]
  },
  {
   "cell_type": "markdown",
   "id": "6386d7f8",
   "metadata": {},
   "source": [
    "**We can extract the entities from a sentence and print what type of entities they are with the help of spacy**"
   ]
  },
  {
   "cell_type": "raw",
   "id": "4252deb5",
   "metadata": {},
   "source": []
  },
  {
   "cell_type": "code",
   "execution_count": 36,
   "id": "959be608",
   "metadata": {},
   "outputs": [],
   "source": [
    "s=u'The cost of Data Science Live classes from G.F.G is ₹100000'"
   ]
  },
  {
   "cell_type": "code",
   "execution_count": 37,
   "id": "3515e4b6",
   "metadata": {},
   "outputs": [],
   "source": [
    "d=nlp(s)"
   ]
  },
  {
   "cell_type": "markdown",
   "id": "25c52631",
   "metadata": {},
   "source": [
    "If we do the normal way we will get all the tokens"
   ]
  },
  {
   "cell_type": "code",
   "execution_count": 38,
   "id": "43545b79",
   "metadata": {},
   "outputs": [
    {
     "name": "stdout",
     "output_type": "stream",
     "text": [
      "The | cost | of | Data | Science | Live | classes | from | G.F.G | is | ₹ | 100000 | "
     ]
    }
   ],
   "source": [
    "for token in d:\n",
    "    print(token.text,end=' | ')"
   ]
  },
  {
   "cell_type": "markdown",
   "id": "ebc02252",
   "metadata": {},
   "source": [
    "**Now to get the specific entities and what type of entities they are we can do the following code**"
   ]
  },
  {
   "cell_type": "code",
   "execution_count": 39,
   "id": "e7777068",
   "metadata": {},
   "outputs": [
    {
     "name": "stdout",
     "output_type": "stream",
     "text": [
      "Data Science Live\n",
      "ORG\n",
      "G.F.G\n",
      "ORG\n",
      "100000\n",
      "MONEY\n"
     ]
    }
   ],
   "source": [
    "for entity in d.ents:\n",
    "    print(entity)\n",
    "    print(entity.label_)"
   ]
  },
  {
   "cell_type": "raw",
   "id": "ab62155e",
   "metadata": {},
   "source": []
  },
  {
   "cell_type": "markdown",
   "id": "eb88b2ae",
   "metadata": {},
   "source": [
    "- Data Science Live\n",
    "- G.F.G\n",
    "- 10000<br>\n",
    "Only these are being categorised as entities the rest are being considered as normal usual texts"
   ]
  },
  {
   "cell_type": "markdown",
   "id": "441d075b",
   "metadata": {},
   "source": [
    "ORG indicates organisation<br>\n",
    "Money indicates amount of money\n"
   ]
  },
  {
   "cell_type": "raw",
   "id": "4624560c",
   "metadata": {},
   "source": []
  },
  {
   "cell_type": "markdown",
   "id": "23cce93b",
   "metadata": {},
   "source": [
    "**To get even more better details we can use <font color='red'> spacy.explain</font> function**"
   ]
  },
  {
   "cell_type": "code",
   "execution_count": 40,
   "id": "a177beca",
   "metadata": {},
   "outputs": [
    {
     "name": "stdout",
     "output_type": "stream",
     "text": [
      "Data Science Live\n",
      "ORG\n",
      "Companies, agencies, institutions, etc.\n",
      "G.F.G\n",
      "ORG\n",
      "Companies, agencies, institutions, etc.\n",
      "100000\n",
      "MONEY\n",
      "Monetary values, including unit\n"
     ]
    }
   ],
   "source": [
    "for entity in d.ents:\n",
    "    print(entity)\n",
    "    print(entity.label_)\n",
    "    print(str(spacy.explain(entity.label_)))"
   ]
  },
  {
   "cell_type": "raw",
   "id": "b440b46c",
   "metadata": {},
   "source": []
  },
  {
   "cell_type": "markdown",
   "id": "15fe1888",
   "metadata": {},
   "source": [
    "**<font color='blue'>Chunks</font>** - Noun heads"
   ]
  },
  {
   "cell_type": "code",
   "execution_count": 41,
   "id": "5290147a",
   "metadata": {},
   "outputs": [],
   "source": [
    "s=u'The cost of Data Science Live classes from G.F.F is ₹100000'"
   ]
  },
  {
   "cell_type": "code",
   "execution_count": 42,
   "id": "a9ac70b8",
   "metadata": {},
   "outputs": [],
   "source": [
    "d=nlp(s)"
   ]
  },
  {
   "cell_type": "code",
   "execution_count": 43,
   "id": "00e1bbf2",
   "metadata": {},
   "outputs": [
    {
     "name": "stdout",
     "output_type": "stream",
     "text": [
      "The cost\n",
      "Data Science Live classes\n",
      "G.F.F\n"
     ]
    }
   ],
   "source": [
    "for chunks in d.noun_chunks:\n",
    "    print(chunks)"
   ]
  },
  {
   "cell_type": "raw",
   "id": "9ed51973",
   "metadata": {},
   "source": []
  },
  {
   "cell_type": "markdown",
   "id": "d946bfe8",
   "metadata": {},
   "source": [
    "### Lets do some visualisation"
   ]
  },
  {
   "cell_type": "code",
   "execution_count": 44,
   "id": "3705e0b3",
   "metadata": {},
   "outputs": [],
   "source": [
    "from spacy import displacy as dd"
   ]
  },
  {
   "cell_type": "code",
   "execution_count": 45,
   "id": "3a92a309",
   "metadata": {},
   "outputs": [],
   "source": [
    "d=nlp(u'The price of Iphone 13 is ₹80000')"
   ]
  },
  {
   "cell_type": "code",
   "execution_count": 46,
   "id": "0dd39a13",
   "metadata": {},
   "outputs": [
    {
     "data": {
      "text/html": [
       "<span class=\"tex2jax_ignore\"><svg xmlns=\"http://www.w3.org/2000/svg\" xmlns:xlink=\"http://www.w3.org/1999/xlink\" xml:lang=\"en\" id=\"4e47602aaa5d472b89ed0c86e42204d4-0\" class=\"displacy\" width=\"770\" height=\"227.0\" direction=\"ltr\" style=\"max-width: none; height: 227.0px; color: #000000; background: #ffffff; font-family: Arial; direction: ltr\">\n",
       "<text class=\"displacy-token\" fill=\"currentColor\" text-anchor=\"middle\" y=\"137.0\">\n",
       "    <tspan class=\"displacy-word\" fill=\"currentColor\" x=\"50\">The</tspan>\n",
       "    <tspan class=\"displacy-tag\" dy=\"2em\" fill=\"currentColor\" x=\"50\">DET</tspan>\n",
       "</text>\n",
       "\n",
       "<text class=\"displacy-token\" fill=\"currentColor\" text-anchor=\"middle\" y=\"137.0\">\n",
       "    <tspan class=\"displacy-word\" fill=\"currentColor\" x=\"140\">price</tspan>\n",
       "    <tspan class=\"displacy-tag\" dy=\"2em\" fill=\"currentColor\" x=\"140\">NOUN</tspan>\n",
       "</text>\n",
       "\n",
       "<text class=\"displacy-token\" fill=\"currentColor\" text-anchor=\"middle\" y=\"137.0\">\n",
       "    <tspan class=\"displacy-word\" fill=\"currentColor\" x=\"230\">of</tspan>\n",
       "    <tspan class=\"displacy-tag\" dy=\"2em\" fill=\"currentColor\" x=\"230\">ADP</tspan>\n",
       "</text>\n",
       "\n",
       "<text class=\"displacy-token\" fill=\"currentColor\" text-anchor=\"middle\" y=\"137.0\">\n",
       "    <tspan class=\"displacy-word\" fill=\"currentColor\" x=\"320\">Iphone</tspan>\n",
       "    <tspan class=\"displacy-tag\" dy=\"2em\" fill=\"currentColor\" x=\"320\">PROPN</tspan>\n",
       "</text>\n",
       "\n",
       "<text class=\"displacy-token\" fill=\"currentColor\" text-anchor=\"middle\" y=\"137.0\">\n",
       "    <tspan class=\"displacy-word\" fill=\"currentColor\" x=\"410\">13</tspan>\n",
       "    <tspan class=\"displacy-tag\" dy=\"2em\" fill=\"currentColor\" x=\"410\">NUM</tspan>\n",
       "</text>\n",
       "\n",
       "<text class=\"displacy-token\" fill=\"currentColor\" text-anchor=\"middle\" y=\"137.0\">\n",
       "    <tspan class=\"displacy-word\" fill=\"currentColor\" x=\"500\">is</tspan>\n",
       "    <tspan class=\"displacy-tag\" dy=\"2em\" fill=\"currentColor\" x=\"500\">AUX</tspan>\n",
       "</text>\n",
       "\n",
       "<text class=\"displacy-token\" fill=\"currentColor\" text-anchor=\"middle\" y=\"137.0\">\n",
       "    <tspan class=\"displacy-word\" fill=\"currentColor\" x=\"590\">₹</tspan>\n",
       "    <tspan class=\"displacy-tag\" dy=\"2em\" fill=\"currentColor\" x=\"590\">SYM</tspan>\n",
       "</text>\n",
       "\n",
       "<text class=\"displacy-token\" fill=\"currentColor\" text-anchor=\"middle\" y=\"137.0\">\n",
       "    <tspan class=\"displacy-word\" fill=\"currentColor\" x=\"680\">80000</tspan>\n",
       "    <tspan class=\"displacy-tag\" dy=\"2em\" fill=\"currentColor\" x=\"680\">NUM</tspan>\n",
       "</text>\n",
       "\n",
       "<g class=\"displacy-arrow\">\n",
       "    <path class=\"displacy-arc\" id=\"arrow-4e47602aaa5d472b89ed0c86e42204d4-0-0\" stroke-width=\"2px\" d=\"M70,92.0 C70,47.0 135.0,47.0 135.0,92.0\" fill=\"none\" stroke=\"currentColor\"/>\n",
       "    <text dy=\"1.25em\" style=\"font-size: 0.8em; letter-spacing: 1px\">\n",
       "        <textPath xlink:href=\"#arrow-4e47602aaa5d472b89ed0c86e42204d4-0-0\" class=\"displacy-label\" startOffset=\"50%\" side=\"left\" fill=\"currentColor\" text-anchor=\"middle\">det</textPath>\n",
       "    </text>\n",
       "    <path class=\"displacy-arrowhead\" d=\"M70,94.0 L62,82.0 78,82.0\" fill=\"currentColor\"/>\n",
       "</g>\n",
       "\n",
       "<g class=\"displacy-arrow\">\n",
       "    <path class=\"displacy-arc\" id=\"arrow-4e47602aaa5d472b89ed0c86e42204d4-0-1\" stroke-width=\"2px\" d=\"M160,92.0 C160,2.0 500.0,2.0 500.0,92.0\" fill=\"none\" stroke=\"currentColor\"/>\n",
       "    <text dy=\"1.25em\" style=\"font-size: 0.8em; letter-spacing: 1px\">\n",
       "        <textPath xlink:href=\"#arrow-4e47602aaa5d472b89ed0c86e42204d4-0-1\" class=\"displacy-label\" startOffset=\"50%\" side=\"left\" fill=\"currentColor\" text-anchor=\"middle\">nsubj</textPath>\n",
       "    </text>\n",
       "    <path class=\"displacy-arrowhead\" d=\"M160,94.0 L152,82.0 168,82.0\" fill=\"currentColor\"/>\n",
       "</g>\n",
       "\n",
       "<g class=\"displacy-arrow\">\n",
       "    <path class=\"displacy-arc\" id=\"arrow-4e47602aaa5d472b89ed0c86e42204d4-0-2\" stroke-width=\"2px\" d=\"M160,92.0 C160,47.0 225.0,47.0 225.0,92.0\" fill=\"none\" stroke=\"currentColor\"/>\n",
       "    <text dy=\"1.25em\" style=\"font-size: 0.8em; letter-spacing: 1px\">\n",
       "        <textPath xlink:href=\"#arrow-4e47602aaa5d472b89ed0c86e42204d4-0-2\" class=\"displacy-label\" startOffset=\"50%\" side=\"left\" fill=\"currentColor\" text-anchor=\"middle\">prep</textPath>\n",
       "    </text>\n",
       "    <path class=\"displacy-arrowhead\" d=\"M225.0,94.0 L233.0,82.0 217.0,82.0\" fill=\"currentColor\"/>\n",
       "</g>\n",
       "\n",
       "<g class=\"displacy-arrow\">\n",
       "    <path class=\"displacy-arc\" id=\"arrow-4e47602aaa5d472b89ed0c86e42204d4-0-3\" stroke-width=\"2px\" d=\"M250,92.0 C250,47.0 315.0,47.0 315.0,92.0\" fill=\"none\" stroke=\"currentColor\"/>\n",
       "    <text dy=\"1.25em\" style=\"font-size: 0.8em; letter-spacing: 1px\">\n",
       "        <textPath xlink:href=\"#arrow-4e47602aaa5d472b89ed0c86e42204d4-0-3\" class=\"displacy-label\" startOffset=\"50%\" side=\"left\" fill=\"currentColor\" text-anchor=\"middle\">pobj</textPath>\n",
       "    </text>\n",
       "    <path class=\"displacy-arrowhead\" d=\"M315.0,94.0 L323.0,82.0 307.0,82.0\" fill=\"currentColor\"/>\n",
       "</g>\n",
       "\n",
       "<g class=\"displacy-arrow\">\n",
       "    <path class=\"displacy-arc\" id=\"arrow-4e47602aaa5d472b89ed0c86e42204d4-0-4\" stroke-width=\"2px\" d=\"M340,92.0 C340,47.0 405.0,47.0 405.0,92.0\" fill=\"none\" stroke=\"currentColor\"/>\n",
       "    <text dy=\"1.25em\" style=\"font-size: 0.8em; letter-spacing: 1px\">\n",
       "        <textPath xlink:href=\"#arrow-4e47602aaa5d472b89ed0c86e42204d4-0-4\" class=\"displacy-label\" startOffset=\"50%\" side=\"left\" fill=\"currentColor\" text-anchor=\"middle\">nummod</textPath>\n",
       "    </text>\n",
       "    <path class=\"displacy-arrowhead\" d=\"M405.0,94.0 L413.0,82.0 397.0,82.0\" fill=\"currentColor\"/>\n",
       "</g>\n",
       "\n",
       "<g class=\"displacy-arrow\">\n",
       "    <path class=\"displacy-arc\" id=\"arrow-4e47602aaa5d472b89ed0c86e42204d4-0-5\" stroke-width=\"2px\" d=\"M520,92.0 C520,47.0 585.0,47.0 585.0,92.0\" fill=\"none\" stroke=\"currentColor\"/>\n",
       "    <text dy=\"1.25em\" style=\"font-size: 0.8em; letter-spacing: 1px\">\n",
       "        <textPath xlink:href=\"#arrow-4e47602aaa5d472b89ed0c86e42204d4-0-5\" class=\"displacy-label\" startOffset=\"50%\" side=\"left\" fill=\"currentColor\" text-anchor=\"middle\">attr</textPath>\n",
       "    </text>\n",
       "    <path class=\"displacy-arrowhead\" d=\"M585.0,94.0 L593.0,82.0 577.0,82.0\" fill=\"currentColor\"/>\n",
       "</g>\n",
       "\n",
       "<g class=\"displacy-arrow\">\n",
       "    <path class=\"displacy-arc\" id=\"arrow-4e47602aaa5d472b89ed0c86e42204d4-0-6\" stroke-width=\"2px\" d=\"M520,92.0 C520,2.0 680.0,2.0 680.0,92.0\" fill=\"none\" stroke=\"currentColor\"/>\n",
       "    <text dy=\"1.25em\" style=\"font-size: 0.8em; letter-spacing: 1px\">\n",
       "        <textPath xlink:href=\"#arrow-4e47602aaa5d472b89ed0c86e42204d4-0-6\" class=\"displacy-label\" startOffset=\"50%\" side=\"left\" fill=\"currentColor\" text-anchor=\"middle\">attr</textPath>\n",
       "    </text>\n",
       "    <path class=\"displacy-arrowhead\" d=\"M680.0,94.0 L688.0,82.0 672.0,82.0\" fill=\"currentColor\"/>\n",
       "</g>\n",
       "</svg></span>"
      ],
      "text/plain": [
       "<IPython.core.display.HTML object>"
      ]
     },
     "metadata": {},
     "output_type": "display_data"
    }
   ],
   "source": [
    "dd.render(d,jupyter=True,options={'distance':90})#Since we are using Jupyter Notebook so jupiter= True"
   ]
  },
  {
   "cell_type": "raw",
   "id": "33783319",
   "metadata": {},
   "source": []
  },
  {
   "cell_type": "markdown",
   "id": "8f7ef21e",
   "metadata": {},
   "source": [
    "**Lets visualise the entities now**"
   ]
  },
  {
   "cell_type": "code",
   "execution_count": 47,
   "id": "3234e065",
   "metadata": {},
   "outputs": [],
   "source": [
    "#We will be using the same text as before when we were finding out the entites\n",
    "s=u'The cost of Data Science Live classes from G.F.G is ₹100000'\n",
    "d=nlp(s)"
   ]
  },
  {
   "cell_type": "code",
   "execution_count": 48,
   "id": "48c4d3bb",
   "metadata": {},
   "outputs": [
    {
     "data": {
      "text/html": [
       "<span class=\"tex2jax_ignore\"><div class=\"entities\" style=\"line-height: 2.5; direction: ltr\">The cost of \n",
       "<mark class=\"entity\" style=\"background: #7aecec; padding: 0.45em 0.6em; margin: 0 0.25em; line-height: 1; border-radius: 0.35em;\">\n",
       "    Data Science Live\n",
       "    <span style=\"font-size: 0.8em; font-weight: bold; line-height: 1; border-radius: 0.35em; vertical-align: middle; margin-left: 0.5rem\">ORG</span>\n",
       "</mark>\n",
       " classes from \n",
       "<mark class=\"entity\" style=\"background: #7aecec; padding: 0.45em 0.6em; margin: 0 0.25em; line-height: 1; border-radius: 0.35em;\">\n",
       "    G.F.G\n",
       "    <span style=\"font-size: 0.8em; font-weight: bold; line-height: 1; border-radius: 0.35em; vertical-align: middle; margin-left: 0.5rem\">ORG</span>\n",
       "</mark>\n",
       " is ₹\n",
       "<mark class=\"entity\" style=\"background: #e4e7d2; padding: 0.45em 0.6em; margin: 0 0.25em; line-height: 1; border-radius: 0.35em;\">\n",
       "    100000\n",
       "    <span style=\"font-size: 0.8em; font-weight: bold; line-height: 1; border-radius: 0.35em; vertical-align: middle; margin-left: 0.5rem\">MONEY</span>\n",
       "</mark>\n",
       "</div></span>"
      ],
      "text/plain": [
       "<IPython.core.display.HTML object>"
      ]
     },
     "metadata": {},
     "output_type": "display_data"
    }
   ],
   "source": [
    "dd.render(d,style='ent',jupyter=True)"
   ]
  },
  {
   "cell_type": "raw",
   "id": "49c1210d",
   "metadata": {},
   "source": []
  },
  {
   "cell_type": "markdown",
   "id": "c280416b",
   "metadata": {},
   "source": [
    "The **<font color='red'>entities</font>** have been highlighted as you can see<br>\n",
    "You can also see the type of entity :<br>\n",
    "- 10000 is momey\n",
    "- G.F.G is organisation and so on"
   ]
  },
  {
   "cell_type": "raw",
   "id": "4cd54f16",
   "metadata": {},
   "source": []
  },
  {
   "cell_type": "markdown",
   "id": "cf0af9eb",
   "metadata": {},
   "source": [
    "Lets check another example"
   ]
  },
  {
   "cell_type": "code",
   "execution_count": 61,
   "id": "0c8f8fb1",
   "metadata": {},
   "outputs": [],
   "source": [
    "d=nlp(u'The price of Audi  is ₹8000000')"
   ]
  },
  {
   "cell_type": "code",
   "execution_count": 62,
   "id": "69fe15d7",
   "metadata": {},
   "outputs": [
    {
     "data": {
      "text/html": [
       "<span class=\"tex2jax_ignore\"><div class=\"entities\" style=\"line-height: 2.5; direction: ltr\">The price of \n",
       "<mark class=\"entity\" style=\"background: #bfeeb7; padding: 0.45em 0.6em; margin: 0 0.25em; line-height: 1; border-radius: 0.35em;\">\n",
       "    Audi\n",
       "    <span style=\"font-size: 0.8em; font-weight: bold; line-height: 1; border-radius: 0.35em; vertical-align: middle; margin-left: 0.5rem\">PRODUCT</span>\n",
       "</mark>\n",
       "  is ₹\n",
       "<mark class=\"entity\" style=\"background: #e4e7d2; padding: 0.45em 0.6em; margin: 0 0.25em; line-height: 1; border-radius: 0.35em;\">\n",
       "    8000000\n",
       "    <span style=\"font-size: 0.8em; font-weight: bold; line-height: 1; border-radius: 0.35em; vertical-align: middle; margin-left: 0.5rem\">MONEY</span>\n",
       "</mark>\n",
       "</div></span>"
      ],
      "text/plain": [
       "<IPython.core.display.HTML object>"
      ]
     },
     "metadata": {},
     "output_type": "display_data"
    }
   ],
   "source": [
    "dd.render(d,style='ent',jupyter=True)"
   ]
  },
  {
   "cell_type": "raw",
   "id": "791323ef",
   "metadata": {},
   "source": []
  },
  {
   "cell_type": "markdown",
   "id": "ba988ae9",
   "metadata": {},
   "source": [
    "Here it was smart enough to take Audi has a product"
   ]
  },
  {
   "cell_type": "raw",
   "id": "42a975bb",
   "metadata": {},
   "source": []
  },
  {
   "cell_type": "raw",
   "id": "209bbfd5",
   "metadata": {},
   "source": [
    "                                                      #Happy Learning"
   ]
  }
 ],
 "metadata": {
  "kernelspec": {
   "display_name": "Python 3",
   "language": "python",
   "name": "python3"
  },
  "language_info": {
   "codemirror_mode": {
    "name": "ipython",
    "version": 3
   },
   "file_extension": ".py",
   "mimetype": "text/x-python",
   "name": "python",
   "nbconvert_exporter": "python",
   "pygments_lexer": "ipython3",
   "version": "3.8.8"
  }
 },
 "nbformat": 4,
 "nbformat_minor": 5
}
