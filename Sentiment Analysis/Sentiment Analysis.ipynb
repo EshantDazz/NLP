{
 "cells": [
  {
   "cell_type": "markdown",
   "id": "41087949",
   "metadata": {},
   "source": [
    "# <div class='alert alert-info'>Sentiment Analysis</div>"
   ]
  },
  {
   "cell_type": "markdown",
   "id": "c3086d08",
   "metadata": {},
   "source": [
    "**Sentiment analysis is the process of classifying whether a block of text is positive, negative, or, neutral. Sentiment analysis is contextual mining of words which indicates the social sentiment of a brand and also helps the business to determine whether the product which they are manufacturing is going to make a demand in the market or not. The goal which Sentiment analysis tries to gain is to analyze people’s opinion in a way that it can help the businesses expand. It focuses not only on polarity (positive, negative & neutral) but also on emotions (happy, sad, angry, etc.). It uses various Natural Language Processing algorithms such as Rule-based, Automatic, and Hybrid.**"
   ]
  },
  {
   "cell_type": "code",
   "execution_count": null,
   "id": "2643dc9b",
   "metadata": {},
   "outputs": [],
   "source": []
  },
  {
   "cell_type": "markdown",
   "id": "c280350c",
   "metadata": {},
   "source": [
    "## <font color='blue'>Vader</font>"
   ]
  },
  {
   "cell_type": "markdown",
   "id": "1bd9b0fa",
   "metadata": {},
   "source": [
    "**VADER (Valence Aware Dictionary and sEntiment Reasoner) is a lexicon and rule-based sentiment analysis tool that is specifically attuned to sentiments expressed in social media. VADER uses a combination of A sentiment lexicon is a list of lexical features (e.g., words) which are generally labeled according to their semantic orientation as either positive or negative. VADER not only tells about the Positivity and Negativity score but also tells us about how positive or negative a sentiment is.**"
   ]
  },
  {
   "cell_type": "code",
   "execution_count": null,
   "id": "96740c95",
   "metadata": {},
   "outputs": [],
   "source": []
  },
  {
   "cell_type": "markdown",
   "id": "7f650289",
   "metadata": {},
   "source": [
    "## <font color='blue'>Lets start coding</font>"
   ]
  },
  {
   "cell_type": "code",
   "execution_count": 1,
   "id": "3f23193f",
   "metadata": {},
   "outputs": [],
   "source": [
    "import nltk"
   ]
  },
  {
   "cell_type": "code",
   "execution_count": 2,
   "id": "951ebd4b",
   "metadata": {},
   "outputs": [],
   "source": [
    "#nltk.download('vader_lexicon') \n",
    "#You only need to do this once"
   ]
  },
  {
   "cell_type": "code",
   "execution_count": null,
   "id": "305271a0",
   "metadata": {},
   "outputs": [],
   "source": []
  },
  {
   "cell_type": "code",
   "execution_count": 3,
   "id": "bc9267c4",
   "metadata": {},
   "outputs": [],
   "source": [
    "from nltk.sentiment.vader import SentimentIntensityAnalyzer as ss"
   ]
  },
  {
   "cell_type": "code",
   "execution_count": 4,
   "id": "30331f1e",
   "metadata": {},
   "outputs": [],
   "source": [
    "sia=ss()"
   ]
  },
  {
   "cell_type": "code",
   "execution_count": null,
   "id": "b95a82df",
   "metadata": {},
   "outputs": [],
   "source": []
  },
  {
   "cell_type": "markdown",
   "id": "f0d210d1",
   "metadata": {},
   "source": [
    "**Lets start**"
   ]
  },
  {
   "cell_type": "markdown",
   "id": "d6762ee6",
   "metadata": {},
   "source": [
    "**1)**"
   ]
  },
  {
   "cell_type": "code",
   "execution_count": 5,
   "id": "1a13b6fa",
   "metadata": {},
   "outputs": [],
   "source": [
    "a=\"Data Science is the best thing to study\""
   ]
  },
  {
   "cell_type": "code",
   "execution_count": 6,
   "id": "af807e54",
   "metadata": {},
   "outputs": [
    {
     "data": {
      "text/plain": [
       "{'neg': 0.0, 'neu': 0.625, 'pos': 0.375, 'compound': 0.6369}"
      ]
     },
     "execution_count": 6,
     "metadata": {},
     "output_type": "execute_result"
    }
   ],
   "source": [
    "sia.polarity_scores(a)"
   ]
  },
  {
   "cell_type": "markdown",
   "id": "f9276fef",
   "metadata": {},
   "source": [
    "**INFERENCE**:<br>\n",
    "neutral value is 0.625<br>\n",
    "positive value is 0.375<br>"
   ]
  },
  {
   "cell_type": "code",
   "execution_count": null,
   "id": "0fc66f79",
   "metadata": {},
   "outputs": [],
   "source": []
  },
  {
   "cell_type": "markdown",
   "id": "55032227",
   "metadata": {},
   "source": [
    "**2)**"
   ]
  },
  {
   "cell_type": "code",
   "execution_count": 7,
   "id": "1d46d921",
   "metadata": {},
   "outputs": [],
   "source": [
    "a=\"Machine Learning is the best ever thing I have studied and I gained Good and very helpful knowledge related to it!!!\""
   ]
  },
  {
   "cell_type": "code",
   "execution_count": 8,
   "id": "16889a3d",
   "metadata": {},
   "outputs": [
    {
     "data": {
      "text/plain": [
       "{'neg': 0.0, 'neu': 0.523, 'pos': 0.477, 'compound': 0.9283}"
      ]
     },
     "execution_count": 8,
     "metadata": {},
     "output_type": "execute_result"
    }
   ],
   "source": [
    "sia.polarity_scores(a)"
   ]
  },
  {
   "cell_type": "markdown",
   "id": "b8f0f8b9",
   "metadata": {},
   "source": [
    "**INference**:<br>\n",
    "We can see the positive rate increased and there is stil no negastive value"
   ]
  },
  {
   "cell_type": "code",
   "execution_count": null,
   "id": "cbfca005",
   "metadata": {},
   "outputs": [],
   "source": []
  },
  {
   "cell_type": "markdown",
   "id": "cd33f659",
   "metadata": {},
   "source": [
    "**3)**"
   ]
  },
  {
   "cell_type": "code",
   "execution_count": 9,
   "id": "be59a2ea",
   "metadata": {},
   "outputs": [],
   "source": [
    "a=\"Chinese Food with Roti is the Worst Combination and can make you feel bad for a long time!\""
   ]
  },
  {
   "cell_type": "code",
   "execution_count": 10,
   "id": "19d99dc3",
   "metadata": {},
   "outputs": [
    {
     "data": {
      "text/plain": [
       "{'neg': 0.345, 'neu': 0.655, 'pos': 0.0, 'compound': -0.8356}"
      ]
     },
     "execution_count": 10,
     "metadata": {},
     "output_type": "execute_result"
    }
   ],
   "source": [
    "sia.polarity_scores(a)"
   ]
  },
  {
   "cell_type": "markdown",
   "id": "73648d49",
   "metadata": {},
   "source": [
    "**Inference**<br>\n",
    "Now you can see there is no positive value instead we got a negative value"
   ]
  },
  {
   "cell_type": "code",
   "execution_count": null,
   "id": "3237a1ef",
   "metadata": {},
   "outputs": [],
   "source": []
  },
  {
   "cell_type": "markdown",
   "id": "9ac1f31e",
   "metadata": {},
   "source": [
    "Compund score below 0 indicates a negative sentence whereas above 0 it indicates a positive sentence"
   ]
  },
  {
   "cell_type": "code",
   "execution_count": null,
   "id": "e5340a24",
   "metadata": {},
   "outputs": [],
   "source": []
  },
  {
   "cell_type": "markdown",
   "id": "5e625859",
   "metadata": {},
   "source": [
    "# <div class='alert alert-info'>Lets start working with Data Frames</div>"
   ]
  },
  {
   "cell_type": "code",
   "execution_count": 11,
   "id": "144b83bd",
   "metadata": {},
   "outputs": [],
   "source": [
    "import pandas as pd\n",
    "import numpy as np"
   ]
  },
  {
   "cell_type": "code",
   "execution_count": 13,
   "id": "8a5d47f7",
   "metadata": {},
   "outputs": [],
   "source": [
    "df=pd.read_csv(\"Review.csv\")"
   ]
  },
  {
   "cell_type": "code",
   "execution_count": 14,
   "id": "80fb83f5",
   "metadata": {},
   "outputs": [
    {
     "data": {
      "text/html": [
       "<div>\n",
       "<style scoped>\n",
       "    .dataframe tbody tr th:only-of-type {\n",
       "        vertical-align: middle;\n",
       "    }\n",
       "\n",
       "    .dataframe tbody tr th {\n",
       "        vertical-align: top;\n",
       "    }\n",
       "\n",
       "    .dataframe thead th {\n",
       "        text-align: right;\n",
       "    }\n",
       "</style>\n",
       "<table border=\"1\" class=\"dataframe\">\n",
       "  <thead>\n",
       "    <tr style=\"text-align: right;\">\n",
       "      <th></th>\n",
       "      <th>sentiment</th>\n",
       "      <th>review</th>\n",
       "    </tr>\n",
       "  </thead>\n",
       "  <tbody>\n",
       "    <tr>\n",
       "      <th>0</th>\n",
       "      <td>Negative</td>\n",
       "      <td>I had no background knowledge of this movie be...</td>\n",
       "    </tr>\n",
       "    <tr>\n",
       "      <th>1</th>\n",
       "      <td>Negative</td>\n",
       "      <td>I am a huge Jane Austen fan and I ordered the ...</td>\n",
       "    </tr>\n",
       "    <tr>\n",
       "      <th>2</th>\n",
       "      <td>Negative</td>\n",
       "      <td>Nothing to say but Wow! Has anyone actually ha...</td>\n",
       "    </tr>\n",
       "    <tr>\n",
       "      <th>3</th>\n",
       "      <td>Negative</td>\n",
       "      <td>i like Jane Austin novels. I love Pride and Pr...</td>\n",
       "    </tr>\n",
       "    <tr>\n",
       "      <th>4</th>\n",
       "      <td>Negative</td>\n",
       "      <td>In this day and age of incredible special movi...</td>\n",
       "    </tr>\n",
       "  </tbody>\n",
       "</table>\n",
       "</div>"
      ],
      "text/plain": [
       "  sentiment                                             review\n",
       "0  Negative  I had no background knowledge of this movie be...\n",
       "1  Negative  I am a huge Jane Austen fan and I ordered the ...\n",
       "2  Negative  Nothing to say but Wow! Has anyone actually ha...\n",
       "3  Negative  i like Jane Austin novels. I love Pride and Pr...\n",
       "4  Negative  In this day and age of incredible special movi..."
      ]
     },
     "execution_count": 14,
     "metadata": {},
     "output_type": "execute_result"
    }
   ],
   "source": [
    "df.head()"
   ]
  },
  {
   "cell_type": "code",
   "execution_count": 15,
   "id": "fe09839d",
   "metadata": {},
   "outputs": [
    {
     "data": {
      "text/plain": [
       "Negative    5081\n",
       "Positive    4919\n",
       "Name: sentiment, dtype: int64"
      ]
     },
     "execution_count": 15,
     "metadata": {},
     "output_type": "execute_result"
    }
   ],
   "source": [
    "df['sentiment'].value_counts()"
   ]
  },
  {
   "cell_type": "markdown",
   "id": "c138becb",
   "metadata": {},
   "source": [
    "**Null Values handling**"
   ]
  },
  {
   "cell_type": "code",
   "execution_count": 16,
   "id": "33334ffa",
   "metadata": {},
   "outputs": [
    {
     "data": {
      "text/plain": [
       "sentiment    0\n",
       "review       0\n",
       "dtype: int64"
      ]
     },
     "execution_count": 16,
     "metadata": {},
     "output_type": "execute_result"
    }
   ],
   "source": [
    "df.isnull().sum()"
   ]
  },
  {
   "cell_type": "markdown",
   "id": "6baf97eb",
   "metadata": {},
   "source": [
    "so no need to drop anything"
   ]
  },
  {
   "cell_type": "code",
   "execution_count": 17,
   "id": "0e448236",
   "metadata": {},
   "outputs": [
    {
     "data": {
      "text/plain": [
       "type"
      ]
     },
     "execution_count": 17,
     "metadata": {},
     "output_type": "execute_result"
    }
   ],
   "source": []
  },
  {
   "cell_type": "markdown",
   "id": "411ecbae",
   "metadata": {},
   "source": [
    "Lets check if we have some empty blanks"
   ]
  },
  {
   "cell_type": "code",
   "execution_count": 18,
   "id": "a48dbf7a",
   "metadata": {},
   "outputs": [],
   "source": [
    "blanks=[]\n",
    "for i,s,r in df.itertuples():\n",
    "    if type(r)==str:\n",
    "        if r.isspace():\n",
    "            blanks.append(i)\n",
    "        "
   ]
  },
  {
   "cell_type": "code",
   "execution_count": 19,
   "id": "1d73e752",
   "metadata": {},
   "outputs": [
    {
     "data": {
      "text/plain": [
       "[]"
      ]
     },
     "execution_count": 19,
     "metadata": {},
     "output_type": "execute_result"
    }
   ],
   "source": [
    "blanks"
   ]
  },
  {
   "cell_type": "markdown",
   "id": "9259242b",
   "metadata": {},
   "source": [
    "So no blanks so we do need to remove anything"
   ]
  },
  {
   "cell_type": "code",
   "execution_count": 20,
   "id": "146b8ead",
   "metadata": {},
   "outputs": [],
   "source": [
    "#IF We would have blanks then\n",
    "#df.drop(blanks,inplace=True)"
   ]
  },
  {
   "cell_type": "code",
   "execution_count": 23,
   "id": "8733c5f5",
   "metadata": {},
   "outputs": [
    {
     "data": {
      "text/html": [
       "<div>\n",
       "<style scoped>\n",
       "    .dataframe tbody tr th:only-of-type {\n",
       "        vertical-align: middle;\n",
       "    }\n",
       "\n",
       "    .dataframe tbody tr th {\n",
       "        vertical-align: top;\n",
       "    }\n",
       "\n",
       "    .dataframe thead th {\n",
       "        text-align: right;\n",
       "    }\n",
       "</style>\n",
       "<table border=\"1\" class=\"dataframe\">\n",
       "  <thead>\n",
       "    <tr style=\"text-align: right;\">\n",
       "      <th></th>\n",
       "      <th>sentiment</th>\n",
       "      <th>review</th>\n",
       "    </tr>\n",
       "  </thead>\n",
       "  <tbody>\n",
       "    <tr>\n",
       "      <th>0</th>\n",
       "      <td>Negative</td>\n",
       "      <td>I had no background knowledge of this movie be...</td>\n",
       "    </tr>\n",
       "    <tr>\n",
       "      <th>1</th>\n",
       "      <td>Negative</td>\n",
       "      <td>I am a huge Jane Austen fan and I ordered the ...</td>\n",
       "    </tr>\n",
       "    <tr>\n",
       "      <th>2</th>\n",
       "      <td>Negative</td>\n",
       "      <td>Nothing to say but Wow! Has anyone actually ha...</td>\n",
       "    </tr>\n",
       "  </tbody>\n",
       "</table>\n",
       "</div>"
      ],
      "text/plain": [
       "  sentiment                                             review\n",
       "0  Negative  I had no background knowledge of this movie be...\n",
       "1  Negative  I am a huge Jane Austen fan and I ordered the ...\n",
       "2  Negative  Nothing to say but Wow! Has anyone actually ha..."
      ]
     },
     "execution_count": 23,
     "metadata": {},
     "output_type": "execute_result"
    }
   ],
   "source": [
    "df.head(3)"
   ]
  },
  {
   "cell_type": "code",
   "execution_count": 27,
   "id": "ec9b3385",
   "metadata": {},
   "outputs": [
    {
     "data": {
      "text/plain": [
       "\"I had no background knowledge of this movie before I bought it, but it sounded cool and I've been wanting to see a really kick-butt Viking movie for awhile now... alas, this film was not what I was looking for. I had hoped for the best, but instead, was delivered a boring Nordic soap-opera that seemed to drag on too long despite its 84 minute running time. The film's premise is intriguing enough: It's about a Viking warlord who defies his God and Odin is so enraged that he curses the warlord's son, named Barek, to death and rebirth as a Berserker. This Barek guy is then forced to live enraged, insane, and violent lifetime after lifetime. The movie is filmed competently enough, with some rich cinematography and quasi-good performances by the actors, but again, I found myself bored and questioning when this dribble would end. The filmmakers had a chance to make something rather entertaining and semi-unique but they dropped the ball. Perhaps it could've been improved with some cheap exploitation tactics thrown in such as gratuitous nudity and lots of gore... I mean, we are talking about 'Berserkers' here, aren't we? Vikings were supposed to be BAD enough, what with all the raping and pillaging, so aren't Berserkers supposed to be even more extreme? All in all, unless you're a fan of The Young and Restless (etc...) or, are yourself, in fact, an insane Berserker who likes self torture, I'd probably steer clear of this drab piece of celluloid.'\""
      ]
     },
     "execution_count": 27,
     "metadata": {},
     "output_type": "execute_result"
    }
   ],
   "source": [
    "df.iloc[0]['review']  #just check what happens if we peint this"
   ]
  },
  {
   "cell_type": "code",
   "execution_count": null,
   "id": "82ef55fe",
   "metadata": {},
   "outputs": [],
   "source": []
  },
  {
   "cell_type": "code",
   "execution_count": 31,
   "id": "7917b2f5",
   "metadata": {},
   "outputs": [
    {
     "data": {
      "text/plain": [
       "{'neg': 0.208, 'neu': 0.665, 'pos': 0.127, 'compound': -0.9813}"
      ]
     },
     "execution_count": 31,
     "metadata": {},
     "output_type": "execute_result"
    }
   ],
   "source": [
    "sia.polarity_scores(df.iloc[0]['review'])"
   ]
  },
  {
   "cell_type": "markdown",
   "id": "f29d618f",
   "metadata": {},
   "source": [
    "**We can see it has a more negative value then positive and you can verify from the table in the sentiment it has been given negative** "
   ]
  },
  {
   "cell_type": "code",
   "execution_count": 32,
   "id": "8ec68e73",
   "metadata": {},
   "outputs": [],
   "source": [
    "df['sia.polarity_scores']=df['review'].apply(lambda r:sia.polarity_scores(r))"
   ]
  },
  {
   "cell_type": "code",
   "execution_count": 33,
   "id": "29d24857",
   "metadata": {},
   "outputs": [
    {
     "data": {
      "text/html": [
       "<div>\n",
       "<style scoped>\n",
       "    .dataframe tbody tr th:only-of-type {\n",
       "        vertical-align: middle;\n",
       "    }\n",
       "\n",
       "    .dataframe tbody tr th {\n",
       "        vertical-align: top;\n",
       "    }\n",
       "\n",
       "    .dataframe thead th {\n",
       "        text-align: right;\n",
       "    }\n",
       "</style>\n",
       "<table border=\"1\" class=\"dataframe\">\n",
       "  <thead>\n",
       "    <tr style=\"text-align: right;\">\n",
       "      <th></th>\n",
       "      <th>sentiment</th>\n",
       "      <th>review</th>\n",
       "      <th>sia.polarity_scores</th>\n",
       "    </tr>\n",
       "  </thead>\n",
       "  <tbody>\n",
       "    <tr>\n",
       "      <th>0</th>\n",
       "      <td>Negative</td>\n",
       "      <td>I had no background knowledge of this movie be...</td>\n",
       "      <td>{'neg': 0.208, 'neu': 0.665, 'pos': 0.127, 'co...</td>\n",
       "    </tr>\n",
       "    <tr>\n",
       "      <th>1</th>\n",
       "      <td>Negative</td>\n",
       "      <td>I am a huge Jane Austen fan and I ordered the ...</td>\n",
       "      <td>{'neg': 0.028, 'neu': 0.889, 'pos': 0.083, 'co...</td>\n",
       "    </tr>\n",
       "    <tr>\n",
       "      <th>2</th>\n",
       "      <td>Negative</td>\n",
       "      <td>Nothing to say but Wow! Has anyone actually ha...</td>\n",
       "      <td>{'neg': 0.131, 'neu': 0.735, 'pos': 0.134, 'co...</td>\n",
       "    </tr>\n",
       "    <tr>\n",
       "      <th>3</th>\n",
       "      <td>Negative</td>\n",
       "      <td>i like Jane Austin novels. I love Pride and Pr...</td>\n",
       "      <td>{'neg': 0.113, 'neu': 0.678, 'pos': 0.209, 'co...</td>\n",
       "    </tr>\n",
       "    <tr>\n",
       "      <th>4</th>\n",
       "      <td>Negative</td>\n",
       "      <td>In this day and age of incredible special movi...</td>\n",
       "      <td>{'neg': 0.081, 'neu': 0.726, 'pos': 0.193, 'co...</td>\n",
       "    </tr>\n",
       "    <tr>\n",
       "      <th>...</th>\n",
       "      <td>...</td>\n",
       "      <td>...</td>\n",
       "      <td>...</td>\n",
       "    </tr>\n",
       "    <tr>\n",
       "      <th>9995</th>\n",
       "      <td>Positive</td>\n",
       "      <td>I first saw this movie back in the early'90's ...</td>\n",
       "      <td>{'neg': 0.048, 'neu': 0.855, 'pos': 0.097, 'co...</td>\n",
       "    </tr>\n",
       "    <tr>\n",
       "      <th>9996</th>\n",
       "      <td>Positive</td>\n",
       "      <td>NYC, 2022: The Greenhouse effect, vanished oce...</td>\n",
       "      <td>{'neg': 0.061, 'neu': 0.851, 'pos': 0.089, 'co...</td>\n",
       "    </tr>\n",
       "    <tr>\n",
       "      <th>9997</th>\n",
       "      <td>Positive</td>\n",
       "      <td>Those individuals familiar with Asian cinema, ...</td>\n",
       "      <td>{'neg': 0.124, 'neu': 0.796, 'pos': 0.08, 'com...</td>\n",
       "    </tr>\n",
       "    <tr>\n",
       "      <th>9998</th>\n",
       "      <td>Positive</td>\n",
       "      <td>The kids, aged 7 to 14, got such a huge kick o...</td>\n",
       "      <td>{'neg': 0.069, 'neu': 0.693, 'pos': 0.238, 'co...</td>\n",
       "    </tr>\n",
       "    <tr>\n",
       "      <th>9999</th>\n",
       "      <td>Positive</td>\n",
       "      <td>I so love this movie! The animation is great (...</td>\n",
       "      <td>{'neg': 0.0, 'neu': 0.663, 'pos': 0.337, 'comp...</td>\n",
       "    </tr>\n",
       "  </tbody>\n",
       "</table>\n",
       "<p>10000 rows × 3 columns</p>\n",
       "</div>"
      ],
      "text/plain": [
       "     sentiment                                             review  \\\n",
       "0     Negative  I had no background knowledge of this movie be...   \n",
       "1     Negative  I am a huge Jane Austen fan and I ordered the ...   \n",
       "2     Negative  Nothing to say but Wow! Has anyone actually ha...   \n",
       "3     Negative  i like Jane Austin novels. I love Pride and Pr...   \n",
       "4     Negative  In this day and age of incredible special movi...   \n",
       "...        ...                                                ...   \n",
       "9995  Positive  I first saw this movie back in the early'90's ...   \n",
       "9996  Positive  NYC, 2022: The Greenhouse effect, vanished oce...   \n",
       "9997  Positive  Those individuals familiar with Asian cinema, ...   \n",
       "9998  Positive  The kids, aged 7 to 14, got such a huge kick o...   \n",
       "9999  Positive  I so love this movie! The animation is great (...   \n",
       "\n",
       "                                    sia.polarity_scores  \n",
       "0     {'neg': 0.208, 'neu': 0.665, 'pos': 0.127, 'co...  \n",
       "1     {'neg': 0.028, 'neu': 0.889, 'pos': 0.083, 'co...  \n",
       "2     {'neg': 0.131, 'neu': 0.735, 'pos': 0.134, 'co...  \n",
       "3     {'neg': 0.113, 'neu': 0.678, 'pos': 0.209, 'co...  \n",
       "4     {'neg': 0.081, 'neu': 0.726, 'pos': 0.193, 'co...  \n",
       "...                                                 ...  \n",
       "9995  {'neg': 0.048, 'neu': 0.855, 'pos': 0.097, 'co...  \n",
       "9996  {'neg': 0.061, 'neu': 0.851, 'pos': 0.089, 'co...  \n",
       "9997  {'neg': 0.124, 'neu': 0.796, 'pos': 0.08, 'com...  \n",
       "9998  {'neg': 0.069, 'neu': 0.693, 'pos': 0.238, 'co...  \n",
       "9999  {'neg': 0.0, 'neu': 0.663, 'pos': 0.337, 'comp...  \n",
       "\n",
       "[10000 rows x 3 columns]"
      ]
     },
     "execution_count": 33,
     "metadata": {},
     "output_type": "execute_result"
    }
   ],
   "source": [
    "df"
   ]
  },
  {
   "cell_type": "markdown",
   "id": "9a5ce05f",
   "metadata": {},
   "source": [
    "**Since we can't see the compound score lets see the compound score**"
   ]
  },
  {
   "cell_type": "code",
   "execution_count": 34,
   "id": "04f8f215",
   "metadata": {},
   "outputs": [],
   "source": [
    "df['compound']=df['sia.polarity_scores'].apply(lambda x:x['compound'])"
   ]
  },
  {
   "cell_type": "code",
   "execution_count": 41,
   "id": "0a352947",
   "metadata": {
    "scrolled": false
   },
   "outputs": [
    {
     "data": {
      "text/html": [
       "<div>\n",
       "<style scoped>\n",
       "    .dataframe tbody tr th:only-of-type {\n",
       "        vertical-align: middle;\n",
       "    }\n",
       "\n",
       "    .dataframe tbody tr th {\n",
       "        vertical-align: top;\n",
       "    }\n",
       "\n",
       "    .dataframe thead th {\n",
       "        text-align: right;\n",
       "    }\n",
       "</style>\n",
       "<table border=\"1\" class=\"dataframe\">\n",
       "  <thead>\n",
       "    <tr style=\"text-align: right;\">\n",
       "      <th></th>\n",
       "      <th>sentiment</th>\n",
       "      <th>review</th>\n",
       "      <th>sia.polarity_scores</th>\n",
       "      <th>compound</th>\n",
       "    </tr>\n",
       "  </thead>\n",
       "  <tbody>\n",
       "    <tr>\n",
       "      <th>9995</th>\n",
       "      <td>Positive</td>\n",
       "      <td>I first saw this movie back in the early'90's ...</td>\n",
       "      <td>{'neg': 0.048, 'neu': 0.855, 'pos': 0.097, 'co...</td>\n",
       "      <td>0.7985</td>\n",
       "    </tr>\n",
       "    <tr>\n",
       "      <th>9996</th>\n",
       "      <td>Positive</td>\n",
       "      <td>NYC, 2022: The Greenhouse effect, vanished oce...</td>\n",
       "      <td>{'neg': 0.061, 'neu': 0.851, 'pos': 0.089, 'co...</td>\n",
       "      <td>0.3759</td>\n",
       "    </tr>\n",
       "    <tr>\n",
       "      <th>9997</th>\n",
       "      <td>Positive</td>\n",
       "      <td>Those individuals familiar with Asian cinema, ...</td>\n",
       "      <td>{'neg': 0.124, 'neu': 0.796, 'pos': 0.08, 'com...</td>\n",
       "      <td>-0.9788</td>\n",
       "    </tr>\n",
       "    <tr>\n",
       "      <th>9998</th>\n",
       "      <td>Positive</td>\n",
       "      <td>The kids, aged 7 to 14, got such a huge kick o...</td>\n",
       "      <td>{'neg': 0.069, 'neu': 0.693, 'pos': 0.238, 'co...</td>\n",
       "      <td>0.9792</td>\n",
       "    </tr>\n",
       "    <tr>\n",
       "      <th>9999</th>\n",
       "      <td>Positive</td>\n",
       "      <td>I so love this movie! The animation is great (...</td>\n",
       "      <td>{'neg': 0.0, 'neu': 0.663, 'pos': 0.337, 'comp...</td>\n",
       "      <td>0.9900</td>\n",
       "    </tr>\n",
       "  </tbody>\n",
       "</table>\n",
       "</div>"
      ],
      "text/plain": [
       "     sentiment                                             review  \\\n",
       "9995  Positive  I first saw this movie back in the early'90's ...   \n",
       "9996  Positive  NYC, 2022: The Greenhouse effect, vanished oce...   \n",
       "9997  Positive  Those individuals familiar with Asian cinema, ...   \n",
       "9998  Positive  The kids, aged 7 to 14, got such a huge kick o...   \n",
       "9999  Positive  I so love this movie! The animation is great (...   \n",
       "\n",
       "                                    sia.polarity_scores  compound  \n",
       "9995  {'neg': 0.048, 'neu': 0.855, 'pos': 0.097, 'co...    0.7985  \n",
       "9996  {'neg': 0.061, 'neu': 0.851, 'pos': 0.089, 'co...    0.3759  \n",
       "9997  {'neg': 0.124, 'neu': 0.796, 'pos': 0.08, 'com...   -0.9788  \n",
       "9998  {'neg': 0.069, 'neu': 0.693, 'pos': 0.238, 'co...    0.9792  \n",
       "9999  {'neg': 0.0, 'neu': 0.663, 'pos': 0.337, 'comp...    0.9900  "
      ]
     },
     "execution_count": 41,
     "metadata": {},
     "output_type": "execute_result"
    }
   ],
   "source": [
    "df.tail()"
   ]
  },
  {
   "cell_type": "code",
   "execution_count": null,
   "id": "1b0aff1e",
   "metadata": {},
   "outputs": [],
   "source": []
  },
  {
   "cell_type": "code",
   "execution_count": 42,
   "id": "6a3a560f",
   "metadata": {},
   "outputs": [],
   "source": [
    "df['compound_score']=df['compound'].apply(lambda x:'Positive' if x>0 else 'Negative')"
   ]
  },
  {
   "cell_type": "code",
   "execution_count": 43,
   "id": "b27add94",
   "metadata": {},
   "outputs": [
    {
     "data": {
      "text/html": [
       "<div>\n",
       "<style scoped>\n",
       "    .dataframe tbody tr th:only-of-type {\n",
       "        vertical-align: middle;\n",
       "    }\n",
       "\n",
       "    .dataframe tbody tr th {\n",
       "        vertical-align: top;\n",
       "    }\n",
       "\n",
       "    .dataframe thead th {\n",
       "        text-align: right;\n",
       "    }\n",
       "</style>\n",
       "<table border=\"1\" class=\"dataframe\">\n",
       "  <thead>\n",
       "    <tr style=\"text-align: right;\">\n",
       "      <th></th>\n",
       "      <th>sentiment</th>\n",
       "      <th>review</th>\n",
       "      <th>sia.polarity_scores</th>\n",
       "      <th>compound</th>\n",
       "      <th>compound_score</th>\n",
       "    </tr>\n",
       "  </thead>\n",
       "  <tbody>\n",
       "    <tr>\n",
       "      <th>9995</th>\n",
       "      <td>Positive</td>\n",
       "      <td>I first saw this movie back in the early'90's ...</td>\n",
       "      <td>{'neg': 0.048, 'neu': 0.855, 'pos': 0.097, 'co...</td>\n",
       "      <td>0.7985</td>\n",
       "      <td>Positive</td>\n",
       "    </tr>\n",
       "    <tr>\n",
       "      <th>9996</th>\n",
       "      <td>Positive</td>\n",
       "      <td>NYC, 2022: The Greenhouse effect, vanished oce...</td>\n",
       "      <td>{'neg': 0.061, 'neu': 0.851, 'pos': 0.089, 'co...</td>\n",
       "      <td>0.3759</td>\n",
       "      <td>Positive</td>\n",
       "    </tr>\n",
       "    <tr>\n",
       "      <th>9997</th>\n",
       "      <td>Positive</td>\n",
       "      <td>Those individuals familiar with Asian cinema, ...</td>\n",
       "      <td>{'neg': 0.124, 'neu': 0.796, 'pos': 0.08, 'com...</td>\n",
       "      <td>-0.9788</td>\n",
       "      <td>Negative</td>\n",
       "    </tr>\n",
       "    <tr>\n",
       "      <th>9998</th>\n",
       "      <td>Positive</td>\n",
       "      <td>The kids, aged 7 to 14, got such a huge kick o...</td>\n",
       "      <td>{'neg': 0.069, 'neu': 0.693, 'pos': 0.238, 'co...</td>\n",
       "      <td>0.9792</td>\n",
       "      <td>Positive</td>\n",
       "    </tr>\n",
       "    <tr>\n",
       "      <th>9999</th>\n",
       "      <td>Positive</td>\n",
       "      <td>I so love this movie! The animation is great (...</td>\n",
       "      <td>{'neg': 0.0, 'neu': 0.663, 'pos': 0.337, 'comp...</td>\n",
       "      <td>0.9900</td>\n",
       "      <td>Positive</td>\n",
       "    </tr>\n",
       "  </tbody>\n",
       "</table>\n",
       "</div>"
      ],
      "text/plain": [
       "     sentiment                                             review  \\\n",
       "9995  Positive  I first saw this movie back in the early'90's ...   \n",
       "9996  Positive  NYC, 2022: The Greenhouse effect, vanished oce...   \n",
       "9997  Positive  Those individuals familiar with Asian cinema, ...   \n",
       "9998  Positive  The kids, aged 7 to 14, got such a huge kick o...   \n",
       "9999  Positive  I so love this movie! The animation is great (...   \n",
       "\n",
       "                                    sia.polarity_scores  compound  \\\n",
       "9995  {'neg': 0.048, 'neu': 0.855, 'pos': 0.097, 'co...    0.7985   \n",
       "9996  {'neg': 0.061, 'neu': 0.851, 'pos': 0.089, 'co...    0.3759   \n",
       "9997  {'neg': 0.124, 'neu': 0.796, 'pos': 0.08, 'com...   -0.9788   \n",
       "9998  {'neg': 0.069, 'neu': 0.693, 'pos': 0.238, 'co...    0.9792   \n",
       "9999  {'neg': 0.0, 'neu': 0.663, 'pos': 0.337, 'comp...    0.9900   \n",
       "\n",
       "     compound_score  \n",
       "9995       Positive  \n",
       "9996       Positive  \n",
       "9997       Negative  \n",
       "9998       Positive  \n",
       "9999       Positive  "
      ]
     },
     "execution_count": 43,
     "metadata": {},
     "output_type": "execute_result"
    }
   ],
   "source": [
    "df.tail()"
   ]
  },
  {
   "cell_type": "markdown",
   "id": "ff8528c2",
   "metadata": {},
   "source": [
    "So it looks like instead of index 9997 we got all the others as right"
   ]
  },
  {
   "cell_type": "markdown",
   "id": "260c555c",
   "metadata": {},
   "source": [
    "Lets check for all the other indexes and have a overall report"
   ]
  },
  {
   "cell_type": "code",
   "execution_count": null,
   "id": "55ac9ee3",
   "metadata": {},
   "outputs": [],
   "source": []
  },
  {
   "cell_type": "code",
   "execution_count": 44,
   "id": "903e593a",
   "metadata": {},
   "outputs": [],
   "source": [
    "from sklearn.metrics import accuracy_score,classification_report,confusion_matrix"
   ]
  },
  {
   "cell_type": "code",
   "execution_count": 46,
   "id": "f540cdd6",
   "metadata": {},
   "outputs": [
    {
     "data": {
      "text/plain": [
       "0.6935"
      ]
     },
     "execution_count": 46,
     "metadata": {},
     "output_type": "execute_result"
    }
   ],
   "source": [
    "accuracy_score(df['sentiment'],df['compound_score'])"
   ]
  },
  {
   "cell_type": "markdown",
   "id": "2f7c0ffc",
   "metadata": {},
   "source": [
    "So the accauracy score is 0.69"
   ]
  },
  {
   "cell_type": "code",
   "execution_count": null,
   "id": "a194da92",
   "metadata": {},
   "outputs": [],
   "source": []
  },
  {
   "cell_type": "markdown",
   "id": "e4aff9cc",
   "metadata": {},
   "source": [
    "**<font color='blue'>If we would have chosen normally we would have probably got an accuracy around 0.5 or maybe more less.<br><br>\n",
    "So we are definitely doing better.</font>**\n"
   ]
  },
  {
   "cell_type": "code",
   "execution_count": 48,
   "id": "222b64f2",
   "metadata": {},
   "outputs": [
    {
     "name": "stdout",
     "output_type": "stream",
     "text": [
      "              precision    recall  f1-score   support\n",
      "\n",
      "    Negative       0.79      0.54      0.64      5081\n",
      "    Positive       0.64      0.85      0.73      4919\n",
      "\n",
      "    accuracy                           0.69     10000\n",
      "   macro avg       0.72      0.70      0.69     10000\n",
      "weighted avg       0.72      0.69      0.69     10000\n",
      "\n"
     ]
    }
   ],
   "source": [
    "print(classification_report(df['sentiment'],df['compound_score']))"
   ]
  },
  {
   "cell_type": "code",
   "execution_count": 49,
   "id": "a10a4c07",
   "metadata": {},
   "outputs": [
    {
     "name": "stdout",
     "output_type": "stream",
     "text": [
      "[[2740 2341]\n",
      " [ 724 4195]]\n"
     ]
    }
   ],
   "source": [
    "print(confusion_matrix(df['sentiment'],df['compound_score']))"
   ]
  },
  {
   "cell_type": "code",
   "execution_count": null,
   "id": "00d2f867",
   "metadata": {},
   "outputs": [],
   "source": []
  }
 ],
 "metadata": {
  "kernelspec": {
   "display_name": "Python 3",
   "language": "python",
   "name": "python3"
  },
  "language_info": {
   "codemirror_mode": {
    "name": "ipython",
    "version": 3
   },
   "file_extension": ".py",
   "mimetype": "text/x-python",
   "name": "python",
   "nbconvert_exporter": "python",
   "pygments_lexer": "ipython3",
   "version": "3.8.8"
  }
 },
 "nbformat": 4,
 "nbformat_minor": 5
}
