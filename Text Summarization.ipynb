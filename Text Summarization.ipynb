{
 "cells": [
  {
   "cell_type": "markdown",
   "id": "e6575890",
   "metadata": {},
   "source": [
    "# <div class='alert alert-warning'>Text Summarization</div>"
   ]
  },
  {
   "cell_type": "markdown",
   "id": "a5b8e536",
   "metadata": {},
   "source": [
    "**Text summarization is a subdomain of Natural Language Processing (NLP) that deals with extracting summaries from huge chunks of texts.**"
   ]
  },
  {
   "cell_type": "code",
   "execution_count": null,
   "id": "a0afdda0",
   "metadata": {},
   "outputs": [],
   "source": []
  },
  {
   "cell_type": "code",
   "execution_count": 1,
   "id": "09fdbe09",
   "metadata": {},
   "outputs": [],
   "source": [
    "text=\"\"\"\n",
    "This data science with Python tutorial will help you learn the basics of Python along with different steps of data science such as data preprocessing, data visualization, statistics, making machine learning models, and much more with the help of detailed and well-explained examples. This tutorial will help both beginners as well as some trained professionals in mastering data science with Python.\n",
    "Machine Learning is an essential skill for any aspiring data analyst and data scientist, and also for those who wish to transform a massive amount of raw data into trends and predictions. Learn this skill today with Machine Learning Foundation – Self Paced Course , designed and curated by industry experts having years of expertise in ML and industry-based projects.\n",
    "Machine Learning is an essential skill for any aspiring data analyst and data scientist, and also for those who wish to transform a massive amount of raw data into trends and predictions. Learn this skill today with Machine Learning Foundation – Self Paced Course , designed and curated by industry experts having years of expertise in ML and industry-based projects.\n",
    "The most crucial step when starting with ML is to have data of good quality and accuracy. Data can be collected from any authenticated source like data.gov.in, Kaggle or UCI dataset repository. For example, while preparing for a competitive exam, students study from the best study material that they can access so that they learn the best to obtain the best results. In the same way, high-quality and accurate data will make the learning process of the model easier and better and at the time of testing, the model would yield state-of-the-art results. \n",
    "A huge amount of capital, time and resources are consumed in collecting data. Organizations or researchers have to decide what kind of data they need to execute their tasks or research. \n",
    "Example: Working on the Facial Expression Recognizer, needs numerous images having a variety of human expressions. Good data ensures that the results of the model are valid and can be trusted upon. \n",
    "The collected data can be in a raw form which can’t be directly fed to the machine. So, this is a process of collecting datasets from different sources, analyzing these datasets and then constructing a new dataset for further processing and exploration. This preparation can be performed either manually or from the automatic approach. Data can also be prepared in numeric forms also which would fasten the model’s learning. \n",
    "Example: An image can be converted to a matrix of N X N dimensions, the value of each cell will indicate the image pixel.\n",
    "\"\"\""
   ]
  },
  {
   "cell_type": "code",
   "execution_count": 2,
   "id": "fd8583ea",
   "metadata": {},
   "outputs": [
    {
     "data": {
      "text/plain": [
       "2626"
      ]
     },
     "execution_count": 2,
     "metadata": {},
     "output_type": "execute_result"
    }
   ],
   "source": [
    "len(text)"
   ]
  },
  {
   "cell_type": "markdown",
   "id": "6ce3262f",
   "metadata": {},
   "source": [
    "**This is a normal Data Science related texts from GFG website**"
   ]
  },
  {
   "cell_type": "code",
   "execution_count": null,
   "id": "3aaf28f0",
   "metadata": {},
   "outputs": [],
   "source": []
  },
  {
   "cell_type": "code",
   "execution_count": 3,
   "id": "7a06a277",
   "metadata": {},
   "outputs": [],
   "source": [
    "import spacy\n",
    "from spacy.lang.en.stop_words import STOP_WORDS\n",
    "from string import punctuation"
   ]
  },
  {
   "cell_type": "code",
   "execution_count": 4,
   "id": "8eb2efbf",
   "metadata": {},
   "outputs": [],
   "source": [
    "s=list(STOP_WORDS)"
   ]
  },
  {
   "cell_type": "code",
   "execution_count": 5,
   "id": "d5167f85",
   "metadata": {},
   "outputs": [
    {
     "name": "stdout",
     "output_type": "stream",
     "text": [
      "['formerly', 'seems', 'if', 'hence', 'other', 'has', 'down', 'thus', 'various', 'thereby', 'whom', 'its', 'though', \"'re\", 'she', 'unless', 'were', 'also', 'both', 'beforehand', 'from', 'whoever', 'make', 'latterly', 'upon', 'nor', 'what', 'any', 'herself', 'yet', 'already', 'except', '‘ll', 'must', 'keep', 'too', 'meanwhile', 'there', 'not', 'serious', 'to', 'seem', 'him', 'third', 'although', 'how', 'where', 'between', 're', 'full', 'using', 'the', 'everything', 'three', 'no', 'moreover', 'somehow', 'n’t', 'against', 'himself', 'while', 'everywhere', 'became', 'anywhere', 'becoming', 'those', 'less', 'least', 'toward', 'many', 'during', 'however', 'seeming', 'of', 'yours', 'me', 'latter', 'wherein', 'per', 'very', 'just', 'we', 'either', 'below', 'a', 'among', 'afterwards', 'name', 'bottom', 'itself', 'when', 'rather', 'at', 'here', 'go', '’re', 'hundred', 'nothing', 'besides', '‘d', 'namely', 'else', 'whereupon', '’ve', \"'d\", 'who', '’d', 'take', 'most', 'twelve', 'with', 'since', 'several', 'our', 'each', 'therein', \"'ll\", 'nowhere', 'perhaps', 'why', 'are', 'around', 'really', 'back', 'well', 'but', 'someone', 'mostly', 'again', 'whereby', 'alone', 'anything', 'whole', 'you', 'move', 'which', 'neither', 'was', 'nine', 'up', 'could', 'even', 'on', 'all', 'five', 'yourself', 'few', 'beside', 'elsewhere', '‘m', 'will', 'until', 'side', 'six', 'thence', 'i', 'did', 'top', 'ca', 'via', 'used', 'quite', 'ever', 'front', 'last', 'beyond', 'hereupon', 'fifteen', 'us', 'put', 'four', 'once', 'doing', 'whither', '‘ve', 'because', 'others', 'them', 'call', 'only', \"'ve\", 'amongst', 'anyone', 'these', 'am', 'hereby', 'fifty', 'as', 'myself', 'hers', '‘re', 'than', 'somewhere', 'mine', 'wherever', 'by', 'sometimes', 'throughout', 'might', '’ll', 'thereafter', \"'s\", 'yourselves', \"n't\", 'towards', 'still', 'their', 'whose', 'whence', 'in', 'or', 'give', 'without', 'hereafter', 'please', 'together', 'nevertheless', 'that', 'this', 'twenty', 'whatever', 'her', 'eleven', 'is', 'empty', 'now', 'may', 'an', 'more', 'my', 'anyhow', 'his', 'some', 'cannot', 'after', 'would', 'thereupon', 'and', 'own', 'eight', 'everyone', 'he', 'say', 'within', 'been', 'get', \"'m\", 'along', 'into', 'be', 'much', 'every', 'never', 'about', 'another', 'through', 'such', 'whether', 'one', 'themselves', 'see', 'done', 'your', 'had', 'always', 'onto', 'ourselves', 'off', 'former', 'being', 'herein', 'whereas', '‘s', 'noone', 'does', 'for', '’m', 'sixty', 'due', 'they', 'so', 'above', 'out', 'almost', 'first', 'anyway', '’s', 'across', 'seemed', 'over', 'therefore', 'should', 'something', 'further', 'whenever', 'thru', 'same', 'then', 'sometime', 'can', 'amount', 'none', 'n‘t', 'regarding', 'behind', 'ours', 'forty', 'show', 'nobody', 'ten', 'made', 'next', 'have', 'it', 'under', 'becomes', 'part', 'do', 'whereafter', 'otherwise', 'often', 'before', 'two', 'enough', 'indeed', 'become']\n"
     ]
    }
   ],
   "source": [
    "print(s)"
   ]
  },
  {
   "cell_type": "markdown",
   "id": "66902c0e",
   "metadata": {},
   "source": [
    "**These are all the stop words present**"
   ]
  },
  {
   "cell_type": "code",
   "execution_count": 6,
   "id": "23bcb674",
   "metadata": {},
   "outputs": [],
   "source": [
    "nlp=spacy.load('en_core_web_sm')"
   ]
  },
  {
   "cell_type": "code",
   "execution_count": 7,
   "id": "20ffb415",
   "metadata": {},
   "outputs": [],
   "source": [
    "d=nlp(text)"
   ]
  },
  {
   "cell_type": "code",
   "execution_count": 8,
   "id": "fe2d275c",
   "metadata": {},
   "outputs": [],
   "source": [
    "tokens=[token.text for token in d ]"
   ]
  },
  {
   "cell_type": "code",
   "execution_count": 10,
   "id": "deab2627",
   "metadata": {},
   "outputs": [
    {
     "name": "stdout",
     "output_type": "stream",
     "text": [
      "['\\n', 'This', 'data', 'science', 'with', 'Python', 'tutorial', 'will', 'help', 'you', 'learn', 'the', 'basics', 'of', 'Python', 'along', 'with', 'different', 'steps', 'of', 'data', 'science', 'such', 'as', 'data', 'preprocessing', ',', 'data', 'visualization', ',', 'statistics', ',', 'making', 'machine', 'learning', 'models', ',', 'and', 'much', 'more', 'with', 'the', 'help', 'of', 'detailed', 'and', 'well', '-', 'explained', 'examples', '.', 'This', 'tutorial', 'will', 'help', 'both', 'beginners', 'as', 'well', 'as', 'some', 'trained', 'professionals', 'in', 'mastering', 'data', 'science', 'with', 'Python', '.', '\\n', 'Machine', 'Learning', 'is', 'an', 'essential', 'skill', 'for', 'any', 'aspiring', 'data', 'analyst', 'and', 'data', 'scientist', ',', 'and', 'also', 'for', 'those', 'who', 'wish', 'to', 'transform', 'a', 'massive', 'amount', 'of', 'raw', 'data', 'into', 'trends', 'and', 'predictions', '.', 'Learn', 'this', 'skill', 'today', 'with', 'Machine', 'Learning', 'Foundation', '–', 'Self', 'Paced', 'Course', ',', 'designed', 'and', 'curated', 'by', 'industry', 'experts', 'having', 'years', 'of', 'expertise', 'in', 'ML', 'and', 'industry', '-', 'based', 'projects', '.', '\\n', 'Machine', 'Learning', 'is', 'an', 'essential', 'skill', 'for', 'any', 'aspiring', 'data', 'analyst', 'and', 'data', 'scientist', ',', 'and', 'also', 'for', 'those', 'who', 'wish', 'to', 'transform', 'a', 'massive', 'amount', 'of', 'raw', 'data', 'into', 'trends', 'and', 'predictions', '.', 'Learn', 'this', 'skill', 'today', 'with', 'Machine', 'Learning', 'Foundation', '–', 'Self', 'Paced', 'Course', ',', 'designed', 'and', 'curated', 'by', 'industry', 'experts', 'having', 'years', 'of', 'expertise', 'in', 'ML', 'and', 'industry', '-', 'based', 'projects', '.', '\\n', 'The', 'most', 'crucial', 'step', 'when', 'starting', 'with', 'ML', 'is', 'to', 'have', 'data', 'of', 'good', 'quality', 'and', 'accuracy', '.', 'Data', 'can', 'be', 'collected', 'from', 'any', 'authenticated', 'source', 'like', 'data.gov.in', ',', 'Kaggle', 'or', 'UCI', 'dataset', 'repository', '.', 'For', 'example', ',', 'while', 'preparing', 'for', 'a', 'competitive', 'exam', ',', 'students', 'study', 'from', 'the', 'best', 'study', 'material', 'that', 'they', 'can', 'access', 'so', 'that', 'they', 'learn', 'the', 'best', 'to', 'obtain', 'the', 'best', 'results', '.', 'In', 'the', 'same', 'way', ',', 'high', '-', 'quality', 'and', 'accurate', 'data', 'will', 'make', 'the', 'learning', 'process', 'of', 'the', 'model', 'easier', 'and', 'better', 'and', 'at', 'the', 'time', 'of', 'testing', ',', 'the', 'model', 'would', 'yield', 'state', '-', 'of', '-', 'the', '-', 'art', 'results', '.', '\\n', 'A', 'huge', 'amount', 'of', 'capital', ',', 'time', 'and', 'resources', 'are', 'consumed', 'in', 'collecting', 'data', '.', 'Organizations', 'or', 'researchers', 'have', 'to', 'decide', 'what', 'kind', 'of', 'data', 'they', 'need', 'to', 'execute', 'their', 'tasks', 'or', 'research', '.', '\\n', 'Example', ':', 'Working', 'on', 'the', 'Facial', 'Expression', 'Recognizer', ',', 'needs', 'numerous', 'images', 'having', 'a', 'variety', 'of', 'human', 'expressions', '.', 'Good', 'data', 'ensures', 'that', 'the', 'results', 'of', 'the', 'model', 'are', 'valid', 'and', 'can', 'be', 'trusted', 'upon', '.', '\\n', 'The', 'collected', 'data', 'can', 'be', 'in', 'a', 'raw', 'form', 'which', 'ca', 'n’t', 'be', 'directly', 'fed', 'to', 'the', 'machine', '.', 'So', ',', 'this', 'is', 'a', 'process', 'of', 'collecting', 'datasets', 'from', 'different', 'sources', ',', 'analyzing', 'these', 'datasets', 'and', 'then', 'constructing', 'a', 'new', 'dataset', 'for', 'further', 'processing', 'and', 'exploration', '.', 'This', 'preparation', 'can', 'be', 'performed', 'either', 'manually', 'or', 'from', 'the', 'automatic', 'approach', '.', 'Data', 'can', 'also', 'be', 'prepared', 'in', 'numeric', 'forms', 'also', 'which', 'would', 'fasten', 'the', 'model', '’s', 'learning', '.', '\\n', 'Example', ':', 'An', 'image', 'can', 'be', 'converted', 'to', 'a', 'matrix', 'of', 'N', 'X', 'N', 'dimensions', ',', 'the', 'value', 'of', 'each', 'cell', 'will', 'indicate', 'the', 'image', 'pixel', '.', '\\n']\n"
     ]
    }
   ],
   "source": [
    "print(tokens)"
   ]
  },
  {
   "cell_type": "code",
   "execution_count": 11,
   "id": "4e4733d1",
   "metadata": {},
   "outputs": [
    {
     "data": {
      "text/plain": [
       "492"
      ]
     },
     "execution_count": 11,
     "metadata": {},
     "output_type": "execute_result"
    }
   ],
   "source": [
    "len(tokens)"
   ]
  },
  {
   "cell_type": "code",
   "execution_count": null,
   "id": "e85fe557",
   "metadata": {},
   "outputs": [],
   "source": []
  },
  {
   "cell_type": "markdown",
   "id": "21763495",
   "metadata": {},
   "source": [
    "### <font color='green'>Lets remove the punctuations and stop words</font>"
   ]
  },
  {
   "cell_type": "code",
   "execution_count": 17,
   "id": "038ad8a2",
   "metadata": {},
   "outputs": [
    {
     "data": {
      "text/plain": [
       "'!\"#$%&\\'()*+,-./:;<=>?@[\\\\]^_`{|}~'"
      ]
     },
     "execution_count": 17,
     "metadata": {},
     "output_type": "execute_result"
    }
   ],
   "source": [
    "punctuation"
   ]
  },
  {
   "cell_type": "code",
   "execution_count": 18,
   "id": "140f68d7",
   "metadata": {},
   "outputs": [],
   "source": [
    "punctuation+='\\n'"
   ]
  },
  {
   "cell_type": "code",
   "execution_count": 19,
   "id": "01d591a1",
   "metadata": {},
   "outputs": [
    {
     "data": {
      "text/plain": [
       "'!\"#$%&\\'()*+,-./:;<=>?@[\\\\]^_`{|}~\\n'"
      ]
     },
     "execution_count": 19,
     "metadata": {},
     "output_type": "execute_result"
    }
   ],
   "source": [
    "punctuation"
   ]
  },
  {
   "cell_type": "code",
   "execution_count": null,
   "id": "e87bea6d",
   "metadata": {},
   "outputs": [],
   "source": []
  },
  {
   "cell_type": "code",
   "execution_count": 20,
   "id": "d7615b50",
   "metadata": {},
   "outputs": [],
   "source": [
    "#s variable contained the stop words"
   ]
  },
  {
   "cell_type": "markdown",
   "id": "16223c6d",
   "metadata": {},
   "source": [
    "**Lets calculate the word frequencies after **"
   ]
  },
  {
   "cell_type": "code",
   "execution_count": 21,
   "id": "c1e5b0b1",
   "metadata": {},
   "outputs": [],
   "source": [
    "freq={}\n",
    "for word in d:\n",
    "    if word.text.lower() not in s: #s contained the stop words \n",
    "        if word.text.lower() not in punctuation:\n",
    "            if word.text not in freq.keys():\n",
    "                freq[word.text]=1\n",
    "            else:\n",
    "                 freq[word.text]+=1"
   ]
  },
  {
   "cell_type": "code",
   "execution_count": 22,
   "id": "c1889419",
   "metadata": {},
   "outputs": [
    {
     "data": {
      "text/plain": [
       "{'data': 17,\n",
       " 'science': 3,\n",
       " 'Python': 3,\n",
       " 'tutorial': 2,\n",
       " 'help': 3,\n",
       " 'learn': 2,\n",
       " 'basics': 1,\n",
       " 'different': 2,\n",
       " 'steps': 1,\n",
       " 'preprocessing': 1,\n",
       " 'visualization': 1,\n",
       " 'statistics': 1,\n",
       " 'making': 1,\n",
       " 'machine': 2,\n",
       " 'learning': 3,\n",
       " 'models': 1,\n",
       " 'detailed': 1,\n",
       " 'explained': 1,\n",
       " 'examples': 1,\n",
       " 'beginners': 1,\n",
       " 'trained': 1,\n",
       " 'professionals': 1,\n",
       " 'mastering': 1,\n",
       " 'Machine': 4,\n",
       " 'Learning': 4,\n",
       " 'essential': 2,\n",
       " 'skill': 4,\n",
       " 'aspiring': 2,\n",
       " 'analyst': 2,\n",
       " 'scientist': 2,\n",
       " 'wish': 2,\n",
       " 'transform': 2,\n",
       " 'massive': 2,\n",
       " 'raw': 3,\n",
       " 'trends': 2,\n",
       " 'predictions': 2,\n",
       " 'Learn': 2,\n",
       " 'today': 2,\n",
       " 'Foundation': 2,\n",
       " '–': 2,\n",
       " 'Self': 2,\n",
       " 'Paced': 2,\n",
       " 'Course': 2,\n",
       " 'designed': 2,\n",
       " 'curated': 2,\n",
       " 'industry': 4,\n",
       " 'experts': 2,\n",
       " 'having': 3,\n",
       " 'years': 2,\n",
       " 'expertise': 2,\n",
       " 'ML': 3,\n",
       " 'based': 2,\n",
       " 'projects': 2,\n",
       " 'crucial': 1,\n",
       " 'step': 1,\n",
       " 'starting': 1,\n",
       " 'good': 1,\n",
       " 'quality': 2,\n",
       " 'accuracy': 1,\n",
       " 'Data': 2,\n",
       " 'collected': 2,\n",
       " 'authenticated': 1,\n",
       " 'source': 1,\n",
       " 'like': 1,\n",
       " 'data.gov.in': 1,\n",
       " 'Kaggle': 1,\n",
       " 'UCI': 1,\n",
       " 'dataset': 2,\n",
       " 'repository': 1,\n",
       " 'example': 1,\n",
       " 'preparing': 1,\n",
       " 'competitive': 1,\n",
       " 'exam': 1,\n",
       " 'students': 1,\n",
       " 'study': 2,\n",
       " 'best': 3,\n",
       " 'material': 1,\n",
       " 'access': 1,\n",
       " 'obtain': 1,\n",
       " 'results': 3,\n",
       " 'way': 1,\n",
       " 'high': 1,\n",
       " 'accurate': 1,\n",
       " 'process': 2,\n",
       " 'model': 4,\n",
       " 'easier': 1,\n",
       " 'better': 1,\n",
       " 'time': 2,\n",
       " 'testing': 1,\n",
       " 'yield': 1,\n",
       " 'state': 1,\n",
       " 'art': 1,\n",
       " 'huge': 1,\n",
       " 'capital': 1,\n",
       " 'resources': 1,\n",
       " 'consumed': 1,\n",
       " 'collecting': 2,\n",
       " 'Organizations': 1,\n",
       " 'researchers': 1,\n",
       " 'decide': 1,\n",
       " 'kind': 1,\n",
       " 'need': 1,\n",
       " 'execute': 1,\n",
       " 'tasks': 1,\n",
       " 'research': 1,\n",
       " 'Example': 2,\n",
       " 'Working': 1,\n",
       " 'Facial': 1,\n",
       " 'Expression': 1,\n",
       " 'Recognizer': 1,\n",
       " 'needs': 1,\n",
       " 'numerous': 1,\n",
       " 'images': 1,\n",
       " 'variety': 1,\n",
       " 'human': 1,\n",
       " 'expressions': 1,\n",
       " 'Good': 1,\n",
       " 'ensures': 1,\n",
       " 'valid': 1,\n",
       " 'trusted': 1,\n",
       " 'form': 1,\n",
       " 'directly': 1,\n",
       " 'fed': 1,\n",
       " 'datasets': 2,\n",
       " 'sources': 1,\n",
       " 'analyzing': 1,\n",
       " 'constructing': 1,\n",
       " 'new': 1,\n",
       " 'processing': 1,\n",
       " 'exploration': 1,\n",
       " 'preparation': 1,\n",
       " 'performed': 1,\n",
       " 'manually': 1,\n",
       " 'automatic': 1,\n",
       " 'approach': 1,\n",
       " 'prepared': 1,\n",
       " 'numeric': 1,\n",
       " 'forms': 1,\n",
       " 'fasten': 1,\n",
       " 'image': 2,\n",
       " 'converted': 1,\n",
       " 'matrix': 1,\n",
       " 'N': 2,\n",
       " 'X': 1,\n",
       " 'dimensions': 1,\n",
       " 'value': 1,\n",
       " 'cell': 1,\n",
       " 'indicate': 1,\n",
       " 'pixel': 1}"
      ]
     },
     "execution_count": 22,
     "metadata": {},
     "output_type": "execute_result"
    }
   ],
   "source": [
    "freq"
   ]
  },
  {
   "cell_type": "code",
   "execution_count": null,
   "id": "411c69aa",
   "metadata": {},
   "outputs": [],
   "source": []
  },
  {
   "cell_type": "markdown",
   "id": "a8c3531f",
   "metadata": {},
   "source": [
    "**Lets get the max frequency now**"
   ]
  },
  {
   "cell_type": "code",
   "execution_count": 23,
   "id": "f1f978b5",
   "metadata": {},
   "outputs": [],
   "source": [
    "max_freq=max(freq.values())"
   ]
  },
  {
   "cell_type": "code",
   "execution_count": 24,
   "id": "e221073f",
   "metadata": {},
   "outputs": [
    {
     "data": {
      "text/plain": [
       "17"
      ]
     },
     "execution_count": 24,
     "metadata": {},
     "output_type": "execute_result"
    }
   ],
   "source": [
    "max_freq"
   ]
  },
  {
   "cell_type": "code",
   "execution_count": null,
   "id": "ddf9373c",
   "metadata": {},
   "outputs": [],
   "source": []
  },
  {
   "cell_type": "markdown",
   "id": "0239d73e",
   "metadata": {},
   "source": [
    "**Now we are going to divide each of the number by 11 so that we can get a normalised frequency**"
   ]
  },
  {
   "cell_type": "code",
   "execution_count": 26,
   "id": "0e94ae09",
   "metadata": {},
   "outputs": [],
   "source": [
    "for word in freq.keys():\n",
    "    freq[word]=freq[word]/max_freq"
   ]
  },
  {
   "cell_type": "code",
   "execution_count": 28,
   "id": "5309b38b",
   "metadata": {},
   "outputs": [
    {
     "name": "stdout",
     "output_type": "stream",
     "text": [
      "{'data': 1.0, 'science': 0.17647058823529413, 'Python': 0.17647058823529413, 'tutorial': 0.11764705882352941, 'help': 0.17647058823529413, 'learn': 0.11764705882352941, 'basics': 0.058823529411764705, 'different': 0.11764705882352941, 'steps': 0.058823529411764705, 'preprocessing': 0.058823529411764705, 'visualization': 0.058823529411764705, 'statistics': 0.058823529411764705, 'making': 0.058823529411764705, 'machine': 0.11764705882352941, 'learning': 0.17647058823529413, 'models': 0.058823529411764705, 'detailed': 0.058823529411764705, 'explained': 0.058823529411764705, 'examples': 0.058823529411764705, 'beginners': 0.058823529411764705, 'trained': 0.058823529411764705, 'professionals': 0.058823529411764705, 'mastering': 0.058823529411764705, 'Machine': 0.23529411764705882, 'Learning': 0.23529411764705882, 'essential': 0.11764705882352941, 'skill': 0.23529411764705882, 'aspiring': 0.11764705882352941, 'analyst': 0.11764705882352941, 'scientist': 0.11764705882352941, 'wish': 0.11764705882352941, 'transform': 0.11764705882352941, 'massive': 0.11764705882352941, 'raw': 0.17647058823529413, 'trends': 0.11764705882352941, 'predictions': 0.11764705882352941, 'Learn': 0.11764705882352941, 'today': 0.11764705882352941, 'Foundation': 0.11764705882352941, '–': 0.11764705882352941, 'Self': 0.11764705882352941, 'Paced': 0.11764705882352941, 'Course': 0.11764705882352941, 'designed': 0.11764705882352941, 'curated': 0.11764705882352941, 'industry': 0.23529411764705882, 'experts': 0.11764705882352941, 'having': 0.17647058823529413, 'years': 0.11764705882352941, 'expertise': 0.11764705882352941, 'ML': 0.17647058823529413, 'based': 0.11764705882352941, 'projects': 0.11764705882352941, 'crucial': 0.058823529411764705, 'step': 0.058823529411764705, 'starting': 0.058823529411764705, 'good': 0.058823529411764705, 'quality': 0.11764705882352941, 'accuracy': 0.058823529411764705, 'Data': 0.11764705882352941, 'collected': 0.11764705882352941, 'authenticated': 0.058823529411764705, 'source': 0.058823529411764705, 'like': 0.058823529411764705, 'data.gov.in': 0.058823529411764705, 'Kaggle': 0.058823529411764705, 'UCI': 0.058823529411764705, 'dataset': 0.11764705882352941, 'repository': 0.058823529411764705, 'example': 0.058823529411764705, 'preparing': 0.058823529411764705, 'competitive': 0.058823529411764705, 'exam': 0.058823529411764705, 'students': 0.058823529411764705, 'study': 0.11764705882352941, 'best': 0.17647058823529413, 'material': 0.058823529411764705, 'access': 0.058823529411764705, 'obtain': 0.058823529411764705, 'results': 0.17647058823529413, 'way': 0.058823529411764705, 'high': 0.058823529411764705, 'accurate': 0.058823529411764705, 'process': 0.11764705882352941, 'model': 0.23529411764705882, 'easier': 0.058823529411764705, 'better': 0.058823529411764705, 'time': 0.11764705882352941, 'testing': 0.058823529411764705, 'yield': 0.058823529411764705, 'state': 0.058823529411764705, 'art': 0.058823529411764705, 'huge': 0.058823529411764705, 'capital': 0.058823529411764705, 'resources': 0.058823529411764705, 'consumed': 0.058823529411764705, 'collecting': 0.11764705882352941, 'Organizations': 0.058823529411764705, 'researchers': 0.058823529411764705, 'decide': 0.058823529411764705, 'kind': 0.058823529411764705, 'need': 0.058823529411764705, 'execute': 0.058823529411764705, 'tasks': 0.058823529411764705, 'research': 0.058823529411764705, 'Example': 0.11764705882352941, 'Working': 0.058823529411764705, 'Facial': 0.058823529411764705, 'Expression': 0.058823529411764705, 'Recognizer': 0.058823529411764705, 'needs': 0.058823529411764705, 'numerous': 0.058823529411764705, 'images': 0.058823529411764705, 'variety': 0.058823529411764705, 'human': 0.058823529411764705, 'expressions': 0.058823529411764705, 'Good': 0.058823529411764705, 'ensures': 0.058823529411764705, 'valid': 0.058823529411764705, 'trusted': 0.058823529411764705, 'form': 0.058823529411764705, 'directly': 0.058823529411764705, 'fed': 0.058823529411764705, 'datasets': 0.11764705882352941, 'sources': 0.058823529411764705, 'analyzing': 0.058823529411764705, 'constructing': 0.058823529411764705, 'new': 0.058823529411764705, 'processing': 0.058823529411764705, 'exploration': 0.058823529411764705, 'preparation': 0.058823529411764705, 'performed': 0.058823529411764705, 'manually': 0.058823529411764705, 'automatic': 0.058823529411764705, 'approach': 0.058823529411764705, 'prepared': 0.058823529411764705, 'numeric': 0.058823529411764705, 'forms': 0.058823529411764705, 'fasten': 0.058823529411764705, 'image': 0.11764705882352941, 'converted': 0.058823529411764705, 'matrix': 0.058823529411764705, 'N': 0.11764705882352941, 'X': 0.058823529411764705, 'dimensions': 0.058823529411764705, 'value': 0.058823529411764705, 'cell': 0.058823529411764705, 'indicate': 0.058823529411764705, 'pixel': 0.058823529411764705}\n"
     ]
    }
   ],
   "source": [
    "print(freq)"
   ]
  },
  {
   "cell_type": "code",
   "execution_count": null,
   "id": "9aa5f9ab",
   "metadata": {},
   "outputs": [],
   "source": []
  },
  {
   "cell_type": "markdown",
   "id": "b5a615a3",
   "metadata": {},
   "source": [
    "**Now this is a normalised frequencies of the words**"
   ]
  },
  {
   "cell_type": "code",
   "execution_count": null,
   "id": "2a2825be",
   "metadata": {},
   "outputs": [],
   "source": []
  },
  {
   "cell_type": "code",
   "execution_count": null,
   "id": "d349b479",
   "metadata": {},
   "outputs": [],
   "source": []
  },
  {
   "cell_type": "markdown",
   "id": "d9d1ad08",
   "metadata": {},
   "source": [
    "### <font color='green'> Lets do the sentence tokenization now</font>\n"
   ]
  },
  {
   "cell_type": "code",
   "execution_count": 29,
   "id": "5e3f605f",
   "metadata": {},
   "outputs": [],
   "source": [
    "sent = [s for s in d.sents]"
   ]
  },
  {
   "cell_type": "code",
   "execution_count": 31,
   "id": "4ea5cec0",
   "metadata": {},
   "outputs": [
    {
     "name": "stdout",
     "output_type": "stream",
     "text": [
      "[\n",
      "This data science with Python tutorial will help you learn the basics of Python along with different steps of data science such as data preprocessing, data visualization, statistics, making machine learning models, and much more with the help of detailed and well-explained examples., This tutorial will help both beginners as well as some trained professionals in mastering data science with Python.\n",
      ", Machine Learning is an essential skill for any aspiring data analyst and data scientist, and also for those who wish to transform a massive amount of raw data into trends and predictions., Learn this skill today with Machine Learning Foundation – Self Paced Course , designed and curated by industry experts having years of expertise in ML and industry-based projects.\n",
      ", Machine Learning is an essential skill for any aspiring data analyst and data scientist, and also for those who wish to transform a massive amount of raw data into trends and predictions., Learn this skill today with Machine Learning Foundation – Self Paced Course , designed and curated by industry experts having years of expertise in ML and industry-based projects.\n",
      ", The most crucial step when starting with ML is to have data of good quality and accuracy., Data can be collected from any authenticated source like data.gov.in, Kaggle or UCI dataset repository., For example, while preparing for a competitive exam, students study from the best study material that they can access so that they learn the best to obtain the best results., In the same way, high-quality and accurate data will make the learning process of the model easier and better and at the time of testing, the model would yield state-of-the-art results. \n",
      ", A huge amount of capital, time and resources are consumed in collecting data., Organizations or researchers have to decide what kind of data they need to execute their tasks or research. \n",
      ", Example: Working on the Facial Expression Recognizer, needs numerous images having a variety of human expressions., Good data ensures that the results of the model are valid and can be trusted upon. \n",
      ", The collected data can be in a raw form which can’t be directly fed to the machine., So, this is a process of collecting datasets from different sources, analyzing these datasets and then constructing a new dataset for further processing and exploration., This preparation can be performed either manually or from the automatic approach., Data can also be prepared in numeric forms also which would fasten the model’s learning. \n",
      ", Example:, An image can be converted to a matrix of N X N dimensions, the value of each cell will indicate the image pixel.\n",
      "]\n"
     ]
    }
   ],
   "source": [
    "print(sent)"
   ]
  },
  {
   "cell_type": "code",
   "execution_count": 32,
   "id": "dbf7e10a",
   "metadata": {},
   "outputs": [
    {
     "data": {
      "text/plain": [
       "20"
      ]
     },
     "execution_count": 32,
     "metadata": {},
     "output_type": "execute_result"
    }
   ],
   "source": [
    "len(sent)"
   ]
  },
  {
   "cell_type": "code",
   "execution_count": null,
   "id": "4994f8fc",
   "metadata": {},
   "outputs": [],
   "source": []
  },
  {
   "cell_type": "markdown",
   "id": "d5778ec8",
   "metadata": {},
   "source": [
    "**Lets find out the sentences scores now**"
   ]
  },
  {
   "cell_type": "code",
   "execution_count": 35,
   "id": "ca024698",
   "metadata": {},
   "outputs": [],
   "source": [
    "sent_scores={}\n",
    "for s in sent:\n",
    "     for word in s:\n",
    "            if word.text.lower() in freq.keys():\n",
    "                if s not in sent_scores.keys():\n",
    "                    sent_scores[s]=freq[word.text.lower()]\n",
    "                else:\n",
    "                    sent_scores[s]+=freq[word.text.lower()]\n",
    "                "
   ]
  },
  {
   "cell_type": "code",
   "execution_count": 36,
   "id": "ee5def3a",
   "metadata": {},
   "outputs": [
    {
     "name": "stdout",
     "output_type": "stream",
     "text": [
      "{\n",
      "This data science with Python tutorial will help you learn the basics of Python along with different steps of data science such as data preprocessing, data visualization, statistics, making machine learning models, and much more with the help of detailed and well-explained examples.: 5.941176470588234, This tutorial will help both beginners as well as some trained professionals in mastering data science with Python.\n",
      ": 1.7058823529411764, Machine Learning is an essential skill for any aspiring data analyst and data scientist, and also for those who wish to transform a massive amount of raw data into trends and predictions.: 4.76470588235294, Learn this skill today with Machine Learning Foundation – Self Paced Course , designed and curated by industry experts having years of expertise in ML and industry-based projects.\n",
      ": 2.3529411764705883, Machine Learning is an essential skill for any aspiring data analyst and data scientist, and also for those who wish to transform a massive amount of raw data into trends and predictions.: 4.76470588235294, Learn this skill today with Machine Learning Foundation – Self Paced Course , designed and curated by industry experts having years of expertise in ML and industry-based projects.\n",
      ": 2.3529411764705883, The most crucial step when starting with ML is to have data of good quality and accuracy.: 1.411764705882353, Data can be collected from any authenticated source like data.gov.in, Kaggle or UCI dataset repository.: 1.5294117647058825, For example, while preparing for a competitive exam, students study from the best study material that they can access so that they learn the best to obtain the best results.: 1.5294117647058825, In the same way, high-quality and accurate data will make the learning process of the model easier and better and at the time of testing, the model would yield state-of-the-art results. \n",
      ": 2.7058823529411757, A huge amount of capital, time and resources are consumed in collecting data.: 1.4705882352941178, Organizations or researchers have to decide what kind of data they need to execute their tasks or research. \n",
      ": 1.411764705882353, Example: Working on the Facial Expression Recognizer, needs numerous images having a variety of human expressions.: 0.5882352941176471, Good data ensures that the results of the model are valid and can be trusted upon. \n",
      ": 1.647058823529412, The collected data can be in a raw form which can’t be directly fed to the machine.: 1.5882352941176472, So, this is a process of collecting datasets from different sources, analyzing these datasets and then constructing a new dataset for further processing and exploration.: 1.0588235294117647, This preparation can be performed either manually or from the automatic approach.: 0.29411764705882354, Data can also be prepared in numeric forms also which would fasten the model’s learning. \n",
      ": 1.647058823529412, Example:: 0.058823529411764705, An image can be converted to a matrix of N X N dimensions, the value of each cell will indicate the image pixel.\n",
      ": 0.6470588235294118}\n"
     ]
    }
   ],
   "source": [
    "print(sent_scores)"
   ]
  },
  {
   "cell_type": "code",
   "execution_count": null,
   "id": "7e9620f8",
   "metadata": {},
   "outputs": [],
   "source": []
  },
  {
   "cell_type": "markdown",
   "id": "938924fb",
   "metadata": {},
   "source": [
    "**We have taken the normalised frequency of the words and added for every particular sentence**"
   ]
  },
  {
   "cell_type": "code",
   "execution_count": null,
   "id": "9ad0bd64",
   "metadata": {},
   "outputs": [],
   "source": []
  },
  {
   "cell_type": "markdown",
   "id": "39f44602",
   "metadata": {},
   "source": [
    "Now we will be taking 30% of the text from our sentences for our summary"
   ]
  },
  {
   "cell_type": "code",
   "execution_count": null,
   "id": "f376f06c",
   "metadata": {},
   "outputs": [],
   "source": []
  },
  {
   "cell_type": "code",
   "execution_count": 37,
   "id": "32877813",
   "metadata": {},
   "outputs": [],
   "source": [
    "from heapq import nlargest"
   ]
  },
  {
   "cell_type": "code",
   "execution_count": 38,
   "id": "b4a72e9f",
   "metadata": {},
   "outputs": [],
   "source": [
    "sent_len=int(len(sent)*0.3)"
   ]
  },
  {
   "cell_type": "code",
   "execution_count": 39,
   "id": "a82b33f2",
   "metadata": {},
   "outputs": [
    {
     "data": {
      "text/plain": [
       "6"
      ]
     },
     "execution_count": 39,
     "metadata": {},
     "output_type": "execute_result"
    }
   ],
   "source": [
    "sent_len"
   ]
  },
  {
   "cell_type": "markdown",
   "id": "c03777b5",
   "metadata": {},
   "source": [
    "**So we have to select 6 sentence with maximum frequency scores**"
   ]
  },
  {
   "cell_type": "code",
   "execution_count": 40,
   "id": "d6f913fa",
   "metadata": {},
   "outputs": [],
   "source": [
    "summary=nlargest(sent_len,sent_scores,key=sent_scores.get)"
   ]
  },
  {
   "cell_type": "code",
   "execution_count": 41,
   "id": "770ee23c",
   "metadata": {},
   "outputs": [
    {
     "data": {
      "text/plain": [
       "[\n",
       " This data science with Python tutorial will help you learn the basics of Python along with different steps of data science such as data preprocessing, data visualization, statistics, making machine learning models, and much more with the help of detailed and well-explained examples.,\n",
       " Machine Learning is an essential skill for any aspiring data analyst and data scientist, and also for those who wish to transform a massive amount of raw data into trends and predictions.,\n",
       " Machine Learning is an essential skill for any aspiring data analyst and data scientist, and also for those who wish to transform a massive amount of raw data into trends and predictions.,\n",
       " In the same way, high-quality and accurate data will make the learning process of the model easier and better and at the time of testing, the model would yield state-of-the-art results. ,\n",
       " Learn this skill today with Machine Learning Foundation – Self Paced Course , designed and curated by industry experts having years of expertise in ML and industry-based projects.,\n",
       " Learn this skill today with Machine Learning Foundation – Self Paced Course , designed and curated by industry experts having years of expertise in ML and industry-based projects.]"
      ]
     },
     "execution_count": 41,
     "metadata": {},
     "output_type": "execute_result"
    }
   ],
   "source": [
    "summary"
   ]
  },
  {
   "cell_type": "markdown",
   "id": "0bfdcb87",
   "metadata": {},
   "source": [
    "**So we have got the 6 most important sentences based on the frequency score**"
   ]
  },
  {
   "cell_type": "code",
   "execution_count": null,
   "id": "a76d9227",
   "metadata": {},
   "outputs": [],
   "source": []
  },
  {
   "cell_type": "markdown",
   "id": "b50bbe25",
   "metadata": {},
   "source": [
    "**<font color='green'> Now lets just combine everything to see a better result</font>**"
   ]
  },
  {
   "cell_type": "code",
   "execution_count": 42,
   "id": "b491d83c",
   "metadata": {},
   "outputs": [],
   "source": [
    "f=[word.text for word in summary]"
   ]
  },
  {
   "cell_type": "code",
   "execution_count": 43,
   "id": "35afd734",
   "metadata": {},
   "outputs": [],
   "source": [
    "summary=' '.join(f)"
   ]
  },
  {
   "cell_type": "code",
   "execution_count": 44,
   "id": "d3da3bec",
   "metadata": {},
   "outputs": [
    {
     "name": "stdout",
     "output_type": "stream",
     "text": [
      "\n",
      "This data science with Python tutorial will help you learn the basics of Python along with different steps of data science such as data preprocessing, data visualization, statistics, making machine learning models, and much more with the help of detailed and well-explained examples. Machine Learning is an essential skill for any aspiring data analyst and data scientist, and also for those who wish to transform a massive amount of raw data into trends and predictions. Machine Learning is an essential skill for any aspiring data analyst and data scientist, and also for those who wish to transform a massive amount of raw data into trends and predictions. In the same way, high-quality and accurate data will make the learning process of the model easier and better and at the time of testing, the model would yield state-of-the-art results. \n",
      " Learn this skill today with Machine Learning Foundation – Self Paced Course , designed and curated by industry experts having years of expertise in ML and industry-based projects.\n",
      " Learn this skill today with Machine Learning Foundation – Self Paced Course , designed and curated by industry experts having years of expertise in ML and industry-based projects.\n",
      "\n"
     ]
    }
   ],
   "source": [
    "print(summary)"
   ]
  },
  {
   "cell_type": "raw",
   "id": "0a83764b",
   "metadata": {},
   "source": []
  },
  {
   "cell_type": "markdown",
   "id": "df609c11",
   "metadata": {},
   "source": [
    "### <div class='alert alert-success'> Hence we got our summary</div>"
   ]
  },
  {
   "cell_type": "markdown",
   "id": "ff9a9697",
   "metadata": {},
   "source": [
    "                                        #Happy Learning"
   ]
  }
 ],
 "metadata": {
  "kernelspec": {
   "display_name": "Python 3",
   "language": "python",
   "name": "python3"
  },
  "language_info": {
   "codemirror_mode": {
    "name": "ipython",
    "version": 3
   },
   "file_extension": ".py",
   "mimetype": "text/x-python",
   "name": "python",
   "nbconvert_exporter": "python",
   "pygments_lexer": "ipython3",
   "version": "3.8.8"
  }
 },
 "nbformat": 4,
 "nbformat_minor": 5
}
