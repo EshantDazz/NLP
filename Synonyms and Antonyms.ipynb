{
 "cells": [
  {
   "cell_type": "markdown",
   "id": "2b196a95",
   "metadata": {},
   "source": [
    "# <div class='alert alert-info'> Synonyms and Antonyms</div>"
   ]
  },
  {
   "cell_type": "markdown",
   "id": "57a21711",
   "metadata": {},
   "source": [
    "**Synonym**<br>\n",
    "A synonym is a word or phrase with the same or nearly the same meaning as another word or phrase. Thus, the words that are similar in meaning are called synonyms. "
   ]
  },
  {
   "cell_type": "code",
   "execution_count": null,
   "id": "3b589bac",
   "metadata": {},
   "outputs": [],
   "source": []
  },
  {
   "cell_type": "markdown",
   "id": "bcd2709c",
   "metadata": {},
   "source": [
    "**Antonym**<br>\n",
    "An antonym is a term or phrase that has the opposite meaning to another. "
   ]
  },
  {
   "cell_type": "code",
   "execution_count": null,
   "id": "1b2f16ef",
   "metadata": {},
   "outputs": [],
   "source": []
  },
  {
   "cell_type": "code",
   "execution_count": null,
   "id": "56e78504",
   "metadata": {},
   "outputs": [],
   "source": []
  },
  {
   "cell_type": "code",
   "execution_count": null,
   "id": "6ef9de3d",
   "metadata": {},
   "outputs": [],
   "source": []
  },
  {
   "cell_type": "code",
   "execution_count": 1,
   "id": "936da511",
   "metadata": {},
   "outputs": [],
   "source": [
    "import nltk\n",
    "from nltk.corpus import wordnet"
   ]
  },
  {
   "cell_type": "code",
   "execution_count": 5,
   "id": "795bd2e9",
   "metadata": {},
   "outputs": [],
   "source": [
    "syn=wordnet.synsets('Book')"
   ]
  },
  {
   "cell_type": "code",
   "execution_count": 6,
   "id": "e4f6f0fd",
   "metadata": {},
   "outputs": [
    {
     "name": "stdout",
     "output_type": "stream",
     "text": [
      "a written work or composition that has been published (printed on pages bound together)\n"
     ]
    }
   ],
   "source": [
    "print(syn[0].definition())"
   ]
  },
  {
   "cell_type": "code",
   "execution_count": null,
   "id": "b998497a",
   "metadata": {},
   "outputs": [],
   "source": []
  },
  {
   "cell_type": "markdown",
   "id": "1ca62243",
   "metadata": {},
   "source": [
    "**<font color='blue'> So we have got a beautiful definition</font>**"
   ]
  },
  {
   "cell_type": "markdown",
   "id": "8d3eb86c",
   "metadata": {},
   "source": [
    "## Synonyms "
   ]
  },
  {
   "cell_type": "code",
   "execution_count": 14,
   "id": "eeec5998",
   "metadata": {},
   "outputs": [],
   "source": [
    "synonyms=[]"
   ]
  },
  {
   "cell_type": "code",
   "execution_count": 9,
   "id": "a488c4d6",
   "metadata": {},
   "outputs": [],
   "source": [
    "for s in wordnet.synsets(\"Happy\"):\n",
    "    for lemma in s.lemmas():\n",
    "        synonyms.append(lemma.name())"
   ]
  },
  {
   "cell_type": "code",
   "execution_count": 10,
   "id": "5b966d94",
   "metadata": {},
   "outputs": [
    {
     "name": "stdout",
     "output_type": "stream",
     "text": [
      "['happy', 'felicitous', 'happy', 'glad', 'happy', 'happy', 'well-chosen']\n"
     ]
    }
   ],
   "source": [
    "print(synonyms)"
   ]
  },
  {
   "cell_type": "code",
   "execution_count": null,
   "id": "78af3a33",
   "metadata": {},
   "outputs": [],
   "source": []
  },
  {
   "cell_type": "markdown",
   "id": "df6c3aa2",
   "metadata": {},
   "source": [
    "**<font color='green'> So we have got the synonyms for happy </font>**"
   ]
  },
  {
   "cell_type": "markdown",
   "id": "ed3e7c52",
   "metadata": {},
   "source": [
    "Lets check for another\n"
   ]
  },
  {
   "cell_type": "code",
   "execution_count": 15,
   "id": "7a40bf97",
   "metadata": {},
   "outputs": [],
   "source": [
    "synonyms=[]\n",
    "for s in wordnet.synsets(\"Strong\"):\n",
    "    for lemma in s.lemmas():\n",
    "        synonyms.append(lemma.name())"
   ]
  },
  {
   "cell_type": "code",
   "execution_count": 17,
   "id": "70c836d7",
   "metadata": {},
   "outputs": [
    {
     "name": "stdout",
     "output_type": "stream",
     "text": [
      "['strong', 'strong', 'potent', 'strong', 'potent', 'strong', 'stiff', 'impregnable', 'inviolable', 'secure', 'strong', 'unassailable', 'unattackable', 'solid', 'strong', 'substantial', 'strong', 'hard', 'strong', 'strong', 'warm', 'firm', 'strong']\n"
     ]
    }
   ],
   "source": [
    "print(synonyms)"
   ]
  },
  {
   "cell_type": "code",
   "execution_count": null,
   "id": "85ca894b",
   "metadata": {},
   "outputs": [],
   "source": []
  },
  {
   "cell_type": "markdown",
   "id": "b9c7078e",
   "metadata": {},
   "source": [
    "## Antonyms"
   ]
  },
  {
   "cell_type": "code",
   "execution_count": 19,
   "id": "4d5b9d8f",
   "metadata": {},
   "outputs": [],
   "source": [
    "ant=[]\n",
    "for a in wordnet.synsets('Healthy'):\n",
    "    for lemma in a.lemmas():\n",
    "        if lemma.antonyms():\n",
    "            ant.append(lemma.antonyms()[0].name())"
   ]
  },
  {
   "cell_type": "code",
   "execution_count": 20,
   "id": "32d7e1d9",
   "metadata": {},
   "outputs": [
    {
     "name": "stdout",
     "output_type": "stream",
     "text": [
      "['unhealthy']\n"
     ]
    }
   ],
   "source": [
    "print(ant)"
   ]
  },
  {
   "cell_type": "code",
   "execution_count": null,
   "id": "c3124e12",
   "metadata": {},
   "outputs": [],
   "source": []
  },
  {
   "cell_type": "code",
   "execution_count": 21,
   "id": "0d414d34",
   "metadata": {},
   "outputs": [],
   "source": [
    "ant=[]\n",
    "for a in wordnet.synsets('Honest'):\n",
    "    for lemma in a.lemmas():\n",
    "        if lemma.antonyms():\n",
    "            ant.append(lemma.antonyms()[0].name())"
   ]
  },
  {
   "cell_type": "code",
   "execution_count": 22,
   "id": "23dfc015",
   "metadata": {},
   "outputs": [
    {
     "name": "stdout",
     "output_type": "stream",
     "text": [
      "['dishonest']\n"
     ]
    }
   ],
   "source": [
    "print(ant)"
   ]
  },
  {
   "cell_type": "code",
   "execution_count": null,
   "id": "cb4b3a38",
   "metadata": {},
   "outputs": [],
   "source": []
  },
  {
   "cell_type": "code",
   "execution_count": 29,
   "id": "9c122573",
   "metadata": {},
   "outputs": [],
   "source": [
    "ant=[]\n",
    "for a in wordnet.synsets('Large'):\n",
    "    for lemma in a.lemmas():\n",
    "        if lemma.antonyms():\n",
    "            ant.append(lemma.antonyms()[0].name())"
   ]
  },
  {
   "cell_type": "code",
   "execution_count": 30,
   "id": "c68a7ade",
   "metadata": {},
   "outputs": [
    {
     "name": "stdout",
     "output_type": "stream",
     "text": [
      "['small', 'little']\n"
     ]
    }
   ],
   "source": [
    "print(ant)"
   ]
  },
  {
   "cell_type": "code",
   "execution_count": null,
   "id": "fee2ea16",
   "metadata": {},
   "outputs": [],
   "source": []
  }
 ],
 "metadata": {
  "kernelspec": {
   "display_name": "Python 3",
   "language": "python",
   "name": "python3"
  },
  "language_info": {
   "codemirror_mode": {
    "name": "ipython",
    "version": 3
   },
   "file_extension": ".py",
   "mimetype": "text/x-python",
   "name": "python",
   "nbconvert_exporter": "python",
   "pygments_lexer": "ipython3",
   "version": "3.8.8"
  }
 },
 "nbformat": 4,
 "nbformat_minor": 5
}
