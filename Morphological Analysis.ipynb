{
 "cells": [
  {
   "cell_type": "markdown",
   "id": "d3564dbe",
   "metadata": {},
   "source": [
    "# <div class='alert alert-success'> Morphological Analysis</div>"
   ]
  },
  {
   "cell_type": "markdown",
   "id": "d2904c16",
   "metadata": {},
   "source": [
    "**While performing the morphological analysis, each particular word is analyzed. Non-word tokens such as punctuation are removed from the words. Hence the remaining words are assigned categories. For instance, Ram’s iPhone cannot convert the video from .mkv to .mp4. In Morphological analysis, word by word the sentence is analyzed.\n",
    "So here, Ram is a proper noun, Ram’s is assigned as possessive suffix and .mkv and .mp4 is assigned as a file extension.\n",
    "As shown above, the sentence is analyzed word by word. Each word is assigned a syntactic category. The file extensions are also identified present in the sentence which is behaving as an adjective in the above example. In the above example, the possessive suffix is also identified. This is a very important step as the judgement of prefixes and suffixes will depend on a syntactic category for the word. For example, swims and swim’s are different. One makes it plural, while the other makes it a third-person singular verb. If the prefix or suffix is incorrectly interpreted then the meaning and understanding of the sentence are completely changed. The interpretation assigns a category to the word. Hence, discard the uncertainty from the word.**"
   ]
  },
  {
   "cell_type": "code",
   "execution_count": null,
   "id": "4c7e38b2",
   "metadata": {},
   "outputs": [],
   "source": []
  },
  {
   "cell_type": "code",
   "execution_count": 1,
   "id": "70257b6f",
   "metadata": {},
   "outputs": [],
   "source": [
    "import spacy"
   ]
  },
  {
   "cell_type": "code",
   "execution_count": 2,
   "id": "598a8422",
   "metadata": {},
   "outputs": [],
   "source": [
    "nlp=spacy.load('en_core_web_sm')"
   ]
  },
  {
   "cell_type": "code",
   "execution_count": 3,
   "id": "388f03d9",
   "metadata": {},
   "outputs": [],
   "source": [
    "d=\"I dont want to play cricket today\""
   ]
  },
  {
   "cell_type": "code",
   "execution_count": 4,
   "id": "349d4b5e",
   "metadata": {},
   "outputs": [],
   "source": [
    "d=nlp(d)"
   ]
  },
  {
   "cell_type": "code",
   "execution_count": 5,
   "id": "415a50c6",
   "metadata": {},
   "outputs": [
    {
     "name": "stdout",
     "output_type": "stream",
     "text": [
      "I   Case=Nom|Number=Sing|Person=1|PronType=Prs\n",
      "do   Mood=Ind|Tense=Pres|VerbForm=Fin\n",
      "nt   \n",
      "want   VerbForm=Inf\n",
      "to   \n",
      "play   VerbForm=Inf\n",
      "cricket   Number=Sing\n",
      "today   Number=Sing\n"
     ]
    }
   ],
   "source": [
    "for t in d:\n",
    "    print(t.text,\" \",t.morph)"
   ]
  },
  {
   "cell_type": "markdown",
   "id": "fa3ddaf5",
   "metadata": {},
   "source": [
    "**We are printing the morphological information for every token**"
   ]
  },
  {
   "cell_type": "code",
   "execution_count": null,
   "id": "243e5a0f",
   "metadata": {},
   "outputs": [],
   "source": []
  },
  {
   "cell_type": "code",
   "execution_count": null,
   "id": "f1297924",
   "metadata": {},
   "outputs": [],
   "source": []
  },
  {
   "cell_type": "code",
   "execution_count": 22,
   "id": "878c0690",
   "metadata": {},
   "outputs": [
    {
     "data": {
      "text/plain": [
       "{'VerbForm': 'Inf'}"
      ]
     },
     "execution_count": 22,
     "metadata": {},
     "output_type": "execute_result"
    }
   ],
   "source": [
    "d[5].morph.to_dict()"
   ]
  },
  {
   "cell_type": "code",
   "execution_count": 23,
   "id": "c36fdede",
   "metadata": {},
   "outputs": [
    {
     "data": {
      "text/plain": [
       "{'Number': 'Sing'}"
      ]
     },
     "execution_count": 23,
     "metadata": {},
     "output_type": "execute_result"
    }
   ],
   "source": [
    "d[6].morph.to_dict()"
   ]
  },
  {
   "cell_type": "code",
   "execution_count": 24,
   "id": "4348b5a0",
   "metadata": {},
   "outputs": [
    {
     "data": {
      "text/plain": [
       "{'Case': 'Nom', 'Number': 'Sing', 'Person': '1', 'PronType': 'Prs'}"
      ]
     },
     "execution_count": 24,
     "metadata": {},
     "output_type": "execute_result"
    }
   ],
   "source": [
    "d[0].morph.to_dict()"
   ]
  },
  {
   "cell_type": "code",
   "execution_count": 25,
   "id": "9a2d4929",
   "metadata": {},
   "outputs": [],
   "source": [
    "s=d[0].morph.to_dict()"
   ]
  },
  {
   "cell_type": "code",
   "execution_count": 26,
   "id": "30789f58",
   "metadata": {},
   "outputs": [
    {
     "data": {
      "text/plain": [
       "'Nom'"
      ]
     },
     "execution_count": 26,
     "metadata": {},
     "output_type": "execute_result"
    }
   ],
   "source": [
    "s['Case']"
   ]
  },
  {
   "cell_type": "code",
   "execution_count": 27,
   "id": "a427a124",
   "metadata": {},
   "outputs": [
    {
     "data": {
      "text/plain": [
       "'Prs'"
      ]
     },
     "execution_count": 27,
     "metadata": {},
     "output_type": "execute_result"
    }
   ],
   "source": [
    "s['PronType']"
   ]
  },
  {
   "cell_type": "code",
   "execution_count": null,
   "id": "6df557f3",
   "metadata": {},
   "outputs": [],
   "source": []
  },
  {
   "cell_type": "code",
   "execution_count": 31,
   "id": "8169fe57",
   "metadata": {},
   "outputs": [],
   "source": [
    " d='''While performing the morphological analysis, each particular word is analyzed. Non-word tokens such as punctuation are removed from the words. Hence the remaining words are assigned categories. For instance, Ram’s iPhone cannot convert the video from .mkv to .mp4. In Morphological analysis, word by word the sentence is analyzed.\n",
    "So here, Ram is a proper noun, Ram’s is assigned as possessive suffix and .mkv and .mp4 is assigned as a file extension.\n",
    "As shown above, the sentence is analyzed word by word. Each word is assigned a syntactic category. The file extensions are also identified present in the sentence which is behaving as an adjective in the above example. In the above example, the possessive suffix is also identified. This is a very important step as the judgement of prefixes and suffixes will depend on a syntactic category for the word. For example, swims and swim’s are different. One makes it plural, while the other makes it a third-person singular verb. If the prefix or suffix is incorrectly interpreted then the meaning and understanding of the sentence are completely changed. The interpretation assigns a category to the word. Hence, discard the uncertainty from the word.'''"
   ]
  },
  {
   "cell_type": "code",
   "execution_count": 32,
   "id": "0700a087",
   "metadata": {},
   "outputs": [],
   "source": [
    "d=nlp(d)"
   ]
  },
  {
   "cell_type": "code",
   "execution_count": 34,
   "id": "e6da2ebe",
   "metadata": {},
   "outputs": [
    {
     "name": "stdout",
     "output_type": "stream",
     "text": [
      "While  ------> \n",
      "performing  ------> Aspect=Prog|Tense=Pres|VerbForm=Part\n",
      "the  ------> Definite=Def|PronType=Art\n",
      "morphological  ------> Degree=Pos\n",
      "analysis  ------> Number=Sing\n",
      ",  ------> PunctType=Comm\n",
      "each  ------> \n",
      "particular  ------> Degree=Pos\n",
      "word  ------> Number=Sing\n",
      "is  ------> Mood=Ind|Number=Sing|Person=3|Tense=Pres|VerbForm=Fin\n",
      "analyzed  ------> Aspect=Perf|Tense=Past|VerbForm=Part\n",
      ".  ------> PunctType=Peri\n",
      "Non  ------> Degree=Pos\n",
      "-  ------> Degree=Pos\n",
      "word  ------> Number=Sing\n",
      "tokens  ------> Number=Plur\n",
      "such  ------> Degree=Pos\n",
      "as  ------> \n",
      "punctuation  ------> Number=Sing\n",
      "are  ------> Mood=Ind|Tense=Pres|VerbForm=Fin\n",
      "removed  ------> Aspect=Perf|Tense=Past|VerbForm=Part\n",
      "from  ------> \n",
      "the  ------> Definite=Def|PronType=Art\n",
      "words  ------> Number=Plur\n",
      ".  ------> PunctType=Peri\n",
      "Hence  ------> \n",
      "the  ------> Definite=Def|PronType=Art\n",
      "remaining  ------> Aspect=Prog|Tense=Pres|VerbForm=Part\n",
      "words  ------> Number=Plur\n",
      "are  ------> Mood=Ind|Tense=Pres|VerbForm=Fin\n",
      "assigned  ------> Aspect=Perf|Tense=Past|VerbForm=Part\n",
      "categories  ------> Number=Plur\n",
      ".  ------> PunctType=Peri\n",
      "For  ------> \n",
      "instance  ------> Number=Sing\n",
      ",  ------> PunctType=Comm\n",
      "Ram  ------> Number=Sing\n",
      "’s  ------> NumType=Card\n",
      "iPhone  ------> Number=Sing\n",
      "can  ------> VerbForm=Fin\n",
      "not  ------> Polarity=Neg\n",
      "convert  ------> VerbForm=Inf\n",
      "the  ------> Definite=Def|PronType=Art\n",
      "video  ------> Number=Sing\n",
      "from  ------> \n",
      ".mkv  ------> PunctType=Peri\n",
      "to  ------> \n",
      ".mp4  ------> Number=Sing\n",
      ".  ------> PunctType=Peri\n",
      "In  ------> \n",
      "Morphological  ------> Degree=Pos\n",
      "analysis  ------> Number=Sing\n",
      ",  ------> PunctType=Comm\n",
      "word  ------> Number=Sing\n",
      "by  ------> \n",
      "word  ------> Number=Sing\n",
      "the  ------> Definite=Def|PronType=Art\n",
      "sentence  ------> Number=Sing\n",
      "is  ------> Mood=Ind|Number=Sing|Person=3|Tense=Pres|VerbForm=Fin\n",
      "analyzed  ------> Aspect=Perf|Tense=Past|VerbForm=Part\n",
      ".  ------> PunctType=Peri\n",
      "\n",
      "  ------> \n",
      "So  ------> \n",
      "here  ------> PronType=Dem\n",
      ",  ------> PunctType=Comm\n",
      "Ram  ------> Number=Sing\n",
      "is  ------> Mood=Ind|Number=Sing|Person=3|Tense=Pres|VerbForm=Fin\n",
      "a  ------> Definite=Ind|PronType=Art\n",
      "proper  ------> Degree=Pos\n",
      "noun  ------> Number=Sing\n",
      ",  ------> PunctType=Comm\n",
      "Ram  ------> Number=Sing\n",
      "’s  ------> Number=Sing\n",
      "is  ------> Mood=Ind|Number=Sing|Person=3|Tense=Pres|VerbForm=Fin\n",
      "assigned  ------> Aspect=Perf|Tense=Past|VerbForm=Part\n",
      "as  ------> \n",
      "possessive  ------> Degree=Pos\n",
      "suffix  ------> Number=Sing\n",
      "and  ------> ConjType=Cmp\n",
      ".mkv  ------> Number=Sing\n",
      "and  ------> ConjType=Cmp\n",
      ".mp4  ------> Number=Sing\n",
      "is  ------> Mood=Ind|Number=Sing|Person=3|Tense=Pres|VerbForm=Fin\n",
      "assigned  ------> Aspect=Perf|Tense=Past|VerbForm=Part\n",
      "as  ------> \n",
      "a  ------> Definite=Ind|PronType=Art\n",
      "file  ------> Number=Sing\n",
      "extension  ------> Number=Sing\n",
      ".  ------> PunctType=Peri\n",
      "\n",
      "  ------> \n",
      "As  ------> \n",
      "shown  ------> Aspect=Perf|Tense=Past|VerbForm=Part\n",
      "above  ------> \n",
      ",  ------> PunctType=Comm\n",
      "the  ------> Definite=Def|PronType=Art\n",
      "sentence  ------> Number=Sing\n",
      "is  ------> Mood=Ind|Number=Sing|Person=3|Tense=Pres|VerbForm=Fin\n",
      "analyzed  ------> Aspect=Perf|Tense=Past|VerbForm=Part\n",
      "word  ------> Number=Sing\n",
      "by  ------> \n",
      "word  ------> Number=Sing\n",
      ".  ------> PunctType=Peri\n",
      "Each  ------> \n",
      "word  ------> Number=Sing\n",
      "is  ------> Mood=Ind|Number=Sing|Person=3|Tense=Pres|VerbForm=Fin\n",
      "assigned  ------> Aspect=Perf|Tense=Past|VerbForm=Part\n",
      "a  ------> Definite=Ind|PronType=Art\n",
      "syntactic  ------> Degree=Pos\n",
      "category  ------> Number=Sing\n",
      ".  ------> PunctType=Peri\n",
      "The  ------> Definite=Def|PronType=Art\n",
      "file  ------> Number=Sing\n",
      "extensions  ------> Number=Plur\n",
      "are  ------> Mood=Ind|Tense=Pres|VerbForm=Fin\n",
      "also  ------> \n",
      "identified  ------> Aspect=Perf|Tense=Past|VerbForm=Part\n",
      "present  ------> Degree=Pos\n",
      "in  ------> \n",
      "the  ------> Definite=Def|PronType=Art\n",
      "sentence  ------> Number=Sing\n",
      "which  ------> \n",
      "is  ------> Mood=Ind|Number=Sing|Person=3|Tense=Pres|VerbForm=Fin\n",
      "behaving  ------> Aspect=Prog|Tense=Pres|VerbForm=Part\n",
      "as  ------> \n",
      "an  ------> Definite=Ind|PronType=Art\n",
      "adjective  ------> Number=Sing\n",
      "in  ------> \n",
      "the  ------> Definite=Def|PronType=Art\n",
      "above  ------> Degree=Pos\n",
      "example  ------> Number=Sing\n",
      ".  ------> PunctType=Peri\n",
      "In  ------> \n",
      "the  ------> Definite=Def|PronType=Art\n",
      "above  ------> Degree=Pos\n",
      "example  ------> Number=Sing\n",
      ",  ------> PunctType=Comm\n",
      "the  ------> Definite=Def|PronType=Art\n",
      "possessive  ------> Degree=Pos\n",
      "suffix  ------> Number=Sing\n",
      "is  ------> Mood=Ind|Number=Sing|Person=3|Tense=Pres|VerbForm=Fin\n",
      "also  ------> \n",
      "identified  ------> Aspect=Perf|Tense=Past|VerbForm=Part\n",
      ".  ------> PunctType=Peri\n",
      "This  ------> Number=Sing|PronType=Dem\n",
      "is  ------> Mood=Ind|Number=Sing|Person=3|Tense=Pres|VerbForm=Fin\n",
      "a  ------> Definite=Ind|PronType=Art\n",
      "very  ------> \n",
      "important  ------> Degree=Pos\n",
      "step  ------> Number=Sing\n",
      "as  ------> \n",
      "the  ------> Definite=Def|PronType=Art\n",
      "judgement  ------> Number=Sing\n",
      "of  ------> \n",
      "prefixes  ------> Number=Plur\n",
      "and  ------> ConjType=Cmp\n",
      "suffixes  ------> Number=Plur\n",
      "will  ------> VerbForm=Fin\n",
      "depend  ------> VerbForm=Inf\n",
      "on  ------> \n",
      "a  ------> Definite=Ind|PronType=Art\n",
      "syntactic  ------> Degree=Pos\n",
      "category  ------> Number=Sing\n",
      "for  ------> \n",
      "the  ------> Definite=Def|PronType=Art\n",
      "word  ------> Number=Sing\n",
      ".  ------> PunctType=Peri\n",
      "For  ------> \n",
      "example  ------> Number=Sing\n",
      ",  ------> PunctType=Comm\n",
      "swims  ------> Number=Plur\n",
      "and  ------> ConjType=Cmp\n",
      "swim  ------> Number=Sing\n",
      "’s  ------> Number=Sing\n",
      "are  ------> Mood=Ind|Tense=Pres|VerbForm=Fin\n",
      "different  ------> Degree=Pos\n",
      ".  ------> PunctType=Peri\n",
      "One  ------> NumType=Card\n",
      "makes  ------> Number=Sing|Person=3|Tense=Pres|VerbForm=Fin\n",
      "it  ------> Case=Nom|Gender=Neut|Number=Sing|Person=3|PronType=Prs\n",
      "plural  ------> Degree=Pos\n",
      ",  ------> PunctType=Comm\n",
      "while  ------> \n",
      "the  ------> Definite=Def|PronType=Art\n",
      "other  ------> Degree=Pos\n",
      "makes  ------> Number=Sing|Person=3|Tense=Pres|VerbForm=Fin\n",
      "it  ------> Case=Nom|Gender=Neut|Number=Sing|Person=3|PronType=Prs\n",
      "a  ------> Definite=Ind|PronType=Art\n",
      "third  ------> Degree=Pos\n",
      "-  ------> PunctType=Dash\n",
      "person  ------> Number=Sing\n",
      "singular  ------> Degree=Pos\n",
      "verb  ------> Number=Sing\n",
      ".  ------> PunctType=Peri\n",
      "If  ------> \n",
      "the  ------> Definite=Def|PronType=Art\n",
      "prefix  ------> Number=Sing\n",
      "or  ------> ConjType=Cmp\n",
      "suffix  ------> Number=Sing\n",
      "is  ------> Mood=Ind|Number=Sing|Person=3|Tense=Pres|VerbForm=Fin\n",
      "incorrectly  ------> \n",
      "interpreted  ------> Aspect=Perf|Tense=Past|VerbForm=Part\n",
      "then  ------> PronType=Dem\n",
      "the  ------> Definite=Def|PronType=Art\n",
      "meaning  ------> Number=Sing\n",
      "and  ------> ConjType=Cmp\n",
      "understanding  ------> Number=Sing\n",
      "of  ------> \n",
      "the  ------> Definite=Def|PronType=Art\n",
      "sentence  ------> Number=Sing\n",
      "are  ------> Mood=Ind|Tense=Pres|VerbForm=Fin\n",
      "completely  ------> \n",
      "changed  ------> Aspect=Perf|Tense=Past|VerbForm=Part\n",
      ".  ------> PunctType=Peri\n",
      "The  ------> Definite=Def|PronType=Art\n",
      "interpretation  ------> Number=Sing\n",
      "assigns  ------> Number=Sing|Person=3|Tense=Pres|VerbForm=Fin\n",
      "a  ------> Definite=Ind|PronType=Art\n",
      "category  ------> Number=Sing\n",
      "to  ------> \n",
      "the  ------> Definite=Def|PronType=Art\n",
      "word  ------> Number=Sing\n",
      ".  ------> PunctType=Peri\n",
      "Hence  ------> \n",
      ",  ------> PunctType=Comm\n",
      "discard  ------> VerbForm=Inf\n",
      "the  ------> Definite=Def|PronType=Art\n",
      "uncertainty  ------> Number=Sing\n",
      "from  ------> \n",
      "the  ------> Definite=Def|PronType=Art\n",
      "word  ------> Number=Sing\n",
      ".  ------> PunctType=Peri\n"
     ]
    }
   ],
   "source": [
    "for t in d:\n",
    "    print(t.text,\" ------>\",t.morph)"
   ]
  },
  {
   "cell_type": "markdown",
   "id": "5a7d3544",
   "metadata": {},
   "source": [
    "**Hence we are getting the morphological information here again**"
   ]
  },
  {
   "cell_type": "code",
   "execution_count": 37,
   "id": "da903f29",
   "metadata": {},
   "outputs": [
    {
     "data": {
      "text/plain": [
       "{'Number': 'Sing'}"
      ]
     },
     "execution_count": 37,
     "metadata": {},
     "output_type": "execute_result"
    }
   ],
   "source": [
    "d[8].morph.to_dict()"
   ]
  },
  {
   "cell_type": "code",
   "execution_count": 38,
   "id": "56ebc60e",
   "metadata": {},
   "outputs": [
    {
     "data": {
      "text/plain": [
       "{'Definite': 'Def', 'PronType': 'Art'}"
      ]
     },
     "execution_count": 38,
     "metadata": {},
     "output_type": "execute_result"
    }
   ],
   "source": [
    "d[26].morph.to_dict()"
   ]
  },
  {
   "cell_type": "code",
   "execution_count": 39,
   "id": "5b685e3f",
   "metadata": {},
   "outputs": [],
   "source": [
    "k=d[26].morph.to_dict()"
   ]
  },
  {
   "cell_type": "code",
   "execution_count": 40,
   "id": "bc809c61",
   "metadata": {},
   "outputs": [
    {
     "data": {
      "text/plain": [
       "'Def'"
      ]
     },
     "execution_count": 40,
     "metadata": {},
     "output_type": "execute_result"
    }
   ],
   "source": [
    "k['Definite']"
   ]
  },
  {
   "cell_type": "code",
   "execution_count": null,
   "id": "fa5b46af",
   "metadata": {},
   "outputs": [],
   "source": []
  },
  {
   "cell_type": "code",
   "execution_count": null,
   "id": "60a0ee63",
   "metadata": {},
   "outputs": [],
   "source": []
  }
 ],
 "metadata": {
  "kernelspec": {
   "display_name": "Python 3",
   "language": "python",
   "name": "python3"
  },
  "language_info": {
   "codemirror_mode": {
    "name": "ipython",
    "version": 3
   },
   "file_extension": ".py",
   "mimetype": "text/x-python",
   "name": "python",
   "nbconvert_exporter": "python",
   "pygments_lexer": "ipython3",
   "version": "3.8.8"
  }
 },
 "nbformat": 4,
 "nbformat_minor": 5
}
