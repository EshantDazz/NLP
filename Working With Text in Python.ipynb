{
 "cells": [
  {
   "cell_type": "markdown",
   "id": "bdc3bef3",
   "metadata": {},
   "source": [
    "# Text formatting in python"
   ]
  },
  {
   "cell_type": "markdown",
   "id": "d7898c6f",
   "metadata": {},
   "source": [
    "<font color=purple>After python 3.6 update</font>"
   ]
  },
  {
   "cell_type": "raw",
   "id": "625fc3a9",
   "metadata": {},
   "source": []
  },
  {
   "cell_type": "code",
   "execution_count": 1,
   "id": "89b53a81",
   "metadata": {},
   "outputs": [
    {
     "name": "stdout",
     "output_type": "stream",
     "text": [
      "My name is Eshant\n"
     ]
    }
   ],
   "source": [
    "name='Eshant'\n",
    "print(f\"My name is {name}\")"
   ]
  },
  {
   "cell_type": "raw",
   "id": "90661866",
   "metadata": {},
   "source": []
  },
  {
   "cell_type": "code",
   "execution_count": 3,
   "id": "9a750e2e",
   "metadata": {},
   "outputs": [
    {
     "name": "stdout",
     "output_type": "stream",
     "text": [
      "The value of a is Hello and the value of b is Bye\n"
     ]
    }
   ],
   "source": [
    "dict={'a':\"Hello\",'b':'Bye'}\n",
    "print(f\"The value of a is {dict['a']} and the value of b is {dict['b']}\")"
   ]
  },
  {
   "cell_type": "raw",
   "id": "4f55a2d7",
   "metadata": {},
   "source": []
  },
  {
   "cell_type": "code",
   "execution_count": 4,
   "id": "483c1f11",
   "metadata": {},
   "outputs": [],
   "source": [
    "players=[('Player','Team','Runs'),('Rohit Sharma','India',120),('Joe Root',\"England\",110),('Steve Smith','Australia',100)]"
   ]
  },
  {
   "cell_type": "code",
   "execution_count": 5,
   "id": "a6307af3",
   "metadata": {},
   "outputs": [
    {
     "name": "stdout",
     "output_type": "stream",
     "text": [
      "('Player', 'Team', 'Runs')\n",
      "('Rohit Sharma', 'India', 120)\n",
      "('Joe Root', 'England', 110)\n",
      "('Steve Smith', 'Australia', 100)\n"
     ]
    }
   ],
   "source": [
    "for player in players:\n",
    "    print(player)"
   ]
  },
  {
   "cell_type": "raw",
   "id": "23fb6ddb",
   "metadata": {},
   "source": []
  },
  {
   "cell_type": "markdown",
   "id": "850b2a1f",
   "metadata": {},
   "source": [
    "**To print only the player names**"
   ]
  },
  {
   "cell_type": "code",
   "execution_count": 7,
   "id": "0e3d07a6",
   "metadata": {},
   "outputs": [
    {
     "name": "stdout",
     "output_type": "stream",
     "text": [
      "Player\n",
      "Rohit Sharma\n",
      "Joe Root\n",
      "Steve Smith\n"
     ]
    }
   ],
   "source": [
    "for player in players:\n",
    "    print(f\"{player[0]}\")"
   ]
  },
  {
   "cell_type": "code",
   "execution_count": 10,
   "id": "5b04f73b",
   "metadata": {},
   "outputs": [
    {
     "name": "stdout",
     "output_type": "stream",
     "text": [
      "Player\n",
      "Rohit Sharma\n",
      "Joe Root\n",
      "Steve Smith\n"
     ]
    }
   ],
   "source": [
    "for player,team,runs in players:\n",
    "    print(f\"{player}\")"
   ]
  },
  {
   "cell_type": "raw",
   "id": "87f8b2ff",
   "metadata": {},
   "source": []
  },
  {
   "cell_type": "markdown",
   "id": "8d9ab853",
   "metadata": {},
   "source": [
    "**To print all the details**"
   ]
  },
  {
   "cell_type": "code",
   "execution_count": 12,
   "id": "811c8c6e",
   "metadata": {},
   "outputs": [
    {
     "name": "stdout",
     "output_type": "stream",
     "text": [
      "Player Team Runs\n",
      "Rohit Sharma India 120\n",
      "Joe Root England 110\n",
      "Steve Smith Australia 100\n"
     ]
    }
   ],
   "source": [
    "for player,team,runs in players:\n",
    "    print(f\"{player} {team} {runs}\")"
   ]
  },
  {
   "cell_type": "raw",
   "id": "296777f6",
   "metadata": {},
   "source": []
  },
  {
   "cell_type": "markdown",
   "id": "2bfc9033",
   "metadata": {},
   "source": [
    "This is not being catchy to the eye as there is no padding and is neither in a good form so the formatting here is not good"
   ]
  },
  {
   "cell_type": "raw",
   "id": "0624a3dc",
   "metadata": {},
   "source": []
  },
  {
   "cell_type": "raw",
   "id": "7e8694df",
   "metadata": {},
   "source": []
  },
  {
   "cell_type": "markdown",
   "id": "341433d3",
   "metadata": {},
   "source": [
    "**<font color=purple> What we can do to avoid this</font>**"
   ]
  },
  {
   "cell_type": "markdown",
   "id": "d0cb3513",
   "metadata": {},
   "source": [
    "We can give : after the variable name followed up by some value like 10,20 to set a limit for the minimum number of spaces that a particular column would require"
   ]
  },
  {
   "cell_type": "raw",
   "id": "0df177cf",
   "metadata": {},
   "source": []
  },
  {
   "cell_type": "markdown",
   "id": "a6d2c0cf",
   "metadata": {},
   "source": [
    "**Lets implement this now**"
   ]
  },
  {
   "cell_type": "code",
   "execution_count": 14,
   "id": "43799163",
   "metadata": {},
   "outputs": [
    {
     "name": "stdout",
     "output_type": "stream",
     "text": [
      "Player               Team            Runs      \n",
      "Rohit Sharma         India                  120\n",
      "Joe Root             England                110\n",
      "Steve Smith          Australia              100\n"
     ]
    }
   ],
   "source": [
    "for player,team,runs in players:\n",
    "    print(f\"{player:{20}} {team:{15}} {runs:{10}}\")"
   ]
  },
  {
   "cell_type": "markdown",
   "id": "eeef7e2e",
   "metadata": {},
   "source": [
    "Still better than previous but the Runs header seems to be out of place "
   ]
  },
  {
   "cell_type": "raw",
   "id": "0fefd784",
   "metadata": {},
   "source": []
  },
  {
   "cell_type": "markdown",
   "id": "5729e47a",
   "metadata": {},
   "source": [
    "**If we give > sign after the colon(:) then it will automatically allign itself**"
   ]
  },
  {
   "cell_type": "code",
   "execution_count": 15,
   "id": "158c5b8d",
   "metadata": {},
   "outputs": [
    {
     "name": "stdout",
     "output_type": "stream",
     "text": [
      "Player               Team                  Runs\n",
      "Rohit Sharma         India                  120\n",
      "Joe Root             England                110\n",
      "Steve Smith          Australia              100\n"
     ]
    }
   ],
   "source": [
    "for player,team,runs in players:\n",
    "    print(f\"{player:{20}} {team:{15}} {runs:>{10}}\")"
   ]
  },
  {
   "cell_type": "markdown",
   "id": "d2e28095",
   "metadata": {},
   "source": [
    "**If we pass any sign like - or . it will fill up the extra spaces"
   ]
  },
  {
   "cell_type": "code",
   "execution_count": 16,
   "id": "0047fc26",
   "metadata": {},
   "outputs": [
    {
     "name": "stdout",
     "output_type": "stream",
     "text": [
      "Player               Team            ------Runs\n",
      "Rohit Sharma         India           -------120\n",
      "Joe Root             England         -------110\n",
      "Steve Smith          Australia       -------100\n"
     ]
    }
   ],
   "source": [
    "for player,team,runs in players:\n",
    "    print(f\"{player:{20}} {team:{15}} {runs:->{10}}\")"
   ]
  },
  {
   "cell_type": "raw",
   "id": "6c52d01f",
   "metadata": {},
   "source": []
  },
  {
   "cell_type": "raw",
   "id": "e1e0b8b3",
   "metadata": {},
   "source": []
  },
  {
   "cell_type": "code",
   "execution_count": null,
   "id": "6bd6646d",
   "metadata": {},
   "outputs": [],
   "source": []
  },
  {
   "cell_type": "code",
   "execution_count": 32,
   "id": "27ca5670",
   "metadata": {},
   "outputs": [],
   "source": [
    "import warnings"
   ]
  },
  {
   "cell_type": "code",
   "execution_count": 33,
   "id": "bb294904",
   "metadata": {},
   "outputs": [],
   "source": [
    "warnings.filterwarnings('ignore')"
   ]
  },
  {
   "cell_type": "markdown",
   "id": "61bd3bb3",
   "metadata": {},
   "source": [
    "# Getting started with pdf"
   ]
  },
  {
   "cell_type": "code",
   "execution_count": 17,
   "id": "587acf75",
   "metadata": {},
   "outputs": [
    {
     "name": "stdout",
     "output_type": "stream",
     "text": [
      "Collecting PyPDF2\n",
      "  Downloading PyPDF2-2.8.1-py3-none-any.whl (204 kB)\n",
      "Requirement already satisfied: typing-extensions in c:\\users\\hp\\anaconda3\\lib\\site-packages (from PyPDF2) (3.7.4.3)\n",
      "Installing collected packages: PyPDF2\n",
      "Successfully installed PyPDF2-2.8.1\n"
     ]
    }
   ],
   "source": [
    "!pip install PyPDF2"
   ]
  },
  {
   "cell_type": "code",
   "execution_count": 52,
   "id": "e1868bd0",
   "metadata": {},
   "outputs": [],
   "source": [
    "import PyPDF2 as pdf"
   ]
  },
  {
   "cell_type": "code",
   "execution_count": 53,
   "id": "ddff4960",
   "metadata": {},
   "outputs": [],
   "source": [
    "f=open('Issues in Knowledge Representation.pdf','rb')"
   ]
  },
  {
   "cell_type": "code",
   "execution_count": 54,
   "id": "4d973b3e",
   "metadata": {},
   "outputs": [],
   "source": [
    "pdf_reader=pdf.PdfFileReader(f)"
   ]
  },
  {
   "cell_type": "raw",
   "id": "95b5725a",
   "metadata": {},
   "source": []
  },
  {
   "cell_type": "markdown",
   "id": "d54fb7a0",
   "metadata": {},
   "source": [
    "**To check the number of pages**"
   ]
  },
  {
   "cell_type": "code",
   "execution_count": 55,
   "id": "c0b1e642",
   "metadata": {},
   "outputs": [
    {
     "data": {
      "text/plain": [
       "31"
      ]
     },
     "execution_count": 55,
     "metadata": {},
     "output_type": "execute_result"
    }
   ],
   "source": [
    "pdf_reader.numPages"
   ]
  },
  {
   "cell_type": "raw",
   "id": "db14079f",
   "metadata": {},
   "source": []
  },
  {
   "cell_type": "markdown",
   "id": "80648914",
   "metadata": {},
   "source": [
    "**Extracting the first page**"
   ]
  },
  {
   "cell_type": "code",
   "execution_count": 56,
   "id": "2578f5da",
   "metadata": {},
   "outputs": [],
   "source": [
    "page_one=pdf_reader.getPage(0)"
   ]
  },
  {
   "cell_type": "code",
   "execution_count": 57,
   "id": "da2ca080",
   "metadata": {},
   "outputs": [
    {
     "data": {
      "text/plain": [
       "'Issues in Knowledge \\nRepresentation\\nDr. Gurleen Kaur Walia\\nAssistant Professor\\nSchool of Electronics & Electrical Engineering \\n(SEEE)-D2\\ngurleen.24800@lpu.co.in'"
      ]
     },
     "execution_count": 57,
     "metadata": {},
     "output_type": "execute_result"
    }
   ],
   "source": [
    "page_one.extractText()"
   ]
  },
  {
   "cell_type": "raw",
   "id": "b3deab5b",
   "metadata": {},
   "source": []
  },
  {
   "cell_type": "markdown",
   "id": "8d38b3d4",
   "metadata": {},
   "source": [
    "**Extracting the 7th Page**"
   ]
  },
  {
   "cell_type": "code",
   "execution_count": 58,
   "id": "e57a9396",
   "metadata": {},
   "outputs": [],
   "source": [
    "page_five=pdf_reader.getPage(6)"
   ]
  },
  {
   "cell_type": "code",
   "execution_count": 59,
   "id": "94c0292a",
   "metadata": {},
   "outputs": [],
   "source": [
    "page_five.extractText()\n",
    "page=page_five.extractText()  #WE will use this later"
   ]
  },
  {
   "cell_type": "code",
   "execution_count": 60,
   "id": "10f7339b",
   "metadata": {},
   "outputs": [
    {
     "name": "stdout",
     "output_type": "stream",
     "text": [
      "2. Relationship among attributes may have \n",
      "properties like:\n",
      "a) Inverses\n",
      "b) Existence in an isa hierarchy: generalization- specialization relationship are\n",
      "important for attributes as they are important for other concepts(e.g. : height;\n",
      "physicalsize;physical)\n",
      "c) Techniquesforreasoningaboutvalues\n",
      "d) Singlevaluedattributes\n"
     ]
    }
   ],
   "source": [
    "print(page_five.extractText())"
   ]
  },
  {
   "cell_type": "raw",
   "id": "c497b559",
   "metadata": {},
   "source": []
  },
  {
   "cell_type": "code",
   "execution_count": 61,
   "id": "7d160b71",
   "metadata": {},
   "outputs": [],
   "source": [
    "f.close()"
   ]
  },
  {
   "cell_type": "raw",
   "id": "8d5f29ed",
   "metadata": {},
   "source": []
  },
  {
   "cell_type": "markdown",
   "id": "4d97765a",
   "metadata": {},
   "source": [
    "# Creating a new pdf and adding a page"
   ]
  },
  {
   "cell_type": "code",
   "execution_count": 68,
   "id": "cb46d7ef",
   "metadata": {},
   "outputs": [
    {
     "data": {
      "text/plain": [
       "'2. Relationship among attributes may have \\nproperties like:\\na) Inverses\\nb) Existence in an isa hierarchy: generalization- specialization relationship are\\nimportant for attributes as they are important for other concepts(e.g. : height;\\nphysicalsize;physical)\\nc) Techniquesforreasoningaboutvalues\\nd) Singlevaluedattributes'"
      ]
     },
     "execution_count": 68,
     "metadata": {},
     "output_type": "execute_result"
    }
   ],
   "source": [
    "page"
   ]
  },
  {
   "cell_type": "code",
   "execution_count": 69,
   "id": "8b0fec44",
   "metadata": {},
   "outputs": [
    {
     "data": {
      "text/plain": [
       "str"
      ]
     },
     "execution_count": 69,
     "metadata": {},
     "output_type": "execute_result"
    }
   ],
   "source": [
    "type(page)"
   ]
  },
  {
   "cell_type": "code",
   "execution_count": 75,
   "id": "a518094b",
   "metadata": {},
   "outputs": [],
   "source": [
    "f=open('Issues in Knowledge Representation.pdf','rb')"
   ]
  },
  {
   "cell_type": "code",
   "execution_count": 76,
   "id": "22f0a89d",
   "metadata": {},
   "outputs": [],
   "source": [
    "pdf_reader=pdf.PdfFileReader(f)"
   ]
  },
  {
   "cell_type": "code",
   "execution_count": 77,
   "id": "7099f256",
   "metadata": {},
   "outputs": [],
   "source": [
    "page_five=pdf_reader.getPage(6)"
   ]
  },
  {
   "cell_type": "code",
   "execution_count": 78,
   "id": "4545b079",
   "metadata": {},
   "outputs": [],
   "source": [
    "pdf_writer=pdf.PdfFileWriter()"
   ]
  },
  {
   "cell_type": "code",
   "execution_count": 79,
   "id": "c7332ae9",
   "metadata": {},
   "outputs": [],
   "source": [
    "pdf_writer.addPage(page_five)"
   ]
  },
  {
   "cell_type": "code",
   "execution_count": 80,
   "id": "1dfdc6b7",
   "metadata": {},
   "outputs": [],
   "source": [
    "f2=open('New_PDF.pdf','wb')"
   ]
  },
  {
   "cell_type": "code",
   "execution_count": 81,
   "id": "9ff0b15f",
   "metadata": {},
   "outputs": [],
   "source": [
    "pdf_writer.write(f2)"
   ]
  },
  {
   "cell_type": "code",
   "execution_count": 82,
   "id": "faf15265",
   "metadata": {},
   "outputs": [],
   "source": [
    "f2.close()"
   ]
  },
  {
   "cell_type": "code",
   "execution_count": 84,
   "id": "28a15743",
   "metadata": {},
   "outputs": [],
   "source": [
    "f.close()"
   ]
  },
  {
   "cell_type": "raw",
   "id": "98add933",
   "metadata": {},
   "source": []
  },
  {
   "cell_type": "code",
   "execution_count": 85,
   "id": "1b384b7f",
   "metadata": {},
   "outputs": [],
   "source": [
    "new=open('New_PDF.pdf','rb')"
   ]
  },
  {
   "cell_type": "code",
   "execution_count": 86,
   "id": "b688db29",
   "metadata": {},
   "outputs": [],
   "source": [
    "pdf_reader=pdf.PdfFileReader(new)"
   ]
  },
  {
   "cell_type": "code",
   "execution_count": 88,
   "id": "bb47d86d",
   "metadata": {},
   "outputs": [
    {
     "data": {
      "text/plain": [
       "1"
      ]
     },
     "execution_count": 88,
     "metadata": {},
     "output_type": "execute_result"
    }
   ],
   "source": [
    "pdf_reader.numPages"
   ]
  },
  {
   "cell_type": "code",
   "execution_count": 90,
   "id": "02cd795d",
   "metadata": {},
   "outputs": [],
   "source": [
    "page=pdf_reader.getPage(0)"
   ]
  },
  {
   "cell_type": "code",
   "execution_count": 92,
   "id": "b872590a",
   "metadata": {},
   "outputs": [
    {
     "name": "stdout",
     "output_type": "stream",
     "text": [
      "2. Relationship among attributes may have \n",
      "properties like:\n",
      "a) Inverses\n",
      "b) Existence in an isa hierarchy: generalization- specialization relationship are\n",
      "important for attributes as they are important for other concepts(e.g. : height;\n",
      "physicalsize;physical)\n",
      "c) Techniquesforreasoningaboutvalues\n",
      "d) Singlevaluedattributes\n"
     ]
    }
   ],
   "source": [
    "print(page.extract_text())"
   ]
  },
  {
   "cell_type": "raw",
   "id": "d38dda92",
   "metadata": {},
   "source": []
  },
  {
   "cell_type": "markdown",
   "id": "6bf729ca",
   "metadata": {},
   "source": [
    "**Lets see how it looks in pdf form after importing it in the Jupiter Notebook**"
   ]
  },
  {
   "cell_type": "code",
   "execution_count": 96,
   "id": "2f4ffe26",
   "metadata": {},
   "outputs": [
    {
     "data": {
      "text/html": [
       "\n",
       "        <iframe\n",
       "            width=\"600\"\n",
       "            height=\"300\"\n",
       "            src=\"New_PDF.pdf\"\n",
       "            frameborder=\"0\"\n",
       "            allowfullscreen\n",
       "        ></iframe>\n",
       "        "
      ],
      "text/plain": [
       "<IPython.lib.display.IFrame at 0x1f9deb41a90>"
      ]
     },
     "execution_count": 96,
     "metadata": {},
     "output_type": "execute_result"
    }
   ],
   "source": [
    "from IPython.display import IFrame\n",
    "IFrame(\"New_PDF.pdf\", width=600, height=300)"
   ]
  },
  {
   "cell_type": "code",
   "execution_count": null,
   "id": "ed6d0c63",
   "metadata": {},
   "outputs": [],
   "source": []
  }
 ],
 "metadata": {
  "kernelspec": {
   "display_name": "Python 3",
   "language": "python",
   "name": "python3"
  },
  "language_info": {
   "codemirror_mode": {
    "name": "ipython",
    "version": 3
   },
   "file_extension": ".py",
   "mimetype": "text/x-python",
   "name": "python",
   "nbconvert_exporter": "python",
   "pygments_lexer": "ipython3",
   "version": "3.8.8"
  }
 },
 "nbformat": 4,
 "nbformat_minor": 5
}
