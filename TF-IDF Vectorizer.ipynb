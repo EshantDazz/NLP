{
 "cells": [
  {
   "cell_type": "markdown",
   "id": "04b0815d",
   "metadata": {},
   "source": [
    "# <div class='alert alert-info'>TF-IdDF Vectorizer</div>"
   ]
  },
  {
   "cell_type": "markdown",
   "id": "d82dc7a8",
   "metadata": {},
   "source": [
    "**TF-IDF stands for Term Frequency Inverse Document Frequency of records. It can be defined as the calculation of how relevant a word in a series or corpus is to a text. The meaning increases proportionally to the number of times in the text a word appears but is compensated by the word frequency in the corpus (data-set).**"
   ]
  },
  {
   "cell_type": "code",
   "execution_count": null,
   "id": "9f42ee2b",
   "metadata": {},
   "outputs": [],
   "source": []
  },
  {
   "cell_type": "code",
   "execution_count": 5,
   "id": "6b196f73",
   "metadata": {},
   "outputs": [],
   "source": [
    " from sklearn.feature_extraction.text import TfidfVectorizer"
   ]
  },
  {
   "cell_type": "code",
   "execution_count": null,
   "id": "10fc4206",
   "metadata": {},
   "outputs": [],
   "source": []
  },
  {
   "cell_type": "code",
   "execution_count": 6,
   "id": "7c156863",
   "metadata": {},
   "outputs": [],
   "source": [
    "t=['We will study NLP today','NLP stands for Natural Language Processing','We are failing to understand NLP']"
   ]
  },
  {
   "cell_type": "markdown",
   "id": "465467ae",
   "metadata": {},
   "source": [
    "**Lets check the 3 items in our list**\n"
   ]
  },
  {
   "cell_type": "code",
   "execution_count": 7,
   "id": "b80f93cc",
   "metadata": {},
   "outputs": [
    {
     "name": "stdout",
     "output_type": "stream",
     "text": [
      "We will study NLP today\n",
      "NLP stands for Natural Language Processing\n",
      "We are failing to understand NLP\n"
     ]
    }
   ],
   "source": [
    "for i in t:\n",
    "    print(i)"
   ]
  },
  {
   "cell_type": "code",
   "execution_count": null,
   "id": "7a29f142",
   "metadata": {},
   "outputs": [],
   "source": []
  },
  {
   "cell_type": "code",
   "execution_count": 9,
   "id": "28011fe0",
   "metadata": {},
   "outputs": [],
   "source": [
    "vect=TfidfVectorizer()"
   ]
  },
  {
   "cell_type": "code",
   "execution_count": 10,
   "id": "8f8aeae1",
   "metadata": {},
   "outputs": [
    {
     "data": {
      "text/plain": [
       "TfidfVectorizer()"
      ]
     },
     "execution_count": 10,
     "metadata": {},
     "output_type": "execute_result"
    }
   ],
   "source": [
    "vect.fit(t)"
   ]
  },
  {
   "cell_type": "code",
   "execution_count": null,
   "id": "c7ae4609",
   "metadata": {},
   "outputs": [],
   "source": []
  },
  {
   "cell_type": "markdown",
   "id": "5030acdd",
   "metadata": {},
   "source": [
    "<br>**<div class='alert alert-info'>Inverse Document Frequency:</div>**<br> Mainly, it tests how relevant the word is. The key aim of the search is to locate the appropriate records that fit the demand. Since tf considers all terms equally significant, it is therefore not only <br>possible to use the term frequencies to measure the weight of the term in the paper. First, find the document frequency<br> of a term t by counting the number of documents containing the term:<br>\n",
    "**df(t) = N(t)**<br>\n",
    "where<br>\n",
    "df(t) = Document frequency of a term t<br>\n",
    "N(t) = Number of documents containing the term t<br>\n",
    "Term frequency is the number of instances of a term in a single document only; although the frequency of the document is <br>the number of separate documents in which the term appears, it depends on the entire corpus. Now let’s look at the <br>definition of the frequency of the inverse paper. The IDF of the word is the number of documents in the corpus <br>separated by the frequency of the text.<br><br>\n",
    "\n",
    "**idf(t) = N/ df(t) = N/N(t)**<br>\n",
    "The more common word is supposed to be considered less significant, but the element (most definite integers) seems too <br>harsh. We then take the logarithm (with base 2) of the inverse frequency of the paper. So the if of the term t becomes:<br><br>\n",
    "\n",
    "**idf(t) = log(N/ df(t))**<br>"
   ]
  },
  {
   "cell_type": "code",
   "execution_count": null,
   "id": "61499236",
   "metadata": {},
   "outputs": [],
   "source": []
  },
  {
   "cell_type": "code",
   "execution_count": 13,
   "id": "425d22dc",
   "metadata": {},
   "outputs": [
    {
     "name": "stdout",
     "output_type": "stream",
     "text": [
      "{'we': 12, 'will': 13, 'study': 8, 'nlp': 5, 'today': 10, 'stands': 7, 'for': 2, 'natural': 4, 'language': 3, 'processing': 6, 'are': 0, 'failing': 1, 'to': 9, 'understand': 11}\n"
     ]
    }
   ],
   "source": [
    "print(vect.vocabulary_)"
   ]
  },
  {
   "cell_type": "code",
   "execution_count": null,
   "id": "e471e16b",
   "metadata": {},
   "outputs": [],
   "source": []
  },
  {
   "cell_type": "markdown",
   "id": "e9b13754",
   "metadata": {},
   "source": [
    "So now we will be finding out the idf of the words "
   ]
  },
  {
   "cell_type": "code",
   "execution_count": null,
   "id": "98a27200",
   "metadata": {},
   "outputs": [],
   "source": []
  },
  {
   "cell_type": "code",
   "execution_count": 14,
   "id": "684a2688",
   "metadata": {},
   "outputs": [
    {
     "data": {
      "text/plain": [
       "array([1.69314718, 1.69314718, 1.69314718, 1.69314718, 1.69314718,\n",
       "       1.        , 1.69314718, 1.69314718, 1.69314718, 1.69314718,\n",
       "       1.69314718, 1.69314718, 1.28768207, 1.69314718])"
      ]
     },
     "execution_count": 14,
     "metadata": {},
     "output_type": "execute_result"
    }
   ],
   "source": [
    "vect.idf_"
   ]
  },
  {
   "cell_type": "markdown",
   "id": "b519a68a",
   "metadata": {},
   "source": [
    "- **Words which are present in all the sentences or documents will have the minimum idf value**\n",
    "- **We can see the index 5 is NLP and it is having the value 1**(which is the minimum) **since NLP is present in all the 3 sentences we have given in the list**\n"
   ]
  },
  {
   "cell_type": "code",
   "execution_count": null,
   "id": "abf0ff5f",
   "metadata": {},
   "outputs": [],
   "source": []
  },
  {
   "cell_type": "code",
   "execution_count": null,
   "id": "60c29255",
   "metadata": {},
   "outputs": [],
   "source": []
  },
  {
   "cell_type": "markdown",
   "id": "77479c88",
   "metadata": {},
   "source": [
    "**Lets take the first sentence and try trnasform it into \"vect\" and see the output**"
   ]
  },
  {
   "cell_type": "code",
   "execution_count": 15,
   "id": "3db472de",
   "metadata": {},
   "outputs": [
    {
     "data": {
      "text/plain": [
       "'We will study NLP today'"
      ]
     },
     "execution_count": 15,
     "metadata": {},
     "output_type": "execute_result"
    }
   ],
   "source": [
    "first=t[0]\n",
    "first"
   ]
  },
  {
   "cell_type": "code",
   "execution_count": 16,
   "id": "fcbaae0f",
   "metadata": {},
   "outputs": [],
   "source": [
    "v=vect.transform([first])"
   ]
  },
  {
   "cell_type": "code",
   "execution_count": 17,
   "id": "5ab0cd9a",
   "metadata": {},
   "outputs": [
    {
     "name": "stdout",
     "output_type": "stream",
     "text": [
      "[[0.         0.         0.         0.         0.         0.29803159\n",
      "  0.         0.         0.50461134 0.         0.50461134 0.\n",
      "  0.38376993 0.50461134]]\n"
     ]
    }
   ],
   "source": [
    "print(v.toarray())"
   ]
  },
  {
   "cell_type": "code",
   "execution_count": 18,
   "id": "d32a9d53",
   "metadata": {},
   "outputs": [
    {
     "name": "stdout",
     "output_type": "stream",
     "text": [
      "We will study NLP today\n",
      "NLP stands for Natural Language Processing\n",
      "We are failing to understand NLP\n"
     ]
    }
   ],
   "source": [
    "for i in t:\n",
    "    print(i)"
   ]
  },
  {
   "cell_type": "markdown",
   "id": "328cccc9",
   "metadata": {},
   "source": [
    "- **The indexes which are given 0 those are the words not present in the first sentence at all<br>\n",
    "   for example :<br>\n",
    "   index 0 and 1 are the words {<font color='blue'>'are' and 'failing'</font>} which are not present in the first sentence so they are having the value 0**<br>\n",
    "<br>\n",
    "- **Index 8,10,13 are the words {<font color='blue'>study,today and will</font>} are the unique words which are present only in the first sentence so they are containing the highest value**(which is 0.50461134)"
   ]
  },
  {
   "cell_type": "code",
   "execution_count": null,
   "id": "9653b488",
   "metadata": {},
   "outputs": [],
   "source": []
  },
  {
   "cell_type": "markdown",
   "id": "dadf7251",
   "metadata": {},
   "source": [
    "## <div class='alert alert-danger'><font color='black'> Lets do the same thing in a different way</font></div>"
   ]
  },
  {
   "cell_type": "code",
   "execution_count": 19,
   "id": "4d9f4a51",
   "metadata": {},
   "outputs": [],
   "source": [
    "from pandas import DataFrame"
   ]
  },
  {
   "cell_type": "code",
   "execution_count": 20,
   "id": "f85f17b0",
   "metadata": {},
   "outputs": [],
   "source": [
    "t2=['Eshant is studying from GFG','GFG is providing an NLP course']"
   ]
  },
  {
   "cell_type": "code",
   "execution_count": 21,
   "id": "35f2b58a",
   "metadata": {},
   "outputs": [],
   "source": [
    "tf= TfidfVectorizer()"
   ]
  },
  {
   "cell_type": "code",
   "execution_count": 22,
   "id": "ab907533",
   "metadata": {},
   "outputs": [],
   "source": [
    "matrix=tf.fit_transform(t2)"
   ]
  },
  {
   "cell_type": "code",
   "execution_count": 23,
   "id": "b6cb9aa1",
   "metadata": {},
   "outputs": [
    {
     "data": {
      "text/html": [
       "<div>\n",
       "<style scoped>\n",
       "    .dataframe tbody tr th:only-of-type {\n",
       "        vertical-align: middle;\n",
       "    }\n",
       "\n",
       "    .dataframe tbody tr th {\n",
       "        vertical-align: top;\n",
       "    }\n",
       "\n",
       "    .dataframe thead th {\n",
       "        text-align: right;\n",
       "    }\n",
       "</style>\n",
       "<table border=\"1\" class=\"dataframe\">\n",
       "  <thead>\n",
       "    <tr style=\"text-align: right;\">\n",
       "      <th></th>\n",
       "      <th>an</th>\n",
       "      <th>course</th>\n",
       "      <th>eshant</th>\n",
       "      <th>from</th>\n",
       "      <th>gfg</th>\n",
       "      <th>is</th>\n",
       "      <th>nlp</th>\n",
       "      <th>providing</th>\n",
       "      <th>studying</th>\n",
       "    </tr>\n",
       "  </thead>\n",
       "  <tbody>\n",
       "    <tr>\n",
       "      <th>0</th>\n",
       "      <td>0.000000</td>\n",
       "      <td>0.000000</td>\n",
       "      <td>0.499221</td>\n",
       "      <td>0.499221</td>\n",
       "      <td>0.3552</td>\n",
       "      <td>0.3552</td>\n",
       "      <td>0.000000</td>\n",
       "      <td>0.000000</td>\n",
       "      <td>0.499221</td>\n",
       "    </tr>\n",
       "    <tr>\n",
       "      <th>1</th>\n",
       "      <td>0.446656</td>\n",
       "      <td>0.446656</td>\n",
       "      <td>0.000000</td>\n",
       "      <td>0.000000</td>\n",
       "      <td>0.3178</td>\n",
       "      <td>0.3178</td>\n",
       "      <td>0.446656</td>\n",
       "      <td>0.446656</td>\n",
       "      <td>0.000000</td>\n",
       "    </tr>\n",
       "  </tbody>\n",
       "</table>\n",
       "</div>"
      ],
      "text/plain": [
       "         an    course    eshant      from     gfg      is       nlp  \\\n",
       "0  0.000000  0.000000  0.499221  0.499221  0.3552  0.3552  0.000000   \n",
       "1  0.446656  0.446656  0.000000  0.000000  0.3178  0.3178  0.446656   \n",
       "\n",
       "   providing  studying  \n",
       "0   0.000000  0.499221  \n",
       "1   0.446656  0.000000  "
      ]
     },
     "execution_count": 23,
     "metadata": {},
     "output_type": "execute_result"
    }
   ],
   "source": [
    "DataFrame(matrix.toarray(),columns=tf.get_feature_names())"
   ]
  },
  {
   "cell_type": "code",
   "execution_count": null,
   "id": "c5418ee9",
   "metadata": {},
   "outputs": [],
   "source": []
  },
  {
   "cell_type": "markdown",
   "id": "c8df4e86",
   "metadata": {},
   "source": [
    "                                               #Happy Learning"
   ]
  }
 ],
 "metadata": {
  "kernelspec": {
   "display_name": "Python 3",
   "language": "python",
   "name": "python3"
  },
  "language_info": {
   "codemirror_mode": {
    "name": "ipython",
    "version": 3
   },
   "file_extension": ".py",
   "mimetype": "text/x-python",
   "name": "python",
   "nbconvert_exporter": "python",
   "pygments_lexer": "ipython3",
   "version": "3.8.8"
  }
 },
 "nbformat": 4,
 "nbformat_minor": 5
}
