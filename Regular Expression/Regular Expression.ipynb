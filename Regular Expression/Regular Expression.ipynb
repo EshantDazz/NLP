{
 "cells": [
  {
   "cell_type": "markdown",
   "id": "33d9c777",
   "metadata": {},
   "source": [
    "# <font color=red> Regular Expression </font>"
   ]
  },
  {
   "cell_type": "code",
   "execution_count": 1,
   "id": "0a85a7af",
   "metadata": {},
   "outputs": [],
   "source": [
    "import re"
   ]
  },
  {
   "cell_type": "markdown",
   "id": "4c2a9fe5",
   "metadata": {},
   "source": [
    "**Just normal way to check if a text is present in a string**"
   ]
  },
  {
   "cell_type": "code",
   "execution_count": 2,
   "id": "cc555e26",
   "metadata": {},
   "outputs": [
    {
     "data": {
      "text/plain": [
       "True"
      ]
     },
     "execution_count": 2,
     "metadata": {},
     "output_type": "execute_result"
    }
   ],
   "source": [
    "'are' in 'Hello, how are you'"
   ]
  },
  {
   "cell_type": "code",
   "execution_count": 3,
   "id": "e0129f4b",
   "metadata": {},
   "outputs": [
    {
     "data": {
      "text/plain": [
       "True"
      ]
     },
     "execution_count": 3,
     "metadata": {},
     "output_type": "execute_result"
    }
   ],
   "source": [
    "a='Eshant'\n",
    "b='Eshant is happy'\n",
    "a in b"
   ]
  },
  {
   "cell_type": "raw",
   "id": "aed8f990",
   "metadata": {},
   "source": []
  },
  {
   "cell_type": "code",
   "execution_count": 4,
   "id": "8be25fc3",
   "metadata": {},
   "outputs": [],
   "source": [
    "search=re.search(a,b)"
   ]
  },
  {
   "cell_type": "markdown",
   "id": "b0ee84a3",
   "metadata": {},
   "source": [
    "**To check the span of the text present in the string**"
   ]
  },
  {
   "cell_type": "code",
   "execution_count": 5,
   "id": "ca98d5d2",
   "metadata": {},
   "outputs": [
    {
     "data": {
      "text/plain": [
       "(0, 6)"
      ]
     },
     "execution_count": 5,
     "metadata": {},
     "output_type": "execute_result"
    }
   ],
   "source": [
    "search.span()"
   ]
  },
  {
   "cell_type": "markdown",
   "id": "8d67268f",
   "metadata": {},
   "source": [
    "**To check the start and end of the text in the string**"
   ]
  },
  {
   "cell_type": "code",
   "execution_count": 6,
   "id": "b4c38bd1",
   "metadata": {},
   "outputs": [
    {
     "data": {
      "text/plain": [
       "0"
      ]
     },
     "execution_count": 6,
     "metadata": {},
     "output_type": "execute_result"
    }
   ],
   "source": [
    "search.start()"
   ]
  },
  {
   "cell_type": "code",
   "execution_count": 7,
   "id": "5af7ac7a",
   "metadata": {},
   "outputs": [
    {
     "data": {
      "text/plain": [
       "6"
      ]
     },
     "execution_count": 7,
     "metadata": {},
     "output_type": "execute_result"
    }
   ],
   "source": [
    "search.end()"
   ]
  },
  {
   "cell_type": "code",
   "execution_count": null,
   "id": "a8b1e83b",
   "metadata": {},
   "outputs": [],
   "source": []
  },
  {
   "cell_type": "code",
   "execution_count": 8,
   "id": "fa3cad78",
   "metadata": {},
   "outputs": [],
   "source": [
    "text=\"This Audi car is one of the best Audi cars\""
   ]
  },
  {
   "cell_type": "markdown",
   "id": "a9fb3a57",
   "metadata": {},
   "source": [
    "In this case `Audi` word is present more than once"
   ]
  },
  {
   "cell_type": "markdown",
   "id": "95592263",
   "metadata": {},
   "source": [
    "So when we do the normal way"
   ]
  },
  {
   "cell_type": "code",
   "execution_count": 9,
   "id": "fed6ae4d",
   "metadata": {},
   "outputs": [],
   "source": [
    "s=re.search('Audi',text)"
   ]
  },
  {
   "cell_type": "code",
   "execution_count": 10,
   "id": "8c26b056",
   "metadata": {},
   "outputs": [
    {
     "data": {
      "text/plain": [
       "(5, 9)"
      ]
     },
     "execution_count": 10,
     "metadata": {},
     "output_type": "execute_result"
    }
   ],
   "source": [
    "s.span()"
   ]
  },
  {
   "cell_type": "markdown",
   "id": "f685577e",
   "metadata": {},
   "source": [
    "It is returning the span of the `Audi` word which is present first"
   ]
  },
  {
   "cell_type": "markdown",
   "id": "e179351c",
   "metadata": {},
   "source": [
    "**To check how many same words are present in the string**"
   ]
  },
  {
   "cell_type": "code",
   "execution_count": 11,
   "id": "94e95529",
   "metadata": {},
   "outputs": [],
   "source": [
    "a=re.findall(\"Audi\",text)"
   ]
  },
  {
   "cell_type": "code",
   "execution_count": 12,
   "id": "89c0b3b4",
   "metadata": {},
   "outputs": [
    {
     "data": {
      "text/plain": [
       "['Audi', 'Audi']"
      ]
     },
     "execution_count": 12,
     "metadata": {},
     "output_type": "execute_result"
    }
   ],
   "source": [
    "a"
   ]
  },
  {
   "cell_type": "code",
   "execution_count": 13,
   "id": "8d094c85",
   "metadata": {},
   "outputs": [
    {
     "data": {
      "text/plain": [
       "2"
      ]
     },
     "execution_count": 13,
     "metadata": {},
     "output_type": "execute_result"
    }
   ],
   "source": [
    "len(a)"
   ]
  },
  {
   "cell_type": "markdown",
   "id": "665a05b5",
   "metadata": {},
   "source": [
    "2 Audi are present"
   ]
  },
  {
   "cell_type": "raw",
   "id": "c516e6fa",
   "metadata": {},
   "source": []
  },
  {
   "cell_type": "markdown",
   "id": "835ce9d4",
   "metadata": {},
   "source": [
    "**To get the span of all `Audi` present we use the function <font color='green'> finditer </font>**"
   ]
  },
  {
   "cell_type": "code",
   "execution_count": 14,
   "id": "cb0c7c77",
   "metadata": {},
   "outputs": [
    {
     "name": "stdout",
     "output_type": "stream",
     "text": [
      "(5, 9)\n",
      "(33, 37)\n"
     ]
    }
   ],
   "source": [
    "for s in re.finditer('Audi',text):\n",
    "    print(s.span())"
   ]
  },
  {
   "cell_type": "raw",
   "id": "80306e7b",
   "metadata": {},
   "source": []
  },
  {
   "cell_type": "raw",
   "id": "898317f3",
   "metadata": {},
   "source": []
  },
  {
   "cell_type": "markdown",
   "id": "cf866f32",
   "metadata": {},
   "source": [
    "# <font color='green'> Identifiers for characters in Python</font>"
   ]
  },
  {
   "cell_type": "markdown",
   "id": "7aaea815",
   "metadata": {},
   "source": [
    "**Below you can find a table of all the possible identifiers:**"
   ]
  },
  {
   "cell_type": "raw",
   "id": "27be6513",
   "metadata": {},
   "source": []
  },
  {
   "cell_type": "markdown",
   "id": "b69dd7bf",
   "metadata": {},
   "source": [
    "<table ><tr><th>Character</th><th>Description</th><th>Example Pattern Code</th><th >Exammple Match</th></tr>\n",
    "\n",
    "<tr ><td><span >\\d</span></td><td>A digit</td><td>file_\\d\\d</td><td>file_25</td></tr>\n",
    "\n",
    "<tr ><td><span >\\w</span></td><td>Alphanumeric</td><td>\\w-\\w\\w\\w</td><td>A-b_1</td></tr>\n",
    "\n",
    "\n",
    "\n",
    "<tr ><td><span >\\s</span></td><td>White space</td><td>a\\sb\\sc</td><td>a b c</td></tr>\n",
    "\n",
    "\n",
    "\n",
    "<tr ><td><span >\\D</span></td><td>A non digit</td><td>\\D\\D\\D</td><td>ABC</td></tr>\n",
    "\n",
    "<tr ><td><span >\\W</span></td><td>Non-alphanumeric</td><td>\\W\\W\\W\\W\\W</td><td>*-+=)</td></tr>\n",
    "\n",
    "<tr ><td><span >\\S</span></td><td>Non-whitespace</td><td>\\S\\S\\S\\S</td><td>Yoyo</td></tr></table>"
   ]
  },
  {
   "cell_type": "raw",
   "id": "0ff94bd8",
   "metadata": {},
   "source": []
  },
  {
   "cell_type": "raw",
   "id": "7d94d15c",
   "metadata": {},
   "source": []
  },
  {
   "attachments": {
    "1.jpeg": {
     "image/jpeg": "[encoded data removed]"
    }
   },
   "cell_type": "markdown",
   "id": "9efc7a6e",
   "metadata": {},
   "source": [
    "![1.jpeg](attachment:1.jpeg)"
   ]
  },
  {
   "attachments": {
    "2.jpeg": {
     "image/jpeg": "[encoded data removed]"
    }
   },
   "cell_type": "markdown",
   "id": "9afdf576",
   "metadata": {},
   "source": [
    "![2.jpeg](attachment:2.jpeg)"
   ]
  },
  {
   "cell_type": "code",
   "execution_count": null,
   "id": "ecc5b19a",
   "metadata": {},
   "outputs": [],
   "source": []
  },
  {
   "cell_type": "markdown",
   "id": "9b939788",
   "metadata": {},
   "source": [
    "### Lets see how these works"
   ]
  },
  {
   "cell_type": "code",
   "execution_count": 15,
   "id": "59ef52f3",
   "metadata": {},
   "outputs": [],
   "source": [
    "text='My telephone number is 444-777-3950'"
   ]
  },
  {
   "cell_type": "code",
   "execution_count": 16,
   "id": "25aa70c2",
   "metadata": {},
   "outputs": [
    {
     "data": {
      "text/plain": [
       "'My telephone number is 444-777-3950'"
      ]
     },
     "execution_count": 16,
     "metadata": {},
     "output_type": "execute_result"
    }
   ],
   "source": [
    "text"
   ]
  },
  {
   "cell_type": "code",
   "execution_count": 17,
   "id": "730f2616",
   "metadata": {},
   "outputs": [],
   "source": [
    "pattern=r'\\d\\d\\d-\\d\\d\\d-\\d\\d\\d\\d'"
   ]
  },
  {
   "cell_type": "code",
   "execution_count": 18,
   "id": "3378631e",
   "metadata": {},
   "outputs": [],
   "source": [
    "phone_number=re.search(pattern,text)"
   ]
  },
  {
   "cell_type": "code",
   "execution_count": 19,
   "id": "0a2b75a8",
   "metadata": {},
   "outputs": [
    {
     "data": {
      "text/plain": [
       "<re.Match object; span=(23, 35), match='444-777-3950'>"
      ]
     },
     "execution_count": 19,
     "metadata": {},
     "output_type": "execute_result"
    }
   ],
   "source": [
    "phone_number"
   ]
  },
  {
   "cell_type": "markdown",
   "id": "04f27f95",
   "metadata": {},
   "source": [
    "The pattern was found "
   ]
  },
  {
   "cell_type": "markdown",
   "id": "578a9e65",
   "metadata": {},
   "source": [
    "We can do the same thing in a shorter way"
   ]
  },
  {
   "cell_type": "code",
   "execution_count": 20,
   "id": "02a3a0ee",
   "metadata": {},
   "outputs": [],
   "source": [
    "pattern=r'\\d{3}-\\d{3}-\\d{4}'"
   ]
  },
  {
   "cell_type": "code",
   "execution_count": 21,
   "id": "7dd7f3f0",
   "metadata": {},
   "outputs": [
    {
     "data": {
      "text/plain": [
       "<re.Match object; span=(23, 35), match='444-777-3950'>"
      ]
     },
     "execution_count": 21,
     "metadata": {},
     "output_type": "execute_result"
    }
   ],
   "source": [
    "re.search(pattern,text)"
   ]
  },
  {
   "cell_type": "markdown",
   "id": "87c34cc7",
   "metadata": {},
   "source": [
    "**To get the actual number**"
   ]
  },
  {
   "cell_type": "code",
   "execution_count": 22,
   "id": "7f775975",
   "metadata": {},
   "outputs": [
    {
     "data": {
      "text/plain": [
       "'444-777-3950'"
      ]
     },
     "execution_count": 22,
     "metadata": {},
     "output_type": "execute_result"
    }
   ],
   "source": [
    "re.search(pattern,text).group()"
   ]
  },
  {
   "cell_type": "raw",
   "id": "018e9040",
   "metadata": {},
   "source": []
  },
  {
   "cell_type": "markdown",
   "id": "86564183",
   "metadata": {},
   "source": [
    "<table ><tr><th>Character</th><th>Description</th><th>Example Pattern Code</th><th >Exammple Match</th></tr>\n",
    "\n",
    "<tr ><td><span >+</span></td><td>Occurs one or more times</td><td>\tVersion \\w-\\w+</td><td>Version A-b1_1</td></tr>\n",
    "\n",
    "<tr ><td><span >{3}</span></td><td>Occurs exactly 3 times</td><td>\\D{3}</td><td>abc</td></tr>\n",
    "\n",
    "\n",
    "\n",
    "<tr ><td><span >{2,4}</span></td><td>Occurs 2 to 4 times</td><td>\\d{2,4}</td><td>123</td></tr>\n",
    "\n",
    "\n",
    "\n",
    "<tr ><td><span >{3,}</span></td><td>Occurs 3 or more</td><td>\\w{3,}</td><td>anycharacters</td></tr>\n",
    "\n",
    "<tr ><td><span >\\*</span></td><td>Occurs zero or more times</td><td>A\\*B\\*C*</td><td>AAACC</td></tr>\n",
    "\n",
    "<tr ><td><span >?</span></td><td>Once or none</td><td>plurals?</td><td>plural</td></tr></table>"
   ]
  },
  {
   "cell_type": "raw",
   "id": "37560cdd",
   "metadata": {},
   "source": []
  },
  {
   "cell_type": "raw",
   "id": "3d1381b6",
   "metadata": {},
   "source": []
  },
  {
   "attachments": {
    "3.jpeg": {
     "image/jpeg": "[encoded data removed]"
    }
   },
   "cell_type": "markdown",
   "id": "69803202",
   "metadata": {},
   "source": [
    "![3.jpeg](attachment:3.jpeg)"
   ]
  },
  {
   "attachments": {
    "4.jpeg": {
     "image/jpeg": "[encoded data removed]"
    }
   },
   "cell_type": "markdown",
   "id": "dc365f7d",
   "metadata": {},
   "source": [
    "![4.jpeg](attachment:4.jpeg)"
   ]
  },
  {
   "attachments": {
    "5.jpeg": {
     "image/jpeg": "[encoded data removed]"
    }
   },
   "cell_type": "markdown",
   "id": "6340886b",
   "metadata": {},
   "source": [
    "![5.jpeg](attachment:5.jpeg)"
   ]
  },
  {
   "cell_type": "raw",
   "id": "910791b5",
   "metadata": {},
   "source": []
  },
  {
   "cell_type": "raw",
   "id": "f7c0b7ad",
   "metadata": {},
   "source": []
  },
  {
   "cell_type": "markdown",
   "id": "45665d2a",
   "metadata": {},
   "source": [
    "**Using findall in more ways**"
   ]
  },
  {
   "cell_type": "code",
   "execution_count": 23,
   "id": "88efaaf9",
   "metadata": {},
   "outputs": [
    {
     "data": {
      "text/plain": [
       "['at', 'at', 'at']"
      ]
     },
     "execution_count": 23,
     "metadata": {},
     "output_type": "execute_result"
    }
   ],
   "source": [
    "re.findall(r'at','The cat sat in the mat')"
   ]
  },
  {
   "cell_type": "markdown",
   "id": "6a59038f",
   "metadata": {},
   "source": [
    "<font color='blue'> **\"\".\"\"** </font> is a wildcard which we can use to get the letter before the pattern"
   ]
  },
  {
   "cell_type": "code",
   "execution_count": 24,
   "id": "a3c981e5",
   "metadata": {},
   "outputs": [
    {
     "data": {
      "text/plain": [
       "['cat', 'sat', 'mat']"
      ]
     },
     "execution_count": 24,
     "metadata": {},
     "output_type": "execute_result"
    }
   ],
   "source": [
    "re.findall(r'.at','The cat sat in the mat') # Here we have put . before at"
   ]
  },
  {
   "cell_type": "markdown",
   "id": "62661a77",
   "metadata": {},
   "source": [
    "If we need two letters before the pattern we apply two ''.''"
   ]
  },
  {
   "cell_type": "code",
   "execution_count": 25,
   "id": "8810731e",
   "metadata": {},
   "outputs": [
    {
     "data": {
      "text/plain": [
       "['brat', 'ssat', 'quat']"
      ]
     },
     "execution_count": 25,
     "metadata": {},
     "output_type": "execute_result"
    }
   ],
   "source": [
    "re.findall(r'..at','The brat ssat in the quat')\n",
    "#There are no words like this so please ignore it is just for you to understand the code"
   ]
  },
  {
   "cell_type": "code",
   "execution_count": null,
   "id": "638e98bd",
   "metadata": {},
   "outputs": [],
   "source": []
  },
  {
   "cell_type": "markdown",
   "id": "7ad031f3",
   "metadata": {},
   "source": [
    "**^ and $ signs to show ends with and starts with**"
   ]
  },
  {
   "cell_type": "code",
   "execution_count": 26,
   "id": "4bbecffe",
   "metadata": {},
   "outputs": [],
   "source": [
    "s=re.search(r\"\\d$\",'This is a number 6')"
   ]
  },
  {
   "cell_type": "code",
   "execution_count": 27,
   "id": "81c5cdd8",
   "metadata": {},
   "outputs": [
    {
     "data": {
      "text/plain": [
       "<re.Match object; span=(17, 18), match='6'>"
      ]
     },
     "execution_count": 27,
     "metadata": {},
     "output_type": "execute_result"
    }
   ],
   "source": [
    "s"
   ]
  },
  {
   "cell_type": "code",
   "execution_count": 28,
   "id": "69e8cfbf",
   "metadata": {},
   "outputs": [
    {
     "data": {
      "text/plain": [
       "'6'"
      ]
     },
     "execution_count": 28,
     "metadata": {},
     "output_type": "execute_result"
    }
   ],
   "source": [
    "s.group()"
   ]
  },
  {
   "cell_type": "code",
   "execution_count": null,
   "id": "d9d7d5ed",
   "metadata": {},
   "outputs": [],
   "source": []
  },
  {
   "cell_type": "code",
   "execution_count": 1,
   "id": "ba4e10ca",
   "metadata": {},
   "outputs": [
    {
     "ename": "NameError",
     "evalue": "name 're' is not defined",
     "output_type": "error",
     "traceback": [
      "\u001b[1;31m---------------------------------------------------------------------------\u001b[0m",
      "\u001b[1;31mNameError\u001b[0m                                 Traceback (most recent call last)",
      "\u001b[1;32m<ipython-input-1-92185c9fbca1>\u001b[0m in \u001b[0;36m<module>\u001b[1;34m\u001b[0m\n\u001b[1;32m----> 1\u001b[1;33m \u001b[0ms\u001b[0m\u001b[1;33m=\u001b[0m\u001b[0mre\u001b[0m\u001b[1;33m.\u001b[0m\u001b[0msearch\u001b[0m\u001b[1;33m(\u001b[0m\u001b[1;34mr\"^[A-Z]\"\u001b[0m\u001b[1;33m,\u001b[0m\u001b[1;34m\"hello\"\u001b[0m\u001b[1;33m)\u001b[0m\u001b[1;33m\u001b[0m\u001b[1;33m\u001b[0m\u001b[0m\n\u001b[0m",
      "\u001b[1;31mNameError\u001b[0m: name 're' is not defined"
     ]
    }
   ],
   "source": [
    "s=re.search(r\"^[A-Z]\",\"hello\")"
   ]
  },
  {
   "cell_type": "code",
   "execution_count": 30,
   "id": "f769358a",
   "metadata": {},
   "outputs": [],
   "source": [
    "s"
   ]
  },
  {
   "cell_type": "markdown",
   "id": "731d7096",
   "metadata": {},
   "source": [
    "No output since 'h' doesn't fall between A-Z"
   ]
  },
  {
   "cell_type": "code",
   "execution_count": 31,
   "id": "4d715cdf",
   "metadata": {},
   "outputs": [],
   "source": [
    "s=re.search(r\"^[A-Z]\",\"Hello\")"
   ]
  },
  {
   "cell_type": "code",
   "execution_count": 32,
   "id": "9ec6e335",
   "metadata": {},
   "outputs": [
    {
     "data": {
      "text/plain": [
       "<re.Match object; span=(0, 1), match='H'>"
      ]
     },
     "execution_count": 32,
     "metadata": {},
     "output_type": "execute_result"
    }
   ],
   "source": [
    "s"
   ]
  },
  {
   "cell_type": "code",
   "execution_count": 33,
   "id": "c5f408f3",
   "metadata": {},
   "outputs": [
    {
     "data": {
      "text/plain": [
       "'H'"
      ]
     },
     "execution_count": 33,
     "metadata": {},
     "output_type": "execute_result"
    }
   ],
   "source": [
    "s.group()"
   ]
  },
  {
   "cell_type": "code",
   "execution_count": 34,
   "id": "36e4de92",
   "metadata": {},
   "outputs": [],
   "source": [
    "s=re.findall(r\"^[A-Z]\",\"HEllo Boy\")"
   ]
  },
  {
   "cell_type": "code",
   "execution_count": 35,
   "id": "a7218386",
   "metadata": {},
   "outputs": [
    {
     "data": {
      "text/plain": [
       "['H']"
      ]
     },
     "execution_count": 35,
     "metadata": {},
     "output_type": "execute_result"
    }
   ],
   "source": [
    "s"
   ]
  },
  {
   "cell_type": "markdown",
   "id": "b9defae8",
   "metadata": {},
   "source": [
    "Since it is starting with 'H' it is giving us a valid output"
   ]
  },
  {
   "cell_type": "code",
   "execution_count": null,
   "id": "a8138714",
   "metadata": {},
   "outputs": [],
   "source": []
  },
  {
   "cell_type": "markdown",
   "id": "61bc8b0c",
   "metadata": {},
   "source": [
    "**If we add ^ inside [ ] it would mean exclusion**"
   ]
  },
  {
   "cell_type": "code",
   "execution_count": 36,
   "id": "81bc3236",
   "metadata": {},
   "outputs": [],
   "source": [
    "t='Eshant 50 Happy'"
   ]
  },
  {
   "cell_type": "code",
   "execution_count": 37,
   "id": "e9560bde",
   "metadata": {},
   "outputs": [
    {
     "data": {
      "text/plain": [
       "['E', 's', 'h', 'a', 'n', 't', ' ', ' ', 'H', 'a', 'p', 'p', 'y']"
      ]
     },
     "execution_count": 37,
     "metadata": {},
     "output_type": "execute_result"
    }
   ],
   "source": [
    "re.findall(r'[^\\d]',t)"
   ]
  },
  {
   "cell_type": "code",
   "execution_count": 38,
   "id": "3720d77d",
   "metadata": {},
   "outputs": [
    {
     "data": {
      "text/plain": [
       "['Eshant ', ' Happy']"
      ]
     },
     "execution_count": 38,
     "metadata": {},
     "output_type": "execute_result"
    }
   ],
   "source": [
    "re.findall(r'[^\\d]+',t)"
   ]
  },
  {
   "cell_type": "code",
   "execution_count": 39,
   "id": "8834a653",
   "metadata": {},
   "outputs": [
    {
     "data": {
      "text/plain": [
       "['5', '0']"
      ]
     },
     "execution_count": 39,
     "metadata": {},
     "output_type": "execute_result"
    }
   ],
   "source": [
    "re.findall(r'[\\d]',t)"
   ]
  },
  {
   "cell_type": "code",
   "execution_count": null,
   "id": "522b619e",
   "metadata": {},
   "outputs": [],
   "source": []
  },
  {
   "cell_type": "markdown",
   "id": "f9b7d510",
   "metadata": {},
   "source": [
    "**To remove any signs or whatsoever we want from a string**"
   ]
  },
  {
   "cell_type": "code",
   "execution_count": 40,
   "id": "31701015",
   "metadata": {},
   "outputs": [],
   "source": [
    "t='Eshant is happy! But, why is he not playing?'"
   ]
  },
  {
   "cell_type": "code",
   "execution_count": 41,
   "id": "27aa800b",
   "metadata": {},
   "outputs": [],
   "source": [
    "l=re.findall(r'[^!,?]+',t)"
   ]
  },
  {
   "cell_type": "code",
   "execution_count": 42,
   "id": "5eab3a2d",
   "metadata": {},
   "outputs": [
    {
     "data": {
      "text/plain": [
       "['Eshant is happy', ' But', ' why is he not playing']"
      ]
     },
     "execution_count": 42,
     "metadata": {},
     "output_type": "execute_result"
    }
   ],
   "source": [
    "l"
   ]
  },
  {
   "cell_type": "code",
   "execution_count": 43,
   "id": "44db22de",
   "metadata": {},
   "outputs": [],
   "source": [
    "s=''.join(l)"
   ]
  },
  {
   "cell_type": "code",
   "execution_count": 44,
   "id": "0b975d50",
   "metadata": {},
   "outputs": [
    {
     "data": {
      "text/plain": [
       "'Eshant is happy But why is he not playing'"
      ]
     },
     "execution_count": 44,
     "metadata": {},
     "output_type": "execute_result"
    }
   ],
   "source": [
    "s"
   ]
  },
  {
   "cell_type": "markdown",
   "id": "c7eb473d",
   "metadata": {},
   "source": [
    "<font color=blue> Converted </font>"
   ]
  },
  {
   "cell_type": "raw",
   "id": "b67f3a5a",
   "metadata": {},
   "source": []
  },
  {
   "cell_type": "markdown",
   "id": "01554d91",
   "metadata": {},
   "source": [
    "**To find patterns like Geeks-for-Geeks, patterns with hyphens**"
   ]
  },
  {
   "cell_type": "code",
   "execution_count": 45,
   "id": "7aab6a67",
   "metadata": {},
   "outputs": [],
   "source": [
    "t=\"Hello I am studing from Geeks-for-Geeks and it is amazing. Let's see how this works-out\""
   ]
  },
  {
   "cell_type": "code",
   "execution_count": 46,
   "id": "d4dae050",
   "metadata": {},
   "outputs": [
    {
     "data": {
      "text/plain": [
       "['Geeks-for', 'works-out']"
      ]
     },
     "execution_count": 46,
     "metadata": {},
     "output_type": "execute_result"
    }
   ],
   "source": [
    "re.findall(r'[\\w]+-[\\w]+',t)"
   ]
  },
  {
   "cell_type": "code",
   "execution_count": null,
   "id": "5b64b56c",
   "metadata": {},
   "outputs": [],
   "source": []
  },
  {
   "cell_type": "markdown",
   "id": "1c448b73",
   "metadata": {},
   "source": [
    "# Checking different types of mail"
   ]
  },
  {
   "cell_type": "code",
   "execution_count": 47,
   "id": "a465f909",
   "metadata": {},
   "outputs": [],
   "source": [
    "p=r'[A-Za-z0-9.]+@[\\w]+.\\w{3}'"
   ]
  },
  {
   "cell_type": "code",
   "execution_count": 70,
   "id": "8ec290cc",
   "metadata": {},
   "outputs": [
    {
     "name": "stdout",
     "output_type": "stream",
     "text": [
      "Enter the mail eshant.542@gfg.org\n",
      "Pattern Found\n"
     ]
    }
   ],
   "source": [
    "m=input(\"Enter the mail \")\n",
    "if(re.search(p,m)):\n",
    "    print(\"Pattern Found\")\n",
    "else:\n",
    "    print(\"Not a right pattern\")\n"
   ]
  },
  {
   "cell_type": "code",
   "execution_count": 69,
   "id": "3f418a80",
   "metadata": {},
   "outputs": [
    {
     "name": "stdout",
     "output_type": "stream",
     "text": [
      "Enter the mail eshantdazz8945@gmail.com\n",
      "Pattern Found\n"
     ]
    }
   ],
   "source": [
    "m=input(\"Enter the mail \")\n",
    "if(re.search(p,m)):\n",
    "    print(\"Pattern Found\")\n",
    "else:\n",
    "    print(\"Not a right pattern\")"
   ]
  },
  {
   "cell_type": "code",
   "execution_count": 68,
   "id": "0a39fe64",
   "metadata": {},
   "outputs": [
    {
     "name": "stdout",
     "output_type": "stream",
     "text": [
      "Enter the mail Eshant\n",
      "Not a right pattern\n"
     ]
    }
   ],
   "source": [
    "m=input(\"Enter the mail \")\n",
    "if(re.search(p,m)):\n",
    "    print(\"Pattern Found\")\n",
    "else:\n",
    "    print(\"Not a right pattern\")"
   ]
  },
  {
   "cell_type": "code",
   "execution_count": 64,
   "id": "74844559",
   "metadata": {},
   "outputs": [
    {
     "name": "stdout",
     "output_type": "stream",
     "text": [
      "Enter the mailJayesh\n",
      "Not a right pattern\n"
     ]
    }
   ],
   "source": [
    "m=input(\"Enter the mail\")\n",
    "if(re.search(p,m)):\n",
    "    print(\"Pattern Found\")\n",
    "else:\n",
    "    print(\"Not a right pattern\")"
   ]
  },
  {
   "cell_type": "markdown",
   "id": "58b1c7b7",
   "metadata": {},
   "source": [
    "# To check for specific type of emails like gmail or gfg or anything"
   ]
  },
  {
   "cell_type": "markdown",
   "id": "a8468180",
   "metadata": {},
   "source": [
    "<font color='purple'>**To check for gfg.org email**</font>"
   ]
  },
  {
   "cell_type": "code",
   "execution_count": 119,
   "id": "a4afc191",
   "metadata": {},
   "outputs": [],
   "source": [
    "pattern=r'[A-Za-z0-9.]+@(gfg).(org)$'"
   ]
  },
  {
   "cell_type": "code",
   "execution_count": 120,
   "id": "cc71a96d",
   "metadata": {},
   "outputs": [],
   "source": [
    "text='eshant@gfg.org'"
   ]
  },
  {
   "cell_type": "code",
   "execution_count": 121,
   "id": "9ef904db",
   "metadata": {},
   "outputs": [
    {
     "data": {
      "text/plain": [
       "<re.Match object; span=(0, 14), match='eshant@gfg.org'>"
      ]
     },
     "execution_count": 121,
     "metadata": {},
     "output_type": "execute_result"
    }
   ],
   "source": [
    "re.search(pattern,text)"
   ]
  },
  {
   "cell_type": "code",
   "execution_count": 122,
   "id": "16ff60c8",
   "metadata": {},
   "outputs": [
    {
     "data": {
      "text/plain": [
       "'eshant@gfg.org'"
      ]
     },
     "execution_count": 122,
     "metadata": {},
     "output_type": "execute_result"
    }
   ],
   "source": [
    "re.search(pattern,text).group()"
   ]
  },
  {
   "cell_type": "raw",
   "id": "4be2b453",
   "metadata": {},
   "source": []
  },
  {
   "cell_type": "code",
   "execution_count": 123,
   "id": "eb47d595",
   "metadata": {},
   "outputs": [],
   "source": [
    "text='eshant@gmail.com'"
   ]
  },
  {
   "cell_type": "code",
   "execution_count": 124,
   "id": "e852c7c8",
   "metadata": {},
   "outputs": [],
   "source": [
    "re.search(pattern,text)"
   ]
  },
  {
   "cell_type": "markdown",
   "id": "10e7ecf1",
   "metadata": {},
   "source": [
    "No output so it doesn't match"
   ]
  },
  {
   "cell_type": "code",
   "execution_count": 125,
   "id": "df1bf37a",
   "metadata": {},
   "outputs": [
    {
     "ename": "AttributeError",
     "evalue": "'NoneType' object has no attribute 'group'",
     "output_type": "error",
     "traceback": [
      "\u001b[1;31m---------------------------------------------------------------------------\u001b[0m",
      "\u001b[1;31mAttributeError\u001b[0m                            Traceback (most recent call last)",
      "\u001b[1;32m<ipython-input-125-94a97c60419f>\u001b[0m in \u001b[0;36m<module>\u001b[1;34m\u001b[0m\n\u001b[1;32m----> 1\u001b[1;33m \u001b[0mre\u001b[0m\u001b[1;33m.\u001b[0m\u001b[0msearch\u001b[0m\u001b[1;33m(\u001b[0m\u001b[0mpattern\u001b[0m\u001b[1;33m,\u001b[0m\u001b[0mtext\u001b[0m\u001b[1;33m)\u001b[0m\u001b[1;33m.\u001b[0m\u001b[0mgroup\u001b[0m\u001b[1;33m(\u001b[0m\u001b[1;33m)\u001b[0m\u001b[1;33m\u001b[0m\u001b[1;33m\u001b[0m\u001b[0m\n\u001b[0m",
      "\u001b[1;31mAttributeError\u001b[0m: 'NoneType' object has no attribute 'group'"
     ]
    }
   ],
   "source": [
    "re.search(pattern,text).group()"
   ]
  },
  {
   "cell_type": "markdown",
   "id": "9c6462d6",
   "metadata": {},
   "source": [
    "We can see here it is giving error because we did not get any match"
   ]
  },
  {
   "cell_type": "raw",
   "id": "a03daf4d",
   "metadata": {},
   "source": []
  },
  {
   "cell_type": "markdown",
   "id": "15101bf8",
   "metadata": {},
   "source": [
    "<font color='purple'>**To check for gmail.com type email pattern**</font>"
   ]
  },
  {
   "cell_type": "code",
   "execution_count": 126,
   "id": "994b468a",
   "metadata": {},
   "outputs": [],
   "source": [
    "pattern2=r'^[A-Za-z0-9.]+@(gmail).(com)$'"
   ]
  },
  {
   "cell_type": "code",
   "execution_count": 127,
   "id": "a21d5251",
   "metadata": {},
   "outputs": [],
   "source": [
    "text='eshant@gmail.com'"
   ]
  },
  {
   "cell_type": "code",
   "execution_count": 128,
   "id": "a133107e",
   "metadata": {},
   "outputs": [
    {
     "data": {
      "text/plain": [
       "<re.Match object; span=(0, 16), match='eshant@gmail.com'>"
      ]
     },
     "execution_count": 128,
     "metadata": {},
     "output_type": "execute_result"
    }
   ],
   "source": [
    "re.search(pattern2,text)"
   ]
  },
  {
   "cell_type": "code",
   "execution_count": 129,
   "id": "ba1db368",
   "metadata": {},
   "outputs": [
    {
     "data": {
      "text/plain": [
       "'eshant@gmail.com'"
      ]
     },
     "execution_count": 129,
     "metadata": {},
     "output_type": "execute_result"
    }
   ],
   "source": [
    "re.search(pattern2,text).group()"
   ]
  },
  {
   "cell_type": "raw",
   "id": "598b003b",
   "metadata": {},
   "source": []
  },
  {
   "cell_type": "code",
   "execution_count": 131,
   "id": "638ce27b",
   "metadata": {},
   "outputs": [],
   "source": [
    "text='eshant@gfg.org'"
   ]
  },
  {
   "cell_type": "code",
   "execution_count": 132,
   "id": "d35ad7b1",
   "metadata": {},
   "outputs": [],
   "source": [
    "re.search(pattern2,text)"
   ]
  },
  {
   "cell_type": "markdown",
   "id": "dfe6e416",
   "metadata": {},
   "source": [
    "No output so you know now why there is no output"
   ]
  },
  {
   "cell_type": "code",
   "execution_count": null,
   "id": "327bf0ae",
   "metadata": {},
   "outputs": [],
   "source": []
  },
  {
   "cell_type": "markdown",
   "id": "7a11d72c",
   "metadata": {},
   "source": [
    "<font color='purple'> To check if it ends with anything like com or edu or net</font>"
   ]
  },
  {
   "cell_type": "code",
   "execution_count": 142,
   "id": "644c3520",
   "metadata": {},
   "outputs": [],
   "source": [
    "pattern3=r'^[A-Za-z0-9]+@[A-Za-z]+.(com|edu|net)$'"
   ]
  },
  {
   "cell_type": "code",
   "execution_count": 143,
   "id": "e383194e",
   "metadata": {},
   "outputs": [],
   "source": [
    "text1='hello@study.edu'\n",
    "text2='hi@help.net'\n",
    "text3='bye@gmail.com'\n",
    "text4='welcome@mail.go'"
   ]
  },
  {
   "cell_type": "markdown",
   "id": "8085c36e",
   "metadata": {},
   "source": [
    "We can see from here except `text4` all of them are matching"
   ]
  },
  {
   "cell_type": "raw",
   "id": "f9de3ee1",
   "metadata": {},
   "source": []
  },
  {
   "cell_type": "code",
   "execution_count": 144,
   "id": "2c7155d4",
   "metadata": {},
   "outputs": [
    {
     "data": {
      "text/plain": [
       "<re.Match object; span=(0, 15), match='hello@study.edu'>"
      ]
     },
     "execution_count": 144,
     "metadata": {},
     "output_type": "execute_result"
    }
   ],
   "source": [
    "re.search(pattern3,text1)"
   ]
  },
  {
   "cell_type": "code",
   "execution_count": 145,
   "id": "313b93d5",
   "metadata": {},
   "outputs": [
    {
     "data": {
      "text/plain": [
       "'hello@study.edu'"
      ]
     },
     "execution_count": 145,
     "metadata": {},
     "output_type": "execute_result"
    }
   ],
   "source": [
    "re.search(pattern3,text1).group()"
   ]
  },
  {
   "cell_type": "raw",
   "id": "3d6cf658",
   "metadata": {},
   "source": []
  },
  {
   "cell_type": "code",
   "execution_count": 146,
   "id": "dee4f489",
   "metadata": {},
   "outputs": [
    {
     "data": {
      "text/plain": [
       "<re.Match object; span=(0, 11), match='hi@help.net'>"
      ]
     },
     "execution_count": 146,
     "metadata": {},
     "output_type": "execute_result"
    }
   ],
   "source": [
    "re.search(pattern3,text2)"
   ]
  },
  {
   "cell_type": "code",
   "execution_count": 147,
   "id": "499ab80a",
   "metadata": {},
   "outputs": [
    {
     "data": {
      "text/plain": [
       "'hi@help.net'"
      ]
     },
     "execution_count": 147,
     "metadata": {},
     "output_type": "execute_result"
    }
   ],
   "source": [
    "re.search(pattern3,text2).group()"
   ]
  },
  {
   "cell_type": "raw",
   "id": "129ce677",
   "metadata": {},
   "source": []
  },
  {
   "cell_type": "code",
   "execution_count": 148,
   "id": "de5ca478",
   "metadata": {},
   "outputs": [
    {
     "data": {
      "text/plain": [
       "<re.Match object; span=(0, 13), match='bye@gmail.com'>"
      ]
     },
     "execution_count": 148,
     "metadata": {},
     "output_type": "execute_result"
    }
   ],
   "source": [
    "re.search(pattern3,text3)"
   ]
  },
  {
   "cell_type": "code",
   "execution_count": 149,
   "id": "f91da393",
   "metadata": {},
   "outputs": [
    {
     "data": {
      "text/plain": [
       "'bye@gmail.com'"
      ]
     },
     "execution_count": 149,
     "metadata": {},
     "output_type": "execute_result"
    }
   ],
   "source": [
    "re.search(pattern3,text3).group()"
   ]
  },
  {
   "cell_type": "code",
   "execution_count": null,
   "id": "0c1a41a6",
   "metadata": {},
   "outputs": [],
   "source": []
  },
  {
   "cell_type": "code",
   "execution_count": 150,
   "id": "acd348f6",
   "metadata": {},
   "outputs": [],
   "source": [
    "re.search(pattern3,text4)"
   ]
  },
  {
   "cell_type": "markdown",
   "id": "a8e9e208",
   "metadata": {},
   "source": [
    "**No output and I have discussed the reason above**"
   ]
  },
  {
   "cell_type": "raw",
   "id": "4db7fa7a",
   "metadata": {},
   "source": []
  }
 ],
 "metadata": {
  "kernelspec": {
   "display_name": "Python 3",
   "language": "python",
   "name": "python3"
  },
  "language_info": {
   "codemirror_mode": {
    "name": "ipython",
    "version": 3
   },
   "file_extension": ".py",
   "mimetype": "text/x-python",
   "name": "python",
   "nbconvert_exporter": "python",
   "pygments_lexer": "ipython3",
   "version": "3.8.8"
  }
 },
 "nbformat": 4,
 "nbformat_minor": 5
}
