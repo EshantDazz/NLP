{
 "cells": [
  {
   "cell_type": "code",
   "execution_count": 1,
   "id": "50a8314e",
   "metadata": {},
   "outputs": [],
   "source": [
    "#!pip install spacy"
   ]
  },
  {
   "cell_type": "code",
   "execution_count": null,
   "id": "1e3ff26f",
   "metadata": {},
   "outputs": [],
   "source": []
  },
  {
   "cell_type": "markdown",
   "id": "3ce2d9f4",
   "metadata": {},
   "source": [
    "# Why we can use spacy instead of nltk"
   ]
  },
  {
   "cell_type": "markdown",
   "id": "6be4c2e3",
   "metadata": {},
   "source": [
    "##### <font color='green'>For basic NLP tasks Spacy is much faster and more efficient compared to NLTK at the cost of the user not being able to choose algorithmic implementations</font>"
   ]
  },
  {
   "cell_type": "raw",
   "id": "ded30ee3",
   "metadata": {},
   "source": []
  },
  {
   "cell_type": "markdown",
   "id": "6b3b5d61",
   "metadata": {},
   "source": [
    "## Lets work with spacy now"
   ]
  },
  {
   "cell_type": "code",
   "execution_count": 2,
   "id": "5b705c9d",
   "metadata": {},
   "outputs": [],
   "source": [
    "import spacy"
   ]
  },
  {
   "cell_type": "code",
   "execution_count": 3,
   "id": "e3cab0c0",
   "metadata": {},
   "outputs": [],
   "source": [
    "#!python -m spacy download en_core_web_lg\n",
    "#!python -m spacy download en_core_web_sm"
   ]
  },
  {
   "cell_type": "markdown",
   "id": "615c3a79",
   "metadata": {},
   "source": [
    "If we don't run the above code then the en_code_web_sm will not work which we will work with "
   ]
  },
  {
   "cell_type": "raw",
   "id": "0a8f2f4d",
   "metadata": {},
   "source": []
  },
  {
   "cell_type": "code",
   "execution_count": 4,
   "id": "be4b0155",
   "metadata": {},
   "outputs": [],
   "source": [
    "nlp=spacy.load('en_core_web_sm')"
   ]
  },
  {
   "cell_type": "code",
   "execution_count": 5,
   "id": "c26b7347",
   "metadata": {},
   "outputs": [],
   "source": [
    "s=nlp(u'GFG is looking for data science interns')"
   ]
  },
  {
   "cell_type": "markdown",
   "id": "96303342",
   "metadata": {},
   "source": [
    "**Simple tokenisation**"
   ]
  },
  {
   "cell_type": "code",
   "execution_count": 6,
   "id": "30691fde",
   "metadata": {},
   "outputs": [
    {
     "name": "stdout",
     "output_type": "stream",
     "text": [
      "GFG\n",
      "is\n",
      "looking\n",
      "for\n",
      "data\n",
      "science\n",
      "interns\n"
     ]
    }
   ],
   "source": [
    "for token in s:\n",
    "    print(token)"
   ]
  },
  {
   "cell_type": "code",
   "execution_count": 7,
   "id": "ea82554f",
   "metadata": {},
   "outputs": [
    {
     "name": "stdout",
     "output_type": "stream",
     "text": [
      "GFG\n",
      "is\n",
      "looking\n",
      "for\n",
      "data\n",
      "science\n",
      "interns\n"
     ]
    }
   ],
   "source": [
    "for token in s:\n",
    "    print(token.text)  #.text is giving us the output in string form"
   ]
  },
  {
   "cell_type": "raw",
   "id": "ca8779d0",
   "metadata": {},
   "source": []
  },
  {
   "cell_type": "raw",
   "id": "c568f3da",
   "metadata": {},
   "source": []
  },
  {
   "cell_type": "code",
   "execution_count": 8,
   "id": "4ed7819e",
   "metadata": {},
   "outputs": [],
   "source": [
    "s=nlp(u'The cost of Iphone in U.K is 699$')"
   ]
  },
  {
   "cell_type": "code",
   "execution_count": 9,
   "id": "1fede31b",
   "metadata": {},
   "outputs": [
    {
     "name": "stdout",
     "output_type": "stream",
     "text": [
      "The\n",
      "cost\n",
      "of\n",
      "Iphone\n",
      "in\n",
      "U.K\n",
      "is\n",
      "699\n",
      "$\n"
     ]
    }
   ],
   "source": [
    "for token in s:\n",
    "    print(token.text)"
   ]
  },
  {
   "cell_type": "markdown",
   "id": "8533e3e1",
   "metadata": {},
   "source": [
    "**It is smart enough to consider U.K as a single token**"
   ]
  },
  {
   "cell_type": "raw",
   "id": "7c9da7a6",
   "metadata": {},
   "source": []
  },
  {
   "cell_type": "raw",
   "id": "5cc1dac5",
   "metadata": {},
   "source": []
  },
  {
   "cell_type": "markdown",
   "id": "0f823e94",
   "metadata": {},
   "source": [
    "### <font color='blue'>Some more functions</font>"
   ]
  },
  {
   "cell_type": "markdown",
   "id": "f2290c56",
   "metadata": {},
   "source": [
    "**pop** - it indicates part of speech (a number will be printed which we will see later how those number indicates the part of speech)"
   ]
  },
  {
   "cell_type": "code",
   "execution_count": 10,
   "id": "20331181",
   "metadata": {},
   "outputs": [
    {
     "name": "stdout",
     "output_type": "stream",
     "text": [
      "The 90\n",
      "cost 92\n",
      "of 85\n",
      "Iphone 96\n",
      "in 85\n",
      "U.K 96\n",
      "is 87\n",
      "699 93\n",
      "$ 99\n"
     ]
    }
   ],
   "source": [
    "for token in s:\n",
    "    print(token.text,token.pos)"
   ]
  },
  {
   "cell_type": "markdown",
   "id": "66853c0b",
   "metadata": {},
   "source": [
    "**If we want the raw name of the part of speech we use <font color='red'> pos_ </font> an undurscore in the end**"
   ]
  },
  {
   "cell_type": "code",
   "execution_count": 11,
   "id": "62cf4c4b",
   "metadata": {},
   "outputs": [
    {
     "name": "stdout",
     "output_type": "stream",
     "text": [
      "The DET\n",
      "cost NOUN\n",
      "of ADP\n",
      "Iphone PROPN\n",
      "in ADP\n",
      "U.K PROPN\n",
      "is AUX\n",
      "699 NUM\n",
      "$ SYM\n"
     ]
    }
   ],
   "source": [
    "for token in s:\n",
    "    print(token.text,token.pos_)"
   ]
  },
  {
   "cell_type": "raw",
   "id": "498c6e8a",
   "metadata": {},
   "source": []
  },
  {
   "cell_type": "markdown",
   "id": "4366b7bf",
   "metadata": {},
   "source": [
    "**Inference** \n",
    "- U.K is a pronoun\n",
    "- cost is noun\n",
    "- 699 is a number\n",
    "- $ is a symbol"
   ]
  },
  {
   "cell_type": "markdown",
   "id": "50945c40",
   "metadata": {},
   "source": [
    "and the rest of the tokens are also showing some meaning"
   ]
  },
  {
   "cell_type": "raw",
   "id": "8d2d06e2",
   "metadata": {},
   "source": []
  },
  {
   "cell_type": "raw",
   "id": "a6d123b3",
   "metadata": {},
   "source": []
  },
  {
   "cell_type": "markdown",
   "id": "9ef31119",
   "metadata": {},
   "source": [
    "**Getting the dependency parsing with <font color='red'> dep_ </font> function**"
   ]
  },
  {
   "cell_type": "code",
   "execution_count": 12,
   "id": "cef55a05",
   "metadata": {},
   "outputs": [],
   "source": [
    "s=nlp(u\"He isn't going to       play today\")"
   ]
  },
  {
   "cell_type": "code",
   "execution_count": 13,
   "id": "cfc7a1ac",
   "metadata": {},
   "outputs": [
    {
     "name": "stdout",
     "output_type": "stream",
     "text": [
      "He PRON nsubj\n",
      "is AUX aux\n",
      "n't PART neg\n",
      "going VERB ROOT\n",
      "to PART aux\n",
      "       SPACE dep\n",
      "play VERB xcomp\n",
      "today NOUN npadvmod\n"
     ]
    }
   ],
   "source": [
    "for token in s:\n",
    "    print(token.text,token.pos_,token.dep_)"
   ]
  },
  {
   "cell_type": "markdown",
   "id": "54bdea94",
   "metadata": {},
   "source": [
    "**Inference**"
   ]
  },
  {
   "cell_type": "markdown",
   "id": "b33af077",
   "metadata": {},
   "source": [
    "- is and n't are being categorised differently  'n't' is being treated as negation\n",
    "- Due to the extra space between to and play we can see in the output a space is also being categorised"
   ]
  },
  {
   "cell_type": "raw",
   "id": "35c06af5",
   "metadata": {},
   "source": []
  },
  {
   "cell_type": "raw",
   "id": "17f87b06",
   "metadata": {},
   "source": []
  },
  {
   "cell_type": "raw",
   "id": "1a944520",
   "metadata": {},
   "source": []
  },
  {
   "cell_type": "markdown",
   "id": "e94d3310",
   "metadata": {},
   "source": [
    "**We can get the specific token as well by using indexing**"
   ]
  },
  {
   "cell_type": "code",
   "execution_count": 14,
   "id": "902237f6",
   "metadata": {},
   "outputs": [
    {
     "data": {
      "text/plain": [
       "He"
      ]
     },
     "execution_count": 14,
     "metadata": {},
     "output_type": "execute_result"
    }
   ],
   "source": [
    "s[0]"
   ]
  },
  {
   "cell_type": "code",
   "execution_count": 15,
   "id": "aae5dd17",
   "metadata": {},
   "outputs": [
    {
     "data": {
      "text/plain": [
       "is"
      ]
     },
     "execution_count": 15,
     "metadata": {},
     "output_type": "execute_result"
    }
   ],
   "source": [
    "s[1]"
   ]
  },
  {
   "cell_type": "code",
   "execution_count": 16,
   "id": "99679c33",
   "metadata": {},
   "outputs": [
    {
     "data": {
      "text/plain": [
       "n't"
      ]
     },
     "execution_count": 16,
     "metadata": {},
     "output_type": "execute_result"
    }
   ],
   "source": [
    "s[2]"
   ]
  },
  {
   "cell_type": "code",
   "execution_count": 17,
   "id": "3ece042a",
   "metadata": {},
   "outputs": [
    {
     "data": {
      "text/plain": [
       "'PRON'"
      ]
     },
     "execution_count": 17,
     "metadata": {},
     "output_type": "execute_result"
    }
   ],
   "source": [
    "s[0].pos_  #giving us the part of speech of the first token"
   ]
  },
  {
   "cell_type": "raw",
   "id": "747e26f9",
   "metadata": {},
   "source": []
  },
  {
   "cell_type": "raw",
   "id": "8a93367b",
   "metadata": {},
   "source": []
  },
  {
   "cell_type": "markdown",
   "id": "71a14bcd",
   "metadata": {},
   "source": [
    "**To print different sentences from a string**"
   ]
  },
  {
   "cell_type": "code",
   "execution_count": 18,
   "id": "34185d0b",
   "metadata": {},
   "outputs": [],
   "source": [
    "s=nlp(u\"This is the first sentence. I gave given fullstop please check. Let's study now\")"
   ]
  },
  {
   "cell_type": "code",
   "execution_count": 19,
   "id": "990560fb",
   "metadata": {},
   "outputs": [
    {
     "name": "stdout",
     "output_type": "stream",
     "text": [
      "This is the first sentence.\n",
      "I gave given fullstop please check.\n",
      "Let's study now\n"
     ]
    }
   ],
   "source": [
    "for sentence in s.sents:\n",
    "    print(sentence)"
   ]
  },
  {
   "cell_type": "code",
   "execution_count": null,
   "id": "b95d0c9a",
   "metadata": {},
   "outputs": [],
   "source": []
  }
 ],
 "metadata": {
  "kernelspec": {
   "display_name": "Python 3",
   "language": "python",
   "name": "python3"
  },
  "language_info": {
   "codemirror_mode": {
    "name": "ipython",
    "version": 3
   },
   "file_extension": ".py",
   "mimetype": "text/x-python",
   "name": "python",
   "nbconvert_exporter": "python",
   "pygments_lexer": "ipython3",
   "version": "3.8.8"
  }
 },
 "nbformat": 4,
 "nbformat_minor": 5
}
