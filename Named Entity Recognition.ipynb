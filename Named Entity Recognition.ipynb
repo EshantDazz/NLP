{
 "cells": [
  {
   "cell_type": "markdown",
   "id": "35d86cd9",
   "metadata": {},
   "source": [
    "# <div class='alert alert-success'> Named Entity Recognition</div>"
   ]
  },
  {
   "cell_type": "markdown",
   "id": "d0ced8e2",
   "metadata": {},
   "source": [
    "**The named entity recognition (NER) is one of the most data preprocessing task. It involves the identification of key information in the text and classification into a set of predefined categories. An entity is basically the thing that is consistently talked about or refer to in the text.**<br><br>\n",
    "\n",
    "**NER is the form of NLP.**"
   ]
  },
  {
   "cell_type": "code",
   "execution_count": null,
   "id": "dda0b0ab",
   "metadata": {},
   "outputs": [],
   "source": []
  },
  {
   "cell_type": "code",
   "execution_count": 1,
   "id": "3bf29c2f",
   "metadata": {},
   "outputs": [],
   "source": [
    "import spacy"
   ]
  },
  {
   "cell_type": "code",
   "execution_count": 2,
   "id": "e91f1e27",
   "metadata": {},
   "outputs": [],
   "source": [
    "nlp=spacy.load('en_core_web_sm')"
   ]
  },
  {
   "cell_type": "code",
   "execution_count": 63,
   "id": "18ffef4b",
   "metadata": {},
   "outputs": [],
   "source": [
    "import warnings"
   ]
  },
  {
   "cell_type": "code",
   "execution_count": 64,
   "id": "310ae3e0",
   "metadata": {},
   "outputs": [],
   "source": [
    "warnings.filterwarnings('ignore')"
   ]
  },
  {
   "cell_type": "markdown",
   "id": "e4dd6abd",
   "metadata": {},
   "source": [
    "# <font color='blue'>The main Function</font>"
   ]
  },
  {
   "cell_type": "code",
   "execution_count": 4,
   "id": "6017fc05",
   "metadata": {},
   "outputs": [],
   "source": [
    "def show_entities(d):\n",
    "    if d.ents:\n",
    "        for ent in d.ents:\n",
    "            print(f\"{ent.text:{15}}{ent.label_:{15}}{spacy.explain(ent.label_)}\")\n",
    "    else:\n",
    "        print(\"No entities found \")"
   ]
  },
  {
   "cell_type": "code",
   "execution_count": null,
   "id": "75c135aa",
   "metadata": {},
   "outputs": [],
   "source": []
  },
  {
   "cell_type": "markdown",
   "id": "dd4a55a2",
   "metadata": {},
   "source": [
    "**Lets try now with different texts**"
   ]
  },
  {
   "cell_type": "markdown",
   "id": "d20b05f9",
   "metadata": {},
   "source": [
    "**1)**"
   ]
  },
  {
   "cell_type": "code",
   "execution_count": 5,
   "id": "2f6b2b00",
   "metadata": {},
   "outputs": [],
   "source": [
    "d=nlp(u\"GFG is an Indian company which provides one of the finest education\")"
   ]
  },
  {
   "cell_type": "code",
   "execution_count": 7,
   "id": "fda24d5c",
   "metadata": {},
   "outputs": [
    {
     "name": "stdout",
     "output_type": "stream",
     "text": [
      "GFG            ORG            Companies, agencies, institutions, etc.\n",
      "Indian         NORP           Nationalities or religious or political groups\n",
      "one            CARDINAL       Numerals that do not fall under another type\n"
     ]
    }
   ],
   "source": [
    "show_entities(d)"
   ]
  },
  {
   "cell_type": "markdown",
   "id": "afc5961f",
   "metadata": {},
   "source": [
    "**2)**"
   ]
  },
  {
   "cell_type": "code",
   "execution_count": 8,
   "id": "184ebbd2",
   "metadata": {},
   "outputs": [],
   "source": [
    "d=nlp(u\"I am not feeling well today\")"
   ]
  },
  {
   "cell_type": "code",
   "execution_count": 9,
   "id": "fb387b70",
   "metadata": {},
   "outputs": [
    {
     "name": "stdout",
     "output_type": "stream",
     "text": [
      "today          DATE           Absolute or relative dates or periods\n"
     ]
    }
   ],
   "source": [
    "show_entities(d)"
   ]
  },
  {
   "cell_type": "markdown",
   "id": "af381335",
   "metadata": {},
   "source": [
    "**3)**"
   ]
  },
  {
   "cell_type": "code",
   "execution_count": 10,
   "id": "2bbc6dda",
   "metadata": {},
   "outputs": [],
   "source": [
    "d=nlp(u\"Lets go to play\")"
   ]
  },
  {
   "cell_type": "code",
   "execution_count": 11,
   "id": "3054a979",
   "metadata": {},
   "outputs": [
    {
     "name": "stdout",
     "output_type": "stream",
     "text": [
      "No entities found \n"
     ]
    }
   ],
   "source": [
    "show_entities(d)"
   ]
  },
  {
   "cell_type": "markdown",
   "id": "c43ae83e",
   "metadata": {},
   "source": [
    "**4)**"
   ]
  },
  {
   "cell_type": "code",
   "execution_count": 12,
   "id": "9e09f218",
   "metadata": {},
   "outputs": [],
   "source": [
    "d=nlp(u\"We will be going to Thailand on 7th August\")"
   ]
  },
  {
   "cell_type": "code",
   "execution_count": 13,
   "id": "e836cd80",
   "metadata": {},
   "outputs": [
    {
     "name": "stdout",
     "output_type": "stream",
     "text": [
      "Thailand       GPE            Countries, cities, states\n",
      "7th            ORDINAL        \"first\", \"second\", etc.\n",
      "August         DATE           Absolute or relative dates or periods\n"
     ]
    }
   ],
   "source": [
    "show_entities(d)"
   ]
  },
  {
   "cell_type": "code",
   "execution_count": null,
   "id": "a67a4884",
   "metadata": {},
   "outputs": [],
   "source": []
  },
  {
   "cell_type": "markdown",
   "id": "2818860c",
   "metadata": {},
   "source": [
    "### How would we add a new entity"
   ]
  },
  {
   "cell_type": "code",
   "execution_count": 31,
   "id": "a4cce80b",
   "metadata": {},
   "outputs": [],
   "source": [
    "d=nlp(u\"Tesla is earning money at an extensive rate\")"
   ]
  },
  {
   "cell_type": "code",
   "execution_count": 32,
   "id": "c159ce5d",
   "metadata": {},
   "outputs": [
    {
     "name": "stdout",
     "output_type": "stream",
     "text": [
      "No entities found \n"
     ]
    }
   ],
   "source": [
    "show_entities(d)"
   ]
  },
  {
   "cell_type": "code",
   "execution_count": null,
   "id": "4b330ca5",
   "metadata": {},
   "outputs": [],
   "source": []
  },
  {
   "cell_type": "markdown",
   "id": "e02fc4a4",
   "metadata": {},
   "source": [
    "**But here  `Tesla` should have been categorised as ORG**"
   ]
  },
  {
   "cell_type": "markdown",
   "id": "809a6ebe",
   "metadata": {},
   "source": [
    "## <font color='purple'> So now lets add it </font>"
   ]
  },
  {
   "cell_type": "code",
   "execution_count": 33,
   "id": "a2ea3dc4",
   "metadata": {},
   "outputs": [],
   "source": [
    "from spacy.tokens import Span as ss"
   ]
  },
  {
   "cell_type": "code",
   "execution_count": 34,
   "id": "3c0c9f55",
   "metadata": {},
   "outputs": [],
   "source": [
    "ORG=d.vocab.strings[u\"ORG\"]"
   ]
  },
  {
   "cell_type": "code",
   "execution_count": 38,
   "id": "0a5b12d6",
   "metadata": {},
   "outputs": [],
   "source": [
    "new_entity=ss(d,0,1,label=ORG)\n",
    "#0,1 is the index position of Tesla in the text"
   ]
  },
  {
   "cell_type": "code",
   "execution_count": 39,
   "id": "56c1dcef",
   "metadata": {},
   "outputs": [],
   "source": [
    "d.ents=list(d.ents)+[new_entity]\n",
    "#Here we are adding it to our entities list"
   ]
  },
  {
   "cell_type": "markdown",
   "id": "b1bdd196",
   "metadata": {},
   "source": [
    "**Now lets check again**"
   ]
  },
  {
   "cell_type": "code",
   "execution_count": 40,
   "id": "ad003443",
   "metadata": {},
   "outputs": [
    {
     "data": {
      "text/plain": [
       "Tesla is earning money at an extensive rate"
      ]
     },
     "execution_count": 40,
     "metadata": {},
     "output_type": "execute_result"
    }
   ],
   "source": [
    "d"
   ]
  },
  {
   "cell_type": "code",
   "execution_count": 41,
   "id": "e4b57350",
   "metadata": {},
   "outputs": [
    {
     "name": "stdout",
     "output_type": "stream",
     "text": [
      "Tesla          ORG            Companies, agencies, institutions, etc.\n"
     ]
    }
   ],
   "source": [
    "show_entities(d)"
   ]
  },
  {
   "cell_type": "markdown",
   "id": "5e2bfad7",
   "metadata": {},
   "source": [
    "**Added  :)**"
   ]
  },
  {
   "cell_type": "code",
   "execution_count": null,
   "id": "d5399183",
   "metadata": {},
   "outputs": [],
   "source": []
  },
  {
   "cell_type": "code",
   "execution_count": null,
   "id": "9770735d",
   "metadata": {},
   "outputs": [],
   "source": []
  },
  {
   "cell_type": "markdown",
   "id": "bc3152fd",
   "metadata": {},
   "source": [
    "### Lets see how to add multiple words as an entity"
   ]
  },
  {
   "cell_type": "markdown",
   "id": "a63c6004",
   "metadata": {},
   "source": [
    "We are doing this code just to show how to add multiple entities although the words don't act as entities in normal scenario"
   ]
  },
  {
   "cell_type": "code",
   "execution_count": 42,
   "id": "0786655f",
   "metadata": {},
   "outputs": [],
   "source": [
    "d=nlp(u\"Playing cricket and football are both good for health\")"
   ]
  },
  {
   "cell_type": "code",
   "execution_count": 43,
   "id": "67b8cabd",
   "metadata": {},
   "outputs": [
    {
     "name": "stdout",
     "output_type": "stream",
     "text": [
      "No entities found \n"
     ]
    }
   ],
   "source": [
    "show_entities(d)"
   ]
  },
  {
   "cell_type": "markdown",
   "id": "d80508d6",
   "metadata": {},
   "source": [
    "**Now we will add cricket and football**"
   ]
  },
  {
   "cell_type": "markdown",
   "id": "1e0f1322",
   "metadata": {},
   "source": [
    "### <font color='purple'> Lets see now how we add it </font>"
   ]
  },
  {
   "cell_type": "code",
   "execution_count": 44,
   "id": "7bf089a4",
   "metadata": {},
   "outputs": [],
   "source": [
    "from spacy.matcher import PhraseMatcher"
   ]
  },
  {
   "cell_type": "code",
   "execution_count": 45,
   "id": "93826590",
   "metadata": {},
   "outputs": [],
   "source": [
    "m=PhraseMatcher(nlp.vocab)"
   ]
  },
  {
   "cell_type": "code",
   "execution_count": 46,
   "id": "6de874ee",
   "metadata": {},
   "outputs": [],
   "source": [
    "phrase=['football','cricket']"
   ]
  },
  {
   "cell_type": "code",
   "execution_count": 49,
   "id": "90726a24",
   "metadata": {},
   "outputs": [],
   "source": [
    "patterns=[nlp(text) for text in phrase]\n",
    "#This is a list Comphrehension"
   ]
  },
  {
   "cell_type": "code",
   "execution_count": 52,
   "id": "ef4dad14",
   "metadata": {},
   "outputs": [],
   "source": [
    "m.add('sports',None,*patterns)\n",
    "#Press Shift Tab to check the parameters"
   ]
  },
  {
   "cell_type": "code",
   "execution_count": 56,
   "id": "0ff0b21c",
   "metadata": {},
   "outputs": [],
   "source": [
    "found=m(d)"
   ]
  },
  {
   "cell_type": "code",
   "execution_count": 57,
   "id": "90df26f5",
   "metadata": {},
   "outputs": [
    {
     "data": {
      "text/plain": [
       "[(13020240661013469444, 1, 2), (13020240661013469444, 3, 4)]"
      ]
     },
     "execution_count": 57,
     "metadata": {},
     "output_type": "execute_result"
    }
   ],
   "source": [
    "found"
   ]
  },
  {
   "cell_type": "markdown",
   "id": "f00af1ad",
   "metadata": {},
   "source": [
    "This shows that we have found cricket and football and the indexes of those are also given"
   ]
  },
  {
   "cell_type": "code",
   "execution_count": null,
   "id": "d8a6f7ed",
   "metadata": {},
   "outputs": [],
   "source": []
  },
  {
   "cell_type": "code",
   "execution_count": 53,
   "id": "8dfca045",
   "metadata": {},
   "outputs": [],
   "source": [
    "from spacy.tokens import Span as ss"
   ]
  },
  {
   "cell_type": "code",
   "execution_count": 54,
   "id": "b702c757",
   "metadata": {},
   "outputs": [
    {
     "data": {
      "text/plain": [
       "Playing cricket and football are both good for health"
      ]
     },
     "execution_count": 54,
     "metadata": {},
     "output_type": "execute_result"
    }
   ],
   "source": [
    "d"
   ]
  },
  {
   "cell_type": "code",
   "execution_count": 58,
   "id": "624924d8",
   "metadata": {},
   "outputs": [],
   "source": [
    "sport=d.vocab.strings[u\"Sports\"]"
   ]
  },
  {
   "cell_type": "code",
   "execution_count": 59,
   "id": "5b3caf87",
   "metadata": {},
   "outputs": [],
   "source": [
    "new_ents=[ss(d,match[1],match[2],label=sport) for match in found]"
   ]
  },
  {
   "cell_type": "code",
   "execution_count": 60,
   "id": "91e4b53e",
   "metadata": {},
   "outputs": [],
   "source": [
    "d.ents=list(d.ents)+new_ents"
   ]
  },
  {
   "cell_type": "markdown",
   "id": "0372828e",
   "metadata": {},
   "source": [
    "### Now lets try"
   ]
  },
  {
   "cell_type": "code",
   "execution_count": 65,
   "id": "499d02d1",
   "metadata": {},
   "outputs": [
    {
     "data": {
      "text/plain": [
       "Playing cricket and football are both good for health"
      ]
     },
     "execution_count": 65,
     "metadata": {},
     "output_type": "execute_result"
    }
   ],
   "source": [
    "d"
   ]
  },
  {
   "cell_type": "code",
   "execution_count": 66,
   "id": "36e516cb",
   "metadata": {},
   "outputs": [
    {
     "name": "stdout",
     "output_type": "stream",
     "text": [
      "cricket        Sports         None\n",
      "football       Sports         None\n"
     ]
    }
   ],
   "source": [
    "show_entities(d)"
   ]
  },
  {
   "cell_type": "markdown",
   "id": "b592c2bc",
   "metadata": {},
   "source": [
    "**<font color='blue'>So we have made our own entites and given them our desired name as well</font>**"
   ]
  },
  {
   "cell_type": "code",
   "execution_count": null,
   "id": "e60a007a",
   "metadata": {},
   "outputs": [],
   "source": []
  },
  {
   "cell_type": "code",
   "execution_count": null,
   "id": "31ee59bf",
   "metadata": {},
   "outputs": [],
   "source": []
  },
  {
   "cell_type": "markdown",
   "id": "65fb1709",
   "metadata": {},
   "source": [
    "## How to check which type of specific entity is present and how many times they occur"
   ]
  },
  {
   "cell_type": "code",
   "execution_count": 67,
   "id": "6cf9be34",
   "metadata": {},
   "outputs": [],
   "source": [
    "d=nlp(u\"GFG has wonderful Data Science course for students\")"
   ]
  },
  {
   "cell_type": "code",
   "execution_count": 68,
   "id": "a1d6a64f",
   "metadata": {},
   "outputs": [
    {
     "name": "stdout",
     "output_type": "stream",
     "text": [
      "GFG            ORG            Companies, agencies, institutions, etc.\n",
      "Data Science   ORG            Companies, agencies, institutions, etc.\n"
     ]
    }
   ],
   "source": [
    "show_entities(d)"
   ]
  },
  {
   "cell_type": "markdown",
   "id": "9228c8c7",
   "metadata": {},
   "source": [
    "**<font color='blue'>Lets see now how its done</font>**"
   ]
  },
  {
   "cell_type": "code",
   "execution_count": 70,
   "id": "e8a7ccc4",
   "metadata": {},
   "outputs": [
    {
     "data": {
      "text/plain": [
       "[GFG, Data Science]"
      ]
     },
     "execution_count": 70,
     "metadata": {},
     "output_type": "execute_result"
    }
   ],
   "source": [
    "[ent for ent in d.ents if ent.label_=='ORG']"
   ]
  },
  {
   "cell_type": "markdown",
   "id": "ecefd509",
   "metadata": {},
   "source": [
    "**To check how many of them are present**"
   ]
  },
  {
   "cell_type": "code",
   "execution_count": 71,
   "id": "7a77fc16",
   "metadata": {},
   "outputs": [
    {
     "data": {
      "text/plain": [
       "2"
      ]
     },
     "execution_count": 71,
     "metadata": {},
     "output_type": "execute_result"
    }
   ],
   "source": [
    "len([ent for ent in d.ents if ent.label_=='ORG'])"
   ]
  },
  {
   "cell_type": "code",
   "execution_count": null,
   "id": "279ad351",
   "metadata": {},
   "outputs": [],
   "source": []
  }
 ],
 "metadata": {
  "kernelspec": {
   "display_name": "Python 3",
   "language": "python",
   "name": "python3"
  },
  "language_info": {
   "codemirror_mode": {
    "name": "ipython",
    "version": 3
   },
   "file_extension": ".py",
   "mimetype": "text/x-python",
   "name": "python",
   "nbconvert_exporter": "python",
   "pygments_lexer": "ipython3",
   "version": "3.8.8"
  }
 },
 "nbformat": 4,
 "nbformat_minor": 5
}
