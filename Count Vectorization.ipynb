{
 "cells": [
  {
   "cell_type": "markdown",
   "id": "c4fb3fe4",
   "metadata": {},
   "source": [
    "# <div class='alert alert-danger'>Count Vectorization</div>"
   ]
  },
  {
   "cell_type": "code",
   "execution_count": 29,
   "id": "63a86693",
   "metadata": {},
   "outputs": [],
   "source": [
    "from sklearn.feature_extraction.text import CountVectorizer"
   ]
  },
  {
   "cell_type": "code",
   "execution_count": 7,
   "id": "d23bfc53",
   "metadata": {},
   "outputs": [],
   "source": [
    "t1=['lets study data science today']\n",
    "t2=['we need to work with data and files']"
   ]
  },
  {
   "cell_type": "code",
   "execution_count": 8,
   "id": "51b5efb3",
   "metadata": {},
   "outputs": [],
   "source": [
    "vect=CountVectorizer()"
   ]
  },
  {
   "cell_type": "code",
   "execution_count": 9,
   "id": "0f66fbae",
   "metadata": {},
   "outputs": [
    {
     "data": {
      "text/plain": [
       "CountVectorizer()"
      ]
     },
     "execution_count": 9,
     "metadata": {},
     "output_type": "execute_result"
    }
   ],
   "source": [
    "vect.fit(t1)"
   ]
  },
  {
   "cell_type": "code",
   "execution_count": 10,
   "id": "9f79d8c1",
   "metadata": {},
   "outputs": [
    {
     "data": {
      "text/plain": [
       "{'lets': 1, 'study': 3, 'data': 0, 'science': 2, 'today': 4}"
      ]
     },
     "execution_count": 10,
     "metadata": {},
     "output_type": "execute_result"
    }
   ],
   "source": [
    "vect.vocabulary_"
   ]
  },
  {
   "cell_type": "markdown",
   "id": "97fa086c",
   "metadata": {},
   "source": [
    "**We can see every word has been given some specific indexes**"
   ]
  },
  {
   "cell_type": "code",
   "execution_count": null,
   "id": "e324e00c",
   "metadata": {},
   "outputs": [],
   "source": []
  },
  {
   "cell_type": "code",
   "execution_count": null,
   "id": "11f0ce2c",
   "metadata": {},
   "outputs": [],
   "source": []
  },
  {
   "cell_type": "code",
   "execution_count": 11,
   "id": "258cdc50",
   "metadata": {},
   "outputs": [],
   "source": [
    "new_vect=vect.transform(t2)"
   ]
  },
  {
   "cell_type": "code",
   "execution_count": 12,
   "id": "aebabe84",
   "metadata": {},
   "outputs": [
    {
     "data": {
      "text/plain": [
       "<1x5 sparse matrix of type '<class 'numpy.int64'>'\n",
       "\twith 1 stored elements in Compressed Sparse Row format>"
      ]
     },
     "execution_count": 12,
     "metadata": {},
     "output_type": "execute_result"
    }
   ],
   "source": [
    "new_vect"
   ]
  },
  {
   "cell_type": "code",
   "execution_count": 13,
   "id": "6ca8c040",
   "metadata": {},
   "outputs": [
    {
     "name": "stdout",
     "output_type": "stream",
     "text": [
      "[[1 0 0 0 0]]\n"
     ]
    }
   ],
   "source": [
    "print(new_vect.toarray())"
   ]
  },
  {
   "cell_type": "markdown",
   "id": "d7a478ad",
   "metadata": {},
   "source": [
    "**So the index 0 has the value 1 since we can see index 0 is data and it is present in t2 as well, other than<br>\n",
    "data none of the other words are present so they have been given 0 value**"
   ]
  },
  {
   "cell_type": "code",
   "execution_count": null,
   "id": "16cf4477",
   "metadata": {},
   "outputs": [],
   "source": []
  },
  {
   "cell_type": "markdown",
   "id": "88de6d28",
   "metadata": {},
   "source": [
    "###### <font color='green'>Lets see another example</font>"
   ]
  },
  {
   "cell_type": "code",
   "execution_count": null,
   "id": "29b6d4b8",
   "metadata": {},
   "outputs": [],
   "source": []
  },
  {
   "cell_type": "code",
   "execution_count": 14,
   "id": "132e47e0",
   "metadata": {},
   "outputs": [],
   "source": [
    "t1=['lets study data science today']\n",
    "t2=['we need to work with data and files study study study']"
   ]
  },
  {
   "cell_type": "markdown",
   "id": "3572ee5d",
   "metadata": {},
   "source": [
    "I have added study 3 times now lets see the result"
   ]
  },
  {
   "cell_type": "code",
   "execution_count": 15,
   "id": "48762bcd",
   "metadata": {},
   "outputs": [
    {
     "name": "stdout",
     "output_type": "stream",
     "text": [
      "[[1 0 0 3 0]]\n"
     ]
    }
   ],
   "source": [
    "new_vect=vect.transform(t2)\n",
    "print(new_vect.toarray())"
   ]
  },
  {
   "cell_type": "markdown",
   "id": "690bbdd5",
   "metadata": {},
   "source": [
    "**study was present in index 3 and now instead of 0, 3 is being present because the word study in t2 is coming 3 times**"
   ]
  },
  {
   "cell_type": "code",
   "execution_count": null,
   "id": "80a92625",
   "metadata": {},
   "outputs": [],
   "source": []
  },
  {
   "cell_type": "code",
   "execution_count": 16,
   "id": "2bb47327",
   "metadata": {},
   "outputs": [
    {
     "data": {
      "text/plain": [
       "{'lets': 1, 'study': 3, 'data': 0, 'science': 2, 'today': 4}"
      ]
     },
     "execution_count": 16,
     "metadata": {},
     "output_type": "execute_result"
    }
   ],
   "source": [
    "vect.vocabulary_"
   ]
  },
  {
   "cell_type": "markdown",
   "id": "aca6455e",
   "metadata": {},
   "source": [
    "**Here we can see study is present in index 3**"
   ]
  },
  {
   "cell_type": "code",
   "execution_count": null,
   "id": "7a6e07c4",
   "metadata": {},
   "outputs": [],
   "source": []
  },
  {
   "cell_type": "code",
   "execution_count": null,
   "id": "7962885f",
   "metadata": {},
   "outputs": [],
   "source": []
  },
  {
   "cell_type": "markdown",
   "id": "6c6508df",
   "metadata": {},
   "source": [
    "## <div class='alert alert-danger'><font color='black'> Lets do the same thing in a different way</font></div>"
   ]
  },
  {
   "cell_type": "code",
   "execution_count": 30,
   "id": "a2e3b104",
   "metadata": {},
   "outputs": [],
   "source": [
    "from pandas import DataFrame"
   ]
  },
  {
   "cell_type": "code",
   "execution_count": 38,
   "id": "caab66e7",
   "metadata": {},
   "outputs": [],
   "source": [
    "t3=[\"Hello GFG is providing a new Deep Learning Course\", \"We will be studying Deep Learning from today\",\"I want a Deep sleep today\"]"
   ]
  },
  {
   "cell_type": "markdown",
   "id": "c25a18cb",
   "metadata": {},
   "source": [
    "Notice this time there are 3 items inside the list"
   ]
  },
  {
   "cell_type": "code",
   "execution_count": 42,
   "id": "379f01a9",
   "metadata": {},
   "outputs": [],
   "source": [
    "vect2=CountVectorizer()"
   ]
  },
  {
   "cell_type": "code",
   "execution_count": 43,
   "id": "9bacce87",
   "metadata": {},
   "outputs": [],
   "source": [
    "matrix=vect2.fit_transform(t3)"
   ]
  },
  {
   "cell_type": "code",
   "execution_count": 44,
   "id": "02f2f584",
   "metadata": {},
   "outputs": [
    {
     "data": {
      "text/html": [
       "<div>\n",
       "<style scoped>\n",
       "    .dataframe tbody tr th:only-of-type {\n",
       "        vertical-align: middle;\n",
       "    }\n",
       "\n",
       "    .dataframe tbody tr th {\n",
       "        vertical-align: top;\n",
       "    }\n",
       "\n",
       "    .dataframe thead th {\n",
       "        text-align: right;\n",
       "    }\n",
       "</style>\n",
       "<table border=\"1\" class=\"dataframe\">\n",
       "  <thead>\n",
       "    <tr style=\"text-align: right;\">\n",
       "      <th></th>\n",
       "      <th>be</th>\n",
       "      <th>course</th>\n",
       "      <th>deep</th>\n",
       "      <th>from</th>\n",
       "      <th>gfg</th>\n",
       "      <th>hello</th>\n",
       "      <th>is</th>\n",
       "      <th>learning</th>\n",
       "      <th>new</th>\n",
       "      <th>providing</th>\n",
       "      <th>sleep</th>\n",
       "      <th>studying</th>\n",
       "      <th>today</th>\n",
       "      <th>want</th>\n",
       "      <th>we</th>\n",
       "      <th>will</th>\n",
       "    </tr>\n",
       "  </thead>\n",
       "  <tbody>\n",
       "    <tr>\n",
       "      <th>0</th>\n",
       "      <td>0</td>\n",
       "      <td>1</td>\n",
       "      <td>1</td>\n",
       "      <td>0</td>\n",
       "      <td>1</td>\n",
       "      <td>1</td>\n",
       "      <td>1</td>\n",
       "      <td>1</td>\n",
       "      <td>1</td>\n",
       "      <td>1</td>\n",
       "      <td>0</td>\n",
       "      <td>0</td>\n",
       "      <td>0</td>\n",
       "      <td>0</td>\n",
       "      <td>0</td>\n",
       "      <td>0</td>\n",
       "    </tr>\n",
       "    <tr>\n",
       "      <th>1</th>\n",
       "      <td>1</td>\n",
       "      <td>0</td>\n",
       "      <td>1</td>\n",
       "      <td>1</td>\n",
       "      <td>0</td>\n",
       "      <td>0</td>\n",
       "      <td>0</td>\n",
       "      <td>1</td>\n",
       "      <td>0</td>\n",
       "      <td>0</td>\n",
       "      <td>0</td>\n",
       "      <td>1</td>\n",
       "      <td>1</td>\n",
       "      <td>0</td>\n",
       "      <td>1</td>\n",
       "      <td>1</td>\n",
       "    </tr>\n",
       "    <tr>\n",
       "      <th>2</th>\n",
       "      <td>0</td>\n",
       "      <td>0</td>\n",
       "      <td>1</td>\n",
       "      <td>0</td>\n",
       "      <td>0</td>\n",
       "      <td>0</td>\n",
       "      <td>0</td>\n",
       "      <td>0</td>\n",
       "      <td>0</td>\n",
       "      <td>0</td>\n",
       "      <td>1</td>\n",
       "      <td>0</td>\n",
       "      <td>1</td>\n",
       "      <td>1</td>\n",
       "      <td>0</td>\n",
       "      <td>0</td>\n",
       "    </tr>\n",
       "  </tbody>\n",
       "</table>\n",
       "</div>"
      ],
      "text/plain": [
       "   be  course  deep  from  gfg  hello  is  learning  new  providing  sleep  studying  today  want  we  will\n",
       "0   0       1     1     0    1      1   1         1    1          1      0         0      0     0   0     0\n",
       "1   1       0     1     1    0      0   0         1    0          0      0         1      1     0   1     1\n",
       "2   0       0     1     0    0      0   0         0    0          0      1         0      1     1   0     0"
      ]
     },
     "execution_count": 44,
     "metadata": {},
     "output_type": "execute_result"
    }
   ],
   "source": [
    "DataFrame(matrix.toarray(),columns=vect2.get_feature_names())"
   ]
  },
  {
   "cell_type": "code",
   "execution_count": null,
   "id": "a4bad1af",
   "metadata": {},
   "outputs": [],
   "source": []
  },
  {
   "cell_type": "markdown",
   "id": "153bec01",
   "metadata": {},
   "source": [
    "- **Whenever we are seeing 1 it means that word is present in that specific sentence and for 0 it indicates its not present**\n",
    "- **We can see deep is present in all the 3 items of the list so 1 is present in all the rows**\n",
    "- **\"today\" is present in the second and the third item so 1 is present in the last two rows**\n"
   ]
  },
  {
   "cell_type": "code",
   "execution_count": null,
   "id": "e508114a",
   "metadata": {},
   "outputs": [],
   "source": []
  },
  {
   "cell_type": "markdown",
   "id": "2b0ea019",
   "metadata": {},
   "source": [
    "                                      #Happy Learning"
   ]
  }
 ],
 "metadata": {
  "kernelspec": {
   "display_name": "Python 3",
   "language": "python",
   "name": "python3"
  },
  "language_info": {
   "codemirror_mode": {
    "name": "ipython",
    "version": 3
   },
   "file_extension": ".py",
   "mimetype": "text/x-python",
   "name": "python",
   "nbconvert_exporter": "python",
   "pygments_lexer": "ipython3",
   "version": "3.8.8"
  }
 },
 "nbformat": 4,
 "nbformat_minor": 5
}
