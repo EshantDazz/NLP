{
 "cells": [
  {
   "cell_type": "code",
   "execution_count": 1,
   "id": "ab227f07",
   "metadata": {},
   "outputs": [],
   "source": [
    "#!pip install textblob"
   ]
  },
  {
   "cell_type": "markdown",
   "id": "c969f98f",
   "metadata": {},
   "source": [
    "# <div class='alert alert-success'> Autocorrection </div> "
   ]
  },
  {
   "cell_type": "code",
   "execution_count": 2,
   "id": "340f02be",
   "metadata": {},
   "outputs": [],
   "source": [
    "from textblob import TextBlob as tb"
   ]
  },
  {
   "cell_type": "code",
   "execution_count": null,
   "id": "6f7a619c",
   "metadata": {},
   "outputs": [],
   "source": []
  },
  {
   "cell_type": "markdown",
   "id": "55009f69",
   "metadata": {},
   "source": [
    "### <font color='green'> Spelling Correction</font>"
   ]
  },
  {
   "cell_type": "code",
   "execution_count": 3,
   "id": "1cafb200",
   "metadata": {},
   "outputs": [],
   "source": [
    "t=tb(\"He is very happi\")"
   ]
  },
  {
   "cell_type": "code",
   "execution_count": 4,
   "id": "c5484f34",
   "metadata": {},
   "outputs": [
    {
     "name": "stdout",
     "output_type": "stream",
     "text": [
      "He is very happy\n"
     ]
    }
   ],
   "source": [
    "print(t.correct())"
   ]
  },
  {
   "cell_type": "markdown",
   "id": "e64ad5b2",
   "metadata": {},
   "source": [
    "**We can see happi got converted to happy**"
   ]
  },
  {
   "cell_type": "code",
   "execution_count": null,
   "id": "8b5f3386",
   "metadata": {},
   "outputs": [],
   "source": []
  },
  {
   "cell_type": "code",
   "execution_count": 5,
   "id": "842f7b02",
   "metadata": {},
   "outputs": [],
   "source": [
    "t=tb(\"Why are you cryng\")"
   ]
  },
  {
   "cell_type": "code",
   "execution_count": 6,
   "id": "41577ed8",
   "metadata": {},
   "outputs": [
    {
     "name": "stdout",
     "output_type": "stream",
     "text": [
      "Why are you crying\n"
     ]
    }
   ],
   "source": [
    "print(t.correct())"
   ]
  },
  {
   "cell_type": "code",
   "execution_count": null,
   "id": "e6d27c07",
   "metadata": {},
   "outputs": [],
   "source": []
  },
  {
   "cell_type": "markdown",
   "id": "fa344a4f",
   "metadata": {},
   "source": [
    "cryng--> crying"
   ]
  },
  {
   "cell_type": "code",
   "execution_count": 7,
   "id": "0f0d8b48",
   "metadata": {},
   "outputs": [],
   "source": [
    "#!pip install autocorrect"
   ]
  },
  {
   "cell_type": "code",
   "execution_count": 8,
   "id": "c2a1e2d6",
   "metadata": {},
   "outputs": [],
   "source": [
    "#!pip install pyspellchecker"
   ]
  },
  {
   "cell_type": "code",
   "execution_count": 9,
   "id": "a1174331",
   "metadata": {},
   "outputs": [],
   "source": [
    "#!pip install pattern"
   ]
  },
  {
   "cell_type": "markdown",
   "id": "d7df4122",
   "metadata": {},
   "source": [
    "**Spellchecker**"
   ]
  },
  {
   "cell_type": "code",
   "execution_count": 10,
   "id": "8471d6ea",
   "metadata": {},
   "outputs": [],
   "source": [
    "from spellchecker import SpellChecker as sc"
   ]
  },
  {
   "cell_type": "code",
   "execution_count": 11,
   "id": "ec206316",
   "metadata": {},
   "outputs": [
    {
     "data": {
      "text/plain": [
       "['_SpellChecker__edit_distance_alt',\n",
       " '__class__',\n",
       " '__contains__',\n",
       " '__delattr__',\n",
       " '__dir__',\n",
       " '__doc__',\n",
       " '__eq__',\n",
       " '__format__',\n",
       " '__ge__',\n",
       " '__getattribute__',\n",
       " '__getitem__',\n",
       " '__gt__',\n",
       " '__hash__',\n",
       " '__init__',\n",
       " '__init_subclass__',\n",
       " '__iter__',\n",
       " '__le__',\n",
       " '__lt__',\n",
       " '__module__',\n",
       " '__ne__',\n",
       " '__new__',\n",
       " '__reduce__',\n",
       " '__reduce_ex__',\n",
       " '__repr__',\n",
       " '__setattr__',\n",
       " '__sizeof__',\n",
       " '__slots__',\n",
       " '__str__',\n",
       " '__subclasshook__',\n",
       " '_case_sensitive',\n",
       " '_check_if_should_check',\n",
       " '_distance',\n",
       " '_tokenizer',\n",
       " '_word_frequency',\n",
       " 'candidates',\n",
       " 'correction',\n",
       " 'distance',\n",
       " 'edit_distance_1',\n",
       " 'edit_distance_2',\n",
       " 'export',\n",
       " 'known',\n",
       " 'languages',\n",
       " 'split_words',\n",
       " 'unknown',\n",
       " 'word_frequency',\n",
       " 'word_probability',\n",
       " 'word_usage_frequency']"
      ]
     },
     "execution_count": 11,
     "metadata": {},
     "output_type": "execute_result"
    }
   ],
   "source": [
    "dir(sc)"
   ]
  },
  {
   "cell_type": "code",
   "execution_count": null,
   "id": "926855af",
   "metadata": {},
   "outputs": [],
   "source": []
  },
  {
   "cell_type": "code",
   "execution_count": 12,
   "id": "dfcdd9e2",
   "metadata": {},
   "outputs": [],
   "source": [
    "spell=sc()"
   ]
  },
  {
   "cell_type": "code",
   "execution_count": 15,
   "id": "3c49f6c8",
   "metadata": {},
   "outputs": [],
   "source": [
    "words=['happu','mobila','Physisc','stront','fighy']"
   ]
  },
  {
   "cell_type": "code",
   "execution_count": 16,
   "id": "c3b2084a",
   "metadata": {},
   "outputs": [
    {
     "name": "stdout",
     "output_type": "stream",
     "text": [
      "happu  -----> happy\n",
      "mobila  -----> mobile\n",
      "Physisc  -----> physics\n",
      "stront  -----> strong\n",
      "fighy  -----> fight\n"
     ]
    }
   ],
   "source": [
    "for word in words:\n",
    "    print(f\"{word}  -----> {spell.correction(word)}\")"
   ]
  },
  {
   "cell_type": "code",
   "execution_count": null,
   "id": "e098a52b",
   "metadata": {},
   "outputs": [],
   "source": []
  },
  {
   "cell_type": "code",
   "execution_count": 17,
   "id": "ed3f120b",
   "metadata": {},
   "outputs": [
    {
     "name": "stdout",
     "output_type": "stream",
     "text": [
      "happu  -----> {'happe', 'happy', 'pappu', 'happ', 'appu', 'happi'}\n",
      "mobila  -----> {'mobil', 'mobile'}\n",
      "Physisc  -----> {'physics', 'physic'}\n",
      "stront  -----> {'tront', 'strong', 'stron'}\n",
      "fighy  -----> {'figh', 'figgy', 'righy', 'fishy', 'fight'}\n"
     ]
    }
   ],
   "source": [
    "for word in words:\n",
    "    print(f\"{word}  -----> {spell.candidates(word)}\")"
   ]
  },
  {
   "cell_type": "code",
   "execution_count": null,
   "id": "4cbe2928",
   "metadata": {},
   "outputs": [],
   "source": []
  },
  {
   "cell_type": "code",
   "execution_count": null,
   "id": "0fbdd5a0",
   "metadata": {},
   "outputs": [],
   "source": []
  },
  {
   "cell_type": "code",
   "execution_count": 20,
   "id": "470fa54b",
   "metadata": {},
   "outputs": [],
   "source": [
    "from autocorrect import spell"
   ]
  },
  {
   "cell_type": "code",
   "execution_count": 29,
   "id": "77061f6f",
   "metadata": {},
   "outputs": [],
   "source": [
    "words=['happu','mobila','Physisc','stront','fighy']"
   ]
  },
  {
   "cell_type": "code",
   "execution_count": 34,
   "id": "899dbae2",
   "metadata": {},
   "outputs": [
    {
     "name": "stdout",
     "output_type": "stream",
     "text": [
      "autocorrect.spell is deprecated,             use autocorrect.Speller instead\n",
      "mobila  -----> mobile\n",
      "autocorrect.spell is deprecated,             use autocorrect.Speller instead\n",
      "Physisc  -----> Physics\n",
      "autocorrect.spell is deprecated,             use autocorrect.Speller instead\n",
      "stront  -----> strong\n",
      "autocorrect.spell is deprecated,             use autocorrect.Speller instead\n",
      "fighy  -----> fight\n"
     ]
    }
   ],
   "source": [
    "for word in words:\n",
    "    print(f\"{word}  -----> {spell(word)}\")"
   ]
  },
  {
   "cell_type": "code",
   "execution_count": null,
   "id": "f58d1bba",
   "metadata": {},
   "outputs": [],
   "source": []
  },
  {
   "cell_type": "raw",
   "id": "f4e4a105",
   "metadata": {},
   "source": [
    "                                                 #Happy Learning"
   ]
  }
 ],
 "metadata": {
  "kernelspec": {
   "display_name": "Python 3",
   "language": "python",
   "name": "python3"
  },
  "language_info": {
   "codemirror_mode": {
    "name": "ipython",
    "version": 3
   },
   "file_extension": ".py",
   "mimetype": "text/x-python",
   "name": "python",
   "nbconvert_exporter": "python",
   "pygments_lexer": "ipython3",
   "version": "3.8.8"
  }
 },
 "nbformat": 4,
 "nbformat_minor": 5
}
