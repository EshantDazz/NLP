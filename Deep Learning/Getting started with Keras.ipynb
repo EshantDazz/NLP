{
 "cells": [
  {
   "cell_type": "markdown",
   "id": "c43899b0",
   "metadata": {},
   "source": [
    "# <div class='alert alert-info'> Creating a simple neural network for iris dataset</div>"
   ]
  },
  {
   "cell_type": "code",
   "execution_count": 1,
   "id": "6ea89def",
   "metadata": {},
   "outputs": [],
   "source": [
    "#!pip install keras"
   ]
  },
  {
   "cell_type": "code",
   "execution_count": 2,
   "id": "9739fb97",
   "metadata": {},
   "outputs": [],
   "source": [
    "import numpy as np"
   ]
  },
  {
   "cell_type": "code",
   "execution_count": 3,
   "id": "f6b3098a",
   "metadata": {},
   "outputs": [],
   "source": [
    "from sklearn.datasets import load_iris"
   ]
  },
  {
   "cell_type": "code",
   "execution_count": 4,
   "id": "5580acc2",
   "metadata": {},
   "outputs": [],
   "source": [
    "d=load_iris()"
   ]
  },
  {
   "cell_type": "code",
   "execution_count": 5,
   "id": "ed58e538",
   "metadata": {},
   "outputs": [
    {
     "data": {
      "text/plain": [
       "{'data': array([[5.1, 3.5, 1.4, 0.2],\n",
       "        [4.9, 3. , 1.4, 0.2],\n",
       "        [4.7, 3.2, 1.3, 0.2],\n",
       "        [4.6, 3.1, 1.5, 0.2],\n",
       "        [5. , 3.6, 1.4, 0.2],\n",
       "        [5.4, 3.9, 1.7, 0.4],\n",
       "        [4.6, 3.4, 1.4, 0.3],\n",
       "        [5. , 3.4, 1.5, 0.2],\n",
       "        [4.4, 2.9, 1.4, 0.2],\n",
       "        [4.9, 3.1, 1.5, 0.1],\n",
       "        [5.4, 3.7, 1.5, 0.2],\n",
       "        [4.8, 3.4, 1.6, 0.2],\n",
       "        [4.8, 3. , 1.4, 0.1],\n",
       "        [4.3, 3. , 1.1, 0.1],\n",
       "        [5.8, 4. , 1.2, 0.2],\n",
       "        [5.7, 4.4, 1.5, 0.4],\n",
       "        [5.4, 3.9, 1.3, 0.4],\n",
       "        [5.1, 3.5, 1.4, 0.3],\n",
       "        [5.7, 3.8, 1.7, 0.3],\n",
       "        [5.1, 3.8, 1.5, 0.3],\n",
       "        [5.4, 3.4, 1.7, 0.2],\n",
       "        [5.1, 3.7, 1.5, 0.4],\n",
       "        [4.6, 3.6, 1. , 0.2],\n",
       "        [5.1, 3.3, 1.7, 0.5],\n",
       "        [4.8, 3.4, 1.9, 0.2],\n",
       "        [5. , 3. , 1.6, 0.2],\n",
       "        [5. , 3.4, 1.6, 0.4],\n",
       "        [5.2, 3.5, 1.5, 0.2],\n",
       "        [5.2, 3.4, 1.4, 0.2],\n",
       "        [4.7, 3.2, 1.6, 0.2],\n",
       "        [4.8, 3.1, 1.6, 0.2],\n",
       "        [5.4, 3.4, 1.5, 0.4],\n",
       "        [5.2, 4.1, 1.5, 0.1],\n",
       "        [5.5, 4.2, 1.4, 0.2],\n",
       "        [4.9, 3.1, 1.5, 0.2],\n",
       "        [5. , 3.2, 1.2, 0.2],\n",
       "        [5.5, 3.5, 1.3, 0.2],\n",
       "        [4.9, 3.6, 1.4, 0.1],\n",
       "        [4.4, 3. , 1.3, 0.2],\n",
       "        [5.1, 3.4, 1.5, 0.2],\n",
       "        [5. , 3.5, 1.3, 0.3],\n",
       "        [4.5, 2.3, 1.3, 0.3],\n",
       "        [4.4, 3.2, 1.3, 0.2],\n",
       "        [5. , 3.5, 1.6, 0.6],\n",
       "        [5.1, 3.8, 1.9, 0.4],\n",
       "        [4.8, 3. , 1.4, 0.3],\n",
       "        [5.1, 3.8, 1.6, 0.2],\n",
       "        [4.6, 3.2, 1.4, 0.2],\n",
       "        [5.3, 3.7, 1.5, 0.2],\n",
       "        [5. , 3.3, 1.4, 0.2],\n",
       "        [7. , 3.2, 4.7, 1.4],\n",
       "        [6.4, 3.2, 4.5, 1.5],\n",
       "        [6.9, 3.1, 4.9, 1.5],\n",
       "        [5.5, 2.3, 4. , 1.3],\n",
       "        [6.5, 2.8, 4.6, 1.5],\n",
       "        [5.7, 2.8, 4.5, 1.3],\n",
       "        [6.3, 3.3, 4.7, 1.6],\n",
       "        [4.9, 2.4, 3.3, 1. ],\n",
       "        [6.6, 2.9, 4.6, 1.3],\n",
       "        [5.2, 2.7, 3.9, 1.4],\n",
       "        [5. , 2. , 3.5, 1. ],\n",
       "        [5.9, 3. , 4.2, 1.5],\n",
       "        [6. , 2.2, 4. , 1. ],\n",
       "        [6.1, 2.9, 4.7, 1.4],\n",
       "        [5.6, 2.9, 3.6, 1.3],\n",
       "        [6.7, 3.1, 4.4, 1.4],\n",
       "        [5.6, 3. , 4.5, 1.5],\n",
       "        [5.8, 2.7, 4.1, 1. ],\n",
       "        [6.2, 2.2, 4.5, 1.5],\n",
       "        [5.6, 2.5, 3.9, 1.1],\n",
       "        [5.9, 3.2, 4.8, 1.8],\n",
       "        [6.1, 2.8, 4. , 1.3],\n",
       "        [6.3, 2.5, 4.9, 1.5],\n",
       "        [6.1, 2.8, 4.7, 1.2],\n",
       "        [6.4, 2.9, 4.3, 1.3],\n",
       "        [6.6, 3. , 4.4, 1.4],\n",
       "        [6.8, 2.8, 4.8, 1.4],\n",
       "        [6.7, 3. , 5. , 1.7],\n",
       "        [6. , 2.9, 4.5, 1.5],\n",
       "        [5.7, 2.6, 3.5, 1. ],\n",
       "        [5.5, 2.4, 3.8, 1.1],\n",
       "        [5.5, 2.4, 3.7, 1. ],\n",
       "        [5.8, 2.7, 3.9, 1.2],\n",
       "        [6. , 2.7, 5.1, 1.6],\n",
       "        [5.4, 3. , 4.5, 1.5],\n",
       "        [6. , 3.4, 4.5, 1.6],\n",
       "        [6.7, 3.1, 4.7, 1.5],\n",
       "        [6.3, 2.3, 4.4, 1.3],\n",
       "        [5.6, 3. , 4.1, 1.3],\n",
       "        [5.5, 2.5, 4. , 1.3],\n",
       "        [5.5, 2.6, 4.4, 1.2],\n",
       "        [6.1, 3. , 4.6, 1.4],\n",
       "        [5.8, 2.6, 4. , 1.2],\n",
       "        [5. , 2.3, 3.3, 1. ],\n",
       "        [5.6, 2.7, 4.2, 1.3],\n",
       "        [5.7, 3. , 4.2, 1.2],\n",
       "        [5.7, 2.9, 4.2, 1.3],\n",
       "        [6.2, 2.9, 4.3, 1.3],\n",
       "        [5.1, 2.5, 3. , 1.1],\n",
       "        [5.7, 2.8, 4.1, 1.3],\n",
       "        [6.3, 3.3, 6. , 2.5],\n",
       "        [5.8, 2.7, 5.1, 1.9],\n",
       "        [7.1, 3. , 5.9, 2.1],\n",
       "        [6.3, 2.9, 5.6, 1.8],\n",
       "        [6.5, 3. , 5.8, 2.2],\n",
       "        [7.6, 3. , 6.6, 2.1],\n",
       "        [4.9, 2.5, 4.5, 1.7],\n",
       "        [7.3, 2.9, 6.3, 1.8],\n",
       "        [6.7, 2.5, 5.8, 1.8],\n",
       "        [7.2, 3.6, 6.1, 2.5],\n",
       "        [6.5, 3.2, 5.1, 2. ],\n",
       "        [6.4, 2.7, 5.3, 1.9],\n",
       "        [6.8, 3. , 5.5, 2.1],\n",
       "        [5.7, 2.5, 5. , 2. ],\n",
       "        [5.8, 2.8, 5.1, 2.4],\n",
       "        [6.4, 3.2, 5.3, 2.3],\n",
       "        [6.5, 3. , 5.5, 1.8],\n",
       "        [7.7, 3.8, 6.7, 2.2],\n",
       "        [7.7, 2.6, 6.9, 2.3],\n",
       "        [6. , 2.2, 5. , 1.5],\n",
       "        [6.9, 3.2, 5.7, 2.3],\n",
       "        [5.6, 2.8, 4.9, 2. ],\n",
       "        [7.7, 2.8, 6.7, 2. ],\n",
       "        [6.3, 2.7, 4.9, 1.8],\n",
       "        [6.7, 3.3, 5.7, 2.1],\n",
       "        [7.2, 3.2, 6. , 1.8],\n",
       "        [6.2, 2.8, 4.8, 1.8],\n",
       "        [6.1, 3. , 4.9, 1.8],\n",
       "        [6.4, 2.8, 5.6, 2.1],\n",
       "        [7.2, 3. , 5.8, 1.6],\n",
       "        [7.4, 2.8, 6.1, 1.9],\n",
       "        [7.9, 3.8, 6.4, 2. ],\n",
       "        [6.4, 2.8, 5.6, 2.2],\n",
       "        [6.3, 2.8, 5.1, 1.5],\n",
       "        [6.1, 2.6, 5.6, 1.4],\n",
       "        [7.7, 3. , 6.1, 2.3],\n",
       "        [6.3, 3.4, 5.6, 2.4],\n",
       "        [6.4, 3.1, 5.5, 1.8],\n",
       "        [6. , 3. , 4.8, 1.8],\n",
       "        [6.9, 3.1, 5.4, 2.1],\n",
       "        [6.7, 3.1, 5.6, 2.4],\n",
       "        [6.9, 3.1, 5.1, 2.3],\n",
       "        [5.8, 2.7, 5.1, 1.9],\n",
       "        [6.8, 3.2, 5.9, 2.3],\n",
       "        [6.7, 3.3, 5.7, 2.5],\n",
       "        [6.7, 3. , 5.2, 2.3],\n",
       "        [6.3, 2.5, 5. , 1.9],\n",
       "        [6.5, 3. , 5.2, 2. ],\n",
       "        [6.2, 3.4, 5.4, 2.3],\n",
       "        [5.9, 3. , 5.1, 1.8]]),\n",
       " 'target': array([0, 0, 0, 0, 0, 0, 0, 0, 0, 0, 0, 0, 0, 0, 0, 0, 0, 0, 0, 0, 0, 0,\n",
       "        0, 0, 0, 0, 0, 0, 0, 0, 0, 0, 0, 0, 0, 0, 0, 0, 0, 0, 0, 0, 0, 0,\n",
       "        0, 0, 0, 0, 0, 0, 1, 1, 1, 1, 1, 1, 1, 1, 1, 1, 1, 1, 1, 1, 1, 1,\n",
       "        1, 1, 1, 1, 1, 1, 1, 1, 1, 1, 1, 1, 1, 1, 1, 1, 1, 1, 1, 1, 1, 1,\n",
       "        1, 1, 1, 1, 1, 1, 1, 1, 1, 1, 1, 1, 2, 2, 2, 2, 2, 2, 2, 2, 2, 2,\n",
       "        2, 2, 2, 2, 2, 2, 2, 2, 2, 2, 2, 2, 2, 2, 2, 2, 2, 2, 2, 2, 2, 2,\n",
       "        2, 2, 2, 2, 2, 2, 2, 2, 2, 2, 2, 2, 2, 2, 2, 2, 2, 2]),\n",
       " 'frame': None,\n",
       " 'target_names': array(['setosa', 'versicolor', 'virginica'], dtype='<U10'),\n",
       " 'DESCR': '.. _iris_dataset:\\n\\nIris plants dataset\\n--------------------\\n\\n**Data Set Characteristics:**\\n\\n    :Number of Instances: 150 (50 in each of three classes)\\n    :Number of Attributes: 4 numeric, predictive attributes and the class\\n    :Attribute Information:\\n        - sepal length in cm\\n        - sepal width in cm\\n        - petal length in cm\\n        - petal width in cm\\n        - class:\\n                - Iris-Setosa\\n                - Iris-Versicolour\\n                - Iris-Virginica\\n                \\n    :Summary Statistics:\\n\\n    ============== ==== ==== ======= ===== ====================\\n                    Min  Max   Mean    SD   Class Correlation\\n    ============== ==== ==== ======= ===== ====================\\n    sepal length:   4.3  7.9   5.84   0.83    0.7826\\n    sepal width:    2.0  4.4   3.05   0.43   -0.4194\\n    petal length:   1.0  6.9   3.76   1.76    0.9490  (high!)\\n    petal width:    0.1  2.5   1.20   0.76    0.9565  (high!)\\n    ============== ==== ==== ======= ===== ====================\\n\\n    :Missing Attribute Values: None\\n    :Class Distribution: 33.3% for each of 3 classes.\\n    :Creator: R.A. Fisher\\n    :Donor: Michael Marshall (MARSHALL%PLU@io.arc.nasa.gov)\\n    :Date: July, 1988\\n\\nThe famous Iris database, first used by Sir R.A. Fisher. The dataset is taken\\nfrom Fisher\\'s paper. Note that it\\'s the same as in R, but not as in the UCI\\nMachine Learning Repository, which has two wrong data points.\\n\\nThis is perhaps the best known database to be found in the\\npattern recognition literature.  Fisher\\'s paper is a classic in the field and\\nis referenced frequently to this day.  (See Duda & Hart, for example.)  The\\ndata set contains 3 classes of 50 instances each, where each class refers to a\\ntype of iris plant.  One class is linearly separable from the other 2; the\\nlatter are NOT linearly separable from each other.\\n\\n.. topic:: References\\n\\n   - Fisher, R.A. \"The use of multiple measurements in taxonomic problems\"\\n     Annual Eugenics, 7, Part II, 179-188 (1936); also in \"Contributions to\\n     Mathematical Statistics\" (John Wiley, NY, 1950).\\n   - Duda, R.O., & Hart, P.E. (1973) Pattern Classification and Scene Analysis.\\n     (Q327.D83) John Wiley & Sons.  ISBN 0-471-22361-1.  See page 218.\\n   - Dasarathy, B.V. (1980) \"Nosing Around the Neighborhood: A New System\\n     Structure and Classification Rule for Recognition in Partially Exposed\\n     Environments\".  IEEE Transactions on Pattern Analysis and Machine\\n     Intelligence, Vol. PAMI-2, No. 1, 67-71.\\n   - Gates, G.W. (1972) \"The Reduced Nearest Neighbor Rule\".  IEEE Transactions\\n     on Information Theory, May 1972, 431-433.\\n   - See also: 1988 MLC Proceedings, 54-64.  Cheeseman et al\"s AUTOCLASS II\\n     conceptual clustering system finds 3 classes in the data.\\n   - Many, many more ...',\n",
       " 'feature_names': ['sepal length (cm)',\n",
       "  'sepal width (cm)',\n",
       "  'petal length (cm)',\n",
       "  'petal width (cm)'],\n",
       " 'filename': 'C:\\\\Users\\\\HP\\\\anaconda3\\\\lib\\\\site-packages\\\\sklearn\\\\datasets\\\\data\\\\iris.csv'}"
      ]
     },
     "execution_count": 5,
     "metadata": {},
     "output_type": "execute_result"
    }
   ],
   "source": [
    "d"
   ]
  },
  {
   "cell_type": "code",
   "execution_count": 6,
   "id": "ed5a8bbf",
   "metadata": {},
   "outputs": [
    {
     "data": {
      "text/plain": [
       "array([[5.1, 3.5, 1.4, 0.2],\n",
       "       [4.9, 3. , 1.4, 0.2],\n",
       "       [4.7, 3.2, 1.3, 0.2],\n",
       "       [4.6, 3.1, 1.5, 0.2],\n",
       "       [5. , 3.6, 1.4, 0.2],\n",
       "       [5.4, 3.9, 1.7, 0.4],\n",
       "       [4.6, 3.4, 1.4, 0.3],\n",
       "       [5. , 3.4, 1.5, 0.2],\n",
       "       [4.4, 2.9, 1.4, 0.2],\n",
       "       [4.9, 3.1, 1.5, 0.1],\n",
       "       [5.4, 3.7, 1.5, 0.2],\n",
       "       [4.8, 3.4, 1.6, 0.2],\n",
       "       [4.8, 3. , 1.4, 0.1],\n",
       "       [4.3, 3. , 1.1, 0.1],\n",
       "       [5.8, 4. , 1.2, 0.2],\n",
       "       [5.7, 4.4, 1.5, 0.4],\n",
       "       [5.4, 3.9, 1.3, 0.4],\n",
       "       [5.1, 3.5, 1.4, 0.3],\n",
       "       [5.7, 3.8, 1.7, 0.3],\n",
       "       [5.1, 3.8, 1.5, 0.3],\n",
       "       [5.4, 3.4, 1.7, 0.2],\n",
       "       [5.1, 3.7, 1.5, 0.4],\n",
       "       [4.6, 3.6, 1. , 0.2],\n",
       "       [5.1, 3.3, 1.7, 0.5],\n",
       "       [4.8, 3.4, 1.9, 0.2],\n",
       "       [5. , 3. , 1.6, 0.2],\n",
       "       [5. , 3.4, 1.6, 0.4],\n",
       "       [5.2, 3.5, 1.5, 0.2],\n",
       "       [5.2, 3.4, 1.4, 0.2],\n",
       "       [4.7, 3.2, 1.6, 0.2],\n",
       "       [4.8, 3.1, 1.6, 0.2],\n",
       "       [5.4, 3.4, 1.5, 0.4],\n",
       "       [5.2, 4.1, 1.5, 0.1],\n",
       "       [5.5, 4.2, 1.4, 0.2],\n",
       "       [4.9, 3.1, 1.5, 0.2],\n",
       "       [5. , 3.2, 1.2, 0.2],\n",
       "       [5.5, 3.5, 1.3, 0.2],\n",
       "       [4.9, 3.6, 1.4, 0.1],\n",
       "       [4.4, 3. , 1.3, 0.2],\n",
       "       [5.1, 3.4, 1.5, 0.2],\n",
       "       [5. , 3.5, 1.3, 0.3],\n",
       "       [4.5, 2.3, 1.3, 0.3],\n",
       "       [4.4, 3.2, 1.3, 0.2],\n",
       "       [5. , 3.5, 1.6, 0.6],\n",
       "       [5.1, 3.8, 1.9, 0.4],\n",
       "       [4.8, 3. , 1.4, 0.3],\n",
       "       [5.1, 3.8, 1.6, 0.2],\n",
       "       [4.6, 3.2, 1.4, 0.2],\n",
       "       [5.3, 3.7, 1.5, 0.2],\n",
       "       [5. , 3.3, 1.4, 0.2],\n",
       "       [7. , 3.2, 4.7, 1.4],\n",
       "       [6.4, 3.2, 4.5, 1.5],\n",
       "       [6.9, 3.1, 4.9, 1.5],\n",
       "       [5.5, 2.3, 4. , 1.3],\n",
       "       [6.5, 2.8, 4.6, 1.5],\n",
       "       [5.7, 2.8, 4.5, 1.3],\n",
       "       [6.3, 3.3, 4.7, 1.6],\n",
       "       [4.9, 2.4, 3.3, 1. ],\n",
       "       [6.6, 2.9, 4.6, 1.3],\n",
       "       [5.2, 2.7, 3.9, 1.4],\n",
       "       [5. , 2. , 3.5, 1. ],\n",
       "       [5.9, 3. , 4.2, 1.5],\n",
       "       [6. , 2.2, 4. , 1. ],\n",
       "       [6.1, 2.9, 4.7, 1.4],\n",
       "       [5.6, 2.9, 3.6, 1.3],\n",
       "       [6.7, 3.1, 4.4, 1.4],\n",
       "       [5.6, 3. , 4.5, 1.5],\n",
       "       [5.8, 2.7, 4.1, 1. ],\n",
       "       [6.2, 2.2, 4.5, 1.5],\n",
       "       [5.6, 2.5, 3.9, 1.1],\n",
       "       [5.9, 3.2, 4.8, 1.8],\n",
       "       [6.1, 2.8, 4. , 1.3],\n",
       "       [6.3, 2.5, 4.9, 1.5],\n",
       "       [6.1, 2.8, 4.7, 1.2],\n",
       "       [6.4, 2.9, 4.3, 1.3],\n",
       "       [6.6, 3. , 4.4, 1.4],\n",
       "       [6.8, 2.8, 4.8, 1.4],\n",
       "       [6.7, 3. , 5. , 1.7],\n",
       "       [6. , 2.9, 4.5, 1.5],\n",
       "       [5.7, 2.6, 3.5, 1. ],\n",
       "       [5.5, 2.4, 3.8, 1.1],\n",
       "       [5.5, 2.4, 3.7, 1. ],\n",
       "       [5.8, 2.7, 3.9, 1.2],\n",
       "       [6. , 2.7, 5.1, 1.6],\n",
       "       [5.4, 3. , 4.5, 1.5],\n",
       "       [6. , 3.4, 4.5, 1.6],\n",
       "       [6.7, 3.1, 4.7, 1.5],\n",
       "       [6.3, 2.3, 4.4, 1.3],\n",
       "       [5.6, 3. , 4.1, 1.3],\n",
       "       [5.5, 2.5, 4. , 1.3],\n",
       "       [5.5, 2.6, 4.4, 1.2],\n",
       "       [6.1, 3. , 4.6, 1.4],\n",
       "       [5.8, 2.6, 4. , 1.2],\n",
       "       [5. , 2.3, 3.3, 1. ],\n",
       "       [5.6, 2.7, 4.2, 1.3],\n",
       "       [5.7, 3. , 4.2, 1.2],\n",
       "       [5.7, 2.9, 4.2, 1.3],\n",
       "       [6.2, 2.9, 4.3, 1.3],\n",
       "       [5.1, 2.5, 3. , 1.1],\n",
       "       [5.7, 2.8, 4.1, 1.3],\n",
       "       [6.3, 3.3, 6. , 2.5],\n",
       "       [5.8, 2.7, 5.1, 1.9],\n",
       "       [7.1, 3. , 5.9, 2.1],\n",
       "       [6.3, 2.9, 5.6, 1.8],\n",
       "       [6.5, 3. , 5.8, 2.2],\n",
       "       [7.6, 3. , 6.6, 2.1],\n",
       "       [4.9, 2.5, 4.5, 1.7],\n",
       "       [7.3, 2.9, 6.3, 1.8],\n",
       "       [6.7, 2.5, 5.8, 1.8],\n",
       "       [7.2, 3.6, 6.1, 2.5],\n",
       "       [6.5, 3.2, 5.1, 2. ],\n",
       "       [6.4, 2.7, 5.3, 1.9],\n",
       "       [6.8, 3. , 5.5, 2.1],\n",
       "       [5.7, 2.5, 5. , 2. ],\n",
       "       [5.8, 2.8, 5.1, 2.4],\n",
       "       [6.4, 3.2, 5.3, 2.3],\n",
       "       [6.5, 3. , 5.5, 1.8],\n",
       "       [7.7, 3.8, 6.7, 2.2],\n",
       "       [7.7, 2.6, 6.9, 2.3],\n",
       "       [6. , 2.2, 5. , 1.5],\n",
       "       [6.9, 3.2, 5.7, 2.3],\n",
       "       [5.6, 2.8, 4.9, 2. ],\n",
       "       [7.7, 2.8, 6.7, 2. ],\n",
       "       [6.3, 2.7, 4.9, 1.8],\n",
       "       [6.7, 3.3, 5.7, 2.1],\n",
       "       [7.2, 3.2, 6. , 1.8],\n",
       "       [6.2, 2.8, 4.8, 1.8],\n",
       "       [6.1, 3. , 4.9, 1.8],\n",
       "       [6.4, 2.8, 5.6, 2.1],\n",
       "       [7.2, 3. , 5.8, 1.6],\n",
       "       [7.4, 2.8, 6.1, 1.9],\n",
       "       [7.9, 3.8, 6.4, 2. ],\n",
       "       [6.4, 2.8, 5.6, 2.2],\n",
       "       [6.3, 2.8, 5.1, 1.5],\n",
       "       [6.1, 2.6, 5.6, 1.4],\n",
       "       [7.7, 3. , 6.1, 2.3],\n",
       "       [6.3, 3.4, 5.6, 2.4],\n",
       "       [6.4, 3.1, 5.5, 1.8],\n",
       "       [6. , 3. , 4.8, 1.8],\n",
       "       [6.9, 3.1, 5.4, 2.1],\n",
       "       [6.7, 3.1, 5.6, 2.4],\n",
       "       [6.9, 3.1, 5.1, 2.3],\n",
       "       [5.8, 2.7, 5.1, 1.9],\n",
       "       [6.8, 3.2, 5.9, 2.3],\n",
       "       [6.7, 3.3, 5.7, 2.5],\n",
       "       [6.7, 3. , 5.2, 2.3],\n",
       "       [6.3, 2.5, 5. , 1.9],\n",
       "       [6.5, 3. , 5.2, 2. ],\n",
       "       [6.2, 3.4, 5.4, 2.3],\n",
       "       [5.9, 3. , 5.1, 1.8]])"
      ]
     },
     "execution_count": 6,
     "metadata": {},
     "output_type": "execute_result"
    }
   ],
   "source": [
    "d.data"
   ]
  },
  {
   "cell_type": "code",
   "execution_count": 7,
   "id": "3d8be463",
   "metadata": {},
   "outputs": [
    {
     "data": {
      "text/plain": [
       "sklearn.utils.Bunch"
      ]
     },
     "execution_count": 7,
     "metadata": {},
     "output_type": "execute_result"
    }
   ],
   "source": [
    "type(d)"
   ]
  },
  {
   "cell_type": "code",
   "execution_count": 8,
   "id": "b8d0d88b",
   "metadata": {},
   "outputs": [
    {
     "name": "stdout",
     "output_type": "stream",
     "text": [
      "['sepal length (cm)', 'sepal width (cm)', 'petal length (cm)', 'petal width (cm)']\n"
     ]
    }
   ],
   "source": [
    "print(d.feature_names)"
   ]
  },
  {
   "cell_type": "code",
   "execution_count": 9,
   "id": "45ab6832",
   "metadata": {},
   "outputs": [
    {
     "name": "stdout",
     "output_type": "stream",
     "text": [
      "['setosa' 'versicolor' 'virginica']\n"
     ]
    }
   ],
   "source": [
    "print(d.target_names)"
   ]
  },
  {
   "cell_type": "code",
   "execution_count": 10,
   "id": "d7f61899",
   "metadata": {},
   "outputs": [
    {
     "name": "stdout",
     "output_type": "stream",
     "text": [
      "[0 0 0 0 0 0 0 0 0 0 0 0 0 0 0 0 0 0 0 0 0 0 0 0 0 0 0 0 0 0 0 0 0 0 0 0 0\n",
      " 0 0 0 0 0 0 0 0 0 0 0 0 0 1 1 1 1 1 1 1 1 1 1 1 1 1 1 1 1 1 1 1 1 1 1 1 1\n",
      " 1 1 1 1 1 1 1 1 1 1 1 1 1 1 1 1 1 1 1 1 1 1 1 1 1 1 2 2 2 2 2 2 2 2 2 2 2\n",
      " 2 2 2 2 2 2 2 2 2 2 2 2 2 2 2 2 2 2 2 2 2 2 2 2 2 2 2 2 2 2 2 2 2 2 2 2 2\n",
      " 2 2]\n"
     ]
    }
   ],
   "source": [
    "print(d.target)"
   ]
  },
  {
   "cell_type": "code",
   "execution_count": 11,
   "id": "f667e3de",
   "metadata": {},
   "outputs": [
    {
     "name": "stdout",
     "output_type": "stream",
     "text": [
      ".. _iris_dataset:\n",
      "\n",
      "Iris plants dataset\n",
      "--------------------\n",
      "\n",
      "**Data Set Characteristics:**\n",
      "\n",
      "    :Number of Instances: 150 (50 in each of three classes)\n",
      "    :Number of Attributes: 4 numeric, predictive attributes and the class\n",
      "    :Attribute Information:\n",
      "        - sepal length in cm\n",
      "        - sepal width in cm\n",
      "        - petal length in cm\n",
      "        - petal width in cm\n",
      "        - class:\n",
      "                - Iris-Setosa\n",
      "                - Iris-Versicolour\n",
      "                - Iris-Virginica\n",
      "                \n",
      "    :Summary Statistics:\n",
      "\n",
      "    ============== ==== ==== ======= ===== ====================\n",
      "                    Min  Max   Mean    SD   Class Correlation\n",
      "    ============== ==== ==== ======= ===== ====================\n",
      "    sepal length:   4.3  7.9   5.84   0.83    0.7826\n",
      "    sepal width:    2.0  4.4   3.05   0.43   -0.4194\n",
      "    petal length:   1.0  6.9   3.76   1.76    0.9490  (high!)\n",
      "    petal width:    0.1  2.5   1.20   0.76    0.9565  (high!)\n",
      "    ============== ==== ==== ======= ===== ====================\n",
      "\n",
      "    :Missing Attribute Values: None\n",
      "    :Class Distribution: 33.3% for each of 3 classes.\n",
      "    :Creator: R.A. Fisher\n",
      "    :Donor: Michael Marshall (MARSHALL%PLU@io.arc.nasa.gov)\n",
      "    :Date: July, 1988\n",
      "\n",
      "The famous Iris database, first used by Sir R.A. Fisher. The dataset is taken\n",
      "from Fisher's paper. Note that it's the same as in R, but not as in the UCI\n",
      "Machine Learning Repository, which has two wrong data points.\n",
      "\n",
      "This is perhaps the best known database to be found in the\n",
      "pattern recognition literature.  Fisher's paper is a classic in the field and\n",
      "is referenced frequently to this day.  (See Duda & Hart, for example.)  The\n",
      "data set contains 3 classes of 50 instances each, where each class refers to a\n",
      "type of iris plant.  One class is linearly separable from the other 2; the\n",
      "latter are NOT linearly separable from each other.\n",
      "\n",
      ".. topic:: References\n",
      "\n",
      "   - Fisher, R.A. \"The use of multiple measurements in taxonomic problems\"\n",
      "     Annual Eugenics, 7, Part II, 179-188 (1936); also in \"Contributions to\n",
      "     Mathematical Statistics\" (John Wiley, NY, 1950).\n",
      "   - Duda, R.O., & Hart, P.E. (1973) Pattern Classification and Scene Analysis.\n",
      "     (Q327.D83) John Wiley & Sons.  ISBN 0-471-22361-1.  See page 218.\n",
      "   - Dasarathy, B.V. (1980) \"Nosing Around the Neighborhood: A New System\n",
      "     Structure and Classification Rule for Recognition in Partially Exposed\n",
      "     Environments\".  IEEE Transactions on Pattern Analysis and Machine\n",
      "     Intelligence, Vol. PAMI-2, No. 1, 67-71.\n",
      "   - Gates, G.W. (1972) \"The Reduced Nearest Neighbor Rule\".  IEEE Transactions\n",
      "     on Information Theory, May 1972, 431-433.\n",
      "   - See also: 1988 MLC Proceedings, 54-64.  Cheeseman et al\"s AUTOCLASS II\n",
      "     conceptual clustering system finds 3 classes in the data.\n",
      "   - Many, many more ...\n"
     ]
    }
   ],
   "source": [
    "print(d.DESCR)"
   ]
  },
  {
   "cell_type": "code",
   "execution_count": null,
   "id": "ea8dc5c1",
   "metadata": {},
   "outputs": [],
   "source": []
  },
  {
   "cell_type": "markdown",
   "id": "534ecbb5",
   "metadata": {},
   "source": [
    "**Lets see the features and the labels information**"
   ]
  },
  {
   "cell_type": "code",
   "execution_count": 12,
   "id": "9f20ea66",
   "metadata": {},
   "outputs": [],
   "source": [
    "x=d.data #Feature"
   ]
  },
  {
   "cell_type": "code",
   "execution_count": 13,
   "id": "c8a8d7e9",
   "metadata": {},
   "outputs": [
    {
     "data": {
      "text/plain": [
       "array([[5.1, 3.5, 1.4, 0.2],\n",
       "       [4.9, 3. , 1.4, 0.2],\n",
       "       [4.7, 3.2, 1.3, 0.2],\n",
       "       [4.6, 3.1, 1.5, 0.2],\n",
       "       [5. , 3.6, 1.4, 0.2],\n",
       "       [5.4, 3.9, 1.7, 0.4],\n",
       "       [4.6, 3.4, 1.4, 0.3],\n",
       "       [5. , 3.4, 1.5, 0.2],\n",
       "       [4.4, 2.9, 1.4, 0.2],\n",
       "       [4.9, 3.1, 1.5, 0.1],\n",
       "       [5.4, 3.7, 1.5, 0.2],\n",
       "       [4.8, 3.4, 1.6, 0.2],\n",
       "       [4.8, 3. , 1.4, 0.1],\n",
       "       [4.3, 3. , 1.1, 0.1],\n",
       "       [5.8, 4. , 1.2, 0.2],\n",
       "       [5.7, 4.4, 1.5, 0.4],\n",
       "       [5.4, 3.9, 1.3, 0.4],\n",
       "       [5.1, 3.5, 1.4, 0.3],\n",
       "       [5.7, 3.8, 1.7, 0.3],\n",
       "       [5.1, 3.8, 1.5, 0.3],\n",
       "       [5.4, 3.4, 1.7, 0.2],\n",
       "       [5.1, 3.7, 1.5, 0.4],\n",
       "       [4.6, 3.6, 1. , 0.2],\n",
       "       [5.1, 3.3, 1.7, 0.5],\n",
       "       [4.8, 3.4, 1.9, 0.2],\n",
       "       [5. , 3. , 1.6, 0.2],\n",
       "       [5. , 3.4, 1.6, 0.4],\n",
       "       [5.2, 3.5, 1.5, 0.2],\n",
       "       [5.2, 3.4, 1.4, 0.2],\n",
       "       [4.7, 3.2, 1.6, 0.2],\n",
       "       [4.8, 3.1, 1.6, 0.2],\n",
       "       [5.4, 3.4, 1.5, 0.4],\n",
       "       [5.2, 4.1, 1.5, 0.1],\n",
       "       [5.5, 4.2, 1.4, 0.2],\n",
       "       [4.9, 3.1, 1.5, 0.2],\n",
       "       [5. , 3.2, 1.2, 0.2],\n",
       "       [5.5, 3.5, 1.3, 0.2],\n",
       "       [4.9, 3.6, 1.4, 0.1],\n",
       "       [4.4, 3. , 1.3, 0.2],\n",
       "       [5.1, 3.4, 1.5, 0.2],\n",
       "       [5. , 3.5, 1.3, 0.3],\n",
       "       [4.5, 2.3, 1.3, 0.3],\n",
       "       [4.4, 3.2, 1.3, 0.2],\n",
       "       [5. , 3.5, 1.6, 0.6],\n",
       "       [5.1, 3.8, 1.9, 0.4],\n",
       "       [4.8, 3. , 1.4, 0.3],\n",
       "       [5.1, 3.8, 1.6, 0.2],\n",
       "       [4.6, 3.2, 1.4, 0.2],\n",
       "       [5.3, 3.7, 1.5, 0.2],\n",
       "       [5. , 3.3, 1.4, 0.2],\n",
       "       [7. , 3.2, 4.7, 1.4],\n",
       "       [6.4, 3.2, 4.5, 1.5],\n",
       "       [6.9, 3.1, 4.9, 1.5],\n",
       "       [5.5, 2.3, 4. , 1.3],\n",
       "       [6.5, 2.8, 4.6, 1.5],\n",
       "       [5.7, 2.8, 4.5, 1.3],\n",
       "       [6.3, 3.3, 4.7, 1.6],\n",
       "       [4.9, 2.4, 3.3, 1. ],\n",
       "       [6.6, 2.9, 4.6, 1.3],\n",
       "       [5.2, 2.7, 3.9, 1.4],\n",
       "       [5. , 2. , 3.5, 1. ],\n",
       "       [5.9, 3. , 4.2, 1.5],\n",
       "       [6. , 2.2, 4. , 1. ],\n",
       "       [6.1, 2.9, 4.7, 1.4],\n",
       "       [5.6, 2.9, 3.6, 1.3],\n",
       "       [6.7, 3.1, 4.4, 1.4],\n",
       "       [5.6, 3. , 4.5, 1.5],\n",
       "       [5.8, 2.7, 4.1, 1. ],\n",
       "       [6.2, 2.2, 4.5, 1.5],\n",
       "       [5.6, 2.5, 3.9, 1.1],\n",
       "       [5.9, 3.2, 4.8, 1.8],\n",
       "       [6.1, 2.8, 4. , 1.3],\n",
       "       [6.3, 2.5, 4.9, 1.5],\n",
       "       [6.1, 2.8, 4.7, 1.2],\n",
       "       [6.4, 2.9, 4.3, 1.3],\n",
       "       [6.6, 3. , 4.4, 1.4],\n",
       "       [6.8, 2.8, 4.8, 1.4],\n",
       "       [6.7, 3. , 5. , 1.7],\n",
       "       [6. , 2.9, 4.5, 1.5],\n",
       "       [5.7, 2.6, 3.5, 1. ],\n",
       "       [5.5, 2.4, 3.8, 1.1],\n",
       "       [5.5, 2.4, 3.7, 1. ],\n",
       "       [5.8, 2.7, 3.9, 1.2],\n",
       "       [6. , 2.7, 5.1, 1.6],\n",
       "       [5.4, 3. , 4.5, 1.5],\n",
       "       [6. , 3.4, 4.5, 1.6],\n",
       "       [6.7, 3.1, 4.7, 1.5],\n",
       "       [6.3, 2.3, 4.4, 1.3],\n",
       "       [5.6, 3. , 4.1, 1.3],\n",
       "       [5.5, 2.5, 4. , 1.3],\n",
       "       [5.5, 2.6, 4.4, 1.2],\n",
       "       [6.1, 3. , 4.6, 1.4],\n",
       "       [5.8, 2.6, 4. , 1.2],\n",
       "       [5. , 2.3, 3.3, 1. ],\n",
       "       [5.6, 2.7, 4.2, 1.3],\n",
       "       [5.7, 3. , 4.2, 1.2],\n",
       "       [5.7, 2.9, 4.2, 1.3],\n",
       "       [6.2, 2.9, 4.3, 1.3],\n",
       "       [5.1, 2.5, 3. , 1.1],\n",
       "       [5.7, 2.8, 4.1, 1.3],\n",
       "       [6.3, 3.3, 6. , 2.5],\n",
       "       [5.8, 2.7, 5.1, 1.9],\n",
       "       [7.1, 3. , 5.9, 2.1],\n",
       "       [6.3, 2.9, 5.6, 1.8],\n",
       "       [6.5, 3. , 5.8, 2.2],\n",
       "       [7.6, 3. , 6.6, 2.1],\n",
       "       [4.9, 2.5, 4.5, 1.7],\n",
       "       [7.3, 2.9, 6.3, 1.8],\n",
       "       [6.7, 2.5, 5.8, 1.8],\n",
       "       [7.2, 3.6, 6.1, 2.5],\n",
       "       [6.5, 3.2, 5.1, 2. ],\n",
       "       [6.4, 2.7, 5.3, 1.9],\n",
       "       [6.8, 3. , 5.5, 2.1],\n",
       "       [5.7, 2.5, 5. , 2. ],\n",
       "       [5.8, 2.8, 5.1, 2.4],\n",
       "       [6.4, 3.2, 5.3, 2.3],\n",
       "       [6.5, 3. , 5.5, 1.8],\n",
       "       [7.7, 3.8, 6.7, 2.2],\n",
       "       [7.7, 2.6, 6.9, 2.3],\n",
       "       [6. , 2.2, 5. , 1.5],\n",
       "       [6.9, 3.2, 5.7, 2.3],\n",
       "       [5.6, 2.8, 4.9, 2. ],\n",
       "       [7.7, 2.8, 6.7, 2. ],\n",
       "       [6.3, 2.7, 4.9, 1.8],\n",
       "       [6.7, 3.3, 5.7, 2.1],\n",
       "       [7.2, 3.2, 6. , 1.8],\n",
       "       [6.2, 2.8, 4.8, 1.8],\n",
       "       [6.1, 3. , 4.9, 1.8],\n",
       "       [6.4, 2.8, 5.6, 2.1],\n",
       "       [7.2, 3. , 5.8, 1.6],\n",
       "       [7.4, 2.8, 6.1, 1.9],\n",
       "       [7.9, 3.8, 6.4, 2. ],\n",
       "       [6.4, 2.8, 5.6, 2.2],\n",
       "       [6.3, 2.8, 5.1, 1.5],\n",
       "       [6.1, 2.6, 5.6, 1.4],\n",
       "       [7.7, 3. , 6.1, 2.3],\n",
       "       [6.3, 3.4, 5.6, 2.4],\n",
       "       [6.4, 3.1, 5.5, 1.8],\n",
       "       [6. , 3. , 4.8, 1.8],\n",
       "       [6.9, 3.1, 5.4, 2.1],\n",
       "       [6.7, 3.1, 5.6, 2.4],\n",
       "       [6.9, 3.1, 5.1, 2.3],\n",
       "       [5.8, 2.7, 5.1, 1.9],\n",
       "       [6.8, 3.2, 5.9, 2.3],\n",
       "       [6.7, 3.3, 5.7, 2.5],\n",
       "       [6.7, 3. , 5.2, 2.3],\n",
       "       [6.3, 2.5, 5. , 1.9],\n",
       "       [6.5, 3. , 5.2, 2. ],\n",
       "       [6.2, 3.4, 5.4, 2.3],\n",
       "       [5.9, 3. , 5.1, 1.8]])"
      ]
     },
     "execution_count": 13,
     "metadata": {},
     "output_type": "execute_result"
    }
   ],
   "source": [
    "x"
   ]
  },
  {
   "cell_type": "code",
   "execution_count": 14,
   "id": "b9ea6723",
   "metadata": {},
   "outputs": [],
   "source": [
    "y=d.target #Labels"
   ]
  },
  {
   "cell_type": "code",
   "execution_count": 15,
   "id": "dd727d61",
   "metadata": {},
   "outputs": [
    {
     "data": {
      "text/plain": [
       "array([0, 0, 0, 0, 0, 0, 0, 0, 0, 0, 0, 0, 0, 0, 0, 0, 0, 0, 0, 0, 0, 0,\n",
       "       0, 0, 0, 0, 0, 0, 0, 0, 0, 0, 0, 0, 0, 0, 0, 0, 0, 0, 0, 0, 0, 0,\n",
       "       0, 0, 0, 0, 0, 0, 1, 1, 1, 1, 1, 1, 1, 1, 1, 1, 1, 1, 1, 1, 1, 1,\n",
       "       1, 1, 1, 1, 1, 1, 1, 1, 1, 1, 1, 1, 1, 1, 1, 1, 1, 1, 1, 1, 1, 1,\n",
       "       1, 1, 1, 1, 1, 1, 1, 1, 1, 1, 1, 1, 2, 2, 2, 2, 2, 2, 2, 2, 2, 2,\n",
       "       2, 2, 2, 2, 2, 2, 2, 2, 2, 2, 2, 2, 2, 2, 2, 2, 2, 2, 2, 2, 2, 2,\n",
       "       2, 2, 2, 2, 2, 2, 2, 2, 2, 2, 2, 2, 2, 2, 2, 2, 2, 2])"
      ]
     },
     "execution_count": 15,
     "metadata": {},
     "output_type": "execute_result"
    }
   ],
   "source": [
    "y"
   ]
  },
  {
   "cell_type": "code",
   "execution_count": null,
   "id": "fb6f575b",
   "metadata": {},
   "outputs": [],
   "source": []
  },
  {
   "cell_type": "code",
   "execution_count": 16,
   "id": "c70a6086",
   "metadata": {},
   "outputs": [
    {
     "data": {
      "text/plain": [
       "(150, 4)"
      ]
     },
     "execution_count": 16,
     "metadata": {},
     "output_type": "execute_result"
    }
   ],
   "source": [
    "x.shape"
   ]
  },
  {
   "cell_type": "code",
   "execution_count": 17,
   "id": "7be7bcbe",
   "metadata": {},
   "outputs": [
    {
     "data": {
      "text/plain": [
       "(150, 4)"
      ]
     },
     "execution_count": 17,
     "metadata": {},
     "output_type": "execute_result"
    }
   ],
   "source": [
    "d.data.shape"
   ]
  },
  {
   "cell_type": "code",
   "execution_count": 18,
   "id": "d8bd13cc",
   "metadata": {},
   "outputs": [
    {
     "data": {
      "text/plain": [
       "(150,)"
      ]
     },
     "execution_count": 18,
     "metadata": {},
     "output_type": "execute_result"
    }
   ],
   "source": [
    "y.shape"
   ]
  },
  {
   "cell_type": "code",
   "execution_count": 19,
   "id": "72c6fc50",
   "metadata": {},
   "outputs": [
    {
     "data": {
      "text/plain": [
       "(150,)"
      ]
     },
     "execution_count": 19,
     "metadata": {},
     "output_type": "execute_result"
    }
   ],
   "source": [
    "d.target.shape"
   ]
  },
  {
   "cell_type": "markdown",
   "id": "098a9a9b",
   "metadata": {},
   "source": [
    "## <font color='blue'>One hot encoding using Keras</font>"
   ]
  },
  {
   "cell_type": "code",
   "execution_count": 20,
   "id": "c2a68310",
   "metadata": {},
   "outputs": [],
   "source": [
    "from keras.utils import to_categorical"
   ]
  },
  {
   "cell_type": "code",
   "execution_count": 21,
   "id": "d73e6d8a",
   "metadata": {},
   "outputs": [],
   "source": [
    "y=to_categorical(y)"
   ]
  },
  {
   "cell_type": "code",
   "execution_count": 22,
   "id": "b9e8a28f",
   "metadata": {},
   "outputs": [
    {
     "data": {
      "text/plain": [
       "array([[1., 0., 0.],\n",
       "       [1., 0., 0.],\n",
       "       [1., 0., 0.],\n",
       "       [1., 0., 0.],\n",
       "       [1., 0., 0.],\n",
       "       [1., 0., 0.],\n",
       "       [1., 0., 0.],\n",
       "       [1., 0., 0.],\n",
       "       [1., 0., 0.],\n",
       "       [1., 0., 0.],\n",
       "       [1., 0., 0.],\n",
       "       [1., 0., 0.],\n",
       "       [1., 0., 0.],\n",
       "       [1., 0., 0.],\n",
       "       [1., 0., 0.],\n",
       "       [1., 0., 0.],\n",
       "       [1., 0., 0.],\n",
       "       [1., 0., 0.],\n",
       "       [1., 0., 0.],\n",
       "       [1., 0., 0.],\n",
       "       [1., 0., 0.],\n",
       "       [1., 0., 0.],\n",
       "       [1., 0., 0.],\n",
       "       [1., 0., 0.],\n",
       "       [1., 0., 0.],\n",
       "       [1., 0., 0.],\n",
       "       [1., 0., 0.],\n",
       "       [1., 0., 0.],\n",
       "       [1., 0., 0.],\n",
       "       [1., 0., 0.],\n",
       "       [1., 0., 0.],\n",
       "       [1., 0., 0.],\n",
       "       [1., 0., 0.],\n",
       "       [1., 0., 0.],\n",
       "       [1., 0., 0.],\n",
       "       [1., 0., 0.],\n",
       "       [1., 0., 0.],\n",
       "       [1., 0., 0.],\n",
       "       [1., 0., 0.],\n",
       "       [1., 0., 0.],\n",
       "       [1., 0., 0.],\n",
       "       [1., 0., 0.],\n",
       "       [1., 0., 0.],\n",
       "       [1., 0., 0.],\n",
       "       [1., 0., 0.],\n",
       "       [1., 0., 0.],\n",
       "       [1., 0., 0.],\n",
       "       [1., 0., 0.],\n",
       "       [1., 0., 0.],\n",
       "       [1., 0., 0.],\n",
       "       [0., 1., 0.],\n",
       "       [0., 1., 0.],\n",
       "       [0., 1., 0.],\n",
       "       [0., 1., 0.],\n",
       "       [0., 1., 0.],\n",
       "       [0., 1., 0.],\n",
       "       [0., 1., 0.],\n",
       "       [0., 1., 0.],\n",
       "       [0., 1., 0.],\n",
       "       [0., 1., 0.],\n",
       "       [0., 1., 0.],\n",
       "       [0., 1., 0.],\n",
       "       [0., 1., 0.],\n",
       "       [0., 1., 0.],\n",
       "       [0., 1., 0.],\n",
       "       [0., 1., 0.],\n",
       "       [0., 1., 0.],\n",
       "       [0., 1., 0.],\n",
       "       [0., 1., 0.],\n",
       "       [0., 1., 0.],\n",
       "       [0., 1., 0.],\n",
       "       [0., 1., 0.],\n",
       "       [0., 1., 0.],\n",
       "       [0., 1., 0.],\n",
       "       [0., 1., 0.],\n",
       "       [0., 1., 0.],\n",
       "       [0., 1., 0.],\n",
       "       [0., 1., 0.],\n",
       "       [0., 1., 0.],\n",
       "       [0., 1., 0.],\n",
       "       [0., 1., 0.],\n",
       "       [0., 1., 0.],\n",
       "       [0., 1., 0.],\n",
       "       [0., 1., 0.],\n",
       "       [0., 1., 0.],\n",
       "       [0., 1., 0.],\n",
       "       [0., 1., 0.],\n",
       "       [0., 1., 0.],\n",
       "       [0., 1., 0.],\n",
       "       [0., 1., 0.],\n",
       "       [0., 1., 0.],\n",
       "       [0., 1., 0.],\n",
       "       [0., 1., 0.],\n",
       "       [0., 1., 0.],\n",
       "       [0., 1., 0.],\n",
       "       [0., 1., 0.],\n",
       "       [0., 1., 0.],\n",
       "       [0., 1., 0.],\n",
       "       [0., 1., 0.],\n",
       "       [0., 1., 0.],\n",
       "       [0., 0., 1.],\n",
       "       [0., 0., 1.],\n",
       "       [0., 0., 1.],\n",
       "       [0., 0., 1.],\n",
       "       [0., 0., 1.],\n",
       "       [0., 0., 1.],\n",
       "       [0., 0., 1.],\n",
       "       [0., 0., 1.],\n",
       "       [0., 0., 1.],\n",
       "       [0., 0., 1.],\n",
       "       [0., 0., 1.],\n",
       "       [0., 0., 1.],\n",
       "       [0., 0., 1.],\n",
       "       [0., 0., 1.],\n",
       "       [0., 0., 1.],\n",
       "       [0., 0., 1.],\n",
       "       [0., 0., 1.],\n",
       "       [0., 0., 1.],\n",
       "       [0., 0., 1.],\n",
       "       [0., 0., 1.],\n",
       "       [0., 0., 1.],\n",
       "       [0., 0., 1.],\n",
       "       [0., 0., 1.],\n",
       "       [0., 0., 1.],\n",
       "       [0., 0., 1.],\n",
       "       [0., 0., 1.],\n",
       "       [0., 0., 1.],\n",
       "       [0., 0., 1.],\n",
       "       [0., 0., 1.],\n",
       "       [0., 0., 1.],\n",
       "       [0., 0., 1.],\n",
       "       [0., 0., 1.],\n",
       "       [0., 0., 1.],\n",
       "       [0., 0., 1.],\n",
       "       [0., 0., 1.],\n",
       "       [0., 0., 1.],\n",
       "       [0., 0., 1.],\n",
       "       [0., 0., 1.],\n",
       "       [0., 0., 1.],\n",
       "       [0., 0., 1.],\n",
       "       [0., 0., 1.],\n",
       "       [0., 0., 1.],\n",
       "       [0., 0., 1.],\n",
       "       [0., 0., 1.],\n",
       "       [0., 0., 1.],\n",
       "       [0., 0., 1.],\n",
       "       [0., 0., 1.],\n",
       "       [0., 0., 1.],\n",
       "       [0., 0., 1.],\n",
       "       [0., 0., 1.]], dtype=float32)"
      ]
     },
     "execution_count": 22,
     "metadata": {},
     "output_type": "execute_result"
    }
   ],
   "source": [
    "y"
   ]
  },
  {
   "cell_type": "code",
   "execution_count": 23,
   "id": "5ae70ad4",
   "metadata": {},
   "outputs": [
    {
     "data": {
      "text/plain": [
       "(150, 3)"
      ]
     },
     "execution_count": 23,
     "metadata": {},
     "output_type": "execute_result"
    }
   ],
   "source": [
    "y.shape"
   ]
  },
  {
   "cell_type": "code",
   "execution_count": null,
   "id": "e82dc816",
   "metadata": {},
   "outputs": [],
   "source": []
  },
  {
   "cell_type": "code",
   "execution_count": 24,
   "id": "2e715e5e",
   "metadata": {},
   "outputs": [],
   "source": [
    "from sklearn.model_selection import train_test_split"
   ]
  },
  {
   "cell_type": "code",
   "execution_count": 25,
   "id": "33f84925",
   "metadata": {},
   "outputs": [],
   "source": [
    "xtrain,xtest,ytrain,ytest= train_test_split(x,y,test_size=0.2,random_state=35)"
   ]
  },
  {
   "cell_type": "markdown",
   "id": "794750a7",
   "metadata": {},
   "source": [
    "**Using MinMaxScalar**"
   ]
  },
  {
   "cell_type": "code",
   "execution_count": 26,
   "id": "a1ffb870",
   "metadata": {},
   "outputs": [],
   "source": [
    "from sklearn.preprocessing import MinMaxScaler"
   ]
  },
  {
   "cell_type": "code",
   "execution_count": 27,
   "id": "e63fc619",
   "metadata": {},
   "outputs": [],
   "source": [
    "ss=MinMaxScaler()"
   ]
  },
  {
   "cell_type": "code",
   "execution_count": 28,
   "id": "4961d436",
   "metadata": {},
   "outputs": [],
   "source": [
    "sx_train=ss.fit_transform(xtrain)"
   ]
  },
  {
   "cell_type": "code",
   "execution_count": 29,
   "id": "cd903ee5",
   "metadata": {},
   "outputs": [],
   "source": [
    "sx_test=ss.fit_transform(xtest)"
   ]
  },
  {
   "cell_type": "code",
   "execution_count": 30,
   "id": "b97371c8",
   "metadata": {},
   "outputs": [
    {
     "data": {
      "text/plain": [
       "array([[0.17142857, 0.58333333, 0.0877193 , 0.04166667],\n",
       "       [0.42857143, 0.5       , 0.66666667, 0.70833333],\n",
       "       [0.14285714, 0.20833333, 0.61403509, 0.66666667],\n",
       "       [0.05714286, 0.66666667, 0.        , 0.04166667],\n",
       "       [0.62857143, 0.41666667, 0.59649123, 0.54166667],\n",
       "       [0.48571429, 0.25      , 0.80701754, 0.54166667],\n",
       "       [0.11428571, 0.41666667, 0.07017544, 0.        ],\n",
       "       [0.85714286, 0.33333333, 0.89473684, 0.75      ],\n",
       "       [0.57142857, 0.5       , 0.75438596, 0.91666667],\n",
       "       [0.45714286, 0.08333333, 0.70175439, 0.58333333],\n",
       "       [0.2       , 0.20833333, 0.35087719, 0.41666667],\n",
       "       [0.2       , 0.75      , 0.10526316, 0.04166667],\n",
       "       [0.14285714, 0.45833333, 0.0877193 , 0.04166667],\n",
       "       [0.34285714, 0.41666667, 0.54385965, 0.5       ],\n",
       "       [0.8       , 0.66666667, 0.89473684, 1.        ],\n",
       "       [0.6       , 0.5       , 0.71929825, 0.79166667],\n",
       "       [0.22857143, 0.875     , 0.0877193 , 0.        ],\n",
       "       [0.42857143, 0.41666667, 0.71929825, 0.70833333],\n",
       "       [0.6       , 0.41666667, 0.78947368, 0.70833333],\n",
       "       [0.31428571, 0.125     , 0.52631579, 0.5       ],\n",
       "       [0.48571429, 0.41666667, 0.68421053, 0.70833333],\n",
       "       [0.4       , 0.25      , 0.52631579, 0.45833333],\n",
       "       [0.54285714, 0.125     , 0.59649123, 0.5       ],\n",
       "       [0.65714286, 0.41666667, 0.70175439, 0.66666667],\n",
       "       [0.4       , 0.83333333, 0.03508772, 0.04166667],\n",
       "       [0.34285714, 0.20833333, 0.50877193, 0.41666667],\n",
       "       [0.57142857, 0.5       , 0.61403509, 0.58333333],\n",
       "       [0.37142857, 0.375     , 0.56140351, 0.5       ],\n",
       "       [0.2       , 0.70833333, 0.0877193 , 0.125     ],\n",
       "       [0.37142857, 0.25      , 0.43859649, 0.375     ],\n",
       "       [0.        , 0.5       , 0.05263158, 0.04166667],\n",
       "       [0.54285714, 0.58333333, 0.80701754, 0.95833333],\n",
       "       [0.22857143, 0.625     , 0.0877193 , 0.04166667],\n",
       "       [0.65714286, 0.20833333, 0.84210526, 0.70833333],\n",
       "       [0.57142857, 0.375     , 0.57894737, 0.5       ],\n",
       "       [0.51428571, 0.375     , 0.57894737, 0.5       ],\n",
       "       [0.11428571, 0.58333333, 0.15789474, 0.04166667],\n",
       "       [0.05714286, 0.5       , 0.07017544, 0.04166667],\n",
       "       [0.34285714, 0.33333333, 0.68421053, 0.79166667],\n",
       "       [0.54285714, 0.33333333, 0.71929825, 0.58333333],\n",
       "       [0.65714286, 0.45833333, 0.59649123, 0.54166667],\n",
       "       [0.31428571, 0.20833333, 0.52631579, 0.5       ],\n",
       "       [0.17142857, 0.5       , 0.03508772, 0.04166667],\n",
       "       [0.17142857, 0.66666667, 0.07017544, 0.04166667],\n",
       "       [0.74285714, 0.5       , 0.64912281, 0.54166667],\n",
       "       [0.14285714, 0.66666667, 0.07017544, 0.        ],\n",
       "       [0.48571429, 0.33333333, 0.64912281, 0.45833333],\n",
       "       [0.11428571, 0.58333333, 0.10526316, 0.04166667],\n",
       "       [0.2       , 0.625     , 0.07017544, 0.04166667],\n",
       "       [0.34285714, 0.41666667, 0.61403509, 0.58333333],\n",
       "       [0.31428571, 0.625     , 0.05263158, 0.04166667],\n",
       "       [0.45714286, 0.29166667, 0.71929825, 0.625     ],\n",
       "       [0.94285714, 0.75      , 1.        , 0.875     ],\n",
       "       [0.28571429, 0.79166667, 0.12280702, 0.125     ],\n",
       "       [0.25714286, 0.70833333, 0.0877193 , 0.04166667],\n",
       "       [0.17142857, 0.        , 0.43859649, 0.375     ],\n",
       "       [0.54285714, 0.375     , 0.80701754, 0.70833333],\n",
       "       [0.6       , 0.33333333, 0.63157895, 0.58333333],\n",
       "       [0.48571429, 0.33333333, 0.52631579, 0.5       ],\n",
       "       [0.4       , 0.33333333, 0.71929825, 0.95833333],\n",
       "       [0.48571429, 0.375     , 0.64912281, 0.54166667],\n",
       "       [0.        , 0.375     , 0.07017544, 0.04166667],\n",
       "       [0.4       , 0.29166667, 0.71929825, 0.75      ],\n",
       "       [0.65714286, 0.54166667, 0.8245614 , 0.83333333],\n",
       "       [0.82857143, 0.375     , 0.92982456, 0.70833333],\n",
       "       [0.34285714, 0.29166667, 0.56140351, 0.5       ],\n",
       "       [0.02857143, 0.125     , 0.05263158, 0.08333333],\n",
       "       [0.37142857, 0.33333333, 0.54385965, 0.5       ],\n",
       "       [0.91428571, 0.41666667, 0.98245614, 0.83333333],\n",
       "       [0.77142857, 0.41666667, 0.85964912, 0.83333333],\n",
       "       [0.17142857, 0.58333333, 0.10526316, 0.125     ],\n",
       "       [0.54285714, 0.54166667, 0.87719298, 1.        ],\n",
       "       [0.17142857, 0.125     , 0.40350877, 0.375     ],\n",
       "       [0.22857143, 0.58333333, 0.07017544, 0.04166667],\n",
       "       [0.08571429, 0.5       , 0.05263158, 0.04166667],\n",
       "       [0.2       , 0.54166667, 0.12280702, 0.16666667],\n",
       "       [0.4       , 0.29166667, 0.50877193, 0.45833333],\n",
       "       [0.28571429, 0.58333333, 0.12280702, 0.04166667],\n",
       "       [0.68571429, 0.41666667, 0.78947368, 0.83333333],\n",
       "       [0.71428571, 0.45833333, 0.71929825, 0.91666667],\n",
       "       [0.94285714, 0.33333333, 1.        , 0.79166667],\n",
       "       [0.31428571, 0.16666667, 0.47368421, 0.375     ],\n",
       "       [0.57142857, 0.45833333, 0.78947368, 0.70833333],\n",
       "       [0.8       , 0.41666667, 0.84210526, 0.625     ],\n",
       "       [0.57142857, 0.33333333, 0.80701754, 0.875     ],\n",
       "       [0.65714286, 0.45833333, 0.80701754, 0.95833333],\n",
       "       [0.51428571, 0.08333333, 0.61403509, 0.58333333],\n",
       "       [0.2       , 0.75      , 0.15789474, 0.125     ],\n",
       "       [0.08571429, 0.5       , 0.10526316, 0.04166667],\n",
       "       [0.4       , 0.29166667, 0.54385965, 0.375     ],\n",
       "       [0.51428571, 0.58333333, 0.77192982, 0.91666667],\n",
       "       [0.71428571, 0.45833333, 0.68421053, 0.58333333],\n",
       "       [0.94285714, 0.41666667, 0.89473684, 0.91666667],\n",
       "       [0.31428571, 0.25      , 0.59649123, 0.45833333],\n",
       "       [0.28571429, 0.79166667, 0.05263158, 0.125     ],\n",
       "       [0.45714286, 0.08333333, 0.52631579, 0.375     ],\n",
       "       [0.05714286, 0.45833333, 0.0877193 , 0.04166667],\n",
       "       [0.4       , 0.29166667, 0.71929825, 0.75      ],\n",
       "       [0.45714286, 0.58333333, 0.61403509, 0.625     ],\n",
       "       [0.37142857, 0.75      , 0.12280702, 0.08333333],\n",
       "       [0.65714286, 0.41666667, 0.73684211, 0.91666667],\n",
       "       [0.14285714, 0.41666667, 0.07017544, 0.04166667],\n",
       "       [0.8       , 0.5       , 0.87719298, 0.70833333],\n",
       "       [0.2       , 0.58333333, 0.0877193 , 0.04166667],\n",
       "       [0.22857143, 0.29166667, 0.50877193, 0.54166667],\n",
       "       [0.11428571, 0.41666667, 0.07017544, 0.08333333],\n",
       "       [0.14285714, 0.45833333, 0.0877193 , 0.        ],\n",
       "       [0.45714286, 0.41666667, 0.66666667, 0.70833333],\n",
       "       [0.2       , 0.75      , 0.0877193 , 0.08333333],\n",
       "       [1.        , 0.75      , 0.94736842, 0.79166667],\n",
       "       [0.57142857, 0.29166667, 0.75438596, 0.75      ],\n",
       "       [0.68571429, 0.33333333, 0.66666667, 0.54166667],\n",
       "       [0.54285714, 0.54166667, 0.64912281, 0.625     ],\n",
       "       [0.37142857, 0.33333333, 0.61403509, 0.5       ],\n",
       "       [0.51428571, 0.33333333, 0.66666667, 0.70833333],\n",
       "       [0.14285714, 0.16666667, 0.40350877, 0.375     ],\n",
       "       [0.6       , 0.41666667, 0.73684211, 0.79166667],\n",
       "       [0.71428571, 0.45833333, 0.77192982, 0.83333333],\n",
       "       [0.31428571, 0.91666667, 0.07017544, 0.04166667],\n",
       "       [0.37142857, 1.        , 0.0877193 , 0.125     ]])"
      ]
     },
     "execution_count": 30,
     "metadata": {},
     "output_type": "execute_result"
    }
   ],
   "source": [
    "sx_train"
   ]
  },
  {
   "cell_type": "code",
   "execution_count": 31,
   "id": "e8cb5cbd",
   "metadata": {},
   "outputs": [
    {
     "data": {
      "text/plain": [
       "1.0"
      ]
     },
     "execution_count": 31,
     "metadata": {},
     "output_type": "execute_result"
    }
   ],
   "source": [
    "sx_train.max()"
   ]
  },
  {
   "cell_type": "code",
   "execution_count": 32,
   "id": "69f15c86",
   "metadata": {},
   "outputs": [
    {
     "data": {
      "text/plain": [
       "7.9"
      ]
     },
     "execution_count": 32,
     "metadata": {},
     "output_type": "execute_result"
    }
   ],
   "source": [
    "xtrain.max()"
   ]
  },
  {
   "cell_type": "code",
   "execution_count": null,
   "id": "34f7f100",
   "metadata": {},
   "outputs": [],
   "source": []
  },
  {
   "cell_type": "markdown",
   "id": "cfd72411",
   "metadata": {},
   "source": [
    "**Now lets built a network with keras**"
   ]
  },
  {
   "cell_type": "code",
   "execution_count": 33,
   "id": "c8261d44",
   "metadata": {},
   "outputs": [],
   "source": [
    "from keras.models import Sequential  #Sequences of layers\n",
    "from keras.layers import Dense   #Dense Layer"
   ]
  },
  {
   "cell_type": "code",
   "execution_count": 34,
   "id": "83ccbba2",
   "metadata": {},
   "outputs": [],
   "source": [
    "model= Sequential()"
   ]
  },
  {
   "cell_type": "code",
   "execution_count": 35,
   "id": "8179ff03",
   "metadata": {},
   "outputs": [],
   "source": [
    "model.add(Dense(8,input_dim=4,activation='relu'))  #10 neurons \n",
    "model.add(Dense(8,input_dim=4,activation='relu'))\n",
    "model.add(Dense(3,activation='softmax'))   #Output layer\n",
    "model.compile(loss='categorical_crossentropy', optimizer='adam', metrics=['accuracy'])"
   ]
  },
  {
   "cell_type": "code",
   "execution_count": 36,
   "id": "a29895dc",
   "metadata": {},
   "outputs": [
    {
     "name": "stdout",
     "output_type": "stream",
     "text": [
      "Model: \"sequential\"\n",
      "_________________________________________________________________\n",
      " Layer (type)                Output Shape              Param #   \n",
      "=================================================================\n",
      " dense (Dense)               (None, 8)                 40        \n",
      "                                                                 \n",
      " dense_1 (Dense)             (None, 8)                 72        \n",
      "                                                                 \n",
      " dense_2 (Dense)             (None, 3)                 27        \n",
      "                                                                 \n",
      "=================================================================\n",
      "Total params: 139\n",
      "Trainable params: 139\n",
      "Non-trainable params: 0\n",
      "_________________________________________________________________\n"
     ]
    }
   ],
   "source": [
    "model.summary()"
   ]
  },
  {
   "cell_type": "code",
   "execution_count": 37,
   "id": "b23eb86b",
   "metadata": {},
   "outputs": [
    {
     "data": {
      "text/plain": [
       "(120, 4)"
      ]
     },
     "execution_count": 37,
     "metadata": {},
     "output_type": "execute_result"
    }
   ],
   "source": [
    "sx_train.shape"
   ]
  },
  {
   "cell_type": "code",
   "execution_count": 38,
   "id": "7f245bc6",
   "metadata": {},
   "outputs": [
    {
     "data": {
      "text/plain": [
       "(120, 3)"
      ]
     },
     "execution_count": 38,
     "metadata": {},
     "output_type": "execute_result"
    }
   ],
   "source": [
    "ytrain.shape"
   ]
  },
  {
   "cell_type": "markdown",
   "id": "21ee80b2",
   "metadata": {},
   "source": [
    "**Fitting the model**"
   ]
  },
  {
   "cell_type": "code",
   "execution_count": 39,
   "id": "55a5c992",
   "metadata": {},
   "outputs": [
    {
     "name": "stdout",
     "output_type": "stream",
     "text": [
      "Epoch 1/150\n",
      "4/4 - 0s - loss: 1.0562 - accuracy: 0.3417 - 331ms/epoch - 83ms/step\n",
      "Epoch 2/150\n",
      "4/4 - 0s - loss: 1.0490 - accuracy: 0.3417 - 6ms/epoch - 2ms/step\n",
      "Epoch 3/150\n",
      "4/4 - 0s - loss: 1.0421 - accuracy: 0.3417 - 6ms/epoch - 1ms/step\n",
      "Epoch 4/150\n",
      "4/4 - 0s - loss: 1.0351 - accuracy: 0.3417 - 8ms/epoch - 2ms/step\n",
      "Epoch 5/150\n",
      "4/4 - 0s - loss: 1.0285 - accuracy: 0.3417 - 5ms/epoch - 1ms/step\n",
      "Epoch 6/150\n",
      "4/4 - 0s - loss: 1.0216 - accuracy: 0.3583 - 8ms/epoch - 2ms/step\n",
      "Epoch 7/150\n",
      "4/4 - 0s - loss: 1.0153 - accuracy: 0.4500 - 5ms/epoch - 1ms/step\n",
      "Epoch 8/150\n",
      "4/4 - 0s - loss: 1.0090 - accuracy: 0.5667 - 7ms/epoch - 2ms/step\n",
      "Epoch 9/150\n",
      "4/4 - 0s - loss: 1.0029 - accuracy: 0.6167 - 5ms/epoch - 1ms/step\n",
      "Epoch 10/150\n",
      "4/4 - 0s - loss: 0.9964 - accuracy: 0.6417 - 7ms/epoch - 2ms/step\n",
      "Epoch 11/150\n",
      "4/4 - 0s - loss: 0.9902 - accuracy: 0.6500 - 5ms/epoch - 1ms/step\n",
      "Epoch 12/150\n",
      "4/4 - 0s - loss: 0.9839 - accuracy: 0.6500 - 6ms/epoch - 1ms/step\n",
      "Epoch 13/150\n",
      "4/4 - 0s - loss: 0.9776 - accuracy: 0.6500 - 6ms/epoch - 2ms/step\n",
      "Epoch 14/150\n",
      "4/4 - 0s - loss: 0.9711 - accuracy: 0.6500 - 6ms/epoch - 2ms/step\n",
      "Epoch 15/150\n",
      "4/4 - 0s - loss: 0.9646 - accuracy: 0.6500 - 8ms/epoch - 2ms/step\n",
      "Epoch 16/150\n",
      "4/4 - 0s - loss: 0.9581 - accuracy: 0.6583 - 5ms/epoch - 1ms/step\n",
      "Epoch 17/150\n",
      "4/4 - 0s - loss: 0.9515 - accuracy: 0.6583 - 7ms/epoch - 2ms/step\n",
      "Epoch 18/150\n",
      "4/4 - 0s - loss: 0.9445 - accuracy: 0.6583 - 6ms/epoch - 1ms/step\n",
      "Epoch 19/150\n",
      "4/4 - 0s - loss: 0.9376 - accuracy: 0.6583 - 8ms/epoch - 2ms/step\n",
      "Epoch 20/150\n",
      "4/4 - 0s - loss: 0.9309 - accuracy: 0.6583 - 5ms/epoch - 1ms/step\n",
      "Epoch 21/150\n",
      "4/4 - 0s - loss: 0.9236 - accuracy: 0.6583 - 7ms/epoch - 2ms/step\n",
      "Epoch 22/150\n",
      "4/4 - 0s - loss: 0.9165 - accuracy: 0.6667 - 5ms/epoch - 1ms/step\n",
      "Epoch 23/150\n",
      "4/4 - 0s - loss: 0.9091 - accuracy: 0.6667 - 7ms/epoch - 2ms/step\n",
      "Epoch 24/150\n",
      "4/4 - 0s - loss: 0.9019 - accuracy: 0.6667 - 5ms/epoch - 1ms/step\n",
      "Epoch 25/150\n",
      "4/4 - 0s - loss: 0.8945 - accuracy: 0.6667 - 5ms/epoch - 1ms/step\n",
      "Epoch 26/150\n",
      "4/4 - 0s - loss: 0.8872 - accuracy: 0.6667 - 7ms/epoch - 2ms/step\n",
      "Epoch 27/150\n",
      "4/4 - 0s - loss: 0.8796 - accuracy: 0.6667 - 4ms/epoch - 991us/step\n",
      "Epoch 28/150\n",
      "4/4 - 0s - loss: 0.8722 - accuracy: 0.6667 - 8ms/epoch - 2ms/step\n",
      "Epoch 29/150\n",
      "4/4 - 0s - loss: 0.8647 - accuracy: 0.6667 - 5ms/epoch - 1ms/step\n",
      "Epoch 30/150\n",
      "4/4 - 0s - loss: 0.8572 - accuracy: 0.6667 - 7ms/epoch - 2ms/step\n",
      "Epoch 31/150\n",
      "4/4 - 0s - loss: 0.8499 - accuracy: 0.6667 - 6ms/epoch - 1ms/step\n",
      "Epoch 32/150\n",
      "4/4 - 0s - loss: 0.8420 - accuracy: 0.6667 - 7ms/epoch - 2ms/step\n",
      "Epoch 33/150\n",
      "4/4 - 0s - loss: 0.8345 - accuracy: 0.6667 - 5ms/epoch - 1ms/step\n",
      "Epoch 34/150\n",
      "4/4 - 0s - loss: 0.8268 - accuracy: 0.6667 - 8ms/epoch - 2ms/step\n",
      "Epoch 35/150\n",
      "4/4 - 0s - loss: 0.8191 - accuracy: 0.6667 - 5ms/epoch - 1ms/step\n",
      "Epoch 36/150\n",
      "4/4 - 0s - loss: 0.8113 - accuracy: 0.6667 - 6ms/epoch - 2ms/step\n",
      "Epoch 37/150\n",
      "4/4 - 0s - loss: 0.8038 - accuracy: 0.6667 - 6ms/epoch - 1ms/step\n",
      "Epoch 38/150\n",
      "4/4 - 0s - loss: 0.7961 - accuracy: 0.6667 - 5ms/epoch - 1ms/step\n",
      "Epoch 39/150\n",
      "4/4 - 0s - loss: 0.7886 - accuracy: 0.6667 - 10ms/epoch - 2ms/step\n",
      "Epoch 40/150\n",
      "4/4 - 0s - loss: 0.7806 - accuracy: 0.6667 - 7ms/epoch - 2ms/step\n",
      "Epoch 41/150\n",
      "4/4 - 0s - loss: 0.7727 - accuracy: 0.6667 - 5ms/epoch - 1ms/step\n",
      "Epoch 42/150\n",
      "4/4 - 0s - loss: 0.7651 - accuracy: 0.6667 - 7ms/epoch - 2ms/step\n",
      "Epoch 43/150\n",
      "4/4 - 0s - loss: 0.7573 - accuracy: 0.6667 - 5ms/epoch - 1ms/step\n",
      "Epoch 44/150\n",
      "4/4 - 0s - loss: 0.7498 - accuracy: 0.6667 - 6ms/epoch - 1ms/step\n",
      "Epoch 45/150\n",
      "4/4 - 0s - loss: 0.7418 - accuracy: 0.6667 - 6ms/epoch - 1ms/step\n",
      "Epoch 46/150\n",
      "4/4 - 0s - loss: 0.7345 - accuracy: 0.6667 - 5ms/epoch - 1ms/step\n",
      "Epoch 47/150\n",
      "4/4 - 0s - loss: 0.7265 - accuracy: 0.6667 - 9ms/epoch - 2ms/step\n",
      "Epoch 48/150\n",
      "4/4 - 0s - loss: 0.7189 - accuracy: 0.6667 - 5ms/epoch - 1ms/step\n",
      "Epoch 49/150\n",
      "4/4 - 0s - loss: 0.7109 - accuracy: 0.6667 - 8ms/epoch - 2ms/step\n",
      "Epoch 50/150\n",
      "4/4 - 0s - loss: 0.7036 - accuracy: 0.6667 - 5ms/epoch - 1ms/step\n",
      "Epoch 51/150\n",
      "4/4 - 0s - loss: 0.6962 - accuracy: 0.6667 - 6ms/epoch - 2ms/step\n",
      "Epoch 52/150\n",
      "4/4 - 0s - loss: 0.6884 - accuracy: 0.6667 - 6ms/epoch - 1ms/step\n",
      "Epoch 53/150\n",
      "4/4 - 0s - loss: 0.6807 - accuracy: 0.6667 - 8ms/epoch - 2ms/step\n",
      "Epoch 54/150\n",
      "4/4 - 0s - loss: 0.6735 - accuracy: 0.6667 - 5ms/epoch - 1ms/step\n",
      "Epoch 55/150\n",
      "4/4 - 0s - loss: 0.6663 - accuracy: 0.6667 - 5ms/epoch - 1ms/step\n",
      "Epoch 56/150\n",
      "4/4 - 0s - loss: 0.6594 - accuracy: 0.6667 - 6ms/epoch - 1ms/step\n",
      "Epoch 57/150\n",
      "4/4 - 0s - loss: 0.6519 - accuracy: 0.6667 - 5ms/epoch - 1ms/step\n",
      "Epoch 58/150\n",
      "4/4 - 0s - loss: 0.6452 - accuracy: 0.6667 - 6ms/epoch - 2ms/step\n",
      "Epoch 59/150\n",
      "4/4 - 0s - loss: 0.6382 - accuracy: 0.6667 - 5ms/epoch - 1ms/step\n",
      "Epoch 60/150\n",
      "4/4 - 0s - loss: 0.6318 - accuracy: 0.6667 - 6ms/epoch - 2ms/step\n",
      "Epoch 61/150\n",
      "4/4 - 0s - loss: 0.6250 - accuracy: 0.6667 - 5ms/epoch - 1ms/step\n",
      "Epoch 62/150\n",
      "4/4 - 0s - loss: 0.6184 - accuracy: 0.6667 - 5ms/epoch - 1ms/step\n",
      "Epoch 63/150\n",
      "4/4 - 0s - loss: 0.6122 - accuracy: 0.6667 - 6ms/epoch - 2ms/step\n",
      "Epoch 64/150\n",
      "4/4 - 0s - loss: 0.6061 - accuracy: 0.6667 - 5ms/epoch - 1ms/step\n",
      "Epoch 65/150\n",
      "4/4 - 0s - loss: 0.5999 - accuracy: 0.6667 - 12ms/epoch - 3ms/step\n",
      "Epoch 66/150\n",
      "4/4 - 0s - loss: 0.5940 - accuracy: 0.6667 - 5ms/epoch - 1ms/step\n",
      "Epoch 67/150\n",
      "4/4 - 0s - loss: 0.5881 - accuracy: 0.6667 - 6ms/epoch - 2ms/step\n",
      "Epoch 68/150\n",
      "4/4 - 0s - loss: 0.5825 - accuracy: 0.6667 - 4ms/epoch - 1ms/step\n",
      "Epoch 69/150\n",
      "4/4 - 0s - loss: 0.5769 - accuracy: 0.6667 - 6ms/epoch - 1ms/step\n",
      "Epoch 70/150\n",
      "4/4 - 0s - loss: 0.5715 - accuracy: 0.6667 - 4ms/epoch - 998us/step\n",
      "Epoch 71/150\n",
      "4/4 - 0s - loss: 0.5663 - accuracy: 0.6667 - 5ms/epoch - 1ms/step\n",
      "Epoch 72/150\n",
      "4/4 - 0s - loss: 0.5614 - accuracy: 0.6667 - 5ms/epoch - 1ms/step\n",
      "Epoch 73/150\n",
      "4/4 - 0s - loss: 0.5562 - accuracy: 0.6667 - 5ms/epoch - 1ms/step\n",
      "Epoch 74/150\n",
      "4/4 - 0s - loss: 0.5516 - accuracy: 0.6750 - 5ms/epoch - 1ms/step\n",
      "Epoch 75/150\n",
      "4/4 - 0s - loss: 0.5469 - accuracy: 0.6833 - 4ms/epoch - 1ms/step\n",
      "Epoch 76/150\n",
      "4/4 - 0s - loss: 0.5423 - accuracy: 0.6833 - 5ms/epoch - 1ms/step\n",
      "Epoch 77/150\n",
      "4/4 - 0s - loss: 0.5378 - accuracy: 0.6833 - 6ms/epoch - 2ms/step\n",
      "Epoch 78/150\n",
      "4/4 - 0s - loss: 0.5334 - accuracy: 0.6833 - 4ms/epoch - 991us/step\n",
      "Epoch 79/150\n",
      "4/4 - 0s - loss: 0.5294 - accuracy: 0.6833 - 5ms/epoch - 1ms/step\n",
      "Epoch 80/150\n",
      "4/4 - 0s - loss: 0.5251 - accuracy: 0.6833 - 6ms/epoch - 1ms/step\n",
      "Epoch 81/150\n",
      "4/4 - 0s - loss: 0.5213 - accuracy: 0.7000 - 5ms/epoch - 1ms/step\n",
      "Epoch 82/150\n",
      "4/4 - 0s - loss: 0.5172 - accuracy: 0.7000 - 5ms/epoch - 1ms/step\n",
      "Epoch 83/150\n",
      "4/4 - 0s - loss: 0.5134 - accuracy: 0.7000 - 4ms/epoch - 997us/step\n",
      "Epoch 84/150\n",
      "4/4 - 0s - loss: 0.5097 - accuracy: 0.7000 - 5ms/epoch - 1ms/step\n",
      "Epoch 85/150\n",
      "4/4 - 0s - loss: 0.5060 - accuracy: 0.7000 - 6ms/epoch - 2ms/step\n",
      "Epoch 86/150\n",
      "4/4 - 0s - loss: 0.5024 - accuracy: 0.7000 - 4ms/epoch - 991us/step\n",
      "Epoch 87/150\n",
      "4/4 - 0s - loss: 0.4989 - accuracy: 0.7083 - 4ms/epoch - 1ms/step\n",
      "Epoch 88/150\n",
      "4/4 - 0s - loss: 0.4955 - accuracy: 0.7167 - 5ms/epoch - 1ms/step\n",
      "Epoch 89/150\n",
      "4/4 - 0s - loss: 0.4920 - accuracy: 0.7167 - 5ms/epoch - 1ms/step\n",
      "Epoch 90/150\n",
      "4/4 - 0s - loss: 0.4888 - accuracy: 0.7250 - 5ms/epoch - 1ms/step\n",
      "Epoch 91/150\n",
      "4/4 - 0s - loss: 0.4858 - accuracy: 0.7250 - 5ms/epoch - 1ms/step\n",
      "Epoch 92/150\n",
      "4/4 - 0s - loss: 0.4823 - accuracy: 0.7250 - 5ms/epoch - 1ms/step\n",
      "Epoch 93/150\n",
      "4/4 - 0s - loss: 0.4798 - accuracy: 0.7250 - 5ms/epoch - 1ms/step\n",
      "Epoch 94/150\n",
      "4/4 - 0s - loss: 0.4761 - accuracy: 0.7417 - 4ms/epoch - 1ms/step\n",
      "Epoch 95/150\n",
      "4/4 - 0s - loss: 0.4731 - accuracy: 0.7583 - 5ms/epoch - 1ms/step\n",
      "Epoch 96/150\n",
      "4/4 - 0s - loss: 0.4701 - accuracy: 0.7583 - 5ms/epoch - 1ms/step\n",
      "Epoch 97/150\n",
      "4/4 - 0s - loss: 0.4673 - accuracy: 0.7667 - 5ms/epoch - 1ms/step\n",
      "Epoch 98/150\n",
      "4/4 - 0s - loss: 0.4640 - accuracy: 0.7750 - 5ms/epoch - 1ms/step\n",
      "Epoch 99/150\n",
      "4/4 - 0s - loss: 0.4610 - accuracy: 0.7750 - 4ms/epoch - 1ms/step\n",
      "Epoch 100/150\n",
      "4/4 - 0s - loss: 0.4582 - accuracy: 0.7750 - 4ms/epoch - 991us/step\n",
      "Epoch 101/150\n",
      "4/4 - 0s - loss: 0.4554 - accuracy: 0.7750 - 6ms/epoch - 1ms/step\n",
      "Epoch 102/150\n",
      "4/4 - 0s - loss: 0.4525 - accuracy: 0.7750 - 5ms/epoch - 1ms/step\n",
      "Epoch 103/150\n",
      "4/4 - 0s - loss: 0.4496 - accuracy: 0.7833 - 5ms/epoch - 1ms/step\n",
      "Epoch 104/150\n",
      "4/4 - 0s - loss: 0.4466 - accuracy: 0.8000 - 6ms/epoch - 1ms/step\n"
     ]
    },
    {
     "name": "stdout",
     "output_type": "stream",
     "text": [
      "Epoch 105/150\n",
      "4/4 - 0s - loss: 0.4439 - accuracy: 0.8167 - 5ms/epoch - 1ms/step\n",
      "Epoch 106/150\n",
      "4/4 - 0s - loss: 0.4409 - accuracy: 0.8583 - 5ms/epoch - 1ms/step\n",
      "Epoch 107/150\n",
      "4/4 - 0s - loss: 0.4380 - accuracy: 0.8667 - 5ms/epoch - 1ms/step\n",
      "Epoch 108/150\n",
      "4/4 - 0s - loss: 0.4351 - accuracy: 0.8917 - 5ms/epoch - 1ms/step\n",
      "Epoch 109/150\n",
      "4/4 - 0s - loss: 0.4322 - accuracy: 0.9000 - 5ms/epoch - 1ms/step\n",
      "Epoch 110/150\n",
      "4/4 - 0s - loss: 0.4296 - accuracy: 0.9000 - 4ms/epoch - 1ms/step\n",
      "Epoch 111/150\n",
      "4/4 - 0s - loss: 0.4268 - accuracy: 0.9000 - 5ms/epoch - 1ms/step\n",
      "Epoch 112/150\n",
      "4/4 - 0s - loss: 0.4238 - accuracy: 0.9000 - 4ms/epoch - 998us/step\n",
      "Epoch 113/150\n",
      "4/4 - 0s - loss: 0.4210 - accuracy: 0.9083 - 5ms/epoch - 1ms/step\n",
      "Epoch 114/150\n",
      "4/4 - 0s - loss: 0.4182 - accuracy: 0.9000 - 5ms/epoch - 1ms/step\n",
      "Epoch 115/150\n",
      "4/4 - 0s - loss: 0.4152 - accuracy: 0.9000 - 4ms/epoch - 992us/step\n",
      "Epoch 116/150\n",
      "4/4 - 0s - loss: 0.4127 - accuracy: 0.9083 - 5ms/epoch - 1ms/step\n",
      "Epoch 117/150\n",
      "4/4 - 0s - loss: 0.4096 - accuracy: 0.9083 - 5ms/epoch - 1ms/step\n",
      "Epoch 118/150\n",
      "4/4 - 0s - loss: 0.4070 - accuracy: 0.9167 - 4ms/epoch - 1ms/step\n",
      "Epoch 119/150\n",
      "4/4 - 0s - loss: 0.4042 - accuracy: 0.9167 - 6ms/epoch - 2ms/step\n",
      "Epoch 120/150\n",
      "4/4 - 0s - loss: 0.4014 - accuracy: 0.9167 - 5ms/epoch - 1ms/step\n",
      "Epoch 121/150\n",
      "4/4 - 0s - loss: 0.3991 - accuracy: 0.9167 - 4ms/epoch - 991us/step\n",
      "Epoch 122/150\n",
      "4/4 - 0s - loss: 0.3961 - accuracy: 0.9250 - 6ms/epoch - 1ms/step\n",
      "Epoch 123/150\n",
      "4/4 - 0s - loss: 0.3932 - accuracy: 0.9250 - 5ms/epoch - 1ms/step\n",
      "Epoch 124/150\n",
      "4/4 - 0s - loss: 0.3904 - accuracy: 0.9250 - 5ms/epoch - 1ms/step\n",
      "Epoch 125/150\n",
      "4/4 - 0s - loss: 0.3881 - accuracy: 0.9250 - 5ms/epoch - 1ms/step\n",
      "Epoch 126/150\n",
      "4/4 - 0s - loss: 0.3850 - accuracy: 0.9250 - 5ms/epoch - 1ms/step\n",
      "Epoch 127/150\n",
      "4/4 - 0s - loss: 0.3825 - accuracy: 0.9250 - 6ms/epoch - 1ms/step\n",
      "Epoch 128/150\n",
      "4/4 - 0s - loss: 0.3802 - accuracy: 0.9250 - 4ms/epoch - 1000us/step\n",
      "Epoch 129/150\n",
      "4/4 - 0s - loss: 0.3772 - accuracy: 0.9250 - 4ms/epoch - 1ms/step\n",
      "Epoch 130/150\n",
      "4/4 - 0s - loss: 0.3744 - accuracy: 0.9333 - 5ms/epoch - 1ms/step\n",
      "Epoch 131/150\n",
      "4/4 - 0s - loss: 0.3716 - accuracy: 0.9250 - 5ms/epoch - 1ms/step\n",
      "Epoch 132/150\n",
      "4/4 - 0s - loss: 0.3690 - accuracy: 0.9417 - 6ms/epoch - 2ms/step\n",
      "Epoch 133/150\n",
      "4/4 - 0s - loss: 0.3664 - accuracy: 0.9333 - 5ms/epoch - 1ms/step\n",
      "Epoch 134/150\n",
      "4/4 - 0s - loss: 0.3641 - accuracy: 0.9417 - 6ms/epoch - 1ms/step\n",
      "Epoch 135/150\n",
      "4/4 - 0s - loss: 0.3610 - accuracy: 0.9417 - 5ms/epoch - 1ms/step\n",
      "Epoch 136/150\n",
      "4/4 - 0s - loss: 0.3584 - accuracy: 0.9417 - 4ms/epoch - 1000us/step\n",
      "Epoch 137/150\n",
      "4/4 - 0s - loss: 0.3557 - accuracy: 0.9417 - 4ms/epoch - 1000us/step\n",
      "Epoch 138/150\n",
      "4/4 - 0s - loss: 0.3531 - accuracy: 0.9417 - 5ms/epoch - 1ms/step\n",
      "Epoch 139/150\n",
      "4/4 - 0s - loss: 0.3503 - accuracy: 0.9417 - 5ms/epoch - 1ms/step\n",
      "Epoch 140/150\n",
      "4/4 - 0s - loss: 0.3476 - accuracy: 0.9417 - 5ms/epoch - 1ms/step\n",
      "Epoch 141/150\n",
      "4/4 - 0s - loss: 0.3450 - accuracy: 0.9417 - 5ms/epoch - 1ms/step\n",
      "Epoch 142/150\n",
      "4/4 - 0s - loss: 0.3422 - accuracy: 0.9417 - 4ms/epoch - 1ms/step\n",
      "Epoch 143/150\n",
      "4/4 - 0s - loss: 0.3398 - accuracy: 0.9417 - 6ms/epoch - 2ms/step\n",
      "Epoch 144/150\n",
      "4/4 - 0s - loss: 0.3374 - accuracy: 0.9500 - 5ms/epoch - 1ms/step\n",
      "Epoch 145/150\n",
      "4/4 - 0s - loss: 0.3343 - accuracy: 0.9500 - 5ms/epoch - 1ms/step\n",
      "Epoch 146/150\n",
      "4/4 - 0s - loss: 0.3319 - accuracy: 0.9500 - 5ms/epoch - 1ms/step\n",
      "Epoch 147/150\n",
      "4/4 - 0s - loss: 0.3290 - accuracy: 0.9500 - 4ms/epoch - 991us/step\n",
      "Epoch 148/150\n",
      "4/4 - 0s - loss: 0.3262 - accuracy: 0.9500 - 6ms/epoch - 1ms/step\n",
      "Epoch 149/150\n",
      "4/4 - 0s - loss: 0.3238 - accuracy: 0.9417 - 5ms/epoch - 1ms/step\n",
      "Epoch 150/150\n",
      "4/4 - 0s - loss: 0.3216 - accuracy: 0.9417 - 5ms/epoch - 1ms/step\n"
     ]
    },
    {
     "data": {
      "text/plain": [
       "<keras.callbacks.History at 0x23d5cc1b7f0>"
      ]
     },
     "execution_count": 39,
     "metadata": {},
     "output_type": "execute_result"
    }
   ],
   "source": [
    "model.fit(sx_train,ytrain,epochs=150, verbose=2)\n",
    "#1 epoch is runniung through the entire data set\n",
    "#indicates the number of passes of the entire training dataset the machine learning algorithm has completed.\n",
    "#verbose is how much output we want information"
   ]
  },
  {
   "cell_type": "markdown",
   "id": "bda709ad",
   "metadata": {},
   "source": [
    "**<font color='green'> So after 150 epox we get an accuracy of 94%</font>**"
   ]
  },
  {
   "cell_type": "code",
   "execution_count": null,
   "id": "2462cc8a",
   "metadata": {},
   "outputs": [],
   "source": []
  },
  {
   "cell_type": "markdown",
   "id": "016bcb53",
   "metadata": {},
   "source": [
    "## Lets see how to see the prediction"
   ]
  },
  {
   "cell_type": "code",
   "execution_count": 40,
   "id": "231d1c4e",
   "metadata": {},
   "outputs": [
    {
     "name": "stdout",
     "output_type": "stream",
     "text": [
      "1/1 [==============================] - 0s 76ms/step\n"
     ]
    },
    {
     "data": {
      "text/plain": [
       "array([[1.0755005e-01, 6.9121021e-01, 2.0123976e-01],\n",
       "       [3.7000712e-02, 6.4352930e-01, 3.1946993e-01],\n",
       "       [3.7568653e-04, 2.1098284e-01, 7.8864151e-01],\n",
       "       [1.9323623e-03, 3.0598000e-01, 6.9208771e-01],\n",
       "       [9.8210806e-01, 1.7210908e-02, 6.8097794e-04],\n",
       "       [3.6622255e-04, 2.2478664e-01, 7.7484709e-01],\n",
       "       [9.5162616e-04, 2.5486955e-01, 7.4417877e-01],\n",
       "       [9.1379970e-02, 6.7710739e-01, 2.3151265e-01],\n",
       "       [1.6777266e-02, 5.5908251e-01, 4.2414019e-01],\n",
       "       [9.7388870e-01, 2.4806999e-02, 1.3042830e-03],\n",
       "       [4.3134090e-02, 6.4184868e-01, 3.1501722e-01],\n",
       "       [5.5032503e-04, 2.8723773e-01, 7.1221191e-01],\n",
       "       [9.8172355e-01, 1.7568555e-02, 7.0787570e-04],\n",
       "       [5.7804934e-04, 2.8560269e-01, 7.1381921e-01],\n",
       "       [9.3818092e-01, 5.7165869e-02, 4.6532541e-03],\n",
       "       [1.1685911e-03, 2.6043305e-01, 7.3839837e-01],\n",
       "       [1.7526429e-02, 4.8333296e-01, 4.9914068e-01],\n",
       "       [9.5245433e-01, 4.4087306e-02, 3.4583523e-03],\n",
       "       [9.5612240e-01, 4.0739704e-02, 3.1377801e-03],\n",
       "       [9.7755706e-01, 2.1460637e-02, 9.8222622e-04],\n",
       "       [1.8480493e-02, 5.8610976e-01, 3.9540976e-01],\n",
       "       [3.1376734e-02, 6.3469642e-01, 3.3392683e-01],\n",
       "       [5.1867118e-04, 2.7449661e-01, 7.2498471e-01],\n",
       "       [1.9896492e-02, 6.2237650e-01, 3.5772702e-01],\n",
       "       [9.6928608e-01, 2.9451760e-02, 1.2621845e-03],\n",
       "       [9.6674234e-01, 3.1731781e-02, 1.5258888e-03],\n",
       "       [9.8855841e-01, 1.1110622e-02, 3.3106699e-04],\n",
       "       [1.2073725e-03, 2.8324023e-01, 7.1555239e-01],\n",
       "       [9.5791245e-01, 3.9306086e-02, 2.7814780e-03],\n",
       "       [4.2226326e-05, 1.1486908e-01, 8.8508874e-01]], dtype=float32)"
      ]
     },
     "execution_count": 40,
     "metadata": {},
     "output_type": "execute_result"
    }
   ],
   "source": [
    "model.predict(sx_test)"
   ]
  },
  {
   "cell_type": "code",
   "execution_count": null,
   "id": "c45801ef",
   "metadata": {},
   "outputs": [],
   "source": []
  },
  {
   "cell_type": "markdown",
   "id": "a4ba40b7",
   "metadata": {},
   "source": [
    "**It is splitting based on probabilities by default**"
   ]
  },
  {
   "cell_type": "code",
   "execution_count": null,
   "id": "8496b19a",
   "metadata": {},
   "outputs": [],
   "source": []
  },
  {
   "cell_type": "code",
   "execution_count": 42,
   "id": "8d1bd984",
   "metadata": {},
   "outputs": [
    {
     "name": "stdout",
     "output_type": "stream",
     "text": [
      "1/1 [==============================] - 0s 15ms/step\n"
     ]
    }
   ],
   "source": [
    "predict_x=model.predict(sx_test) "
   ]
  },
  {
   "cell_type": "code",
   "execution_count": 44,
   "id": "9f12e6e5",
   "metadata": {},
   "outputs": [],
   "source": [
    "classes_x=np.argmax(predict_x,axis=1)"
   ]
  },
  {
   "cell_type": "code",
   "execution_count": 45,
   "id": "1b6f193f",
   "metadata": {},
   "outputs": [
    {
     "data": {
      "text/plain": [
       "array([1, 1, 2, 2, 0, 2, 2, 1, 1, 0, 1, 2, 0, 2, 0, 2, 2, 0, 0, 0, 1, 1,\n",
       "       2, 1, 0, 0, 0, 2, 0, 2], dtype=int64)"
      ]
     },
     "execution_count": 45,
     "metadata": {},
     "output_type": "execute_result"
    }
   ],
   "source": [
    "classes_x"
   ]
  },
  {
   "cell_type": "markdown",
   "id": "a2b7006f",
   "metadata": {},
   "source": [
    "**Now it predicting based on classes**"
   ]
  },
  {
   "cell_type": "code",
   "execution_count": 50,
   "id": "9d1ba0c6",
   "metadata": {},
   "outputs": [],
   "source": [
    "yy=ytest.argmax(axis=1)"
   ]
  },
  {
   "cell_type": "code",
   "execution_count": 51,
   "id": "0f6c0fcb",
   "metadata": {},
   "outputs": [
    {
     "data": {
      "text/plain": [
       "array([1, 1, 2, 1, 0, 2, 2, 1, 1, 0, 1, 2, 0, 2, 0, 2, 1, 0, 0, 0, 1, 1,\n",
       "       2, 1, 0, 0, 0, 2, 0, 2], dtype=int64)"
      ]
     },
     "execution_count": 51,
     "metadata": {},
     "output_type": "execute_result"
    }
   ],
   "source": [
    "yy"
   ]
  },
  {
   "cell_type": "code",
   "execution_count": null,
   "id": "5876f8f8",
   "metadata": {},
   "outputs": [],
   "source": []
  },
  {
   "cell_type": "markdown",
   "id": "16f304cc",
   "metadata": {},
   "source": [
    "**Time to check how well our model perfomed**"
   ]
  },
  {
   "cell_type": "code",
   "execution_count": 49,
   "id": "80470f65",
   "metadata": {},
   "outputs": [],
   "source": [
    "from sklearn.metrics import confusion_matrix,accuracy_score,classification_report"
   ]
  },
  {
   "cell_type": "code",
   "execution_count": 52,
   "id": "91e416ae",
   "metadata": {},
   "outputs": [
    {
     "data": {
      "text/plain": [
       "array([[11,  0,  0],\n",
       "       [ 0,  8,  2],\n",
       "       [ 0,  0,  9]], dtype=int64)"
      ]
     },
     "execution_count": 52,
     "metadata": {},
     "output_type": "execute_result"
    }
   ],
   "source": [
    "confusion_matrix(yy,classes_x)"
   ]
  },
  {
   "cell_type": "code",
   "execution_count": 54,
   "id": "3ddb9e72",
   "metadata": {},
   "outputs": [
    {
     "name": "stdout",
     "output_type": "stream",
     "text": [
      "              precision    recall  f1-score   support\n",
      "\n",
      "           0       1.00      1.00      1.00        11\n",
      "           1       1.00      0.80      0.89        10\n",
      "           2       0.82      1.00      0.90         9\n",
      "\n",
      "    accuracy                           0.93        30\n",
      "   macro avg       0.94      0.93      0.93        30\n",
      "weighted avg       0.95      0.93      0.93        30\n",
      "\n"
     ]
    }
   ],
   "source": [
    "print(classification_report(yy,classes_x))"
   ]
  },
  {
   "cell_type": "code",
   "execution_count": 55,
   "id": "4f8b773b",
   "metadata": {},
   "outputs": [
    {
     "data": {
      "text/plain": [
       "0.9333333333333333"
      ]
     },
     "execution_count": 55,
     "metadata": {},
     "output_type": "execute_result"
    }
   ],
   "source": [
    "accuracy_score(yy,classes_x)"
   ]
  },
  {
   "cell_type": "markdown",
   "id": "bdd6c99a",
   "metadata": {},
   "source": [
    "**Wow! 93%**"
   ]
  },
  {
   "cell_type": "code",
   "execution_count": null,
   "id": "179e917c",
   "metadata": {},
   "outputs": [],
   "source": []
  },
  {
   "cell_type": "markdown",
   "id": "def0017a",
   "metadata": {},
   "source": [
    "## To save the model extension would be h5"
   ]
  },
  {
   "cell_type": "code",
   "execution_count": 56,
   "id": "3eb3fdd2",
   "metadata": {},
   "outputs": [],
   "source": [
    "model.save(\"Model_one.h5\")"
   ]
  },
  {
   "cell_type": "markdown",
   "id": "621f9773",
   "metadata": {},
   "source": [
    "**Now if the next day you want to run the same model**"
   ]
  },
  {
   "cell_type": "code",
   "execution_count": 58,
   "id": "83f37a2f",
   "metadata": {},
   "outputs": [],
   "source": [
    "from keras.models import load_model"
   ]
  },
  {
   "cell_type": "code",
   "execution_count": 59,
   "id": "0824e579",
   "metadata": {},
   "outputs": [],
   "source": [
    "new_model= load_model(\"Model_one.h5\")"
   ]
  },
  {
   "cell_type": "code",
   "execution_count": null,
   "id": "d68b5377",
   "metadata": {},
   "outputs": [],
   "source": []
  }
 ],
 "metadata": {
  "kernelspec": {
   "display_name": "Python 3",
   "language": "python",
   "name": "python3"
  },
  "language_info": {
   "codemirror_mode": {
    "name": "ipython",
    "version": 3
   },
   "file_extension": ".py",
   "mimetype": "text/x-python",
   "name": "python",
   "nbconvert_exporter": "python",
   "pygments_lexer": "ipython3",
   "version": "3.8.8"
  }
 },
 "nbformat": 4,
 "nbformat_minor": 5
}
