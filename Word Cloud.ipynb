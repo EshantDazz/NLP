{
 "cells": [
  {
   "cell_type": "markdown",
   "id": "9a3ae72b",
   "metadata": {},
   "source": [
    "# <div class='alert alert-danger'> Word Cloud </div>"
   ]
  },
  {
   "cell_type": "code",
   "execution_count": 2,
   "id": "cabd1b3c",
   "metadata": {},
   "outputs": [],
   "source": [
    "from nltk.tokenize import word_tokenize,sent_tokenize\n",
    "from nltk.corpus import stopwords"
   ]
  },
  {
   "cell_type": "code",
   "execution_count": 31,
   "id": "b459555d",
   "metadata": {},
   "outputs": [],
   "source": [
    "corpus='''India, officially the Republic of India (Hindi: Bhārat Gaṇarājya),[25] is a country in South Asia. It is the seventh-largest country by area, the second-most populous country, and the most populous democracy in the world. Bounded by the Indian Ocean on the south, the Arabian Sea on the southwest, and the Bay of Bengal on the southeast, it shares land borders with Pakistan to the west;[f] China, Nepal, and Bhutan to the north; and Bangladesh and Myanmar to the east. In the Indian Ocean, India is in the vicinity of Sri Lanka and the Maldives; its Andaman and Nicobar Islands share a maritime border with Thailand, Myanmar, and Indonesia.'''"
   ]
  },
  {
   "cell_type": "code",
   "execution_count": 70,
   "id": "8a6fae2e",
   "metadata": {},
   "outputs": [],
   "source": [
    "corpus = corpus.replace(\"[25]\" , \"\")    \n",
    "corpus = corpus.replace(\"[f]\" , \"\")   \n",
    "corpus = corpus.replace(\")\" , \"\")"
   ]
  },
  {
   "cell_type": "code",
   "execution_count": 71,
   "id": "58e140ab",
   "metadata": {},
   "outputs": [
    {
     "name": "stdout",
     "output_type": "stream",
     "text": [
      "India, officially the Republic of India Hindi: Bhārat Gaṇarājya, is a country in South Asia. It is the seventh-largest country by area, the second-most populous country, and the most populous democracy in the world. Bounded by the Indian Ocean on the south, the Arabian Sea on the southwest, and the Bay of Bengal on the southeast, it shares land borders with Pakistan to the west; China, Nepal, and Bhutan to the north; and Bangladesh and Myanmar to the east. In the Indian Ocean, India is in the vicinity of Sri Lanka and the Maldives; its Andaman and Nicobar Islands share a maritime border with Thailand, Myanmar, and Indonesia.\n"
     ]
    }
   ],
   "source": [
    "print(corpus)"
   ]
  },
  {
   "cell_type": "markdown",
   "id": "a4026d09",
   "metadata": {},
   "source": [
    "### Stop words Removal"
   ]
  },
  {
   "cell_type": "code",
   "execution_count": 72,
   "id": "4a827aaf",
   "metadata": {},
   "outputs": [],
   "source": [
    "words=[]\n",
    "for word in word_tokenize(corpus):\n",
    "    if (word.lower() not in stopwords.words('english')) and (len(word)>=2):\n",
    "        words.append(word.lower())"
   ]
  },
  {
   "cell_type": "code",
   "execution_count": null,
   "id": "c50ad8a5",
   "metadata": {},
   "outputs": [],
   "source": []
  },
  {
   "cell_type": "markdown",
   "id": "ca1a609b",
   "metadata": {},
   "source": [
    "### Creating vocab"
   ]
  },
  {
   "cell_type": "code",
   "execution_count": 73,
   "id": "7c24e642",
   "metadata": {},
   "outputs": [
    {
     "data": {
      "text/plain": [
       "48"
      ]
     },
     "execution_count": 73,
     "metadata": {},
     "output_type": "execute_result"
    }
   ],
   "source": [
    "vocab=list(set(words))\n",
    "len(vocab)"
   ]
  },
  {
   "cell_type": "code",
   "execution_count": null,
   "id": "f432ca4d",
   "metadata": {},
   "outputs": [],
   "source": []
  },
  {
   "cell_type": "markdown",
   "id": "7390037f",
   "metadata": {},
   "source": [
    "### Create Encoders and Decoders"
   ]
  },
  {
   "cell_type": "markdown",
   "id": "89b90c3a",
   "metadata": {},
   "source": [
    "#### `Which word represents which numbers and which numbers represents which words`"
   ]
  },
  {
   "cell_type": "code",
   "execution_count": null,
   "id": "42f46aa3",
   "metadata": {},
   "outputs": [],
   "source": []
  },
  {
   "cell_type": "raw",
   "id": "0acd129b",
   "metadata": {},
   "source": [
    "this is a car"
   ]
  },
  {
   "cell_type": "code",
   "execution_count": 74,
   "id": "b7cc9ae6",
   "metadata": {},
   "outputs": [],
   "source": [
    "#this -> 1\n",
    "#is-> 2\n",
    "#a-> 3 \n",
    "#car-> 4\n",
    "\n",
    "#1234 this is a car\n",
    "#2134 is this a car"
   ]
  },
  {
   "cell_type": "code",
   "execution_count": 75,
   "id": "cb6d3c14",
   "metadata": {},
   "outputs": [],
   "source": [
    "num=1\n",
    "word_to_num={}\n",
    "num_to_word={}\n",
    "for word in vocab:\n",
    "    word_to_num[word]=num\n",
    "    num_to_word[num]=word\n",
    "    num+=1"
   ]
  },
  {
   "cell_type": "code",
   "execution_count": 76,
   "id": "69a3c22d",
   "metadata": {},
   "outputs": [
    {
     "data": {
      "text/plain": [
       "{'seventh-largest': 1,\n",
       " 'share': 2,\n",
       " 'maritime': 3,\n",
       " 'bengal': 4,\n",
       " 'bangladesh': 5,\n",
       " 'asia': 6,\n",
       " 'bhārat': 7,\n",
       " 'southwest': 8,\n",
       " 'ocean': 9,\n",
       " 'southeast': 10,\n",
       " 'sea': 11,\n",
       " 'country': 12,\n",
       " 'pakistan': 13,\n",
       " 'indonesia': 14,\n",
       " 'thailand': 15,\n",
       " 'maldives': 16,\n",
       " 'south': 17,\n",
       " 'area': 18,\n",
       " 'arabian': 19,\n",
       " 'indian': 20,\n",
       " 'world': 21,\n",
       " 'land': 22,\n",
       " 'second-most': 23,\n",
       " 'border': 24,\n",
       " 'borders': 25,\n",
       " 'vicinity': 26,\n",
       " 'nepal': 27,\n",
       " 'bounded': 28,\n",
       " 'east': 29,\n",
       " 'populous': 30,\n",
       " 'republic': 31,\n",
       " 'officially': 32,\n",
       " 'sri': 33,\n",
       " 'gaṇarājya': 34,\n",
       " 'north': 35,\n",
       " 'democracy': 36,\n",
       " 'india': 37,\n",
       " 'nicobar': 38,\n",
       " 'lanka': 39,\n",
       " 'west': 40,\n",
       " 'myanmar': 41,\n",
       " 'bay': 42,\n",
       " 'shares': 43,\n",
       " 'china': 44,\n",
       " 'islands': 45,\n",
       " 'bhutan': 46,\n",
       " 'andaman': 47,\n",
       " 'hindi': 48}"
      ]
     },
     "execution_count": 76,
     "metadata": {},
     "output_type": "execute_result"
    }
   ],
   "source": [
    "word_to_num"
   ]
  },
  {
   "cell_type": "code",
   "execution_count": null,
   "id": "f84e8838",
   "metadata": {},
   "outputs": [],
   "source": []
  },
  {
   "cell_type": "code",
   "execution_count": 77,
   "id": "ac0ff826",
   "metadata": {},
   "outputs": [
    {
     "data": {
      "text/plain": [
       "21"
      ]
     },
     "execution_count": 77,
     "metadata": {},
     "output_type": "execute_result"
    }
   ],
   "source": [
    "word_to_num['world']"
   ]
  },
  {
   "cell_type": "code",
   "execution_count": null,
   "id": "00dbfaf4",
   "metadata": {},
   "outputs": [],
   "source": []
  },
  {
   "cell_type": "code",
   "execution_count": 78,
   "id": "a9f950c2",
   "metadata": {},
   "outputs": [
    {
     "data": {
      "text/plain": [
       "'border'"
      ]
     },
     "execution_count": 78,
     "metadata": {},
     "output_type": "execute_result"
    }
   ],
   "source": [
    "num_to_word[24]"
   ]
  },
  {
   "cell_type": "code",
   "execution_count": null,
   "id": "16855147",
   "metadata": {},
   "outputs": [],
   "source": []
  },
  {
   "cell_type": "code",
   "execution_count": null,
   "id": "3d8f1093",
   "metadata": {},
   "outputs": [],
   "source": []
  },
  {
   "cell_type": "code",
   "execution_count": 79,
   "id": "2581ab3e",
   "metadata": {},
   "outputs": [
    {
     "data": {
      "text/plain": [
       "['India',\n",
       " ',',\n",
       " 'officially',\n",
       " 'the',\n",
       " 'Republic',\n",
       " 'of',\n",
       " 'India',\n",
       " 'Hindi',\n",
       " ':',\n",
       " 'Bhārat',\n",
       " 'Gaṇarājya',\n",
       " ',',\n",
       " 'is',\n",
       " 'a',\n",
       " 'country',\n",
       " 'in',\n",
       " 'South',\n",
       " 'Asia',\n",
       " '.']"
      ]
     },
     "execution_count": 79,
     "metadata": {},
     "output_type": "execute_result"
    }
   ],
   "source": [
    "word_tokenize(sent_tokenize(corpus)[0])"
   ]
  },
  {
   "cell_type": "code",
   "execution_count": 82,
   "id": "0c1e2b72",
   "metadata": {},
   "outputs": [],
   "source": [
    "s=' '.join(word_tokenize(sent_tokenize(corpus)[0]))"
   ]
  },
  {
   "cell_type": "code",
   "execution_count": 83,
   "id": "61937c3b",
   "metadata": {},
   "outputs": [
    {
     "data": {
      "text/plain": [
       "'India , officially the Republic of India Hindi : Bhārat Gaṇarājya , is a country in South Asia .'"
      ]
     },
     "execution_count": 83,
     "metadata": {},
     "output_type": "execute_result"
    }
   ],
   "source": [
    "s"
   ]
  },
  {
   "cell_type": "code",
   "execution_count": null,
   "id": "a263b9e2",
   "metadata": {},
   "outputs": [],
   "source": []
  },
  {
   "cell_type": "code",
   "execution_count": null,
   "id": "71ebcb20",
   "metadata": {},
   "outputs": [],
   "source": []
  },
  {
   "cell_type": "code",
   "execution_count": 84,
   "id": "6e254903",
   "metadata": {},
   "outputs": [
    {
     "data": {
      "text/plain": [
       "{1: 'seventh-largest',\n",
       " 2: 'share',\n",
       " 3: 'maritime',\n",
       " 4: 'bengal',\n",
       " 5: 'bangladesh',\n",
       " 6: 'asia',\n",
       " 7: 'bhārat',\n",
       " 8: 'southwest',\n",
       " 9: 'ocean',\n",
       " 10: 'southeast',\n",
       " 11: 'sea',\n",
       " 12: 'country',\n",
       " 13: 'pakistan',\n",
       " 14: 'indonesia',\n",
       " 15: 'thailand',\n",
       " 16: 'maldives',\n",
       " 17: 'south',\n",
       " 18: 'area',\n",
       " 19: 'arabian',\n",
       " 20: 'indian',\n",
       " 21: 'world',\n",
       " 22: 'land',\n",
       " 23: 'second-most',\n",
       " 24: 'border',\n",
       " 25: 'borders',\n",
       " 26: 'vicinity',\n",
       " 27: 'nepal',\n",
       " 28: 'bounded',\n",
       " 29: 'east',\n",
       " 30: 'populous',\n",
       " 31: 'republic',\n",
       " 32: 'officially',\n",
       " 33: 'sri',\n",
       " 34: 'gaṇarājya',\n",
       " 35: 'north',\n",
       " 36: 'democracy',\n",
       " 37: 'india',\n",
       " 38: 'nicobar',\n",
       " 39: 'lanka',\n",
       " 40: 'west',\n",
       " 41: 'myanmar',\n",
       " 42: 'bay',\n",
       " 43: 'shares',\n",
       " 44: 'china',\n",
       " 45: 'islands',\n",
       " 46: 'bhutan',\n",
       " 47: 'andaman',\n",
       " 48: 'hindi'}"
      ]
     },
     "execution_count": 84,
     "metadata": {},
     "output_type": "execute_result"
    }
   ],
   "source": [
    "num_to_word"
   ]
  },
  {
   "cell_type": "code",
   "execution_count": null,
   "id": "d480f3e7",
   "metadata": {},
   "outputs": [],
   "source": []
  }
 ],
 "metadata": {
  "kernelspec": {
   "display_name": "Python 3 (ipykernel)",
   "language": "python",
   "name": "python3"
  },
  "language_info": {
   "codemirror_mode": {
    "name": "ipython",
    "version": 3
   },
   "file_extension": ".py",
   "mimetype": "text/x-python",
   "name": "python",
   "nbconvert_exporter": "python",
   "pygments_lexer": "ipython3",
   "version": "3.9.12"
  }
 },
 "nbformat": 4,
 "nbformat_minor": 5
}
